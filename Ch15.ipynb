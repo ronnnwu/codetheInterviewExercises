{
 "cells": [
  {
   "cell_type": "markdown",
   "metadata": {},
   "source": [
    "# Chapter 15 Threads, Locks\n",
    "\n",
    "from Gayle Laakmann McDowell's \"Cracking the Coding Interview\", 6th ed.\n",
    "\n",
    "Ron Wu"
   ]
  },
  {
   "cell_type": "markdown",
   "metadata": {},
   "source": [
    "## 15.1 thread vs process"
   ]
  },
  {
   "cell_type": "code",
   "execution_count": 1,
   "metadata": {
    "collapsed": false
   },
   "outputs": [
    {
     "name": "stdout",
     "output_type": "stream",
     "text": [
      "Overwriting main.java\n"
     ]
    }
   ],
   "source": [
    "%%file main.java\n",
    "\n",
    "import java.io.File;\n",
    "import java.io.IOException;\n",
    "\n",
    "public class main {\n",
    "\n",
    "    public static void main(String[] args) throws IOException  {\n",
    " \n",
    "\n",
    "        // no share memory\n",
    "        // open the current working folder\n",
    "        ProcessBuilder pb = new ProcessBuilder(\"open\", System.getProperty(\"user.dir\"));\n",
    "        Process p;\n",
    "\n",
    "        p = pb.start();\n",
    "\n",
    "        someThread t1 = new someThread(\"t1\", 1000);\n",
    "        someThread t2 = new someThread(\"t2\", 500);\n",
    "        t1.start();\n",
    "        t2.start();\n",
    "    }  \n",
    "    \n",
    "    \n",
    "}\n",
    "\n",
    "class someThread extends Thread {\n",
    "    public static int count = 0 ;\n",
    "    public String name;\n",
    "    public int sleep;\n",
    "    public someThread(String na, int sl){\n",
    "        name=na;\n",
    "        sleep = sl;\n",
    "    }\n",
    "    public void run() {    //add synchronized, then output will be continuum, 0,1,2,3,...\n",
    "        try{\n",
    "            for (int i=0 ; i<5; ++i){\n",
    "                Thread.sleep(sleep); \n",
    "                System.out.println(name + \" at \"+ count);  // reading writiing at the same time\n",
    "                count += 1;                                // the static count is accessible by both threads                        \n",
    "            } \n",
    "        } catch (InterruptedException e) { \n",
    "            e.printStackTrace(); \n",
    "        }  \n",
    "    }\n",
    "}\n",
    "\n"
   ]
  },
  {
   "cell_type": "code",
   "execution_count": 2,
   "metadata": {
    "collapsed": false
   },
   "outputs": [
    {
     "name": "stdout",
     "output_type": "stream",
     "text": [
      "t2 at 0\n",
      "t1 at 1\n",
      "t2 at 2\n",
      "t2 at 3\n",
      "t1 at 4\n",
      "t2 at 5\n",
      "t2 at 6\n",
      "t1 at 7\n",
      "t1 at 8\n",
      "t1 at 9\n"
     ]
    }
   ],
   "source": [
    "! javac main.java\n",
    "! java main"
   ]
  },
  {
   "cell_type": "markdown",
   "metadata": {},
   "source": [
    "## 15.2 context switch"
   ]
  },
  {
   "cell_type": "code",
   "execution_count": 3,
   "metadata": {
    "collapsed": false
   },
   "outputs": [
    {
     "name": "stdout",
     "output_type": "stream",
     "text": [
      "Overwriting main.java\n"
     ]
    }
   ],
   "source": [
    "%%file main.java\n",
    "\n",
    "\n",
    "// it takes time to start another process; it is not free. i.e. parallelism comes with overhead.\n",
    "\n",
    "// In the following program, the parallel sum only outperforms sequential sum when\n",
    "// the array size close to half billion, which is in the order of Integer.MAX_VALUE = 2 billion\n",
    " \n",
    "\n",
    "public class main {\n",
    "\n",
    "    public static void main(String[] args) throws InterruptedException {\n",
    "\n",
    "        int size = 50000000;\n",
    "        int[] a = new int[size] ;\n",
    "        for (int i = 0; i < size; ++i) {\n",
    "            a[i] = i;\n",
    "        }\n",
    "         \n",
    "        int steadystate = 5;\n",
    "        long t0 = System.currentTimeMillis();  \n",
    "        long sum = 0; \n",
    "        for (int j= 0 ; j< steadystate; ++j){ \n",
    "            for (int i = 0; i < size; ++i) {\n",
    "                sum  += a[i];\n",
    "            }\n",
    "        }\n",
    "        System.out.println(\"Sequenti takes \"+ (System.currentTimeMillis()-t0)/steadystate + \" millisec, and the sum is \"+ sum/steadystate);\n",
    "        \n",
    "        System.gc();\n",
    "        \n",
    "        sum = 0;\n",
    "        t0 = System.currentTimeMillis(); \n",
    "        \n",
    "        for (int j= 0 ; j< steadystate; ++j){ \n",
    "            someThread t1 = new someThread(a, 0, size/2);\n",
    "            someThread t2 = new someThread(a, size/2, size);\n",
    "            t1.start();\n",
    "            t2.start();\n",
    "            t1.join();\n",
    "            t2.join();\n",
    "            sum = t1.count + t2.count;\n",
    "        } \n",
    "        System.out.println(\"Parallel takes \"+ (System.currentTimeMillis()-t0)/steadystate + \" millisec, and the sum is \"+ sum);\n",
    "  \n",
    "    }  \n",
    "\n",
    "\n",
    "}\n",
    "\n",
    "class someThread extends Thread {\n",
    "    public long count = 0 ; \n",
    "    private int[] a;\n",
    "    private int l;\n",
    "    private int r;\n",
    "    \n",
    "    public someThread(int[] arr, int left, int right){\n",
    "        a = arr;\n",
    "        l = left;\n",
    "        r = right;\n",
    "    }\n",
    "\n",
    "    public void run() { \n",
    "        for (int i = l; i < r; ++i) {\n",
    "            count  += a[i];\n",
    "        } \n",
    "    }\n",
    "}\n"
   ]
  },
  {
   "cell_type": "code",
   "execution_count": 4,
   "metadata": {
    "collapsed": false
   },
   "outputs": [
    {
     "name": "stdout",
     "output_type": "stream",
     "text": [
      "Sequenti takes 21 millisec, and the sum is 1249999975000000\n",
      "Parallel takes 14 millisec, and the sum is 1249999975000000\n"
     ]
    }
   ],
   "source": [
    "! javac main.java\n",
    "! java main"
   ]
  },
  {
   "cell_type": "markdown",
   "metadata": {},
   "source": [
    "## 15.3 dining philosopher"
   ]
  },
  {
   "cell_type": "code",
   "execution_count": 5,
   "metadata": {
    "collapsed": false
   },
   "outputs": [
    {
     "name": "stdout",
     "output_type": "stream",
     "text": [
      "Overwriting main.java\n"
     ]
    }
   ],
   "source": [
    "%%file main.java\n",
    "\n",
    "\n",
    "// this program will cause deadlock\n",
    "// Copy to an ide so it can be terminated\n",
    "\n",
    "import java.util.concurrent.locks.Lock;\n",
    "import java.util.concurrent.locks.ReentrantLock;\n",
    " \n",
    "\n",
    "public class main {\n",
    "\n",
    "    public static void main(String[] args) {\n",
    "\n",
    "        int size = 10; //number of Phil\n",
    "        phil[] Phil = new phil[size];\n",
    "        chopstick[] somechop = new chopstick[size];\n",
    "        \n",
    "        for (int i=0; i< size; ++i){  \n",
    "            somechop[i] = new chopstick(i);  \n",
    "        }\n",
    "        \n",
    "        for (int i=0; i< size; ++i){  \n",
    "            Phil[i] = new phil(i,somechop[i], somechop[(i+1)%size]); \n",
    "        } \n",
    "        \n",
    "        for (int i=0; i< size; ++i){  \n",
    "            Phil[i].start();  \n",
    "        }\n",
    "         \n",
    "    }    \n",
    "}\n",
    "\n",
    "class phil extends Thread {\n",
    "    private int ID ; \n",
    "    private chopstick l;\n",
    "    private chopstick r;\n",
    "    \n",
    "    public phil(int id, chopstick left, chopstick right){\n",
    "        ID = id;\n",
    "        l = left;\n",
    "        r = right;\n",
    "    }  \n",
    "    public void run(){\n",
    "        l.inProcession(ID);\n",
    "        r.inProcession(ID);\n",
    "        System.out.println(\"philosopher \" + ID + \" has obtained both chopsticks\");\n",
    "    } \n",
    "}\n",
    "\n",
    "class chopstick {\n",
    "    private int ID ; \n",
    "    public chopstick(int id){\n",
    "        ID = id; \n",
    "    } \n",
    "    private Lock lock = new ReentrantLock();\n",
    "    public void inProcession(int PhilID) {\n",
    "        lock.lock(); //whoever thread calls inProcession, it will be locked forever.\n",
    "        System.out.println(\"choostick \"+ ID +\" belongs to philosopher \" + PhilID);\n",
    "        //lock.unlock(); normally we will put lock.unlock(), after we are done\n",
    "    }\n",
    "}\n"
   ]
  },
  {
   "cell_type": "code",
   "execution_count": 6,
   "metadata": {
    "collapsed": false
   },
   "outputs": [
    {
     "name": "stdout",
     "output_type": "stream",
     "text": [
      "Overwriting main.java\n"
     ]
    }
   ],
   "source": [
    "%%file main.java\n",
    "\n",
    "\n",
    "// solved the deadlock problem by adding a lock flag iamLocked\n",
    "\n",
    "import java.util.concurrent.locks.Lock;\n",
    "import java.util.concurrent.locks.ReentrantLock;\n",
    " \n",
    "\n",
    "public class main {\n",
    "\n",
    "    public static void main(String[] args) {\n",
    "\n",
    "        int size = 10;  \n",
    "        phil[] Phil = new phil[size];\n",
    "        chopstick[] somechop = new chopstick[size];\n",
    "        \n",
    "        for (int i=0; i< size; ++i){  \n",
    "            somechop[i] = new chopstick(i);  \n",
    "        }\n",
    "\n",
    "        for (int i=0; i< size; ++i){  \n",
    "            Phil[i] = new phil(i,somechop[i], somechop[(i+1)%size]); \n",
    "        } \n",
    "\n",
    "        for (int i=0; i< size; ++i){  \n",
    "            Phil[i].start();  \n",
    "        }\n",
    "         \n",
    "    }    \n",
    "}\n",
    "\n",
    "class phil extends Thread {\n",
    "    private int ID ; \n",
    "    private chopstick l;\n",
    "    private chopstick r;\n",
    "    \n",
    "    public phil(int id, chopstick left, chopstick right){\n",
    "        ID = id;\n",
    "        l = left;\n",
    "        r = right;\n",
    "    }  \n",
    "    public void run(){\n",
    "        Lock lock = new ReentrantLock();\n",
    "        if (!l.iamLocked){\n",
    "            l.inProcession(ID); \n",
    "            if (!r.iamLocked){\n",
    "                r.inProcession(ID); \n",
    "                System.out.println(\"philosopher \" + ID + \" has obtained both chopsticks\");\n",
    "            }\n",
    "            else {\n",
    "                System.out.println(\"philosopher \" + ID + \" cannot eat\");\n",
    "            }\n",
    "\n",
    "        }  else {\n",
    "                System.out.println(\"philosopher\" + ID + \" cannot eat\");\n",
    "        }\n",
    "    } \n",
    "}\n",
    "\n",
    "class chopstick {\n",
    "    private int ID ; \n",
    "    public boolean iamLocked = false;\n",
    "    public chopstick(int id){\n",
    "        ID = id; \n",
    "    } \n",
    "    private Lock lock = new ReentrantLock();\n",
    "    public void inProcession(int philiD) {\n",
    "        iamLocked = true;\n",
    "        lock.lock(); \n",
    "        System.out.println(\"choostick \"+ ID +\" belongs to philosopher \" + philiD); \n",
    "    }\n",
    "}\n",
    "  "
   ]
  },
  {
   "cell_type": "code",
   "execution_count": 7,
   "metadata": {
    "collapsed": false
   },
   "outputs": [
    {
     "name": "stdout",
     "output_type": "stream",
     "text": [
      "choostick 1 belongs to philosopher 1\n",
      "choostick 5 belongs to philosopher 5\n",
      "choostick 7 belongs to philosopher 7\n",
      "choostick 4 belongs to philosopher 4\n",
      "philosopher 4 cannot eat\n",
      "choostick 0 belongs to philosopher 0\n",
      "philosopher 0 cannot eat\n",
      "choostick 2 belongs to philosopher 2\n",
      "choostick 3 belongs to philosopher 3\n",
      "philosopher 3 cannot eat\n",
      "philosopher 2 cannot eat\n",
      "choostick 9 belongs to philosopher 9\n",
      "philosopher 9 cannot eat\n",
      "philosopher8 cannot eat\n",
      "choostick 8 belongs to philosopher 7\n",
      "choostick 6 belongs to philosopher 6\n",
      "philosopher 6 cannot eat\n",
      "philosopher 5 cannot eat\n",
      "philosopher 1 cannot eat\n",
      "philosopher 7 has obtained both chopsticks\n"
     ]
    }
   ],
   "source": [
    "! javac main.java\n",
    "! java main"
   ]
  },
  {
   "cell_type": "markdown",
   "metadata": {},
   "source": [
    "## 15.4 deadlock class"
   ]
  },
  {
   "cell_type": "code",
   "execution_count": 8,
   "metadata": {
    "collapsed": false
   },
   "outputs": [
    {
     "name": "stdout",
     "output_type": "stream",
     "text": [
      "Overwriting main.java\n"
     ]
    }
   ],
   "source": [
    "%%file main.java\n",
    "\n",
    "// Tyical deadlocks occur in circles. A typical solution is to switch the orders, \n",
    "// i.e. unknotted. See knot theory\n",
    "\n",
    "// this program has deadlock. Donot run here\n",
    "\n",
    "public class main {\n",
    "\n",
    "    public static void main(String[] args) {\n",
    "\n",
    "        bankAccount a = new bankAccount();\n",
    "        bankAccount b = new bankAccount();\n",
    "\n",
    "        Parallel p1 = new Parallel(a, b, 100d);    // a puts money to b at the same time\n",
    "        Parallel p2 = new Parallel(b, a, 50d);     // b puts money to a\n",
    "\n",
    "        p1.start();\n",
    "        p2.start(); \n",
    "    }    \n",
    "}\n",
    "\n",
    "class Parallel extends Thread{\n",
    "    private bankAccount from, to; \n",
    "    private double amount;\n",
    "\n",
    "    public Parallel(bankAccount a, bankAccount b, double d){\n",
    "        from = a;\n",
    "        to = b;\n",
    "        amount = d; \n",
    "    }\n",
    "\n",
    "    public void run(){ \n",
    "        from.transfer(to, amount); \n",
    "    }\n",
    "}\n",
    "\n",
    "class bankAccount {\n",
    "    \n",
    "    public double balance = 0d;\n",
    "\n",
    "    public synchronized void deposit(double amount){\n",
    "        balance += amount;\n",
    "    }\n",
    "    public synchronized void transfer(bankAccount to, double amount) {\n",
    "        try {\n",
    "            Thread.sleep(10);\n",
    "        } catch (InterruptedException e) { \n",
    "            e.printStackTrace();\n",
    "        }\n",
    "        this.deposit(-amount);\n",
    "        to.deposit(amount);\n",
    "    }\n",
    "}"
   ]
  },
  {
   "cell_type": "code",
   "execution_count": 9,
   "metadata": {
    "collapsed": false
   },
   "outputs": [
    {
     "name": "stdout",
     "output_type": "stream",
     "text": [
      "Overwriting main.java\n"
     ]
    }
   ],
   "source": [
    "%%file main.java\n",
    "\n",
    "// to unknotted it, i took the transfer function out of the class\n",
    "\n",
    "\n",
    "public class main {\n",
    "\n",
    "    public static void main(String[] args) throws InterruptedException {\n",
    "\n",
    "        bankAccount a = new bankAccount();\n",
    "        bankAccount b = new bankAccount();\n",
    "\n",
    "        Parallel p1 = new Parallel(a, b, 100d);\n",
    "        Parallel p2 = new Parallel(b, a, 50d);\n",
    "\n",
    "        p1.start();\n",
    "        p2.start();\n",
    "\n",
    "        p1.join();\n",
    "        p2.join();\n",
    "        \n",
    "        System.out.println(\"account a balance: \"+ a.balance);\n",
    "        System.out.println(\"account b balance: \"+ b.balance);\n",
    "    }    \n",
    "}\n",
    "\n",
    "class Parallel extends Thread {\n",
    "    private bankAccount from, to; \n",
    "    private double amount;\n",
    "\n",
    "    public Parallel(bankAccount a, bankAccount b, double d){\n",
    "        from = a;\n",
    "        to = b;\n",
    "        amount = d; \n",
    "    }\n",
    "\n",
    "    public void run(){ \n",
    "        transfer(from, to, amount); \n",
    "    }\n",
    "\n",
    "    public synchronized void transfer(bankAccount from, bankAccount to, double amount)  {\n",
    "        try {\n",
    "            Thread.sleep(100);\n",
    "        } catch (InterruptedException e) { \n",
    "            e.printStackTrace();\n",
    "        }\n",
    "        from.deposit(-amount);\n",
    "        to.deposit(amount);\n",
    "    }\n",
    "}\n",
    "\n",
    "class bankAccount {\n",
    "    \n",
    "    public double balance = 0d;\n",
    "\n",
    "    public synchronized void deposit(double amount){\n",
    "        balance += amount;\n",
    "    }\n",
    "\n",
    "}"
   ]
  },
  {
   "cell_type": "code",
   "execution_count": 10,
   "metadata": {
    "collapsed": false
   },
   "outputs": [
    {
     "name": "stdout",
     "output_type": "stream",
     "text": [
      "account a balance: -50.0\r\n",
      "account b balance: 50.0\r\n"
     ]
    }
   ],
   "source": [
    "! javac main.java\n",
    "! java main"
   ]
  },
  {
   "cell_type": "markdown",
   "metadata": {},
   "source": [
    "## 15.5 call in order"
   ]
  },
  {
   "cell_type": "code",
   "execution_count": 11,
   "metadata": {
    "collapsed": false
   },
   "outputs": [
    {
     "name": "stdout",
     "output_type": "stream",
     "text": [
      "Overwriting main.java\n"
     ]
    }
   ],
   "source": [
    "%%file main.java\n",
    " \n",
    "\n",
    "public class main {\n",
    "\n",
    "    public static void main(String[] args) throws InterruptedException {\n",
    "\n",
    "        Foo f = new Foo();\n",
    "        Parallel p1 = new Parallel(f, 1);\n",
    "        Parallel p2 = new Parallel(f, 2);\n",
    "        Parallel p3 = new Parallel(f, 3);\n",
    "\n",
    "        p1.start();\n",
    "        p2.start();\n",
    "        p3.start();\n",
    "\n",
    "    }    \n",
    "}\n",
    "\n",
    "class Parallel extends Thread {\n",
    "    private Foo f;\n",
    "    private int i;\n",
    "\n",
    "    public Parallel(Foo f, int i){\n",
    "        this.f = f;\n",
    "        this.i = i;\n",
    "    }\n",
    "\n",
    "    public void run(){ \n",
    "        try{\n",
    "            if (i==1){\n",
    "                Thread.sleep(100);\n",
    "                f.first();\n",
    "            }else if (i==2){\n",
    "                Thread.sleep(50);\n",
    "                f.second();\n",
    "            }else{\n",
    "                Thread.sleep(10);\n",
    "                f.third();\n",
    "            }\n",
    "        } catch(InterruptedException e){\n",
    "             e.printStackTrace();\n",
    "        }\n",
    "        \n",
    "    }\n",
    "\n",
    "}\n",
    "\n",
    "class Foo {\n",
    "    public void first() {\n",
    "         \n",
    "        System.out.println(\"first\");\n",
    "    }\n",
    "    public void second() {\n",
    "         \n",
    "        System.out.println(\"second\");\n",
    "    }\n",
    "    public void third() {\n",
    "         \n",
    "        System.out.println(\"third\");\n",
    "    }\n",
    "}\n",
    "\n",
    "// this will not assure first, then second, then third"
   ]
  },
  {
   "cell_type": "code",
   "execution_count": 12,
   "metadata": {
    "collapsed": false
   },
   "outputs": [
    {
     "name": "stdout",
     "output_type": "stream",
     "text": [
      "third\n",
      "second\n",
      "first\n"
     ]
    }
   ],
   "source": [
    "! javac main.java\n",
    "! java main"
   ]
  },
  {
   "cell_type": "code",
   "execution_count": 13,
   "metadata": {
    "collapsed": false
   },
   "outputs": [
    {
     "name": "stdout",
     "output_type": "stream",
     "text": [
      "Overwriting main.java\n"
     ]
    }
   ],
   "source": [
    "%%file main.java\n",
    " \n",
    "//# we need some insurance, use Semaphore\n",
    "\n",
    "import java.util.concurrent.Semaphore;\n",
    "import java.util.concurrent.locks.ReentrantLock;\n",
    "\n",
    "public class main {\n",
    "\n",
    "    public static void main(String[] args) throws InterruptedException {\n",
    "\n",
    "        Foo f = new Foo();\n",
    "        Parallel p1 = new Parallel(f, 1);\n",
    "        Parallel p2 = new Parallel(f, 2);\n",
    "        Parallel p3 = new Parallel(f, 3);\n",
    "\n",
    "        p1.start();\n",
    "        p2.start();\n",
    "        p3.start();\n",
    "\n",
    "    }    \n",
    "}\n",
    "\n",
    "class Parallel extends Thread {\n",
    "    private Foo f;\n",
    "    private int i;\n",
    "\n",
    "    public Parallel(Foo f, int i){\n",
    "        this.f = f;\n",
    "        this.i = i;\n",
    "    }\n",
    "\n",
    "    public void run(){ \n",
    "        try{\n",
    "            if (i==1){\n",
    "                Thread.sleep(100);\n",
    "                f.first();\n",
    "            }else if (i==2){\n",
    "                Thread.sleep(50);\n",
    "                f.second();\n",
    "            }else{\n",
    "                Thread.sleep(10);\n",
    "                f.third();\n",
    "            }\n",
    "        } catch (InterruptedException ex){\n",
    "                ex.printStackTrace();\n",
    "        }\n",
    "    }\n",
    "\n",
    "}\n",
    "\n",
    "class Foo {\n",
    "    private Semaphore loc1 = new Semaphore(0);  //issue 0 permit \n",
    "    private Semaphore loc2 = new Semaphore(0);\n",
    "\n",
    "     \n",
    "    public void first()  throws InterruptedException{  \n",
    "\n",
    "        System.out.println(\"first\"); \n",
    "        loc1.release();  //release 1 permit. Whoever needs it can consume it\n",
    "\n",
    "    }\n",
    "    public void second() throws InterruptedException{  \n",
    "\n",
    "        loc1.acquire();  // waiting for one loc1 permit, and consume it when available\n",
    "        loc1.release();  // release one loc1 permit, so it can continue\n",
    "        System.out.println(\"second\");\n",
    "        loc2.release(); \n",
    "\n",
    "    }\n",
    "    public void third() throws InterruptedException{ \n",
    "\n",
    "        loc1.acquire(); \n",
    "        loc1.release();\n",
    "        loc2.acquire(); \n",
    "        loc2.release(); \n",
    "        System.out.println(\"third\");  \n",
    "    }\n",
    "}\n",
    "\n"
   ]
  },
  {
   "cell_type": "code",
   "execution_count": 14,
   "metadata": {
    "collapsed": false
   },
   "outputs": [
    {
     "name": "stdout",
     "output_type": "stream",
     "text": [
      "first\r\n",
      "second\r\n",
      "third\r\n"
     ]
    }
   ],
   "source": [
    "! javac main.java\n",
    "! java main"
   ]
  },
  {
   "cell_type": "markdown",
   "metadata": {},
   "source": [
    "## 15.6 synchronized methods"
   ]
  },
  {
   "cell_type": "code",
   "execution_count": 15,
   "metadata": {
    "collapsed": false
   },
   "outputs": [],
   "source": [
    "# I have shown that synchronized method allows only one thread to access the instance.\n",
    "\n",
    "# For completeness, let me also show how async works in Java. Notice it is bit more involved than in C#. \n",
    "# In C#, just to add async and await"
   ]
  },
  {
   "cell_type": "code",
   "execution_count": 16,
   "metadata": {
    "collapsed": false
   },
   "outputs": [
    {
     "name": "stdout",
     "output_type": "stream",
     "text": [
      "Overwriting main.java\n"
     ]
    }
   ],
   "source": [
    "%%file main.java\n",
    " \n",
    "import java.util.concurrent.Callable;\n",
    "import java.util.concurrent.ExecutionException;\n",
    "import java.util.concurrent.ExecutorService;\n",
    "import java.util.concurrent.Executors;\n",
    "import java.util.concurrent.Future;\n",
    "\n",
    "public class main {\n",
    "\n",
    "    public static void main(String[] args) throws InterruptedException, ExecutionException  {\n",
    "\n",
    "        Future<String> future = asynCall(\"sd\");\n",
    "\n",
    "        int i = 0;\n",
    "        while(!future.isDone()){       // do stuff while waiting\n",
    "            if ((i%5000) == 0){\n",
    "                System.out.println(\"I am waiting...\");\n",
    "            }\n",
    "            i += 1;\n",
    "        } \n",
    "        System.out.println(future.get()); //Notice if future.get() is called before it is done,\n",
    "                                          //the call thread will freeze and wait till it is done.\n",
    "                                          //which means async is wasted.\n",
    "        pool.shutdown();\n",
    "    }    \n",
    " \n",
    "    private static ExecutorService pool = Executors.newFixedThreadPool(1);\n",
    "    public static Future<String> asynCall(String name)   {\n",
    "        return pool.submit(new Callable<String>() { \n",
    "            public String call() throws Exception {  \n",
    "                    Thread.sleep(1);           // some long task\n",
    "                    return \"I am done.\";      \n",
    "            }\n",
    "        });\n",
    "    }\n",
    "}\n"
   ]
  },
  {
   "cell_type": "code",
   "execution_count": 17,
   "metadata": {
    "collapsed": false
   },
   "outputs": [
    {
     "name": "stdout",
     "output_type": "stream",
     "text": [
      "I am waiting...\r\n",
      "I am waiting...\r\n",
      "I am waiting...\r\n",
      "I am waiting...\r\n",
      "I am waiting...\r\n",
      "I am waiting...\r\n",
      "I am done.\r\n"
     ]
    }
   ],
   "source": [
    "! javac main.java\n",
    "! java main"
   ]
  },
  {
   "cell_type": "markdown",
   "metadata": {},
   "source": [
    "## 15.7 fizzBuzz"
   ]
  },
  {
   "cell_type": "code",
   "execution_count": 18,
   "metadata": {
    "collapsed": false
   },
   "outputs": [
    {
     "name": "stdout",
     "output_type": "stream",
     "text": [
      "Overwriting main.java\n"
     ]
    }
   ],
   "source": [
    "%%file main.java\n",
    " \n",
    "// the problem is essentially to turn parallel threads into sequential threads scheduler, \n",
    "// so we should use the ExecutorService as we did above in async\n",
    "\n",
    "import java.util.concurrent.ExecutorService;\n",
    "import java.util.concurrent.Executors;\n",
    "\n",
    "public class main {\n",
    "\n",
    "    public static void main(String[] args)    {\n",
    " \n",
    "         Thread t1 = new Thread (new Runnable() \n",
    "         {\n",
    "              private int i = 1;\n",
    "              public void run()\n",
    "              {\n",
    "                  if((i%5) == 0 && (i%3) == 0)\n",
    "                     System.out.print(\"FizzBuzz | \");  \n",
    "                  i += 1;\n",
    "              }\n",
    "         });\n",
    "\n",
    "         Thread t2 = new Thread (new Runnable() \n",
    "         {\n",
    "              private int i = 1;\n",
    "              public void run()\n",
    "              {\n",
    "                  if((i%5) != 0 && (i%3) == 0)\n",
    "                     System.out.print(\"Fizz | \");  \n",
    "                  i += 1;\n",
    "              }\n",
    "         });\n",
    "\n",
    "         Thread t3 = new Thread (new Runnable() \n",
    "         {\n",
    "              private int i = 1;\n",
    "              public void run()\n",
    "              {\n",
    "                  if((i%5) == 0 && (i%3) != 0)\n",
    "                     System.out.print(\"Buzz | \");  \n",
    "                  i += 1;\n",
    "              }\n",
    "         });\n",
    "\n",
    "         Thread t4 = new Thread (new Runnable() \n",
    "         {\n",
    "              private int i = 1;\n",
    "              public void run()\n",
    "              {\n",
    "                  if((i%5) != 0 && (i%3) != 0)\n",
    "                     System.out.print(i + \" | \");  \n",
    "                  i += 1;\n",
    "              }\n",
    "         });\n",
    "        \n",
    "         ExecutorService pool = Executors.newFixedThreadPool(1); //allow one thread to work at a time\n",
    "         for (int i = 1 ; i < 16; ++i){\n",
    "\n",
    "            pool.submit(t1);\n",
    "            pool.submit(t2);\n",
    "            pool.submit(t3);\n",
    "            pool.submit(t4);  \n",
    "\n",
    "         }\n",
    "         pool.shutdown();\n",
    "    }\n",
    "  \n",
    "}\n"
   ]
  },
  {
   "cell_type": "code",
   "execution_count": 19,
   "metadata": {
    "collapsed": false
   },
   "outputs": [
    {
     "name": "stdout",
     "output_type": "stream",
     "text": [
      "1 | 2 | Fizz | 4 | Buzz | Fizz | 7 | 8 | Fizz | Buzz | 11 | Fizz | 13 | 14 | FizzBuzz | "
     ]
    }
   ],
   "source": [
    "! javac main.java\n",
    "! java main"
   ]
  }
 ],
 "metadata": {
  "kernelspec": {
   "display_name": "Python 2",
   "language": "python",
   "name": "python2"
  },
  "language_info": {
   "codemirror_mode": {
    "name": "ipython",
    "version": 2
   },
   "file_extension": ".py",
   "mimetype": "text/x-python",
   "name": "python",
   "nbconvert_exporter": "python",
   "pygments_lexer": "ipython2",
   "version": "2.7.12"
  }
 },
 "nbformat": 4,
 "nbformat_minor": 0
}
