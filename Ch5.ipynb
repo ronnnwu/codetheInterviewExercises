{
 "cells": [
  {
   "cell_type": "markdown",
   "metadata": {},
   "source": [
    "# Chapter 5 Bit Manipulation\n",
    "\n",
    "from Gayle Laakmann McDowell's \"Cracking the Coding Interview\", 6th ed.\n",
    "\n",
    "Ron Wu"
   ]
  },
  {
   "cell_type": "markdown",
   "metadata": {},
   "source": [
    "## 5.1 replace N's ith to jth bits by M"
   ]
  },
  {
   "cell_type": "code",
   "execution_count": 1,
   "metadata": {
    "collapsed": false
   },
   "outputs": [
    {
     "data": {
      "text/plain": [
       "'10001001100'"
      ]
     },
     "execution_count": 1,
     "metadata": {},
     "output_type": "execute_result"
    }
   ],
   "source": [
    "def setBit(N, M, i, j):\n",
    "    End = ( (1 << i) - 1 ) & N\n",
    "    N = (N >> j) << j\n",
    "    M = M << i\n",
    "    return M | N | End\n",
    "    \n",
    "\n",
    "N = int('10000000000', 2)\n",
    "M = int('10011', 2)\n",
    "i = 2\n",
    "j = 6\n",
    "bin(setBit(N, M, i, j))[2:]"
   ]
  },
  {
   "cell_type": "markdown",
   "metadata": {},
   "source": [
    "## 5.2 write double [0,1] to binary"
   ]
  },
  {
   "cell_type": "code",
   "execution_count": 2,
   "metadata": {
    "collapsed": false
   },
   "outputs": [
    {
     "data": {
      "text/plain": [
       "'0.11000000000000000000000000000000'"
      ]
     },
     "execution_count": 2,
     "metadata": {},
     "output_type": "execute_result"
    }
   ],
   "source": [
    "#import numpy as np\n",
    "def doubleToBi(d):\n",
    "    if d < 2^-32:\n",
    "        return 'Error'\n",
    "    if d == 0:\n",
    "        return '0'\n",
    "    if d == 1:\n",
    "        return '1'\n",
    "    \n",
    "    d = int(d*(2**32))\n",
    "    return '0.'+(str(bin(d)))[2:]\n",
    "\n",
    "d = 0.5+0.25 #more careful to use numpy np.float32\n",
    "doubleToBi(d)"
   ]
  },
  {
   "cell_type": "markdown",
   "metadata": {},
   "source": [
    "## 5.3 flip one bit from 0 to 1 to create longest consecutive 1s"
   ]
  },
  {
   "cell_type": "code",
   "execution_count": 3,
   "metadata": {
    "collapsed": false
   },
   "outputs": [
    {
     "name": "stdout",
     "output_type": "stream",
     "text": [
      "8\n"
     ]
    }
   ],
   "source": [
    "import math\n",
    "def filpToWin(b):\n",
    "    n = 0    \n",
    "    for i in range(int(math.log(b,2)) + 1):\n",
    "        addOne = 1 << i\n",
    "        bb = b | addOne\n",
    "        if bb != b: \n",
    "            for j in range(i): \n",
    "                bbb = bb >> j \n",
    "                n = max(n, _firstNonZero(bbb + 1)) \n",
    "    return n\n",
    "\n",
    "def _firstNonZero(b):\n",
    "    if b == 0:\n",
    "        return 'error input is zero'\n",
    "    for i in range(int(math.log(b,2)) + 2):\n",
    "        if (b >> i) << i != b:\n",
    "            return i-1 \n",
    "\n",
    "b = int('11011101111',2) \n",
    "print filpToWin(b)"
   ]
  },
  {
   "cell_type": "markdown",
   "metadata": {},
   "source": [
    "## 5.4 given a positive n find the greatest n1 < n and smallest n2 > n, so that n1, n2 have the same number of 1s as n"
   ]
  },
  {
   "cell_type": "code",
   "execution_count": 4,
   "metadata": {
    "collapsed": false
   },
   "outputs": [
    {
     "name": "stdout",
     "output_type": "stream",
     "text": [
      "input: 75 , 1001011\n",
      "its greatest small: 71 , 1000111\n",
      "its smallest great: 77 , 1001101\n"
     ]
    }
   ],
   "source": [
    "\n",
    "def _countNumberOne(b):\n",
    "    if b == 0:\n",
    "        return 0\n",
    "    count = 0\n",
    "    for i in range(int(math.log(b,2)) + 2):\n",
    "        if b & ( 1 << i ) != 0:\n",
    "            count += 1\n",
    "    return count \n",
    "        \n",
    "\n",
    "def findSmallestGreatest(n):\n",
    "    sn = n\n",
    "    bn = n\n",
    "    n1 = _countNumberOne(n)\n",
    "    for i in range(1,n):\n",
    "        bn = n + i\n",
    "        if _countNumberOne(bn) == n1:\n",
    "            break\n",
    "    for i in range(1,n):\n",
    "        sn = n - i\n",
    "        if _countNumberOne(sn) == n1:\n",
    "            break\n",
    "        \n",
    "    return [sn, bn]\n",
    "\n",
    "\n",
    "b = int('1001011',2)   \n",
    "ans = findSmallestGreatest(b)\n",
    "print 'input:',b, ',',bin(b)[2:]\n",
    "print 'its greatest small:',ans[0], ',', bin(ans[0])[2:]\n",
    "print 'its smallest great:',ans[1], ',', bin(ans[1])[2:]"
   ]
  },
  {
   "cell_type": "markdown",
   "metadata": {},
   "source": [
    "## 5.5 what does it do?"
   ]
  },
  {
   "cell_type": "code",
   "execution_count": 5,
   "metadata": {
    "collapsed": false
   },
   "outputs": [
    {
     "data": {
      "text/plain": [
       "True"
      ]
     },
     "execution_count": 5,
     "metadata": {},
     "output_type": "execute_result"
    }
   ],
   "source": [
    "def foo(n):\n",
    "    return ((n & (n-1)) == 0)\n",
    "\n",
    "b = 2**3\n",
    "foo(b) #true if is a 2-multiples"
   ]
  },
  {
   "cell_type": "markdown",
   "metadata": {},
   "source": [
    "## 5.6 count the bit difference"
   ]
  },
  {
   "cell_type": "code",
   "execution_count": 6,
   "metadata": {
    "collapsed": false
   },
   "outputs": [
    {
     "data": {
      "text/plain": [
       "2"
      ]
     },
     "execution_count": 6,
     "metadata": {},
     "output_type": "execute_result"
    }
   ],
   "source": [
    "\n",
    "def _countNumberOne(b):\n",
    "    if b == 0:\n",
    "        return 0\n",
    "    count = 0\n",
    "    for i in range(int(math.log(b,2)) + 2):\n",
    "        if b & ( 1 << i ) != 0:\n",
    "            count += 1\n",
    "    return count \n",
    "\n",
    "def countDiffBit(n1, n2):\n",
    "    if n1 == n2:\n",
    "        return 0\n",
    "    diff = n1 ^ n2\n",
    "    return _countNumberOne(diff)\n",
    "\n",
    "\n",
    "n1 = int('11101',2)  \n",
    "n2 = int('01111',2)  \n",
    "countDiffBit(n1,n2)"
   ]
  },
  {
   "cell_type": "markdown",
   "metadata": {},
   "source": [
    "## 5.7 swap 0th and 1st bit, 2nd and 3rd bit, and so on"
   ]
  },
  {
   "cell_type": "code",
   "execution_count": 7,
   "metadata": {
    "collapsed": false
   },
   "outputs": [
    {
     "name": "stdout",
     "output_type": "stream",
     "text": [
      " input: 011101 , 29\n",
      "output: 101110 , 46\n"
     ]
    }
   ],
   "source": [
    "def shiftEvenOddBit(n):\n",
    "    #assume n < 2^32\n",
    "    op = 0\n",
    "    for i in range(0,32,2):\n",
    "        op += 1<<i\n",
    "        \n",
    "    return (n<<1 & op<<1)|(n>>1 & op)\n",
    "     \n",
    "    \n",
    "n = int('011101',2)      \n",
    "print ' input:', '{0:b}'.format(n).zfill(6), ',',n\n",
    "ans = shiftEvenOddBit(n)\n",
    "print 'output:', '{0:b}'.format(ans).zfill(6) ,',',ans"
   ]
  },
  {
   "cell_type": "markdown",
   "metadata": {},
   "source": [
    "## 5.8 draw a horizontal line on the digital screen"
   ]
  },
  {
   "cell_type": "code",
   "execution_count": 8,
   "metadata": {
    "collapsed": false
   },
   "outputs": [
    {
     "name": "stdout",
     "output_type": "stream",
     "text": [
      "\n",
      "000000000000000000000000\n",
      "000000000000000000000000\n",
      "000000000000000000000000\n",
      "000000000000000000000000\n",
      "000000000000000000000000\n",
      "000000111111111000000000\n",
      "000000000000000000000000\n",
      "000000000000000000000000\n",
      "000000000000000000000000\n",
      "000000000000000000000000\n"
     ]
    }
   ],
   "source": [
    "def drawLine(screen, width, x1, x2, y):\n",
    "    screen = 0\n",
    "    line = (1<<x2-x1)-1\n",
    "    return screen | (line << (width*y)+x1)\n",
    "\n",
    "\n",
    "width = 24 \n",
    "heigh = 10\n",
    "screen = 0 #binary with width*heigh number of bits\n",
    "x1 = 6\n",
    "x2 = 15\n",
    "y = 5\n",
    "screen = format(drawLine(screen, width, x1, x2, y), '#0242b')[1:]\n",
    "\n",
    "for i in range(heigh, -1, -1):\n",
    "    print screen[(i+1)*width:width*(i):-1]"
   ]
  }
 ],
 "metadata": {
  "kernelspec": {
   "display_name": "Python 2",
   "language": "python",
   "name": "python2"
  },
  "language_info": {
   "codemirror_mode": {
    "name": "ipython",
    "version": 2
   },
   "file_extension": ".py",
   "mimetype": "text/x-python",
   "name": "python",
   "nbconvert_exporter": "python",
   "pygments_lexer": "ipython2",
   "version": "2.7.11"
  }
 },
 "nbformat": 4,
 "nbformat_minor": 0
}
