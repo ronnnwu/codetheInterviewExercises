{
 "cells": [
  {
   "cell_type": "markdown",
   "metadata": {},
   "source": [
    "# Chapter 8 Recursion and Dynamic Programming\n",
    "\n",
    "from Gayle Laakmann McDowell's \"Cracking the Coding Interview\", 6th ed.\n",
    "\n",
    "Ron Wu"
   ]
  },
  {
   "cell_type": "markdown",
   "metadata": {},
   "source": [
    "## 8.1 hop stairs with 3 possible hops 1, 2, 3 stairs at once"
   ]
  },
  {
   "cell_type": "code",
   "execution_count": 21,
   "metadata": {
    "collapsed": false
   },
   "outputs": [
    {
     "data": {
      "text/plain": [
       "274"
      ]
     },
     "execution_count": 21,
     "metadata": {},
     "output_type": "execute_result"
    }
   ],
   "source": [
    "def numberPossibleHops(n):\n",
    "    memo = {1:1, 2:2, 3:4}\n",
    "    return _numberPossibleHops(n, memo)\n",
    "    \n",
    "def _numberPossibleHops(n, memo):\n",
    "    if n<=0:\n",
    "        return 0\n",
    "    if n not in memo:\n",
    "        memo[n] = _numberPossibleHops(n-1,memo)+\\\n",
    "                _numberPossibleHops(n-2,memo)+_numberPossibleHops(n-3,memo)\n",
    "        \n",
    "    return memo[n]\n",
    "\n",
    "numberPossibleHops(10)"
   ]
  },
  {
   "cell_type": "markdown",
   "metadata": {},
   "source": [
    "## 8.2 robot in grid "
   ]
  },
  {
   "cell_type": "code",
   "execution_count": 119,
   "metadata": {
    "collapsed": false
   },
   "outputs": [],
   "source": [
    "r = 6\n",
    "c = 6\n",
    "import random\n",
    "r_block = random.randint(1,r)\n",
    "c_block = random.randint(1,c)\n",
    "block =set()\n",
    "for i in range(r_block):\n",
    "    for j in range(c_block):\n",
    "        block.add((random.randint(1,r), random.randint(1,r)))\n",
    "block = block - set([(1,1),(r,c)])\n"
   ]
  },
  {
   "cell_type": "code",
   "execution_count": 122,
   "metadata": {
    "collapsed": false
   },
   "outputs": [
    {
     "name": "stdout",
     "output_type": "stream",
     "text": [
      "inaccessible blocks:\n"
     ]
    },
    {
     "data": {
      "text/plain": [
       "{(2, 5), (2, 6), (3, 2), (5, 4), (6, 1), (6, 3), (6, 4)}"
      ]
     },
     "execution_count": 122,
     "metadata": {},
     "output_type": "execute_result"
    }
   ],
   "source": [
    "import copy\n",
    "def findAPath(s, path, e, block):\n",
    "    if path == None:\n",
    "        return None\n",
    "    if e in path:\n",
    "        return path\n",
    "    mypath = copy.copy(path)  \n",
    "    (x,y) = s \n",
    "    (ex, ey) =e\n",
    "    if x < ex: \n",
    "        if (x+1,y) not in block:\n",
    "            p = findAPath((x+1,y), mypath +[(x+1,y)],e, block)  \n",
    "            if p != None and e in p:  \n",
    "                return p\n",
    "    \n",
    "    if y < ey:\n",
    "        if (x,y+1) not in block:\n",
    "            p = findAPath((x,y+1), mypath + [(x,y+1)],e,block) \n",
    "            if p != None and e in p:  \n",
    "                return p\n",
    "\n",
    "    return None\n",
    "\n",
    "s = (1,1)\n",
    "e = (r,c)\n",
    "path = [s]\n",
    "print 'inaccessible blocks:'\n",
    "block"
   ]
  },
  {
   "cell_type": "code",
   "execution_count": 123,
   "metadata": {
    "collapsed": false
   },
   "outputs": [
    {
     "name": "stdout",
     "output_type": "stream",
     "text": [
      "[(1, 1), (2, 1), (3, 1), (4, 1), (4, 2), (4, 3), (4, 4), (4, 5), (5, 5), (6, 5), (6, 6)]\n"
     ]
    }
   ],
   "source": [
    "ip = findAPath(s, path, e,block)\n",
    "if ip == None:\n",
    "    print 'there is no path'\n",
    "else:\n",
    "    print ip"
   ]
  },
  {
   "cell_type": "markdown",
   "metadata": {},
   "source": [
    "## 8.3 find index of sorted array such that A[i]=i"
   ]
  },
  {
   "cell_type": "code",
   "execution_count": 358,
   "metadata": {
    "collapsed": false
   },
   "outputs": [
    {
     "name": "stdout",
     "output_type": "stream",
     "text": [
      "[(-7, 0), (-3, 1), (1, 2), (1, 3), (4, 4), (7, 5), (7, 6), (10, 7), (11, 8), (13, 9)]\n"
     ]
    }
   ],
   "source": [
    "import random\n",
    "size = 10\n",
    "A = [0]*size\n",
    "r = 0\n",
    "for i in range(len(A)):\n",
    "    r = random.randint(r , 4 + r)\n",
    "    A[i] = r - len(A)\n",
    "print zip(A, [x  for x in range(size)])"
   ]
  },
  {
   "cell_type": "code",
   "execution_count": 359,
   "metadata": {
    "collapsed": false,
    "scrolled": true
   },
   "outputs": [
    {
     "name": "stdout",
     "output_type": "stream",
     "text": [
      "the magic index is 4\n"
     ]
    }
   ],
   "source": [
    "#this code works for both distinct or non distinct array\n",
    "def findMagicIndex(A,s=0):\n",
    "    if len(A) == 0:\n",
    "        return None\n",
    "    if len(A) == 1:\n",
    "        if s == A[0]:  \n",
    "            return s\n",
    "        else:\n",
    "            return None \n",
    "    j = len(A)/2 \n",
    "     \n",
    "    if A[j] == j + s :  \n",
    "        return j + s\n",
    "    if A[j] > j + s: \n",
    "        return findMagicIndex(A[:j],s)\n",
    "     \n",
    "    return findMagicIndex(A[j+1:],s + j + 1) \n",
    "\n",
    "\n",
    "ans = findMagicIndex(A)\n",
    "if  ans== None:\n",
    "    print 'cannot find magic index'\n",
    "else:\n",
    "    print 'the magic index is',ans"
   ]
  },
  {
   "cell_type": "markdown",
   "metadata": {},
   "source": [
    "## 8.4 return the power set of a set"
   ]
  },
  {
   "cell_type": "code",
   "execution_count": 348,
   "metadata": {
    "collapsed": false
   },
   "outputs": [
    {
     "name": "stdout",
     "output_type": "stream",
     "text": [
      "[[1], [2], [1, 2], [3], [1, 3], [2, 3], [1, 2, 3], [4], [1, 4], [2, 4], [1, 2, 4], [3, 4], [1, 3, 4], [2, 3, 4], [1, 2, 3, 4], []]\n",
      "len: 16 , which should be 2**4\n"
     ]
    }
   ],
   "source": [
    "S = [1,2,3,4]\n",
    "P = []\n",
    "def powerSet(S, P):\n",
    "    for s in S: \n",
    "        P_temp = [] \n",
    "        for p in P:  \n",
    "            P_temp.append(p + [s])\n",
    "        P.append([s])\n",
    "        for x in P_temp:\n",
    "            P.append(x)\n",
    "    return P.append([])\n",
    "\n",
    "powerSet(S, P)\n",
    "print P\n",
    "print 'len:',len(P), ', which should be 2**{}'.format(len(S))"
   ]
  },
  {
   "cell_type": "markdown",
   "metadata": {},
   "source": [
    "## 8.5 recusive multiply"
   ]
  },
  {
   "cell_type": "code",
   "execution_count": 366,
   "metadata": {
    "collapsed": false
   },
   "outputs": [
    {
     "data": {
      "text/plain": [
       "6"
      ]
     },
     "execution_count": 366,
     "metadata": {},
     "output_type": "execute_result"
    }
   ],
   "source": [
    "def multiply(n1, n2):\n",
    "    if n2 <= 0:\n",
    "        return 0\n",
    "    if n1 > n2:\n",
    "        return multiply(n1, n2-1) + n1\n",
    "    else:\n",
    "        return multiply(n2, n1-1) + n2\n",
    "\n",
    "multiply(2,3)"
   ]
  },
  {
   "cell_type": "markdown",
   "metadata": {},
   "source": [
    "## 8.6 Towers of Hanoi"
   ]
  },
  {
   "cell_type": "code",
   "execution_count": 367,
   "metadata": {
    "collapsed": true
   },
   "outputs": [],
   "source": [
    "#copied from my chapter 3 solution ex 3.3\n",
    "class Stacks(object):\n",
    "    def __init__(self):\n",
    "        self.arr = []\n",
    "        self.count = 0 \n",
    "    \n",
    "    def isEmpty(self):\n",
    "        if self.count == 0: \n",
    "            return True\n",
    "        return False\n",
    "        \n",
    "    def pop(self):\n",
    "        if self.isEmpty() == False:\n",
    "            self.count  -= 1\n",
    "            e = self.arr[self.count]\n",
    "            self.arr[self.count] = None       \n",
    "            return e\n",
    "    \n",
    "    def peek(self): \n",
    "        if self.isEmpty() == False: \n",
    "            return self.arr[self.count - 1]\n",
    "        \n",
    "    def push(self, data):             \n",
    "        if self.count == len(self.arr): \n",
    "            self.arr.append(data) \n",
    "        else:\n",
    "            self.arr[self.count] = data\n",
    "        self.count += 1 \n",
    "        return "
   ]
  },
  {
   "cell_type": "code",
   "execution_count": 380,
   "metadata": {
    "collapsed": false,
    "scrolled": true
   },
   "outputs": [
    {
     "name": "stdout",
     "output_type": "stream",
     "text": [
      "1\n",
      "6\n",
      "1\n",
      "1\n",
      "1\n"
     ]
    }
   ],
   "source": [
    "Stack_1 = Stacks()\n",
    "Stack_2 = Stacks()\n",
    "Stack_3 = Stacks()\n",
    "\n",
    "A = [1,2,3,4,5,6]\n",
    "for i in reversed(range(len(A))):\n",
    "    Stack_1.push(A[i])\n",
    "    \n",
    "print Stack_1.peek()\n",
    "print Stack_1.count\n",
    "\n",
    "def gameHanoi(Stack_1,Stack_2,Stack_3):\n",
    "    if Stack_1.count==0 and Stack_2.count==0:\n",
    "        return\n",
    "    if Stack_3.count == 0 and Stack_1.count!=0:\n",
    "        Stack_3.push(Stack_1.pop())\n",
    "        if Stack_2.count != 0:\n",
    "            pass\n",
    "    \n",
    "    \n",
    "gameHanoi(Stack_1,Stack_2,Stack_3)    \n",
    "print Stack_3.peek()\n",
    "print Stack_3.count\n",
    "for i in range(Stack_3.count):\n",
    "    print Stack_3.pop()"
   ]
  },
  {
   "cell_type": "markdown",
   "metadata": {},
   "source": [
    "## 8.7 Permutation of string of unique chars"
   ]
  },
  {
   "cell_type": "code",
   "execution_count": 426,
   "metadata": {
    "collapsed": false
   },
   "outputs": [
    {
     "name": "stdout",
     "output_type": "stream",
     "text": [
      "['dcba', 'cdba', 'cbda', 'cbad', 'dbca', 'bdca', 'bcda', 'bcad', 'dbac', 'bdac', 'badc', 'bacd', 'dcab', 'cdab', 'cadb', 'cabd', 'dacb', 'adcb', 'acdb', 'acbd', 'dabc', 'adbc', 'abdc', 'abcd']\n",
      "24 which shoud be 4!\n"
     ]
    }
   ],
   "source": [
    "def permuteString(s, per): \n",
    "    for l in s: \n",
    "        if len(per)==0:\n",
    "            per.append(l)\n",
    "        else:\n",
    "            temp = [] \n",
    "            for p in per: \n",
    "                for i in range(len(p)+1):\n",
    "                    temp.append(p[:i]+l+p[i:])    \n",
    "            per = temp\n",
    "    return temp\n",
    " \n",
    "\n",
    "s = 'abcd'\n",
    "per = []   \n",
    "p = permuteString(s, per)    \n",
    "print p\n",
    "print len(p), 'which shoud be 4!'"
   ]
  },
  {
   "cell_type": "markdown",
   "metadata": {},
   "source": [
    "## 8.8 Permutation of string of chars"
   ]
  },
  {
   "cell_type": "code",
   "execution_count": 427,
   "metadata": {
    "collapsed": false
   },
   "outputs": [
    {
     "name": "stdout",
     "output_type": "stream",
     "text": [
      "['acba', 'caba', 'cbaa', 'abca', 'baca', 'bcaa', 'abac', 'baac', 'acab', 'caab', 'aacb', 'aabc']\n",
      "12 which shoud be 4!/2!\n"
     ]
    }
   ],
   "source": [
    "def permuteString(s, per): \n",
    "    for l in s: \n",
    "        if len(per)==0:\n",
    "            per.append(l)\n",
    "        else:\n",
    "            temp = [] \n",
    "            for p in per: \n",
    "                for i in range(len(p)+1):\n",
    "                    if p[:i]+l+p[i:] not in temp:\n",
    "                        temp.append(p[:i]+l+p[i:])    \n",
    "            per = temp\n",
    "    return temp\n",
    " \n",
    "\n",
    "s = 'abca'\n",
    "per = []\n",
    "p = permuteString(s, per)    \n",
    "print p\n",
    "print len(p), 'which shoud be 4!/2!'"
   ]
  },
  {
   "cell_type": "markdown",
   "metadata": {},
   "source": [
    "## 8.9 print all valid combinations of n paris of parentheses"
   ]
  },
  {
   "cell_type": "code",
   "execution_count": 430,
   "metadata": {
    "collapsed": false
   },
   "outputs": [
    {
     "name": "stdout",
     "output_type": "stream",
     "text": [
      "((()))\n",
      "(()())\n",
      "(())()\n",
      "()(())\n",
      "()()()\n"
     ]
    }
   ],
   "source": [
    "def printParentheses(n, st, used_left = 0, used_right = 0):\n",
    "    if n == used_right:\n",
    "        print st\n",
    "        return\n",
    "    if used_left == 0:\n",
    "         printParentheses(n, '(', 1, 0)\n",
    "    else:\n",
    "        if used_left < n:\n",
    "            printParentheses(n, st + '(', used_left+1, used_right) \n",
    "        if used_right < used_left:\n",
    "            printParentheses(n, st + ')', used_left,used_right+1 )\n",
    "        \n",
    "st = ''\n",
    "n = 3\n",
    "printParentheses(n,st)"
   ]
  },
  {
   "cell_type": "markdown",
   "metadata": {},
   "source": [
    "## 8.10 "
   ]
  },
  {
   "cell_type": "code",
   "execution_count": null,
   "metadata": {
    "collapsed": true
   },
   "outputs": [],
   "source": []
  },
  {
   "cell_type": "markdown",
   "metadata": {},
   "source": [
    "## 8.11 number of ways to represent n cents using quarters, dimes, nickels, pennies"
   ]
  },
  {
   "cell_type": "code",
   "execution_count": 511,
   "metadata": {
    "collapsed": false
   },
   "outputs": [
    {
     "name": "stdout",
     "output_type": "stream",
     "text": [
      "0 1 1\n",
      "0 0 0\n",
      "0\n"
     ]
    }
   ],
   "source": [
    "n = 16 \n",
    "    \n",
    "def coinWays(n):\n",
    "    q = n/25\n",
    "    d = (n-q*25)/10\n",
    "    k = (n-q*25-d*10)/5 \n",
    "    print q, d, k\n",
    "    return _coinWays(n, q, d, k)\n",
    "\n",
    "def _coinWays(n, q, d, k):\n",
    "    \n",
    "    if (q,d,k) == (0,0,0):\n",
    "        return 1 \n",
    "\n",
    "    qq = 0\n",
    "    dd = 0\n",
    "    kk = 0\n",
    "    if q > 1:\n",
    "        n1 = n - 25*(q-1)\n",
    "        d1 = n1/10\n",
    "        k1 = (n1-10*d1)/5 \n",
    "        qq = _coinWays(n - 25, q-1, d1, k1)\n",
    "        print qq\n",
    "    if d > 1:\n",
    "        n2 = n - 10*(d-1)\n",
    "        q2 = n2/25 \n",
    "        k2 = (n2-25*q2)/5 \n",
    "        dd = _coinWays(n-10, q2 , d-1, k2)\n",
    "    if k > 1:\n",
    "        n3 = n - 5*(k-1)\n",
    "        q3 = n3/25 \n",
    "        d3 = (n3-25*q3)/10 \n",
    "        kk = _coinWays(n-5, q3,d3,k-1)\n",
    "    \n",
    "    print qq,dd,kk\n",
    "    return qq + dd + kk\n",
    "     \n",
    "print coinWays(n) "
   ]
  },
  {
   "cell_type": "markdown",
   "metadata": {},
   "source": [
    "## 8.12 "
   ]
  },
  {
   "cell_type": "code",
   "execution_count": 461,
   "metadata": {
    "collapsed": false
   },
   "outputs": [
    {
     "data": {
      "text/plain": [
       "3"
      ]
     },
     "execution_count": 461,
     "metadata": {},
     "output_type": "execute_result"
    }
   ],
   "source": [
    "max(1,2,3)"
   ]
  },
  {
   "cell_type": "markdown",
   "metadata": {},
   "source": [
    "## 8.13 "
   ]
  },
  {
   "cell_type": "code",
   "execution_count": null,
   "metadata": {
    "collapsed": true
   },
   "outputs": [],
   "source": []
  },
  {
   "cell_type": "markdown",
   "metadata": {},
   "source": [
    "## 8.14 "
   ]
  },
  {
   "cell_type": "code",
   "execution_count": null,
   "metadata": {
    "collapsed": true
   },
   "outputs": [],
   "source": []
  }
 ],
 "metadata": {
  "kernelspec": {
   "display_name": "Python 2",
   "language": "python",
   "name": "python2"
  },
  "language_info": {
   "codemirror_mode": {
    "name": "ipython",
    "version": 2
   },
   "file_extension": ".py",
   "mimetype": "text/x-python",
   "name": "python",
   "nbconvert_exporter": "python",
   "pygments_lexer": "ipython2",
   "version": "2.7.11"
  }
 },
 "nbformat": 4,
 "nbformat_minor": 0
}
