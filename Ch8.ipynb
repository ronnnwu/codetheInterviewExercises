{
 "cells": [
  {
   "cell_type": "markdown",
   "metadata": {},
   "source": [
    "# Chapter 8 Recursion and Dynamic Programming\n",
    "\n",
    "from Gayle Laakmann McDowell's \"Cracking the Coding Interview\", 6th ed.\n",
    "\n",
    "Ron Wu"
   ]
  },
  {
   "cell_type": "markdown",
   "metadata": {},
   "source": [
    "## 8.1 hop stairs with 3 possible hops 1, 2, 3 stairs at once"
   ]
  },
  {
   "cell_type": "code",
   "execution_count": 21,
   "metadata": {
    "collapsed": false
   },
   "outputs": [
    {
     "data": {
      "text/plain": [
       "274"
      ]
     },
     "execution_count": 21,
     "metadata": {},
     "output_type": "execute_result"
    }
   ],
   "source": [
    "def numberPossibleHops(n):\n",
    "    memo = {1:1, 2:2, 3:4}\n",
    "    return _numberPossibleHops(n, memo)\n",
    "    \n",
    "def _numberPossibleHops(n, memo):\n",
    "    if n<=0:\n",
    "        return 0\n",
    "    if n not in memo:\n",
    "        memo[n] = _numberPossibleHops(n-1,memo)+\\\n",
    "                _numberPossibleHops(n-2,memo)+_numberPossibleHops(n-3,memo)\n",
    "        \n",
    "    return memo[n]\n",
    "\n",
    "numberPossibleHops(10)"
   ]
  },
  {
   "cell_type": "markdown",
   "metadata": {},
   "source": [
    "## 8.2 robot in grid "
   ]
  },
  {
   "cell_type": "code",
   "execution_count": 119,
   "metadata": {
    "collapsed": false
   },
   "outputs": [],
   "source": [
    "r = 6\n",
    "c = 6\n",
    "import random\n",
    "r_block = random.randint(1,r)\n",
    "c_block = random.randint(1,c)\n",
    "block =set()\n",
    "for i in range(r_block):\n",
    "    for j in range(c_block):\n",
    "        block.add((random.randint(1,r), random.randint(1,r)))\n",
    "block = block - set([(1,1),(r,c)])\n"
   ]
  },
  {
   "cell_type": "code",
   "execution_count": 122,
   "metadata": {
    "collapsed": false
   },
   "outputs": [
    {
     "name": "stdout",
     "output_type": "stream",
     "text": [
      "inaccessible blocks:\n"
     ]
    },
    {
     "data": {
      "text/plain": [
       "{(2, 5), (2, 6), (3, 2), (5, 4), (6, 1), (6, 3), (6, 4)}"
      ]
     },
     "execution_count": 122,
     "metadata": {},
     "output_type": "execute_result"
    }
   ],
   "source": [
    "import copy\n",
    "def findAPath(s, path, e, block):\n",
    "    if path == None:\n",
    "        return None\n",
    "    if e in path:\n",
    "        return path\n",
    "    mypath = copy.copy(path)  \n",
    "    (x,y) = s \n",
    "    (ex, ey) =e\n",
    "    if x < ex: \n",
    "        if (x+1,y) not in block:\n",
    "            p = findAPath((x+1,y), mypath +[(x+1,y)],e, block)  \n",
    "            if p != None and e in p:  \n",
    "                return p\n",
    "    \n",
    "    if y < ey:\n",
    "        if (x,y+1) not in block:\n",
    "            p = findAPath((x,y+1), mypath + [(x,y+1)],e,block) \n",
    "            if p != None and e in p:  \n",
    "                return p\n",
    "\n",
    "    return None\n",
    "\n",
    "s = (1,1)\n",
    "e = (r,c)\n",
    "path = [s]\n",
    "print 'inaccessible blocks:'\n",
    "block"
   ]
  },
  {
   "cell_type": "code",
   "execution_count": 123,
   "metadata": {
    "collapsed": false
   },
   "outputs": [
    {
     "name": "stdout",
     "output_type": "stream",
     "text": [
      "[(1, 1), (2, 1), (3, 1), (4, 1), (4, 2), (4, 3), (4, 4), (4, 5), (5, 5), (6, 5), (6, 6)]\n"
     ]
    }
   ],
   "source": [
    "ip = findAPath(s, path, e,block)\n",
    "if ip == None:\n",
    "    print 'there is no path'\n",
    "else:\n",
    "    print ip"
   ]
  },
  {
   "cell_type": "markdown",
   "metadata": {},
   "source": [
    "## 8.3 find index of sorted array such that A[i]=i"
   ]
  },
  {
   "cell_type": "code",
   "execution_count": 358,
   "metadata": {
    "collapsed": false
   },
   "outputs": [
    {
     "name": "stdout",
     "output_type": "stream",
     "text": [
      "[(-7, 0), (-3, 1), (1, 2), (1, 3), (4, 4), (7, 5), (7, 6), (10, 7), (11, 8), (13, 9)]\n"
     ]
    }
   ],
   "source": [
    "import random\n",
    "size = 10\n",
    "A = [0]*size\n",
    "r = 0\n",
    "for i in range(len(A)):\n",
    "    r = random.randint(r , 4 + r)\n",
    "    A[i] = r - len(A)\n",
    "print zip(A, [x  for x in range(size)])"
   ]
  },
  {
   "cell_type": "code",
   "execution_count": 359,
   "metadata": {
    "collapsed": false,
    "scrolled": true
   },
   "outputs": [
    {
     "name": "stdout",
     "output_type": "stream",
     "text": [
      "the magic index is 4\n"
     ]
    }
   ],
   "source": [
    "#this code works for both distinct or non distinct array\n",
    "def findMagicIndex(A,s=0):\n",
    "    if len(A) == 0:\n",
    "        return None\n",
    "    if len(A) == 1:\n",
    "        if s == A[0]:  \n",
    "            return s\n",
    "        else:\n",
    "            return None \n",
    "    j = len(A)/2 \n",
    "     \n",
    "    if A[j] == j + s :  \n",
    "        return j + s\n",
    "    if A[j] > j + s: \n",
    "        return findMagicIndex(A[:j],s)\n",
    "     \n",
    "    return findMagicIndex(A[j+1:],s + j + 1) \n",
    "\n",
    "\n",
    "ans = findMagicIndex(A)\n",
    "if  ans== None:\n",
    "    print 'cannot find magic index'\n",
    "else:\n",
    "    print 'the magic index is',ans"
   ]
  },
  {
   "cell_type": "markdown",
   "metadata": {},
   "source": [
    "## 8.4 return the power set of a set"
   ]
  },
  {
   "cell_type": "code",
   "execution_count": 1,
   "metadata": {
    "collapsed": false
   },
   "outputs": [
    {
     "name": "stdout",
     "output_type": "stream",
     "text": [
      "[[1], [2], [1, 2], [3], [1, 3], [2, 3], [1, 2, 3], [4], [1, 4], [2, 4], [1, 2, 4], [3, 4], [1, 3, 4], [2, 3, 4], [1, 2, 3, 4], []]\n",
      "len: 16 , which should be 2**4\n"
     ]
    }
   ],
   "source": [
    "S = [1,2,3,4]\n",
    "P = []\n",
    "def powerSet(S, P):\n",
    "    for s in S: \n",
    "        P_temp = [] \n",
    "        for p in P:  \n",
    "            P_temp.append(p + [s])\n",
    "        P.append([s])\n",
    "        P.extend(P_temp)\n",
    "    return P.append([])\n",
    "\n",
    "powerSet(S, P)\n",
    "print P\n",
    "print 'len:',len(P), ', which should be 2**{}'.format(len(S))"
   ]
  },
  {
   "cell_type": "markdown",
   "metadata": {},
   "source": [
    "## 8.5 recusive multiply"
   ]
  },
  {
   "cell_type": "code",
   "execution_count": 366,
   "metadata": {
    "collapsed": false
   },
   "outputs": [
    {
     "data": {
      "text/plain": [
       "6"
      ]
     },
     "execution_count": 366,
     "metadata": {},
     "output_type": "execute_result"
    }
   ],
   "source": [
    "def multiply(n1, n2):\n",
    "    if n2 <= 0:\n",
    "        return 0\n",
    "    if n1 > n2:\n",
    "        return multiply(n1, n2-1) + n1\n",
    "    else:\n",
    "        return multiply(n2, n1-1) + n2\n",
    "\n",
    "multiply(2,3)"
   ]
  },
  {
   "cell_type": "markdown",
   "metadata": {},
   "source": [
    "## 8.6 Towers of Hanoi"
   ]
  },
  {
   "cell_type": "code",
   "execution_count": 178,
   "metadata": {
    "collapsed": true
   },
   "outputs": [],
   "source": [
    "#copied from my chapter 3 solution ex 3.3\n",
    "class Stacks(object):\n",
    "    def __init__(self):\n",
    "        self.arr = []\n",
    "        self.count = 0 \n",
    "    \n",
    "    def isEmpty(self):\n",
    "        if self.count == 0: \n",
    "            return True\n",
    "        return False\n",
    "        \n",
    "    def pop(self):\n",
    "        if self.isEmpty() == False:\n",
    "            self.count  -= 1\n",
    "            e = self.arr[self.count]\n",
    "            self.arr[self.count] = None       \n",
    "            return e\n",
    "    \n",
    "    def peek(self): \n",
    "        if self.isEmpty() == False: \n",
    "            return self.arr[self.count - 1]\n",
    "        \n",
    "    def push(self, data):             \n",
    "        if self.count == len(self.arr): \n",
    "            self.arr.append(data) \n",
    "        else:\n",
    "            self.arr[self.count] = data\n",
    "        self.count += 1 \n",
    "        return "
   ]
  },
  {
   "cell_type": "code",
   "execution_count": 179,
   "metadata": {
    "collapsed": false,
    "scrolled": true
   },
   "outputs": [
    {
     "name": "stdout",
     "output_type": "stream",
     "text": [
      "1\n",
      "6\n",
      "1\n",
      "1\n",
      "1\n"
     ]
    }
   ],
   "source": [
    "Stack_1 = Stacks()\n",
    "Stack_2 = Stacks()\n",
    "Stack_3 = Stacks()\n",
    "\n",
    "A = [1,2,3,4,5,6]\n",
    "for i in reversed(range(len(A))):\n",
    "    Stack_1.push(A[i])\n",
    "    \n",
    "print Stack_1.peek()\n",
    "print Stack_1.count\n",
    "\n",
    "def gameHanoi(Stack_1,Stack_2,Stack_3):\n",
    "    if Stack_1.count==0 and Stack_2.count==0:\n",
    "        return\n",
    "    if Stack_3.count == 0 and Stack_1.count!=0:\n",
    "        Stack_3.push(Stack_1.pop())\n",
    "        if Stack_2.count != 0:\n",
    "            pass\n",
    "    \n",
    "    \n",
    "gameHanoi(Stack_1,Stack_2,Stack_3)    \n",
    "print Stack_3.peek()\n",
    "print Stack_3.count\n",
    "for i in range(Stack_3.count):\n",
    "    print Stack_3.pop()"
   ]
  },
  {
   "cell_type": "markdown",
   "metadata": {},
   "source": [
    "## 8.7 Permutation of string of unique chars"
   ]
  },
  {
   "cell_type": "code",
   "execution_count": 2,
   "metadata": {
    "collapsed": false
   },
   "outputs": [
    {
     "name": "stdout",
     "output_type": "stream",
     "text": [
      "['dcba', 'cdba', 'cbda', 'cbad', 'dbca', 'bdca', 'bcda', 'bcad', 'dbac', 'bdac', 'badc', 'bacd', 'dcab', 'cdab', 'cadb', 'cabd', 'dacb', 'adcb', 'acdb', 'acbd', 'dabc', 'adbc', 'abdc', 'abcd']\n",
      "24 which shoud be 4!\n"
     ]
    }
   ],
   "source": [
    "def permuteString(s, per): \n",
    "    for l in s: \n",
    "        if len(per)==0:\n",
    "            per.append(l)\n",
    "        else:\n",
    "            temp = [] \n",
    "            for p in per: \n",
    "                for i in range(len(p)+1):\n",
    "                    temp.append(p[:i]+l+p[i:])    \n",
    "            per = temp\n",
    "    return temp\n",
    " \n",
    "\n",
    "s = 'abcd'\n",
    "per = []   \n",
    "p = permuteString(s, per)    \n",
    "print p\n",
    "print len(p), 'which shoud be {}!'.format(len(s))"
   ]
  },
  {
   "cell_type": "markdown",
   "metadata": {},
   "source": [
    "## 8.8 Permutation of string of chars"
   ]
  },
  {
   "cell_type": "code",
   "execution_count": 13,
   "metadata": {
    "collapsed": false
   },
   "outputs": [
    {
     "name": "stdout",
     "output_type": "stream",
     "text": [
      "['cbaa', 'bcaa', 'baca', 'baac', 'caba', 'acba', 'abca', 'abac', 'caab', 'acab', 'aacb', 'aabc']\n",
      "12 which shoud be 4!/2!\n"
     ]
    }
   ],
   "source": [
    "def permuteString(s, per): \n",
    "    for l in s: \n",
    "        if len(per)==0:\n",
    "            per.append(l)\n",
    "        else:\n",
    "            temp = [] \n",
    "            for p in per: \n",
    "                for i in range(len(p)+1):\n",
    "                    if p[:i]+l+p[i:] not in temp:\n",
    "                        temp.append(p[:i]+l+p[i:])    \n",
    "            per = temp\n",
    "    return temp\n",
    " \n",
    "\n",
    "s = 'aabc'\n",
    "ch = {}\n",
    "for ss in s:\n",
    "    if ss in ch:\n",
    "        ch[ss] += 1\n",
    "    else:\n",
    "        ch[ss] = 1\n",
    "st = ''\n",
    "for c in ch:\n",
    "    if ch[c] > 1:\n",
    "        st += '/'+str(ch[c]) + '!'\n",
    "per = []\n",
    "p = permuteString(s, per)    \n",
    "print p\n",
    "print len(p), 'which shoud be {}!{}'.format(len(s),st)"
   ]
  },
  {
   "cell_type": "markdown",
   "metadata": {},
   "source": [
    "## 8.9 print all valid combinations of n paris of parentheses"
   ]
  },
  {
   "cell_type": "code",
   "execution_count": 50,
   "metadata": {
    "collapsed": false
   },
   "outputs": [
    {
     "name": "stdout",
     "output_type": "stream",
     "text": [
      "((()))\n",
      "(()())\n",
      "(())()\n",
      "()(())\n",
      "()()()\n"
     ]
    }
   ],
   "source": [
    "def printParentheses(n, st, used_left = 0, used_right = 0):\n",
    "    if n == used_right:\n",
    "        print st\n",
    "        return\n",
    "    if used_left == 0:\n",
    "         printParentheses(n, '(', 1, 0)\n",
    "    else:\n",
    "        if used_left < n:\n",
    "            printParentheses(n, st + '(', used_left+1, used_right) \n",
    "        if used_right < used_left:\n",
    "            printParentheses(n, st + ')', used_left,used_right+1 )\n",
    "        \n",
    "st = ''\n",
    "n = 3\n",
    "printParentheses(n,st)"
   ]
  },
  {
   "cell_type": "markdown",
   "metadata": {},
   "source": [
    "## 8.10 animation of paint fill the screen"
   ]
  },
  {
   "cell_type": "code",
   "execution_count": 21,
   "metadata": {
    "collapsed": false
   },
   "outputs": [],
   "source": [
    "%matplotlib inline\n",
    "import numpy as np\n",
    "import matplotlib.pyplot as plt\n",
    "from matplotlib import animation, rc\n",
    "from IPython.display import HTML"
   ]
  },
  {
   "cell_type": "code",
   "execution_count": 177,
   "metadata": {
    "collapsed": false
   },
   "outputs": [
    {
     "data": {
      "text/html": [
       "<video width=\"600.0\" height=\"400.0\" controls autoplay loop>\n",
       "  <source type=\"video/mp4\" src=\"data:video/mp4;base64,AAAAHGZ0eXBNNFYgAAACAGlzb21pc28yYXZjMQAAAAhmcmVlAAAr8m1kYXQAAAKuBgX//6rcRem9\n",
       "5tlIt5Ys2CDZI+7veDI2NCAtIGNvcmUgMTQ4IHIyNjk5IGE1ZTA2YjkgLSBILjI2NC9NUEVHLTQg\n",
       "QVZDIGNvZGVjIC0gQ29weWxlZnQgMjAwMy0yMDE2IC0gaHR0cDovL3d3dy52aWRlb2xhbi5vcmcv\n",
       "eDI2NC5odG1sIC0gb3B0aW9uczogY2FiYWM9MSByZWY9MyBkZWJsb2NrPTE6MDowIGFuYWx5c2U9\n",
       "MHgzOjB4MTEzIG1lPWhleCBzdWJtZT03IHBzeT0xIHBzeV9yZD0xLjAwOjAuMDAgbWl4ZWRfcmVm\n",
       "PTEgbWVfcmFuZ2U9MTYgY2hyb21hX21lPTEgdHJlbGxpcz0xIDh4OGRjdD0xIGNxbT0wIGRlYWR6\n",
       "b25lPTIxLDExIGZhc3RfcHNraXA9MSBjaHJvbWFfcXBfb2Zmc2V0PS0yIHRocmVhZHM9MTIgbG9v\n",
       "a2FoZWFkX3RocmVhZHM9MiBzbGljZWRfdGhyZWFkcz0wIG5yPTAgZGVjaW1hdGU9MSBpbnRlcmxh\n",
       "Y2VkPTAgYmx1cmF5X2NvbXBhdD0wIGNvbnN0cmFpbmVkX2ludHJhPTAgYmZyYW1lcz0zIGJfcHly\n",
       "YW1pZD0yIGJfYWRhcHQ9MSBiX2JpYXM9MCBkaXJlY3Q9MSB3ZWlnaHRiPTEgb3Blbl9nb3A9MCB3\n",
       "ZWlnaHRwPTIga2V5aW50PTI1MCBrZXlpbnRfbWluPTIgc2NlbmVjdXQ9NDAgaW50cmFfcmVmcmVz\n",
       "aD0wIHJjX2xvb2thaGVhZD00MCByYz1jcmYgbWJ0cmVlPTEgY3JmPTIzLjAgcWNvbXA9MC42MCBx\n",
       "cG1pbj0wIHFwbWF4PTY5IHFwc3RlcD00IGlwX3JhdGlvPTEuNDAgYXE9MToxLjAwAIAAAAq7ZYiE\n",
       "ABb//vfTP8yy6/c5teOo96KeJl9DdSUBm5bE7TqAAAADAAADAACiwXtfZHYLNxbAAAAFjwJv/CmO\n",
       "PgAmjXkuInlKRiwdtK3hREkXy+sDx3fHCvQijxni/nD56F+dKCensCvhB4O5+S7HdE12LG8aMHAT\n",
       "UdyTmzABUchzhQ8lmdWIGP0tEJq/1DmR2NPX1WwQFMQWTIfHJM27Djso5RRp2sTAgHF8QEqblRXR\n",
       "G8sgRpvxSOLO0yY22zvENwJZDDLPY0sMxC7/XaLkRdtMbjF/zJ/RHeODb8ycpAJkmUKQhmVqkyWD\n",
       "bJhRkexLm3iEljinY9hc7k0cRpUor90M1ouu2jStT81JLrwRPcG2heyNGmF7bwgIA4dg9rPPVgog\n",
       "/6MccenHmvkPUPWNZFppBAt3wOXxxYH7yelkyV1uIsUNwbBqWc/1imjlSKTavef6iscQjVly8MuB\n",
       "CYcAbaC//7aqvD3dteurMAfKtGH9u6xe2bg8pyMJyKVwzOGKILPjxbh0s3wVVgHSih6gEDv9CWxx\n",
       "0Z51jO0Ouqz2cXGcISFO1iIuHWbtbe/VnAmNVSTBP8tik9qlh53SlWYeomt1G6q2nGpzJpFjkjGa\n",
       "bSAWFCR30B9Rk+YPa6biZ4gFarVDV5S+AxE6NQt2V8tfLPIM8Ux47c0fitbCyDdUvRf+aWBBAIbm\n",
       "pooy7JTxRV4VxdjOMFWU1BB/TLytQkmsclUq79HQa5WvQ6F3Rk8Ly+SEiyamEfmypEy1ggmpACWa\n",
       "+lEptfqekybQBdBdzAYu4fGA9ScIB+b391rZ8NNpZhEmk0+fBTwaC5pc0Y2a2aB3YCjX6UJWHEQ/\n",
       "YoezTczGi4LthayVjgdqOXBktTgQL1avb8heVXJ6I0BhdW77q9b/GdIzVupDkz7OiuKviBY0boCZ\n",
       "/5cTLZjl4wcW5l8IuXKgZcS/GqfvhZhhxW9rn7XiX4tYoXW+JTr0+39Ls5GvPMSe8kSYpl+/W+bB\n",
       "6H8xcrAhlNfH27FSAKjUSCBT8O8X97/tffseLLfGSJCUnNskK5xl4XJJPH1EW7MEMdgD5b/aACMi\n",
       "snou7GVT/Pq8pxEo8sGOE99FCpRr+uArQhfF6GsbbgraBgyBkOaO5P1Ao1KuX72Z1+JT+b4ktQpX\n",
       "GjsB/YauhQAoE8pOXL7o2jUGU/fmgrdi/jKtqbJC/BIh7l6IUJ4GW7fgQZnM6QUzDDp+dbOv07TV\n",
       "9xp3qlaL1mIpLHx1rpNw0jarloL++6WbnPBzF5Ww03Agea2+Xa208FAcHPb1x3be/PmUQrmgvKbB\n",
       "zgCRgpGLm4hcFC7dH+BT7LgM7jQMg1ku8d4g9VWzVIe6IHd+JvIEWfOQHHKrI+S3F04ekXaCwGaP\n",
       "AIdyhWQsxGF0oHzG7orIPbuzvM8x1UKR6Qn27ZJI1FfZbR/ht8FqOllFikZLafK1KWqFfenkOlGf\n",
       "lfI3FiHBqQYrj4fGhkVpW+ou8kxoTscgrJn5PE+asJu6sDW20ck2AVeAFe2BhxpGizxncM4mXuCx\n",
       "fbmWtbf8NDToyzcW+CP8Pt03GfOhJbWElYrmGNRW8Ib/+HqVlifSIDj5DxSboyfFp8aFsTDGgEZS\n",
       "7hBXPd86DkiH6oujAJqcJADI7JFy/+BOiXsBYpZx2DQ7JqDFhGj+wT5n2eU3nxvVAzysnaOJdjtf\n",
       "4Ioahucg+b6eBjG9NWrJ9Htib+gzPUwNOPDbDUSuYo07KVexyWS13Od36n9YJl2RTwQvmfYPJqjL\n",
       "u29edbzr7zAZVjy5T+FY0hAPHFpBtlwprZx/uSB8Wrz+Bk7dMRCkBIO+QuSCrOsCvkKurtVlkgM5\n",
       "Cu2ln7Nn4nl0L8B1+qd5diK9O0PQKv6bhrdLvRzP+t517JmM6eHcIQoyreL348YOrUmDK217jIrH\n",
       "m/WP9tLyM6+L32tYq5FCmMI/HY39L6uiGA3Z89+1BNBOFuZ4nP8vcdw2rEK7jkWNPcXIURHU7yZt\n",
       "xMVszo7fHxNJ/T8RAZHfh8b855FXyU3wL/rymANltnu+9USjMpeL2eoxh2YPUerPUL56gZqVY+Dm\n",
       "pKf+3zAEQG1vhhQC0guMW3+tnA8EdpU932e7cRrUDsaV4ktr8aU7x6kK6S1cLoAYd7UL7rj5AhkI\n",
       "k/2Zpg9z+gJLKkyVq9PPcnAmab0CvBzVFNHa+F1/HJ+qDeLX3ztM4W2r0JkH/AcogT1RQ91cYMey\n",
       "OOXs1nFQSH6Z2bjMj9v2X4wRTW3wgxBseztGg8lJdXa9+kKD2XnCCDAchDPTmPvF0+4MDyecoKS/\n",
       "LjJtw19ol8sCWz9rW48apHQPuvxWiEIBey4BrQiXYnUr8Av5Vfodj3VQn/i3yY1JxCDoDGgHnL2o\n",
       "aML91F43SljgVPSIpmn090xVjXTekKAEBhsis1y+Nd1Ju/+mDQAIF+C3weuL47q/7F6nCog0tO42\n",
       "ZQc2hahlMfnrIuOudgJazvhWTxcdUjPrlyApvgSmgCcDH2sH5U+JRRZHq9YnZ0P3cI0bf38aJOLf\n",
       "BVYJ/Mst7vj97gDt1FdcUOXzkNX7puY09zHfldHjMlHf4a9ssIzmhszHGDzyZ/WtipKWFz27oCKs\n",
       "+qI46JE+2YqTp8wY3XAWeFRahB1jYaYjgh8P8iCVWfxFLxacyrMCMm8DLHxDhxeOCFbpOAhqoho3\n",
       "sYG1gQHoMPosJDsrx1d450tNMiF4bUBrkorixXA4/WfGdAACw5W/ag8y3UsV2xMPrVFwWe5AsGgs\n",
       "seG+n8oBzfl2NGvHsIohVuLvgpHApR5H+JiAWzm99rw4i6a0yIj61T1Nphd2sLvORo+hCtEWW5v6\n",
       "kmXyp6elmTMGiZjF49fHBAqhoVw/5WEIVVW2tQJ3jSRb73Am8AqQe+eU/ndsIIDMpPPPcEIhhDst\n",
       "zkBi5uNpYil3B7qDNTUdhT/oiw47+gTEn0YZgHkm+MCIkZQb+DlT54Renzlt/p/DsWznBBpXDyrN\n",
       "NmgRE08MvfL22gKEAStihkXnIrmPQE9/0klCcEZsmQ8TilJS7Pk6JgptfzMftr2xRT2a+45d9VK9\n",
       "HR7xB2cIpPIBohrZMSPoJzpNF5ILyIj5eRwJYZlKafFVyeX7mINlfk5rSv9O8wFuy7KEaPZej7Ty\n",
       "TqgeWNUhPtEoGKgzgqNQu+6sfxVDBqNbCoKrxeT3LkZnwX5tr6wvx6Mm2MkJuF490ZrI2Ffeqke3\n",
       "rvR8yvNGT8bX7J6hzKGCu5CU84oUZtssQQAklvCwFSd9AleF+5IXPI2cUQJihD2ne9Q3y17nVCKW\n",
       "W9MuDvIM4UNrIR1z+22o5I3tA3fDRsUHeRy2CR9f9UhGVvFMBThqF+xr2vfR1P73KHOhi2YC/1Si\n",
       "/wbneOIuk7BI9wfOsqWFBQOvHLOFHd56/wSoKvipAMIxJHEBBtog7qpGFOAfm3TAP/dxPIlHXFpK\n",
       "LsZ2MUKwsP5VLntCsrUwRELyJIlwqiY6xgNfNdEb6K40Xf4cl5e+lbh1B2oig/3XZhgcyZcEeg94\n",
       "WUxGWTEzzFid39gYFF4ceO8Qw5WM3jvJ1/xEwVd06LrGqTZFQk+jc3ZQ0KvbRvgJev8X6+ueweIl\n",
       "bzdj78WQo6vMdJ8Rx0Rbk0rpSVSErpswB5f54vY3iM6YqejYAMDr4qxSOQkjKqS89PEJx4AA8R9w\n",
       "AwnEosAAXEEAAAQpQZokbEFv/talUAG83P0ABVHDNB1bdGG9bxclogLTb+v5x/8IASDYpnZ2GU6+\n",
       "Bt546e96Je2Pzy8MIO3+8Q3NzsBk3fIr+E8Vd4kYfMlnE2FFjwvDj+nZXNyzqHT15sA7o6lShW+x\n",
       "avaJt+hBN+d9MocJAuIi/hAKPhez+o0M7ar6dNQvxXgaJJewjYcVeC1KHN0fAXKSq8dgjOeH/PYX\n",
       "iJwlekb04Khb3gMCKKTWiGyJ3XF1QPK16C98NAOnNuY/rYqRtRDHeUWAp5qGd++tDyMxDPSyhO9i\n",
       "yp1zqanlcEfXEgjP2S5Ev2qPb+PMZ22Px/Br20SBBVPD/UvFiLVqYpvLHId93vtIJN2T//xdQ/p9\n",
       "/HbQCqdi24rrLUFvfs0xfqh5sR0JgTXkL/57wnnDLvUMFjJ9FKWn74zMPsubR4Yb3YculdOVLqP4\n",
       "PmSuL3vSiyNzORYlgwNCrj7DngBM+fklcKBYJxVoqztuScjEtyUAHRNW0YO+hqZ0dJeHT9eFLv2i\n",
       "ktEeGOyit8QZvHwxAMJPzkZlauSpo56SEzAV48ytxDzN8Ln/WU1LgTETfLHD3zIGmLLbbVCiCzol\n",
       "SvqW+xvjR27eZD2/xIveYLeXAxsKFidzgXuHrRXdOqjVBjuD/1cdvlf6ILVEIMJYLBrZMmmuSGql\n",
       "gs2tp3Wvhf+Zt07eml10Mujcx20fP/RXnzsIP5SHG88ry+/k04GhhpPmyo2uryS7MfxJGCs5ZmqL\n",
       "i0wVkpwvpkrbdRiz8bLawXpqMqhW5h5qMK8mH8DGgtyxZywsGrT+IBl5hn55gIwKLv2wMCLC34mN\n",
       "7FHOYS6YegPULr6xqS/Rmn956Sg30o6DafQ8HdzgMDirCmEcqwQPoh0if9UlvebHqCqBVRbJt/G8\n",
       "wfVqxu8M3pIyg9gObGpJyDlt32VMg7fxMFpfMoS2vIPYAMrxOepOeb2B2ENQqvpCum4LmQHt5cvh\n",
       "WIxG8ScWhUbwflNjlnXMrCQqmO9ZfCi52wYJRS3+R2JmFHAy3ExhXjMCk0HRgnDjc4yTpjrMhZvw\n",
       "T3is0X0mvFryDJlB4b2H3Eg11YCYtxitfa9PBTEXt8rl9LnsQN/0h1uU3iyLnuMUCB/XtLbxD+4C\n",
       "oTHhcst/64+XSncoI73u4w9jQMJjMyUrUL/l8SaaHrDKTZr053ZQEy5FA/wQ2ZXy2kjMdC3zFQ8f\n",
       "YZoPA2eR9zNueroMyWihUT3ZZJ+3lFYRnQ8rOoYpGi5Eouk9inzYpL0pVxZ8wpk38JI1/BydD+aj\n",
       "i94Eg7UzY5/IDTtFkO6ms5brq3UWH8rFqTnUvC5nHdlowX9O6dabljjBmtcWG7BufDf0b0viSjMb\n",
       "LzGVtQKXAzje+dbyGOZqjBUUZXl1Z2VlRdMaemI6FBmHVj88GG8oJ5pBSFq3POHN6XyAAAAA60Ge\n",
       "QniCfwAAFSoTuN2Ka2wfEoFV/BR1EgCda6uyErEA54yMrOv11CyGjESw8MR+IxwCXYHoqsQpH4k3\n",
       "ZR0Auv6d2RLwlhO/JkbdeYMEWCGzbcoe3teOc6aY1UvTki3uWlWqlgnlrDy+LPOjqvZdy8jyh9oh\n",
       "jn7AKR8d/4vPI23CPmrnX1KVIVTwNJkmLvTf22S7XoIQmDtrhCNpAPcg4Hd+U2YwkiTv/1t4JbFc\n",
       "rBd+OyR86bnEzLJd0cSADVGDlVKrnwvcAhGPqcwTR+rBkc0lD7UU3HIV2bkmSxE4ZZfXhSU+HdOL\n",
       "2jejD1MAAABTAZ5hdEEvAAAEdI9K/hBq31srrbeZuQpeXsdE9UIvgAKfjO0TDvbTxzW0nP5WLiz2\n",
       "jnC1orNVqGR2XksVXq2lELyX/2HBeDzG6BcScPTOOZDCVWgAAACIAZ5jakEvAAAfByXX/CCQ92H6\n",
       "wBck4Jp0bAwZ1oOdrskL0ChAJfIE32CGB7zwo71CYyE2qLtAyNNHCfKOpMiLICNXhTDPvLhtUEHI\n",
       "ZeyVvhz5Hx+VqrN+WaXWbNSQ+s7AJKzrpT1MbbTp7XjqbYXpnK9TPgTHndSayapQCXVoTT/ycx3u\n",
       "RpWycQAABNhBmmhJqEFomUwIL//+2qZYAJj2fD4GAEYWUMzH9BtYniWwxrdRIPOa6B2Ayc5y+v61\n",
       "PErO+1r81aQnD+H/+mHHIedT7+uTQP+L/tFMOqK1IbC+WbK3xXaCywNnNEQvgJaWVXmiP8mmxLjZ\n",
       "IO7rtErZmVUJP0X0MaYT6QtFibAi+/jfWyNDDzqmm8/T2KQx69I3BEfCqaBCJ3WPFjjgwU0lihaD\n",
       "16e9G+Tpx3ejmlUbMOzfcoLzl/qkPuHGsJ7vjrUCUoN6Tf2UyTOAhTU0oTyKsHJzovShOGM1f8sO\n",
       "K5KksJrrw1Uzxd0Lsz8017DWkRyHwWUdzoluHRN6NLNpQtfFndun9zXnC3aLfU3xoR1BRH218XzY\n",
       "nve0KlENvltlOdqKdZMCc2uHkJr5PNVlZkhQ3Va1zE1FwzrhjauwI8hUvd+wlGw+steRDXJzUoUe\n",
       "ElZyBBm8jmTe2W+G6iemzlPyyqrH1jdk/sn8U97LILi4QoWyFq6Ql8UQyDr7Weo+Ktlncqz2v3gp\n",
       "52lO2+LdFfZj+L8tv+HdDYBK21+BhlmgxlHcT/QHNhnp5RIrbCdASYkvOqL4uNX+XmlLV5jOkqtf\n",
       "dWejrqKZjONQX7PAtWBnSjmOZGwGot1V3GEvUQdbqwxEXnDfnqGhioDGr58gNmKqPDeMr3qHfJYI\n",
       "+stREcovj5gZp4S+vK191y/lFShVX6J0gcBb5yWOAOeGGW6ZtD735siWDSaT1QSfttEZx5Mq2b9H\n",
       "d8FCNn4ZueBLVqtfwW+TO9ELNU4bXt/Q0dorQsZvhkGpfej90M+IuPZbBUV+lWnq3BaWpffld2nP\n",
       "+RWjjHbEU15GSPOGarS11KO1de1bzxiG17qQqe8/AD5uFa+G/9zg0JMKEPIsUfcGcGM3vVTSuUiH\n",
       "RB2HRd2wolMrrGesaJSKrWmBimuBu/ngxADS2iqr+BzRF0UsOH/9NCRmb0oaltbwQteY9Cx2ZzwS\n",
       "efo8nBfEBjzWiO5w2cF9ffkcFzmYGQBGvJ89dKrByoRwP5VTXaOTfQLeHgge5OX2KAKp0x5CFcId\n",
       "NmZMkZu7Em4lQidQTfkYknpJIcAwk20b7LBVSlPFfU98zw0waw7UR/cJ+AeqPyXq0IDXzGZRlYNA\n",
       "fcTch6jIHScFuvLjuXP1A0uwUtgKRF7DdqgIMQlxAYs40gHAUaKlZqCMAq6Y36OlqK6w/XG1u2sH\n",
       "FGLpaa3aQEkOgtMMDUSswtp6YRgkP31/kbFz62Yq5gFTi+zuS3B2+0T59S7nZb4fxZRkkPxgLTny\n",
       "S8yYiItu3sphzMDswVD4uZYUdJ1hKWepjxUX+i32A7hV7fh1wv6/icbYM/o280hy2aOv2GIQORVM\n",
       "UVinbWHFfIAomcs8CltUkK9ZMaISeKybG3jgAUTKiPZrsn/fUGU0fnARSfpxAVEG6A+pKIKOcAtf\n",
       "hiNQcxhimtBdl/iAsI/KI2BqUynu5fkheaHgEqmMgfFN7766ptlh2fiblT0hieIKN6vra22f7sKF\n",
       "DDwXOSemFLiay2huu9RD1+7IfkhRA9xUTlmpvMd5ay8RBw1e64J+Dnj2Atl0kF4oHnU+s52J/tJQ\n",
       "gz5jtK/sfUrXPx3+3cV3qiVcU9AnTRHTthqXeuBb8mvCqsOgLWM5G+iS8nkGgBngnroXAAAB+kGe\n",
       "hkURLBP/AAGKK9Ljdij2hg8Qh2zfo+Y8wlVw65JLEFRm3FlwDv6JMFPEvAHtDLDEkyxjOoEb6hrS\n",
       "qq1N7qHxsWx5K7jHp/z3cja6XW5z+2X9V+q5vFnl8TAqAd4pitye2U9InS6v4CnKrjKSjh+lTZ8l\n",
       "WDp2L7y4AMWmWRkXD+n4+eQmXHjl43saAxAtoI3gl2A1UWzByZffQisbAtVqRH+36r0sJq8e6eL/\n",
       "wQw6862j9SNxqzVCjim4egQXKehYJcHQ4egEE6qGobumQP5IUmPVzbMZfEA36X95mtc0P7AAk1Br\n",
       "vSOWn9fxtMMJepeOAYgvP/nU85RnLpadRFuZVfd7GHxRS3X56CAlMSH+yI2wPpVBSjmqvhQr+q8C\n",
       "vvQnXk1TpF8Dk89LqyUBpenZGDsE0OwjfB4eapqZEE3KLdM5kNFBNUX+fkEWBVDGfNEAOpdMlBhE\n",
       "wBMdoKRJKIfmTSD7mWVeE8yB98pyfBi9HtQPv7q5F7VwnwLTbrPj1KQJVBylwZYe0Wcf2ISZJ9u6\n",
       "Nx06T8+CLErT8RUHELORQvjRDN97fY/0g/D2IPq+8deAX51Kv9qYsJ3y9XNdocQXs2akSO3EUaU6\n",
       "iPM4tyiQTQDjinZs/R98kRlFksAYo5r7DZ3bRwlFNI3m7UZ4JvYs2yziAJ7cGZUxAAABBAGepXRB\n",
       "LwAAU/biJBZ57119HB8LgpR52e1wLm0/B0DFkcDM5PbQO5J/2ee2w6NH3sAU2qXKU31akb5FIcp7\n",
       "vxhmXEaeyWcxGUF5vvkmZgYNP6vMmhIn1f6szmb9uNGFqsA+zSH33ohl4/TPLItnOIvblwLkCU6z\n",
       "ur3uQfbt9Tb8CDFnrlbeMemTOQMD3zn2iXAZF2I4RqLjN6vI+9DBinZZ2k/6eWRWQNmmEIC3YQEq\n",
       "CFlgChPiQij24+Imp+6AatKYWJvRhwn5pDj1xU/7TTR3rhwnxTft/xlrapxy6pIGKGTbiC2sUYIW\n",
       "6PsNIlYMZ/i2JKk3jHYVHFesP7TMbOCnC5SRAAABHQGep2pBLwACSk/SMuIJD3W/UjdPbnTHI75Q\n",
       "Jn19hBsPbDx7fEN8rBtxqR8JvP2kapvwBjaYeAI2jKC/tfhpGdHh1Ik4jOXF4CcZrrGZWpRE2pW7\n",
       "5jgwr+CeL3n0vNJuhA/rRV/W/i0SNjuMSlJwzX3NYaGZqXqBPp+WKv3YOVSh1Rm+7xlNT4bhkTGX\n",
       "7RhAGFAJLeG9tlJ7QpLIgDYE4x7vUufVZphQvd9z1Dgjivl8u6pc8X++PdiVsaUUy9ey668ktJSs\n",
       "mRbfMT5b0+PHn7aJGwd0Lu5GeiVN9wSidMg+5Jnm07xyKEuFSs/0Le1QOOZSUw0vJzrSQT5K21Iy\n",
       "nV/tw37zIoBxvxt8Yh7UuGHsNOD/D0kOAmBCLt1dMAAAA3xBmqxJqEFsmUwIL//+2qZYAKmauumH\n",
       "dQvH8Hb/SfABdX3NfzaahY4EYAO2uNRo2zsgkX9T83TcUh3609ATzJCe0/aB87VwjZOfD9+Q+POf\n",
       "I0JK2YJc4jfcm6xvJ7UiVc1qmeIKIu25IsUNBs9kCAh5H46YBJp1oZwe1dZaGi7VmuxxWxaK/xce\n",
       "hx7LEXYpY2w0/2/F9lvROgr1OeeZqLrBa1FRJh/z39fvj+RpwUULstmGxeD+h8i3cdTvP5ZKXqD8\n",
       "h/ASWnv3lTgf4DhPRmFbCYlk9dyS5S1nVzN52GXhhOTdCnB4LcI+ZDvM7qKQnuHbZNyaNVABUynF\n",
       "5+JF3dIo7wjMP/vM70O2y74lZ1927kMvhNTgYAX/k2/eAR/R3ou4O2hoWEcEy/Xhoou2juBYLIZg\n",
       "GebFbEqG9roYNg5x00s29PnV3LzQC/z4JUrzyOjo8e0FytIEG3uFRmR3d6DJ6w8wqaz5mLo7JnhL\n",
       "WJHd2ko0t5KGiBeVaWvuO8JTUByV3/zpOz2Tz9enmK7dseixzVSCFKRbt7EYqMtJB8ZVnFnu459L\n",
       "gdp1yjy2WkIDsseEXC8WkaN1wHldeKfIa3y13jOZ6iAwpfqQ0wJ2KebtmeXLApKODqh9dWgNKF49\n",
       "S66tjOLdraW0IkjuahWnnYm7yDTvAmzA3BMK800kFYxfoD6TcNB0gWQntG/VHkTNnNDJH4D0SPC8\n",
       "xhAqL+CNsT+A4vEQNONsRewRVbHBwIxaSpJyMlSk6MZ6DDjzoyIYtszIEG9HxTAKOGUQcTDmtIwL\n",
       "suVmBjskmREb6bTaVZ5YfwopyXpfTPMVYvAC6GOfgvxIK29Fdi9U7fvaiNptwaIsn7QWIkfwSOLo\n",
       "nva7JWi1XnhZ+YuuPLiBF7dt2pj5Os2iUPXrYLp+qbNTJfISdnIDXBSZQICMzEboa2jZtEBv9AWN\n",
       "yitIzaZ0S/L2szUP7u1HkyK4bR1xSBPD2T8TwGcIsAjTkBWCV7xB7heBGtCPMbXJOtddZ7S+kz+H\n",
       "KicQ4Zt6Sints1b183PYnxi6vQDW1bQda9FBxTCN2swtGflubeRAXO5Z7LGIyRLCKuXhljmQU7o+\n",
       "4Q38noYoanTh3jkFDUkG0PZ8dd8r3EhWy5VeBxVQoiyRsovSNuSABrpdhUdezd7J9ObN+x9Pyv/J\n",
       "XVYjqb9qppSwJHo52GBAAAABmkGeykUVLBP/AAGoK9LiDzCiC0fXAlDgDVngWEPGR5eLRo3QnJVh\n",
       "p6V3pYBkzqudPEdhh0w72eZJ3gS4zEnQ+zvtE4SXDj7uim7qc7GYy4vfskv+Kp1N0mofwMRZjODe\n",
       "Y5Uo+O++vqE+w30Y4r49AyxbBENBpifeYaVCp+Qizd7ohjqoHue3jTxQPZ0PLeFw4hAdQtGHYcyE\n",
       "XWEXyrO8vfjDuCrevLASeahSatN0UyofDxSb+XrcEvtiq2FO0cbUO7zgx8bpYtupmMpykkd2oPmX\n",
       "1hdFFRaM6xxyCyTHK9MJ2g108LDyTiHyOtbUdK6XEGFVZB+CL4b4imrk3iKN+5LuNTsBlbHFHPIU\n",
       "d5N3YLoQ2hSgYECt9LxUjoB2t+Zt72vxOrdUDTKy/OhZ5GBm9ph45sHLOXbNtUVZjayr6VFdCxhV\n",
       "opHZlkBFxW5cRtX/EBfKTGv/lTTTHq8D925501/UdGnuyDFBYzGAGOSuBzbbEKocg3Beh0bMsgxZ\n",
       "Vyw1iUJO/mKM+t1z8SnV/ZeqvuE0OD2cq7PUXESNAAAA9gGe6XRBLwACWhzInngDXUoY2iz/1ALA\n",
       "9TQWW6EFevfu5BIgxl0zJc0/T6M57T+2F5zRv9xn8iqXCJ6XAZH27rlxVN5QSTbGD/+YOtRVAC/n\n",
       "4DrFY+7EZd14/2WYE4LXKHWYJPS7KXydtTDjkW7X+eR4tROchrX05WEfe6HIbW1l+Fem6RdMKUUu\n",
       "Odzmc/l28aNNoyAWy5W8GQYkpHku5gtj4VIke3XF9Dx9zvcK2b/10aQG+twQOL5JEtxBiPtz7kW+\n",
       "PGYawLKOSHercTCgfF3VcizTa8mDq1KUJdSjHzNep7+Lwcaoil9d2qMd67pxgsDVD/ElQAAAAO8B\n",
       "nutqQS8AAnu/pQ1lZLbyA0hCPt+AIxo4L2EPGozvYeKs0xffkA/Ri2BfzgGUoKB7gfgoC3iHU+Bq\n",
       "3SedLpQXf3ntBaxrZnaYMZKXltVPyOZtP0VnhdYKcr0Bg0Qa3FJmqQA7Us8QLi9pDli9NLkhij5N\n",
       "Yrwn47u/SHuxkdcNxn2zdcqI74JgTGy5N8uUfmtBTYmKNKEXTGzsCDEod+sjhOV1GTZ9Yq0rV47e\n",
       "el5s1Tg95O1gaIdVdbW71d2m4GRQQDprrvi/XVbgim7J9w5uOc+h1oTu0wqe+g2VptpOKuyk6Ksd\n",
       "B2ZbEAccd16YsAAAARNBmvBJqEFsmUwIL//+2qZYAbT+Lljl/5g5dA3NAPo4iabLxPC9j1UfCfZk\n",
       "memi+VG/vLNVl7OH/vFuikgzLUBo87Ci/eBxAE+XPuI0qM6lFdM1zlbpL7pBlEOn1VoqQ94js9er\n",
       "UB+pHdGnlzjiAVnk//6+/OqFuV2R+Krd9IooZshlvBLvpMY9puF4BOwBZfRmSsxe6vF9lF1CqIgD\n",
       "mqDY18lO1XnyyZQGPsoH/Mn2Tz2/GGD9WoOmy//ynQN/i4M7ENTCxKh5B/nNAvfmFOR3w6maT4p2\n",
       "FPVmIXqC0zI+GdBrSbYpePSQ6W6Q/KdYwhF7XoxGbJJ2Cdxr3pI03IIL0HaEQnGOwDLKEBEoUCbV\n",
       "gvJnpQAAAR1Bnw5FFSwT/wABsg/Q7Drabu/uneqYk02zr4joGKo6DOTUqI7z8fva6rNk6qRsCBy+\n",
       "Ys+J5fFLscEYuJNx1CoyMcjKbADKWZHqY6YQV5rkxGPAcGQ5ManoC6RUVhhfo5u+PLkG2TBnkIuo\n",
       "IVEROmRxsxLwxzPtL4F4Q24jXcO3d6ZrGNIffdfP6BD+x/JWpf1nqcKzYeMsjcdM6fBXb43vC+cz\n",
       "G+0kz8ehzrEu4cOnFbLfSb/6fPAGGn/OoQzbEUcECQrG15VFn768hlVAYn8SzKIZggDK8bI1EoJj\n",
       "1LWXCWdmeZi1z0nfD8Yz7dHZMoQUeR/dj/TcZU+/vJsAdO+lbFcVaKYBfoySY8X/oBqgM7rzyOlJ\n",
       "t9iv+dcH7wMAAADuAZ8tdEEvAAKNkc3IuQ3ZkZaOtSD9PwGczgYdMLl2JwjqySZk4Xzf4SF3ldEE\n",
       "pYr+E8bAVVWnYe40svrbKY1RovJLhGyz3L7DKWfMCoSctAOvjPm/GkNGQNUz/U8ZGlRP/sBh7vOi\n",
       "tMDuijWggQCVeb8dYXBb03a2K+6MUp90ug85ftOu1fRCHAbnczpYdPn02LvlImXA5uCEU6QVBpEm\n",
       "6I5y0reLk7fpBVi5z09mCnmMvUToWYwztPjSiubsUvw/3zlm8XkxuFfHZjaY6kbFr+lUpDU1XOqi\n",
       "Uz1sMeeq60nTO1f5lYliOiqISpDAgQAAAKwBny9qQS8AAeV3RmpJxiPbwAFmk5Q9smq6l04iQwzs\n",
       "3FW/IDchleXHFEGGJKFN0KSHx4PRrp51Na3eXBfLAS61PANJvxkHLkSPqfFwe8oQhqD6RkPW8SCn\n",
       "t/3fqToMjCNLKK4iD97Wb4rpDyystcs+d7zJc/Qjn/3OVNC2iED9xHX04LAs3s/07MC7OUmaTmBt\n",
       "YWgcHlk5cTs90FcPzLkL0nrQVFsVvL+BOWPmAAAAiUGbNEmoQWyZTAgv//7aplgAeiEO3n4K5x53\n",
       "+XWCX65+7WbeI5DXfZZIz/QF6xjN1jln3RgS//jCXaZtOcBdJlgWA2oQDttbGpKFA9masnBTFOzW\n",
       "z+0wK4ItrLW91+1TlsfmAV0FqJHpKdRJ8DVJ31xCeaiFyUwBXJ0ZBN6POj8kucXuA2sC9bjAAAAA\n",
       "hkGfUkUVLBT/AACsKB7eGVQ5Om0SqSVUCNH++DzDOLhN058MvMgSnXr+zSLGzF4JyQnSAgs3aD7g\n",
       "8/Sx/h1atygt5vxcE/9srAF3sHYUiQLyhfrfn5Suvz7S/CMDagNhcdT5fX1GbgWmb5GQOLx28MrI\n",
       "7VqnyERr2fdoZb4PkIRGIruAHZhBAAAAgwGfcXRBLwAB2lKY7Ivr4L3/1VvhEqn2jrZOyAZ/AkH9\n",
       "pqkgLqMJLKciqhi16WWCD/mfKc/aB5nxaK5PLQsXi8iLCKq4x06d2VGLCmS8Ljs8Fr2t4Cdt0DzN\n",
       "BuFpICDbxV3Ec1FvfjYA9m9rkmpolITvSZXQnEbvptJMaNLtpuN/CA5YAAAAYAGfc2pBLwABxEvy\n",
       "ti+xwYqdkJFFW0QwwvUSrgIRInAC0mzEowepUCjZBtup0KglzchzkG/d9EIGTT9STNueIJTUqj9E\n",
       "9zTV6auOKCrytKKsLx/IoNimLTFoAxMYkQ3PgAAAAGdBm3hJqEFsmUwIL//+2qZYAG83kIB/VGyk\n",
       "qQWRLXOWtF/fbqQQ5dMb1paX19AAafKEwtTZjOfffEhx+6CjEFoHlviGuNdWqHmWRlv/psjgu4s4\n",
       "C95aX3lyhAy2fYk2G55YAMq8q+kTAAAAOUGflkUVLBT/AACaVrUwaAt5WDY4AO7LR0Vn/0QOgSFU\n",
       "J66phBM/tntA/Ugs97Fcw9gj75pPZyx1QAAAADMBn7V0QS8AAa9YpONvXmGLGtmLtU8AEfXCuUOG\n",
       "6Zcp5kg409L5RWvqJ8JU/sI0PH44MyEAAAASAZ+3akEvAAADAAADAblTJ2kZAAAAMEGbvEmoQWyZ\n",
       "TAgt//7WpVAAAAMAAEB/SoAA4zbytkLPmxlRdSepvCI/e16gBL6dQAAAABFBn9pFFSwU/wAAAwAA\n",
       "AwACbwAAAA8Bn/l0QS8AAAMAAAMABswAAAAPAZ/7akEvAAADAAADAAbNAAAAOUGb4EmoQWyZTAgt\n",
       "//7WpVAAoX82z3oAAE2/YfAC6NsKp9Tq2L9gt+mk4uRn9ZnlUnA88z9TyVdPQQAAABFBnh5FFSwU\n",
       "/wAAAwAAAwACbgAAAA8Bnj10QS8AAAMAAAMABswAAAAPAZ4/akEvAAADAAADAAbNAAAAMkGaJEmo\n",
       "QWyZTAgr//7WpVAAAAMAAEB/GW08zoAAG9P/b160t68XT9aH5gUnzeCiotnAAAAAEUGeQkUVLBT/\n",
       "AAADAAADAAJvAAAADwGeYXRBLwAAAwAAAwAGzAAAAA8BnmNqQS8AAAMAAAMABs0AAAAXQZpnSahB\n",
       "bJlMCCX//rUqgAAAAwAADakAAAARQZ6FRRUsE/8AAAMAAAMABI0AAAAPAZ6makEvAAADAAADAAbN\n",
       "AAAFB21vb3YAAABsbXZoZAAAAAAAAAAAAAAAAAAAA+gAAE4gAAEAAAEAAAAAAAAAAAAAAAABAAAA\n",
       "AAAAAAAAAAAAAAAAAQAAAAAAAAAAAAAAAAAAQAAAAAAAAAAAAAAAAAAAAAAAAAAAAAAAAAAAAAAA\n",
       "AAIAAAQxdHJhawAAAFx0a2hkAAAAAwAAAAAAAAAAAAAAAQAAAAAAAE4gAAAAAAAAAAAAAAAAAAAA\n",
       "AAABAAAAAAAAAAAAAAAAAAAAAQAAAAAAAAAAAAAAAAAAQAAAAAJYAAABkAAAAAAAJGVkdHMAAAAc\n",
       "ZWxzdAAAAAAAAAABAABOIAAAQAAAAQAAAAADqW1kaWEAAAAgbWRoZAAAAAAAAAAAAAAAAAAAQAAA\n",
       "BQAAVcQAAAAAAC1oZGxyAAAAAAAAAAB2aWRlAAAAAAAAAAAAAAAAVmlkZW9IYW5kbGVyAAAAA1Rt\n",
       "aW5mAAAAFHZtaGQAAAABAAAAAAAAAAAAAAAkZGluZgAAABxkcmVmAAAAAAAAAAEAAAAMdXJsIAAA\n",
       "AAEAAAMUc3RibAAAALRzdHNkAAAAAAAAAAEAAACkYXZjMQAAAAAAAAABAAAAAAAAAAAAAAAAAAAA\n",
       "AAJYAZAASAAAAEgAAAAAAAAAAQAAAAAAAAAAAAAAAAAAAAAAAAAAAAAAAAAAAAAAAAAAABj//wAA\n",
       "ADJhdmNDAWQAFv/hABlnZAAWrNlAmDPl4QAAAwABAAADAAQPFi2WAQAGaOvjyyLAAAAAHHV1aWRr\n",
       "aEDyXyRPxbo5pRvPAyPzAAAAAAAAABhzdHRzAAAAAAAAAAEAAAAoAAAgAAAAABRzdHNzAAAAAAAA\n",
       "AAEAAAABAAABSGN0dHMAAAAAAAAAJwAAAAEAAEAAAAAAAQAAoAAAAAABAABAAAAAAAEAAAAAAAAA\n",
       "AQAAIAAAAAABAACgAAAAAAEAAEAAAAAAAQAAAAAAAAABAAAgAAAAAAEAAKAAAAAAAQAAQAAAAAAB\n",
       "AAAAAAAAAAEAACAAAAAAAQAAoAAAAAABAABAAAAAAAEAAAAAAAAAAQAAIAAAAAABAACgAAAAAAEA\n",
       "AEAAAAAAAQAAAAAAAAABAAAgAAAAAAEAAKAAAAAAAQAAQAAAAAABAAAAAAAAAAEAACAAAAAAAQAA\n",
       "oAAAAAABAABAAAAAAAEAAAAAAAAAAQAAIAAAAAABAACgAAAAAAEAAEAAAAAAAQAAAAAAAAABAAAg\n",
       "AAAAAAEAAKAAAAAAAQAAQAAAAAABAAAAAAAAAAEAACAAAAAAAQAAgAAAAAACAAAgAAAAABxzdHNj\n",
       "AAAAAAAAAAEAAAABAAAAKAAAAAEAAAC0c3RzegAAAAAAAAAAAAAAKAAADXEAAAQtAAAA7wAAAFcA\n",
       "AACMAAAE3AAAAf4AAAEIAAABIQAAA4AAAAGeAAAA+gAAAPMAAAEXAAABIQAAAPIAAACwAAAAjQAA\n",
       "AIoAAACHAAAAZAAAAGsAAAA9AAAANwAAABYAAAA0AAAAFQAAABMAAAATAAAAPQAAABUAAAATAAAA\n",
       "EwAAADYAAAAVAAAAEwAAABMAAAAbAAAAFQAAABMAAAAUc3RjbwAAAAAAAAABAAAALAAAAGJ1ZHRh\n",
       "AAAAWm1ldGEAAAAAAAAAIWhkbHIAAAAAAAAAAG1kaXJhcHBsAAAAAAAAAAAAAAAALWlsc3QAAAAl\n",
       "qXRvbwAAAB1kYXRhAAAAAQAAAABMYXZmNTcuNDEuMTAw\n",
       "\">\n",
       "  Your browser does not support the video tag.\n",
       "</video>"
      ],
      "text/plain": [
       "<IPython.core.display.HTML object>"
      ]
     },
     "execution_count": 177,
     "metadata": {},
     "output_type": "execute_result"
    }
   ],
   "source": [
    "size = 20\n",
    "canvas = np.zeros((size+2,size+2))\n",
    "import random\n",
    "import copy\n",
    "canvas[random.randint(3,size-3)][random.randint(3,size-3)]=1\n",
    "\n",
    "def diffuseColor(canvas1):\n",
    "    if sum(sum(canvas1))== size**2:\n",
    "        return canvas1\n",
    "    canvas = copy.copy(canvas1)\n",
    "    for i in range(size+1):\n",
    "        for j in range(size+1):\n",
    "            if canvas[i][j]==1:\n",
    "                if i > 1: \n",
    "                    canvas1[i-1][j] = 1  \n",
    "                if i < size : \n",
    "                    canvas1[i+1][j] = 1\n",
    "                    \n",
    "                if j > 1: \n",
    "                    canvas1[i][j-1] = 1  \n",
    "                if j < size : \n",
    "                    canvas1[i][j+1] = 1\n",
    "    return canvas1\n",
    " \n",
    "\n",
    "fig, ax = plt.subplots()\n",
    "\n",
    "def init():\n",
    "    ax.imshow(canvas,interpolation='none',cmap='RdBu') \n",
    "    return ax\n",
    "def animate(i): \n",
    "    diffuseColor(canvas)\n",
    "    ax.imshow(canvas,interpolation='none',cmap='RdBu') \n",
    "    return ax\n",
    "\n",
    "anim = animation.FuncAnimation(fig, animate, init_func=init,\n",
    "                               frames=2*size, interval=500)\n",
    "plt.close(anim._fig)\n",
    "HTML(anim.to_html5_video())"
   ]
  },
  {
   "cell_type": "markdown",
   "metadata": {},
   "source": [
    "## 8.11 number of ways to represent n cents using quarters, dimes, nickels, pennies"
   ]
  },
  {
   "cell_type": "code",
   "execution_count": 7,
   "metadata": {
    "collapsed": false,
    "scrolled": true
   },
   "outputs": [
    {
     "name": "stdout",
     "output_type": "stream",
     "text": [
      "the number of ways to makeup 15 cent is 6\n"
     ]
    }
   ],
   "source": [
    "def coinWays(n):\n",
    "    ans = 0 \n",
    "    if n >= 25:\n",
    "        for q1 in range(n/25+1):\n",
    "            for d1 in range((n-q1*25)/10+1):\n",
    "                for k1 in range((n-q1*25-d1*10)/5+1):  \n",
    "                    ans += 1 \n",
    "    elif n >= 10:\n",
    "        for d1 in range((n)/10+1):\n",
    "                for k1 in range((n-d1*10)/5+1):  \n",
    "                    ans += 1 \n",
    "    elif n >= 5:\n",
    "        for k1 in range((n)/5+1):  \n",
    "                    ans += 1 \n",
    "    else:\n",
    "        return 1\n",
    "    \n",
    "    return ans\n",
    "\n",
    "n = 15\n",
    "print 'the number of ways to makeup', n,'cent is',coinWays(n) "
   ]
  },
  {
   "cell_type": "markdown",
   "metadata": {},
   "source": [
    "## 8.12 eight queens"
   ]
  },
  {
   "cell_type": "code",
   "execution_count": 10,
   "metadata": {
    "collapsed": false
   },
   "outputs": [],
   "source": [
    "import numpy as np\n",
    "import copy\n",
    "size = 8\n",
    "board = np.zeros((size, size))\n",
    "ans = []\n",
    "\n",
    "def eightQueens(board1, ans, r=0): \n",
    "    for c in range(size):\n",
    "        board = copy.copy(board1)\n",
    "        if board[r][c] == 0: \n",
    "            board[r][c] = 1 \n",
    "            for rr in range(r+1, size):\n",
    "                board[rr][c] = -1\n",
    "                if c - (rr - r) >= 0:\n",
    "                    board[rr][c - (rr - r)] = -1\n",
    "                if c + (rr - r) < size:\n",
    "                    board[rr][c + (rr - r)] = -1\n",
    "                    \n",
    "            if r == size - 1: \n",
    "                for i in range(size):\n",
    "                    for j in range(size):\n",
    "                        if board[i][j] == -1:\n",
    "                            board[i][j] = 0 \n",
    "                ans.append(board) \n",
    "            else:\n",
    "                eightQueens(board, ans, r+1)\n",
    "            "
   ]
  },
  {
   "cell_type": "code",
   "execution_count": 11,
   "metadata": {
    "collapsed": false
   },
   "outputs": [],
   "source": [
    "eightQueens(board, ans)"
   ]
  },
  {
   "cell_type": "code",
   "execution_count": 12,
   "metadata": {
    "collapsed": false
   },
   "outputs": [
    {
     "name": "stdout",
     "output_type": "stream",
     "text": [
      "92\n"
     ]
    }
   ],
   "source": [
    "print len(ans)\n",
    "# according to https://en.wikipedia.org/wiki/Eight_queens_puzzle\n",
    "# there should be 92. Many of them are rotation symmetric to each other"
   ]
  },
  {
   "cell_type": "code",
   "execution_count": 4,
   "metadata": {
    "collapsed": false
   },
   "outputs": [],
   "source": [
    "import matplotlib\n",
    "import matplotlib.pyplot as plt\n",
    "%matplotlib inline"
   ]
  },
  {
   "cell_type": "code",
   "execution_count": 175,
   "metadata": {
    "collapsed": false
   },
   "outputs": [
    {
     "name": "stdout",
     "output_type": "stream",
     "text": [
      "showing 4 out of 92 of possible confi\n"
     ]
    },
    {
     "data": {
      "image/png": "[encoded data removed]",
      "text/plain": [
       "<matplotlib.figure.Figure at 0x10a577310>"
      ]
     },
     "metadata": {},
     "output_type": "display_data"
    },
    {
     "data": {
      "image/png": "[encoded data removed]",
      "text/plain": [
       "<matplotlib.figure.Figure at 0x10ac45f50>"
      ]
     },
     "metadata": {},
     "output_type": "display_data"
    },
    {
     "data": {
      "image/png": "[encoded data removed]",
      "text/plain": [
       "<matplotlib.figure.Figure at 0x106533d10>"
      ]
     },
     "metadata": {},
     "output_type": "display_data"
    },
    {
     "data": {
      "image/png": "[encoded data removed]",
      "text/plain": [
       "<matplotlib.figure.Figure at 0x1070a0a90>"
      ]
     },
     "metadata": {},
     "output_type": "display_data"
    },
    {
     "data": {
      "image/png": "[encoded data removed]",
      "text/plain": [
       "<matplotlib.figure.Figure at 0x109e60450>"
      ]
     },
     "metadata": {},
     "output_type": "display_data"
    },
    {
     "data": {
      "image/png": "[encoded data removed]",
      "text/plain": [
       "<matplotlib.figure.Figure at 0x1066c3e90>"
      ]
     },
     "metadata": {},
     "output_type": "display_data"
    },
    {
     "data": {
      "image/png": "[encoded data removed]",
      "text/plain": [
       "<matplotlib.figure.Figure at 0x106d30650>"
      ]
     },
     "metadata": {},
     "output_type": "display_data"
    },
    {
     "data": {
      "image/png": "[encoded data removed]",
      "text/plain": [
       "<matplotlib.figure.Figure at 0x109ee7050>"
      ]
     },
     "metadata": {},
     "output_type": "display_data"
    },
    {
     "data": {
      "image/png": "[encoded data removed]",
      "text/plain": [
       "<matplotlib.figure.Figure at 0x109f656d0>"
      ]
     },
     "metadata": {},
     "output_type": "display_data"
    },
    {
     "data": {
      "image/png": "[encoded data removed]",
      "text/plain": [
       "<matplotlib.figure.Figure at 0x106c021d0>"
      ]
     },
     "metadata": {},
     "output_type": "display_data"
    },
    {
     "data": {
      "image/png": "[encoded data removed]",
      "text/plain": [
       "<matplotlib.figure.Figure at 0x106110790>"
      ]
     },
     "metadata": {},
     "output_type": "display_data"
    },
    {
     "data": {
      "image/png": "[encoded data removed]",
      "text/plain": [
       "<matplotlib.figure.Figure at 0x10aac2ad0>"
      ]
     },
     "metadata": {},
     "output_type": "display_data"
    },
    {
     "data": {
      "image/png": "[encoded data removed]",
      "text/plain": [
       "<matplotlib.figure.Figure at 0x107649390>"
      ]
     },
     "metadata": {},
     "output_type": "display_data"
    },
    {
     "data": {
      "image/png": "[encoded data removed]",
      "text/plain": [
       "<matplotlib.figure.Figure at 0x10a4a4e50>"
      ]
     },
     "metadata": {},
     "output_type": "display_data"
    },
    {
     "data": {
      "image/png": "[encoded data removed]",
      "text/plain": [
       "<matplotlib.figure.Figure at 0x109efbb50>"
      ]
     },
     "metadata": {},
     "output_type": "display_data"
    },
    {
     "data": {
      "image/png": "[encoded data removed]",
      "text/plain": [
       "<matplotlib.figure.Figure at 0x10a9d9050>"
      ]
     },
     "metadata": {},
     "output_type": "display_data"
    },
    {
     "data": {
      "image/png": "[encoded data removed]",
      "text/plain": [
       "<matplotlib.figure.Figure at 0x109096110>"
      ]
     },
     "metadata": {},
     "output_type": "display_data"
    },
    {
     "data": {
      "image/png": "[encoded data removed]",
      "text/plain": [
       "<matplotlib.figure.Figure at 0x10806cd50>"
      ]
     },
     "metadata": {},
     "output_type": "display_data"
    },
    {
     "data": {
      "image/png": "[encoded data removed]",
      "text/plain": [
       "<matplotlib.figure.Figure at 0x106744590>"
      ]
     },
     "metadata": {},
     "output_type": "display_data"
    },
    {
     "data": {
      "image/png": "[encoded data removed]",
      "text/plain": [
       "<matplotlib.figure.Figure at 0x1080dfcd0>"
      ]
     },
     "metadata": {},
     "output_type": "display_data"
    },
    {
     "data": {
      "image/png": "[encoded data removed]",
      "text/plain": [
       "<matplotlib.figure.Figure at 0x109646b10>"
      ]
     },
     "metadata": {},
     "output_type": "display_data"
    },
    {
     "data": {
      "image/png": "[encoded data removed]",
      "text/plain": [
       "<matplotlib.figure.Figure at 0x106749690>"
      ]
     },
     "metadata": {},
     "output_type": "display_data"
    },
    {
     "data": {
      "image/png": "[encoded data removed]",
      "text/plain": [
       "<matplotlib.figure.Figure at 0x1092e9f90>"
      ]
     },
     "metadata": {},
     "output_type": "display_data"
    }
   ],
   "source": [
    "print 'showing 4 out of 92 of possible confi'\n",
    "cmaps =  ['Blues', 'BuGn', 'BuPu', 'gist_yarg',\\\n",
    "         'GnBu', 'Greens', 'Greys', 'Oranges', 'OrRd',\\\n",
    "         'PuBu', 'PuBuGn', 'PuRd', 'Purples', 'RdPu',\\\n",
    "         'Reds', 'YlGn', 'YlGnBu', 'YlOrBr', 'YlOrRd']\n",
    "\n",
    "\n",
    "for i in range(0,len(ans),4):\n",
    "    fig, (ax1, ax2, ax3, ax4) = plt.subplots(1,4)  \n",
    "    ax1.imshow(ans[i],interpolation='none',cmap=cmaps[random.randint(0,len(cmaps)-1)]) \n",
    "    ax2.imshow(ans[i+1],interpolation='none',cmap=cmaps[random.randint(0,len(cmaps)-1)]) \n",
    "    ax3.imshow(ans[i+2],interpolation='none',cmap=cmaps[random.randint(0,len(cmaps)-1)]) \n",
    "    ax4.imshow(ans[i+3],interpolation='none',cmap=cmaps[random.randint(0,len(cmaps)-1)]) \n",
    "    plt.show()"
   ]
  },
  {
   "cell_type": "markdown",
   "metadata": {},
   "source": [
    "## 8.13 stack a stack of boxes from small to large so that the total height is maximized"
   ]
  },
  {
   "cell_type": "code",
   "execution_count": 35,
   "metadata": {
    "collapsed": false
   },
   "outputs": [],
   "source": [
    "import random\n",
    "box = set()\n",
    "for i in range(20):\n",
    "    h = random.randint(1,100)\n",
    "    w = random.randint(1,100)\n",
    "    d = random.randint(1,100)\n",
    "    box.add((w,d, h))"
   ]
  },
  {
   "cell_type": "code",
   "execution_count": 37,
   "metadata": {
    "collapsed": false
   },
   "outputs": [
    {
     "name": "stdout",
     "output_type": "stream",
     "text": [
      "the boxes are (width, depth, height)\n"
     ]
    },
    {
     "data": {
      "text/plain": [
       "{(2, 6, 1),\n",
       " (12, 25, 54),\n",
       " (20, 62, 63),\n",
       " (32, 74, 14),\n",
       " (44, 100, 66),\n",
       " (45, 84, 73),\n",
       " (47, 15, 86),\n",
       " (47, 71, 29),\n",
       " (48, 83, 97),\n",
       " (50, 24, 5),\n",
       " (50, 84, 62),\n",
       " (58, 38, 65),\n",
       " (66, 44, 83),\n",
       " (76, 71, 5),\n",
       " (79, 67, 60),\n",
       " (82, 15, 41),\n",
       " (94, 32, 92),\n",
       " (97, 79, 22),\n",
       " (98, 16, 20),\n",
       " (100, 20, 69)}"
      ]
     },
     "execution_count": 37,
     "metadata": {},
     "output_type": "execute_result"
    }
   ],
   "source": [
    "stack =[]\n",
    "memo = [0]\n",
    "found_stack = []\n",
    "import copy\n",
    "\n",
    "def _tupleCompare(t1,t2):\n",
    "    (a1,a2,a3) = t1\n",
    "    (b1,b2,b3) = t2\n",
    "    if a1 < b1 and a2 < b2 and a3 < b3:\n",
    "        return True\n",
    "    return False\n",
    "\n",
    "def stackBoxes(box, stack_pass, memo, found_stack):\n",
    "    \n",
    "    \n",
    "    stack = copy.copy(stack_pass)\n",
    "    flag = 0\n",
    "    for b in box: \n",
    "        if len(stack)!=0 and _tupleCompare(b, stack[-1]):\n",
    "            flag = 1\n",
    "            stackBoxes(box, stack + [b], memo, found_stack)\n",
    "        if len(stack)==0:\n",
    "            flag = 1\n",
    "            stackBoxes(box, stack + [b], memo, found_stack)\n",
    "                    \n",
    "    if flag == 0:\n",
    "        heigh = 0\n",
    "        for s in stack:\n",
    "            (w,d,h) = s\n",
    "            heigh += h\n",
    "        if heigh > memo[0]:\n",
    "            memo[0] = heigh \n",
    "            for i in range(len(found_stack)):\n",
    "                found_stack[i] = stack_pass[i] \n",
    "            for i in range(len(found_stack), len(stack_pass)):\n",
    "                found_stack.append(stack_pass[i])      \n",
    "\n",
    "print 'the boxes are (width, depth, height)'\n",
    "box"
   ]
  },
  {
   "cell_type": "code",
   "execution_count": 38,
   "metadata": {
    "collapsed": false
   },
   "outputs": [
    {
     "name": "stdout",
     "output_type": "stream",
     "text": [
      "the max height is 215\n",
      "the stack of boxes: [(48, 83, 97), (20, 62, 63), (12, 25, 54), (2, 6, 1)]\n"
     ]
    }
   ],
   "source": [
    "stackBoxes(box, stack, memo, found_stack)\n",
    "print 'the max height is',memo[0]\n",
    "print 'the stack of boxes:',found_stack"
   ]
  },
  {
   "cell_type": "markdown",
   "metadata": {},
   "source": [
    "## 8.14 boolean evaluation"
   ]
  },
  {
   "cell_type": "code",
   "execution_count": 51,
   "metadata": {
    "collapsed": false
   },
   "outputs": [],
   "source": [
    "def countEval(exp, boo) :\n",
    "    if len(exp)==1 or len(exp)==3:\n",
    "        if eval(exp)==boo:\n",
    "            return 1\n",
    "        else:\n",
    "            return 0\n",
    "    count = 0\n",
    "    for i in range(1,len(exp),2):\n",
    "        left = exp[:i]\n",
    "        op = exp[i]\n",
    "        right = exp[i+1:] \n",
    "        \n",
    "        if op == '&':\n",
    "            if boo == True:\n",
    "                count += countEval(left, True) * countEval(right, True)\n",
    "            else:\n",
    "                count += countEval(left, False) * countEval(right, True) + \\\n",
    "                            countEval(left, True) * countEval(right, False) +\\\n",
    "                    countEval(left, False) * countEval(right, False) \n",
    "                    \n",
    "        if op == '|':\n",
    "            if boo == False:\n",
    "                count += countEval(left, False) * countEval(right, False)\n",
    "            else:\n",
    "                count += countEval(left, True) * countEval(right, True) +\\\n",
    "                        countEval(left, True) * countEval(right, False)+\\\n",
    "                        countEval(left, False) * countEval(right, True)\n",
    "        \n",
    "        if op == '^':\n",
    "            if boo == True:\n",
    "                count += countEval(left, False) * countEval(right, True) +\\\n",
    "                       countEval(left, True) * countEval(right, False)\n",
    "            else:\n",
    "                count += countEval(left, True) * countEval(right, True) +\\\n",
    "                        countEval(left, False) * countEval(right, False)\n",
    "    \n",
    "    return count"
   ]
  },
  {
   "cell_type": "code",
   "execution_count": 52,
   "metadata": {
    "collapsed": false
   },
   "outputs": [
    {
     "name": "stdout",
     "output_type": "stream",
     "text": [
      "2\n"
     ]
    }
   ],
   "source": [
    "exp = '1^0|0|1'\n",
    "print countEval(exp, False)\n"
   ]
  },
  {
   "cell_type": "code",
   "execution_count": 53,
   "metadata": {
    "collapsed": false
   },
   "outputs": [
    {
     "name": "stdout",
     "output_type": "stream",
     "text": [
      "10\n"
     ]
    }
   ],
   "source": [
    "exp = '0&0&0&1^1|0'\n",
    "print countEval(exp, True)"
   ]
  }
 ],
 "metadata": {
  "kernelspec": {
   "display_name": "Python 2",
   "language": "python",
   "name": "python2"
  },
  "language_info": {
   "codemirror_mode": {
    "name": "ipython",
    "version": 2
   },
   "file_extension": ".py",
   "mimetype": "text/x-python",
   "name": "python",
   "nbconvert_exporter": "python",
   "pygments_lexer": "ipython2",
   "version": "2.7.11"
  }
 },
 "nbformat": 4,
 "nbformat_minor": 0
}
