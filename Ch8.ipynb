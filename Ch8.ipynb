{
 "cells": [
  {
   "cell_type": "markdown",
   "metadata": {},
   "source": [
    "# Chapter 8 Recursion and Dynamic Programming\n",
    "\n",
    "from Gayle Laakmann McDowell's \"Cracking the Coding Interview\", 6th ed.\n",
    "\n",
    "Ron Wu"
   ]
  },
  {
   "cell_type": "markdown",
   "metadata": {},
   "source": [
    "## 8.1 hop stairs with 3 possible hops 1, 2, 3 stairs at once"
   ]
  },
  {
   "cell_type": "code",
   "execution_count": 1,
   "metadata": {
    "collapsed": false
   },
   "outputs": [
    {
     "data": {
      "text/plain": [
       "274"
      ]
     },
     "execution_count": 1,
     "metadata": {},
     "output_type": "execute_result"
    }
   ],
   "source": [
    "def numberPossibleHops(n):\n",
    "    memo = {1:1, 2:2, 3:4}\n",
    "    return _numberPossibleHops(n, memo)\n",
    "    \n",
    "def _numberPossibleHops(n, memo):\n",
    "    if n<=0:\n",
    "        return 0\n",
    "    if n not in memo:\n",
    "        memo[n] = _numberPossibleHops(n-1,memo)+\\\n",
    "                _numberPossibleHops(n-2,memo)+_numberPossibleHops(n-3,memo)\n",
    "        \n",
    "    return memo[n]\n",
    "\n",
    "numberPossibleHops(10)"
   ]
  },
  {
   "cell_type": "markdown",
   "metadata": {},
   "source": [
    "## 8.2 robot in grid "
   ]
  },
  {
   "cell_type": "code",
   "execution_count": 2,
   "metadata": {
    "collapsed": false
   },
   "outputs": [],
   "source": [
    "r = 6\n",
    "c = 6\n",
    "import random\n",
    "r_block = random.randint(1,r)\n",
    "c_block = random.randint(1,c)\n",
    "block =set()\n",
    "for i in range(r_block):\n",
    "    for j in range(c_block):\n",
    "        block.add((random.randint(1,r), random.randint(1,r)))\n",
    "block = block - set([(1,1),(r,c)])\n"
   ]
  },
  {
   "cell_type": "code",
   "execution_count": 3,
   "metadata": {
    "collapsed": false
   },
   "outputs": [
    {
     "name": "stdout",
     "output_type": "stream",
     "text": [
      "inaccessible blocks:\n"
     ]
    },
    {
     "data": {
      "text/plain": [
       "{(1, 2),\n",
       " (1, 3),\n",
       " (1, 6),\n",
       " (2, 2),\n",
       " (2, 4),\n",
       " (2, 5),\n",
       " (2, 6),\n",
       " (3, 2),\n",
       " (3, 3),\n",
       " (4, 1),\n",
       " (4, 2),\n",
       " (4, 5),\n",
       " (5, 4),\n",
       " (5, 5),\n",
       " (6, 1),\n",
       " (6, 2),\n",
       " (6, 3)}"
      ]
     },
     "execution_count": 3,
     "metadata": {},
     "output_type": "execute_result"
    }
   ],
   "source": [
    "import copy\n",
    "def findAPath(s, path, e, block):\n",
    "    if path == None:\n",
    "        return None\n",
    "    if e in path:\n",
    "        return path\n",
    "    mypath = copy.copy(path)  \n",
    "    (x,y) = s \n",
    "    (ex, ey) =e\n",
    "    if x < ex: \n",
    "        if (x+1,y) not in block:\n",
    "            p = findAPath((x+1,y), mypath +[(x+1,y)],e, block)  \n",
    "            if p != None and e in p:  \n",
    "                return p\n",
    "    \n",
    "    if y < ey:\n",
    "        if (x,y+1) not in block:\n",
    "            p = findAPath((x,y+1), mypath + [(x,y+1)],e,block) \n",
    "            if p != None and e in p:  \n",
    "                return p\n",
    "\n",
    "    return None\n",
    "\n",
    "s = (1,1)\n",
    "e = (r,c)\n",
    "path = [s]\n",
    "print 'inaccessible blocks:'\n",
    "block"
   ]
  },
  {
   "cell_type": "code",
   "execution_count": 4,
   "metadata": {
    "collapsed": false
   },
   "outputs": [
    {
     "name": "stdout",
     "output_type": "stream",
     "text": [
      "there is no path\n"
     ]
    }
   ],
   "source": [
    "ip = findAPath(s, path, e,block)\n",
    "if ip == None:\n",
    "    print 'there is no path'\n",
    "else:\n",
    "    print ip"
   ]
  },
  {
   "cell_type": "markdown",
   "metadata": {},
   "source": [
    "## 8.3 find index of sorted array such that A[i]=i"
   ]
  },
  {
   "cell_type": "code",
   "execution_count": 5,
   "metadata": {
    "collapsed": false
   },
   "outputs": [
    {
     "name": "stdout",
     "output_type": "stream",
     "text": [
      "[(-7, 0), (-3, 1), (-3, 2), (1, 3), (1, 4), (1, 5), (2, 6), (2, 7), (5, 8), (5, 9)]\n"
     ]
    }
   ],
   "source": [
    "import random\n",
    "size = 10\n",
    "A = [0]*size\n",
    "r = 0\n",
    "for i in range(len(A)):\n",
    "    r = random.randint(r , 4 + r)\n",
    "    A[i] = r - len(A)\n",
    "print zip(A, [x  for x in range(size)])"
   ]
  },
  {
   "cell_type": "code",
   "execution_count": 6,
   "metadata": {
    "collapsed": false,
    "scrolled": true
   },
   "outputs": [
    {
     "name": "stdout",
     "output_type": "stream",
     "text": [
      "cannot find magic index\n"
     ]
    }
   ],
   "source": [
    "#this code works for both distinct or non distinct array\n",
    "def findMagicIndex(A,s=0):\n",
    "    if len(A) == 0:\n",
    "        return None\n",
    "    if len(A) == 1:\n",
    "        if s == A[0]:  \n",
    "            return s\n",
    "        else:\n",
    "            return None \n",
    "    j = len(A)/2 \n",
    "     \n",
    "    if A[j] == j + s :  \n",
    "        return j + s\n",
    "    if A[j] > j + s: \n",
    "        return findMagicIndex(A[:j],s)\n",
    "     \n",
    "    return findMagicIndex(A[j+1:],s + j + 1) \n",
    "\n",
    "\n",
    "ans = findMagicIndex(A)\n",
    "if  ans== None:\n",
    "    print 'cannot find magic index'\n",
    "else:\n",
    "    print 'the magic index is',ans"
   ]
  },
  {
   "cell_type": "markdown",
   "metadata": {},
   "source": [
    "## 8.4 return the power set of a set"
   ]
  },
  {
   "cell_type": "code",
   "execution_count": 7,
   "metadata": {
    "collapsed": false
   },
   "outputs": [
    {
     "name": "stdout",
     "output_type": "stream",
     "text": [
      "[[1], [2], [1, 2], [3], [1, 3], [2, 3], [1, 2, 3], [4], [1, 4], [2, 4], [1, 2, 4], [3, 4], [1, 3, 4], [2, 3, 4], [1, 2, 3, 4], []]\n",
      "len: 16 , which should be 2**4\n"
     ]
    }
   ],
   "source": [
    "S = [1,2,3,4]\n",
    "P = []\n",
    "def powerSet(S, P):\n",
    "    for s in S: \n",
    "        P_temp = [] \n",
    "        for p in P:  \n",
    "            P_temp.append(p + [s])\n",
    "        P.append([s])\n",
    "        P.extend(P_temp)\n",
    "    return P.append([])\n",
    "\n",
    "powerSet(S, P)\n",
    "print P\n",
    "print 'len:',len(P), ', which should be 2**{}'.format(len(S))"
   ]
  },
  {
   "cell_type": "markdown",
   "metadata": {},
   "source": [
    "## 8.5 recusive multiply"
   ]
  },
  {
   "cell_type": "code",
   "execution_count": 8,
   "metadata": {
    "collapsed": false
   },
   "outputs": [
    {
     "data": {
      "text/plain": [
       "6"
      ]
     },
     "execution_count": 8,
     "metadata": {},
     "output_type": "execute_result"
    }
   ],
   "source": [
    "def multiply(n1, n2):\n",
    "    if n2 <= 0:\n",
    "        return 0\n",
    "    if n1 > n2:\n",
    "        return multiply(n1, n2-1) + n1\n",
    "    else:\n",
    "        return multiply(n2, n1-1) + n2\n",
    "\n",
    "multiply(2,3)"
   ]
  },
  {
   "cell_type": "markdown",
   "metadata": {},
   "source": [
    "## 8.6 Towers of Hanoi"
   ]
  },
  {
   "cell_type": "code",
   "execution_count": 9,
   "metadata": {
    "collapsed": true
   },
   "outputs": [],
   "source": [
    "#copied from my chapter 3 solution ex 3.3\n",
    "class Stacks(object):\n",
    "    def __init__(self):\n",
    "        self.arr = []\n",
    "        self.count = 0 \n",
    "    \n",
    "    def isEmpty(self):\n",
    "        return self.count == 0\n",
    "        \n",
    "    def pop(self):\n",
    "        if self.isEmpty() == False:\n",
    "            self.count  -= 1\n",
    "            e = self.arr[self.count]\n",
    "            self.arr[self.count] = None       \n",
    "            return e\n",
    "    \n",
    "    def peek(self): \n",
    "        if self.isEmpty() == False: \n",
    "            return self.arr[self.count - 1]\n",
    "        \n",
    "    def push(self, data):             \n",
    "        if self.count == len(self.arr): \n",
    "            self.arr.append(data) \n",
    "        else:\n",
    "            self.arr[self.count] = data\n",
    "        self.count += 1 \n",
    "        return "
   ]
  },
  {
   "cell_type": "code",
   "execution_count": 10,
   "metadata": {
    "collapsed": false,
    "scrolled": true
   },
   "outputs": [
    {
     "name": "stdout",
     "output_type": "stream",
     "text": [
      "5 number of rings to start with on stack 1\n",
      "\n",
      "let us play:\n",
      "[5, 4, 3, 2, None] [] [1]\n",
      "[5, 4, 3, None, None] [2] [1]\n",
      "[5, 4, 3, None, None] [2, 1] [None]\n",
      "[5, 4, None, None, None] [2, 1] [3]\n",
      "[5, 4, 1, None, None] [2, None] [3]\n",
      "[5, 4, 1, None, None] [None, None] [3, 2]\n",
      "[5, 4, None, None, None] [None, None] [3, 2, 1]\n",
      "[5, None, None, None, None] [4, None] [3, 2, 1]\n",
      "[5, None, None, None, None] [4, 1] [3, 2, None]\n",
      "[5, 2, None, None, None] [4, 1] [3, None, None]\n",
      "[5, 2, 1, None, None] [4, None] [3, None, None]\n",
      "[5, 2, 1, None, None] [4, 3] [None, None, None]\n",
      "[5, 2, None, None, None] [4, 3] [1, None, None]\n",
      "[5, None, None, None, None] [4, 3, 2] [1, None, None]\n",
      "[5, None, None, None, None] [4, 3, 2, 1] [None, None, None]\n",
      "[None, None, None, None, None] [4, 3, 2, 1] [5, None, None]\n",
      "[1, None, None, None, None] [4, 3, 2, None] [5, None, None]\n",
      "[1, None, None, None, None] [4, 3, None, None] [5, 2, None]\n",
      "[None, None, None, None, None] [4, 3, None, None] [5, 2, 1]\n",
      "[3, None, None, None, None] [4, None, None, None] [5, 2, 1]\n",
      "[3, None, None, None, None] [4, 1, None, None] [5, 2, None]\n",
      "[3, 2, None, None, None] [4, 1, None, None] [5, None, None]\n",
      "[3, 2, 1, None, None] [4, None, None, None] [5, None, None]\n",
      "[3, 2, 1, None, None] [None, None, None, None] [5, 4, None]\n",
      "[3, 2, None, None, None] [None, None, None, None] [5, 4, 1]\n",
      "[3, None, None, None, None] [2, None, None, None] [5, 4, 1]\n",
      "[3, None, None, None, None] [2, 1, None, None] [5, 4, None]\n",
      "[None, None, None, None, None] [2, 1, None, None] [5, 4, 3]\n",
      "[1, None, None, None, None] [2, None, None, None] [5, 4, 3]\n",
      "[1, None, None, None, None] [None, None, None, None] [5, 4, 3, 2]\n",
      "[None, None, None, None, None] [None, None, None, None] [5, 4, 3, 2, 1]\n"
     ]
    }
   ],
   "source": [
    "Hanoi = [Stacks(),Stacks(),Stacks()] \n",
    "\n",
    "A = [1,2,3,4,5]\n",
    "for i in reversed(range(len(A))):\n",
    "    Hanoi[0].push(A[i])\n",
    "     \n",
    "print Hanoi[0].count,'number of rings to start with on stack 1'\n",
    "print '\\nlet us play:'\n",
    "\n",
    "def gameHanoi(Stack_1,Stack_2,Stack_3, rings):\n",
    "    if rings == 0:\n",
    "        return\n",
    "    gameHanoi(Stack_1,Stack_3,Stack_2, rings-1)\n",
    "    \n",
    "    #this line is unnecessary, just to show I didn't cheat\n",
    "    if Stack_3.count == 0 or Stack_1.peek() <  Stack_3.peek(): \n",
    "        Stack_3.push(Stack_1.pop())\n",
    "    \n",
    "    print Hanoi[0].arr, Hanoi[1].arr, Hanoi[2].arr\n",
    "    gameHanoi(Stack_2,Stack_1,Stack_3, rings-1)\n",
    "    \n",
    "    \n",
    "gameHanoi(Hanoi[0],Hanoi[1],Hanoi[2], Hanoi[0].count)    \n"
   ]
  },
  {
   "cell_type": "code",
   "execution_count": 11,
   "metadata": {
    "collapsed": false
   },
   "outputs": [
    {
     "name": "stdout",
     "output_type": "stream",
     "text": [
      "the end of game, stack 3 has: [5, 4, 3, 2, 1]\n"
     ]
    }
   ],
   "source": [
    "print 'the end of game, stack 3 has:',Hanoi[2].arr"
   ]
  },
  {
   "cell_type": "markdown",
   "metadata": {},
   "source": [
    "## 8.7 Permutation of string of unique chars"
   ]
  },
  {
   "cell_type": "code",
   "execution_count": 12,
   "metadata": {
    "collapsed": false
   },
   "outputs": [
    {
     "name": "stdout",
     "output_type": "stream",
     "text": [
      "['dcba', 'cdba', 'cbda', 'cbad', 'dbca', 'bdca', 'bcda', 'bcad', 'dbac', 'bdac', 'badc', 'bacd', 'dcab', 'cdab', 'cadb', 'cabd', 'dacb', 'adcb', 'acdb', 'acbd', 'dabc', 'adbc', 'abdc', 'abcd']\n",
      "24 which shoud be 4!\n"
     ]
    }
   ],
   "source": [
    "def permuteString(s, per): \n",
    "    for l in s: \n",
    "        if len(per)==0:\n",
    "            per.append(l)\n",
    "        else:\n",
    "            temp = [] \n",
    "            for p in per: \n",
    "                for i in range(len(p)+1):\n",
    "                    temp.append(p[:i]+l+p[i:])    \n",
    "            per = temp\n",
    "    return temp\n",
    " \n",
    "\n",
    "s = 'abcd'\n",
    "per = []   \n",
    "p = permuteString(s, per)    \n",
    "print p\n",
    "print len(p), 'which shoud be {}!'.format(len(s))"
   ]
  },
  {
   "cell_type": "markdown",
   "metadata": {},
   "source": [
    "## 8.8 Permutation of string of chars"
   ]
  },
  {
   "cell_type": "code",
   "execution_count": 13,
   "metadata": {
    "collapsed": false
   },
   "outputs": [
    {
     "name": "stdout",
     "output_type": "stream",
     "text": [
      "['cbaa', 'bcaa', 'baca', 'baac', 'caba', 'acba', 'abca', 'abac', 'caab', 'acab', 'aacb', 'aabc']\n",
      "12 which shoud be 4!/2!\n"
     ]
    }
   ],
   "source": [
    "def permuteString(s, per): \n",
    "    for l in s: \n",
    "        if len(per)==0:\n",
    "            per.append(l)\n",
    "        else:\n",
    "            temp = [] \n",
    "            for p in per: \n",
    "                for i in range(len(p)+1):\n",
    "                    if p[:i]+l+p[i:] not in temp:\n",
    "                        temp.append(p[:i]+l+p[i:])    \n",
    "            per = temp\n",
    "    return temp\n",
    " \n",
    "\n",
    "s = 'aabc'\n",
    "ch = {}\n",
    "for ss in s:\n",
    "    if ss in ch:\n",
    "        ch[ss] += 1\n",
    "    else:\n",
    "        ch[ss] = 1\n",
    "st = ''\n",
    "for c in ch:\n",
    "    if ch[c] > 1:\n",
    "        st += '/'+str(ch[c]) + '!'\n",
    "per = []\n",
    "p = permuteString(s, per)    \n",
    "print p\n",
    "print len(p), 'which shoud be {}!{}'.format(len(s),st)"
   ]
  },
  {
   "cell_type": "markdown",
   "metadata": {},
   "source": [
    "## 8.9 print all valid combinations of n paris of parentheses"
   ]
  },
  {
   "cell_type": "code",
   "execution_count": 14,
   "metadata": {
    "collapsed": false
   },
   "outputs": [
    {
     "name": "stdout",
     "output_type": "stream",
     "text": [
      "((()))\n",
      "(()())\n",
      "(())()\n",
      "()(())\n",
      "()()()\n"
     ]
    }
   ],
   "source": [
    "def printParentheses(n, st, used_left = 0, used_right = 0):\n",
    "    if n == used_right:\n",
    "        print st\n",
    "        return\n",
    "    if used_left == 0:\n",
    "         printParentheses(n, '(', 1, 0)\n",
    "    else:\n",
    "        if used_left < n:\n",
    "            printParentheses(n, st + '(', used_left+1, used_right) \n",
    "        if used_right < used_left:\n",
    "            printParentheses(n, st + ')', used_left,used_right+1 )\n",
    "        \n",
    "st = ''\n",
    "n = 3\n",
    "printParentheses(n,st)"
   ]
  },
  {
   "cell_type": "markdown",
   "metadata": {},
   "source": [
    "## 8.10 animation of paint fill the screen"
   ]
  },
  {
   "cell_type": "code",
   "execution_count": 15,
   "metadata": {
    "collapsed": false
   },
   "outputs": [],
   "source": [
    "%matplotlib inline\n",
    "import numpy as np\n",
    "import matplotlib.pyplot as plt\n",
    "from matplotlib import animation, rc\n",
    "from IPython.display import HTML"
   ]
  },
  {
   "cell_type": "code",
   "execution_count": 16,
   "metadata": {
    "collapsed": false
   },
   "outputs": [
    {
     "data": {
      "text/html": [
       "<video width=\"600.0\" height=\"400.0\" controls autoplay loop>\n",
       "  <source type=\"video/mp4\" src=\"data:video/mp4;base64,AAAAHGZ0eXBNNFYgAAACAGlzb21pc28yYXZjMQAAAAhmcmVlAAAlKG1kYXQAAAKuBgX//6rcRem9\n",
       "5tlIt5Ys2CDZI+7veDI2NCAtIGNvcmUgMTQ4IHIyNjk5IGE1ZTA2YjkgLSBILjI2NC9NUEVHLTQg\n",
       "QVZDIGNvZGVjIC0gQ29weWxlZnQgMjAwMy0yMDE2IC0gaHR0cDovL3d3dy52aWRlb2xhbi5vcmcv\n",
       "eDI2NC5odG1sIC0gb3B0aW9uczogY2FiYWM9MSByZWY9MyBkZWJsb2NrPTE6MDowIGFuYWx5c2U9\n",
       "MHgzOjB4MTEzIG1lPWhleCBzdWJtZT03IHBzeT0xIHBzeV9yZD0xLjAwOjAuMDAgbWl4ZWRfcmVm\n",
       "PTEgbWVfcmFuZ2U9MTYgY2hyb21hX21lPTEgdHJlbGxpcz0xIDh4OGRjdD0xIGNxbT0wIGRlYWR6\n",
       "b25lPTIxLDExIGZhc3RfcHNraXA9MSBjaHJvbWFfcXBfb2Zmc2V0PS0yIHRocmVhZHM9MTIgbG9v\n",
       "a2FoZWFkX3RocmVhZHM9MiBzbGljZWRfdGhyZWFkcz0wIG5yPTAgZGVjaW1hdGU9MSBpbnRlcmxh\n",
       "Y2VkPTAgYmx1cmF5X2NvbXBhdD0wIGNvbnN0cmFpbmVkX2ludHJhPTAgYmZyYW1lcz0zIGJfcHly\n",
       "YW1pZD0yIGJfYWRhcHQ9MSBiX2JpYXM9MCBkaXJlY3Q9MSB3ZWlnaHRiPTEgb3Blbl9nb3A9MCB3\n",
       "ZWlnaHRwPTIga2V5aW50PTI1MCBrZXlpbnRfbWluPTIgc2NlbmVjdXQ9NDAgaW50cmFfcmVmcmVz\n",
       "aD0wIHJjX2xvb2thaGVhZD00MCByYz1jcmYgbWJ0cmVlPTEgY3JmPTIzLjAgcWNvbXA9MC42MCBx\n",
       "cG1pbj0wIHFwbWF4PTY5IHFwc3RlcD00IGlwX3JhdGlvPTEuNDAgYXE9MToxLjAwAIAAAAr1ZYiE\n",
       "ABX//vfJ78Cm61tbtb+Tz0j8LLc+wir4ID3AwfsqAAADAAADAAADAPcIbQrpg1VNVMAAAAWLUk/4\n",
       "UxxuAG+5YQBXowtBl3g+vQFmPhQ1pgeO44Vl5FTLxtz/G2ij4uo8TS9uv8IPDOxXAz7NE8iMvubH\n",
       "Z60VeBtKR58CKz3Yx7uRfy0Kq+VkM2Ns+eMD+LNFVL5HzpjpBxoBJOYXbyLMUYKG+2Fwc2hahG5U\n",
       "V2Rm5OIhGN6fWgBlaI8M7pC8CT12XULWqudPy/qdGyMhN8KjPAFDJZEEgY7hnXayx6mG/ekIdoLs\n",
       "8NSLOPADXeIZejcYQrvfr+LpXfDNH39U/SJhA+vfmztkfkcEGXK9b7yC+nZWzIjow+PYYx2jEByo\n",
       "9j3FxggECJhjC8yDaTEhtXnoJeXYnI/XnOgrVSJOa9/4WfmqaHTYRTRq+I+gmnKMo6Gmy8v6Wt47\n",
       "J2t5k2GufgANaLNeEmaWnaU2rFEOlLJumtFAF4bfHjnyVdoxANpuB8tSCjlP9Rg5/ekL+9n2fhGs\n",
       "BKE7zAsgZxDrK+HYwo+uOXw79uU6niwED10Zua8c+u3E/Q6BW9P/HYEOGoIdR38YmS+S9Z3b4fUt\n",
       "ZoXj/wZUXgLv20KQVFnEPaLtbF4qPOnudQ0WthFFTemZ/tvqYyut0qvXr4VcdomOkk3Pl+oH/vjF\n",
       "UaZdfqzd+PAmqBqgH7NS+dBNj8pbBBxlUbB26dztSNowSp/bWqlaKTm5g+9qpnY95RWUiVkuibxj\n",
       "/lGMRNDNH4hJ4hLgfXNT7+IP0fClC/SgyZkv1ozIWVOd5wys3J2jmKF9YYIIvVM84UxGcys2vQ6F\n",
       "3GZP6XIu5DxLja6WRNWgKExj3HQZDmXg00Dt5xGkr3hdW51kXdPi+nPT9fV8SB9qUVzvcAOwhiOp\n",
       "+Mj3pmZ+MDCUS4u/a7wK5Oq0QHcH6SuoNLoqz1xY/r7ezF2Tl8s+GmDQFfNbNbsMYNnAjKSbf0PY\n",
       "5G66nH5kaPWRJWzF/0CR/wM9+Sivy4up1/CSVKsLdbOsBo7/BYdLbJUoHCgcxRv9XDpPg21AZGiE\n",
       "WeFcWmX6fnI8fc3z9GN3RRspKZOBuyZvznuEv2xd31hlQjRWeovgKtLeFQcDwRj1Fgq2L36Y/fvh\n",
       "LBVGXNnz5UHNhYYbDrPg5ezfPPdEm5Fqe9LubQLgJLzSuB82z9HXi0/g+9rmWSG0aHMKnRS7RRlL\n",
       "RStzuCq9nCcyNqilgKprmLbTs9LPgw8M9pAbO09aiG1Odj5Z++e5P8APh5pZ/yuC3yUTpJ/C4/qw\n",
       "fLGzu+6o/cpd4j5z20OeMhDiqLVAVWFe10MFZlf9lNlLHmr0UUi15qLqUKaZtXKdz/3+WQeDJgcA\n",
       "fiCvXlZBERiBUJto5iCF/2SDrPfZuus7w8oFEOubxh0VUcvErpbZ/No9L3pbrf2VxaQJzgn2V57/\n",
       "BKOCrE9b8yOQ+e+srmOq3gKwImlLL6xaVZTpSr5p1846Y168TrM5qf5ubPysL8LFhHJIWop6g16B\n",
       "2MVKHdTZR9QURX7NSRAfYPFBWxmoJp2Ua/rflcgl9Zc1jbcFbQMGQLqRY6kv3mxuZ5t99wH/Xqh7\n",
       "aN/ndvQxHZnLy7A3O3VQcj3iZmgzw48sKbrVgEQl5Pht7ja1RxAhvk+vKMHZjN0tVJXnP2EuDmHs\n",
       "ccQ9TnoFYZQRI1MLbvFD5y0SF0rqa43e8vmzVT6AZkEeKtgWoZ+diO8OT6JefXMJ+N60Yp0m5WXl\n",
       "UiUCVIB0t7tELLjoQWJTwfvHp13/A2BUP3GvnwLDDckU395Bej/OXpBc/q7xNkgYabAg6VEZBaos\n",
       "63nX3mAyrHtwLYADu2pMOLSDbLhTWzj/Z1KMXlcfAtDShdIKLc++QuSCrOsCvkKwL1Ltl57Pau2l\n",
       "n7Nn4nl0luED99XDIbPASApRs+56kOPDbNbpd6OZ/2E01/NEiVYniKiHw1TiG3ksohEN2gze4yKx\n",
       "5v6nYZ+8jOvi99rWKvkApjCPx2N/S+rohgN2fIQ0QgnvtT1Okzw68h8xbz4FOwqiG+qUQuD4+8mb\n",
       "eCvbM6O3x8TSf1Fav8jvw9iyMBVoqrsbh6oP2h9BjPSfpdEe4eRp6jGHi+liFlPTb0eDPBwtzAod\n",
       "dwCP61teqnusQc4tv9bOB4I7Kw531TmaOPb3u5NM7sRgL4U1b94V1DXE7eJVY19/PoawUMZDKz7x\n",
       "b1+3MzjEG45XR0WTChJmKEceDmqKaO18ZN9Q57efCi0cZQv+CHMvSgCHCnqo4NwvNoSGs+FKxUz4\n",
       "mbhb9ZfZuMyP2/ZfjDki48b7VF9oTOWXmYaWmTpRdxP3jyIdKl2A+UzLfvF0+4MDyecosJ1LjJtw\n",
       "19omOsCWz9rW48apHQPvPxWiCafBnf4R53W3dSvwC/lV+kVUP9l94Bkiq2Wce0QKdu4xXeQbu+YS\n",
       "iOHoK6VW4ayMlAJKmqkwumXZvIEglgJaO/PKQYxz4Z4L3eCIOdmhZhkYV3WDk0bFrS2pdcUBweVB\n",
       "6j+i5xFZelieYapA+cwbNzP6GFe8jT5N9Smd2poAjgZtuH9UiW8+FajkF6UR4RMN6m4dvwMwSR3W\n",
       "LTr9iPHu+P2p3WAi3Bjpa1tCsRD5QPscvtcwnVIQ47/C3QVBb2kcZw+xcKTP6C1ndE2kDNib35QI\n",
       "dSlBIS9TFQYaBmFeaZFzbZw4g/aBEvEUbzdZEEqs/OpnQ05lWQ00a3DM6SiYsHqDWqFX0CrzFnum\n",
       "YhYkoKVZ9NX8PYODxMdV6/5cMskcYnk28G/FQrpW5gTxnQABKjZ63hraxdSxXbEcyymdnRYtTlG9\n",
       "ReoBO/velN+XY0a8ewiCFW4u+CkcClHkf4mIdykzN3hNGXTWmREfWqeptMLu1hd7zdF0IVoiy3PB\n",
       "rDiHXT+hRgy+aQkx9iKY4t3UulB7/sM7c2q21qBO8aSLfe4E3f/yVm1t/sbP5PS1Kj3SHvxIR06/\n",
       "vbcfy6eW4+fPK6VopqajsKf9COFNQgTEn/iD/DB5FAsu5z/1EhW2RGxjPowY5As7tViOXTuk8Xm4\n",
       "zgfyajD/qi8LLFuH8h5vrcTxjsJvy3pczcAYhex97zfN5OQVARP0GVR8SNopPzqFiins19xy76qV\n",
       "6Oj3iDs4RSeQDRDWyYkfQTnSaK73fkRHy8jgSwzKU0+KrkTn5sQcO/JzWlfC1nPjtxeUI0ey9H2n\n",
       "knVA8sapCfaJQMVBnBUahd91ZnL7jYgtp9XIVSkwBJownmvzbX1hfj0woMZITcLx7ozWRsK+9Vft\n",
       "+NJU6+Zucj42v2T1DmUMFdyEp5xQozMZJvqAFV9dGD2EF4ELX0TFSTiG/4SKBcrd2+9Q3y17nVCK\n",
       "MM+WKjvIM4UNrIR1z+22o35/gB8EgEidk1pTBbusP90jxVvFMBThqF+xr2vhZ1P73KHOhi2YC/1S\n",
       "i9GAu/HEXSdgke4PnWWLCgoHXjlnCju89f4OXbxBCAGEYkjiAg23g92djCnAP0Xuho2V+mhB7GgS\n",
       "9m6it/WewsP5VLntCsrUwRD43xIlwqiY6xgNfNdDn7ue0Xf4cl5e+lbh1B4WCg/3XZhgcyZcEeg9\n",
       "7WUxGWTEzzFid39gYFB4ceO8Qw5WM3jvJ1/xE5Vd06LrGqTZFQu+jc3ZQ0KvbpvgJev8X6+ueweL\n",
       "Vbzdj78WQo6vMdJ8R0Jmy2SaZQjYPLw2bZrmTQ7oU+jgnn7O06uRfoj0KEchJGVUl56gehx4ABMj\n",
       "dwAwnEosAAZtAAAD2UGaJGxBT/7WjLADeaFMQCT+WXVqzWcjwyHtB8v8lhH7ajPgN0sr4NdrhtAV\n",
       "2patDvhQ2qJbOwy6++kUEckv8osbR6bKaNR1eaPGZQFi//+BxDBDmfEhcFdxY8JuOxZ0lICz4Zj0\n",
       "ZmUuU6rm1hpWlNhGSmKCOofI89PQthg49eiPtMWt8n9vFDyq0t/iNM8e0Qt4rh2G9VnWTyjhGw3m\n",
       "glgCpMVzmmNMslt7yUu9NLocnqyhnW0+6JvXas7qqThPTW1vBuyX7LLzKPQnN80nOXHWBWSZV81a\n",
       "QEqwn5g/jyloICDlz10ydK9SmQSSt8vpFhTwaw0O7Pkzxiz6DIixP8VTuDrxwjcv4Nx016A8uSex\n",
       "mNVHD0q1p7epxQMNxlZtUugct6lqFgX/MxjXMXPTKMp3ycHk5TwVlcmofhzrZJWi3Nqwbt/Udh3i\n",
       "a2V1e+NWqab67HohwL+WDNsMPQ2L5rWdiNvvcbBJ2/Mv39mqqjrCYPL+sLvh1ml3gl5IZXP8LIEk\n",
       "uCySSYxGNBBhOq8LUmNcVxdWngrv1HeiaZbubcY2fzmifo9BcBOPQdD4hskZrLEnPsIKCvLGIPUz\n",
       "ndQ8qaIBWz9I77VOZ+AX/rfhCh+YK+uN7F8qBDDtS86y+zM4i2/8t/PmC4B++jw6bXaLm+4ygoJZ\n",
       "Xh773IrPD2j+ldhLK/7YzeCi/U+pgrTpruYuZ9fSqwaQP65uKmDcZQ+s8gdAxW4UWS9Lmwauecr/\n",
       "vWxDSzVW38PRzwNfaxo00OlY0CDlBtgf1DjCatIUmUoRZdeswKjTfNd+U1vxCZ42laVjhoPqeBbQ\n",
       "+nTvHNqjo2PpFROLpqlqnu/r12k81S9bj3SMf+j6VrjoR9Eq3Svef9LTgmQfZzjJBRpMy2u1zmej\n",
       "E9K+dJopGaCzldMRCeUV1w4EJTOgtinQmYeJqAD8Sgzl84LVwcMj2Gvy7rGZaSwkK6N8XuFRlebh\n",
       "2Tf/nBMvzIeinGV9nxVk7Up6QtVMBAPrMrtp4ioKAb6X6RD+0Dq1SbXncsDvxlRmV8EpDiZxqtqr\n",
       "PGnMpHW2hHycpNVmO3+VdwGcazEZrUNxk+WG4IQhw/pP96mDaDGr5YzjhkB6oX2Qp5Udqsn9DYEg\n",
       "yVpCFA41GZxVIivXYIXoay844hU17QbbkFV0ArpuKhbHSeFJG1pwPvH5h0l5ZYDX8n7dxvBVPxyP\n",
       "yyI/p/P77VvIQ0E9RK0YYXk0wCzaCqLp5A8ePf9ouzLaEDbyyUlRFs4jDbxh3t5SDBUFi/mzFVpY\n",
       "4SIq1kasNjm6vD+jqq9V4/8CajcVPh7iOtCv2cAAAADGQZ5CeIKfAAC+bSBYNkiWGQDqlMeFiRLG\n",
       "+CyI/PQQCVtLNn6+suFl4S4VuiZgykMt/GNJKlBW5mtNmjgzN3TVKW9Qa0z4Oh6AvYnqdcZ3ATaV\n",
       "6Ru/QmsRb+rTS7cp/4xu5DPUm+02rOLAcdGg5ALWYO3xa0IXpLP0hkTMpiJNysYp20RFRgWnJdjX\n",
       "XLBV8cpTtMlM1au6Z0xch5HS3V9epmP7aezYjEDA34aMSEny3itwHsYY1UnW8ltiwPA6l9cyBvo+\n",
       "8JiDAAAAWAGeYXRBLwAARUvPxgHMvJM0rbDcjzfAja2IOkJfwxIsirKZVHs8QGT01mJPwmVvyH+Q\n",
       "J/l1BTanUaihsTFc5ITv1V/FqNvFNlb8BZp8HaF4cQO+wMSUTWgAAACYAZ5jakEvAAIKT+RUeutx\n",
       "wLaUfaRc1+RlGCe2GZEtyQjpVdN211PUoAsBuXDyTRFvU7wPtkzMuJQTvrF6fu/ng1+3hrsFZ34C\n",
       "5N6yTPG6qxKUIsmG25DJYpdHiI3U3/MHmoYM+HwzCz5JJR/X+hmH/MvhVAX5MV26ywtI0KnnyaD9\n",
       "0RNbyC5FrQW57ZX/Uu5RE9vH7HJu4m8AAAFbQZpoSahBaJlMCCv//talUAFcKO53n8qVGC+5n40U\n",
       "MEt2fVO38BLi3/GOGWq2qAZj8NaWzmvI2IABrcpzuprew7rkbM6QPs1WGcmJ99YmWaDlHqPIKBam\n",
       "NGbADsf+RCKLZrlfa7ATuba6P3fCTJOxL2npTxhnXYMeKPrgngw2N42T23eSLHmksWvX0MpR10C9\n",
       "+uN66sUS8HYyllTkxkP8hwlwOfQ57OxgzEtJBw0oaVR/htiLHA9vtfyzJzoSbjZhNS+/9M5HNEST\n",
       "o4A9MsC7TmLG8JnwnOCY7JCUk38F7E6TezgXFcQ3yFVKa59uYBLQI45W5TsACZcGpkD1uZobORam\n",
       "f2qgiW9loEnkqnp5Sd8aZIZ8BuwoVYS7Hxl3EWM3wF7qMeydg0xGC6WnzcSjUqQUrAz/sKGFtAq7\n",
       "Z5eUyMkKpM7tN9KtLdGylgxNjYhF5oYn7kXZg2vwCykAAAFmQZ6GRREsFP8AAL5j87ByFdcVV9vd\n",
       "zzrOamUYUPSpwbwKCgDh5D3gPXFxI8wlr9N/akaVWv4skQcxlCxNHrNehdb48ejfXn6wEQI4w6dR\n",
       "VX158Gu0aZvv0lb3isQAo1v1VAoGc12eoV9bRzDFaY0/if5liOesGPp8OaU0R3yXk7vHE//2nuPk\n",
       "gF8gbytrdP8BqsS9ZV2zmgeZBPrnJ5qhEXJI16UPUByYrChoWDqM78qqdt8TX89faEYaq2mLzVQT\n",
       "fgiQqTPNCt/67V7etleJPbI/k1AnzSbTatTF2/h5YIoFmN/KH/sUo8ZX12sfTWvDMuRkK64YwRwH\n",
       "0ekPJyFfcaWqW2ivdGGeqIvyo+PKBSoWNENW0bGKRKY1X28P5wMq+r9bBN37l9Gc/0/oGf8i2B3u\n",
       "U/DO74lOVydYhfDb1WKw55y0VtSKWtxMekZfuiim5CqjoGDuwWsrLcgzXGuhmKulhhSI+QAAAOAB\n",
       "nqV0QS8AAgoh5DMyT8qO2f/Ih/EGBpmC6JBMVHplbzCCsm3TlvwmipmE3pa9KqRytTqaQ+yuYyGH\n",
       "TQBd83zOfHE9VqCBftpd2LgOj8N5l0iMHxULKx6U7yUYt4qsB6vQ0JlXnHbGVdGfZpTi24B6G3RC\n",
       "mIwLJGjtnbbaoxOWb5MGzvqVByA63KTvjpsZSsBLtzVviliEJJ3ocA6dWcQRX58d9uywGRZngsHo\n",
       "rAq2z2OKImQWuGRwojW+2ybUXb5upFa/2Glv663zE1ydo5KI3Kf9XRLTG4AFDCYWD1AXcQAAAJgB\n",
       "nqdqQS8AAftyPYaytKmzNpfxZ96Lwfshf0OOr8qMF5ofAiWypKEZiJrgOCwnEuA5bWf8yAYaFEE7\n",
       "lrs/QU3TVj+CIZvDzeY0LQrqCTsqHlQdR9W8hwvO5VMzy6m+rBMbfXAL4tqcjfYDoqjeI2X9aQbB\n",
       "SBbBhg8hzXZ0zrUSHqx9bG0dxkaKQYdTBzn7t0AFCUvmB5fDPgAAAUtBmqxJqEFsmUwIKf/+1oyw\n",
       "AspNwk1DYlUBq94WIMU6l7mIRSAqIAQFm2FfrwrI55GeGkmAWhNFnBEt5Jjmg1TkhJUX4qrQGXOH\n",
       "OewwElKTt06BjEJcboO8QadihPHLIP7+p+VSINBlIVEfHnTAqkmC7C9W6shW7u6rH3p3pkQqhp+f\n",
       "hDNdaI/FaKfKvLeDlDsIVEAEFJPCOnxAOqb/Y4YNujEQ/5A+j8OjLvqVINJ5pXTQthO/4FoKnwvS\n",
       "xUhD0Swc0eFiZOe7/pdZ0P0dgRs5FNLtcWQoy+HQ1stJun83v2PZZJ1RMI3fMPEOqHIL6hRW9YE2\n",
       "cLtdv2dILEWO8y8JaFNkPfmeY3UtjHkU27D2lyEgdiGEkjTViSYR5G0ZeUJlCaQTA0qyJDhJIoyS\n",
       "S4xbuxrfKIIK8nW08UlY5lkTFirbDO+Gg+fgmkeoAAABB0GeykUVLBP/AAGAK9LicMFIuyRXdIFD\n",
       "PpMla2lK7xxX4BXBy02AsZAlI6BCPTz1fY57wkbg4klNgvaS6f3djCY6Y5k+EkSkszWbGG7uZxtw\n",
       "n5q9Rsf206g9g6gSbv4aNAPawkAc3BaNtX45gh7q7TmflSGYoC/zpBn4h7uzhChW8cpo4S82hxTg\n",
       "oggOI24P5ul1KeKdFFqjXih5ygU8Gqf7p0eZWrNodkAxjytCHSBi3f/bzzkblJBJwh7uvNVfiEMS\n",
       "CsK2o02gqd0Tp/NleGok5N90IiawYCtqzrLnxFlvt6LGQH+eLUt9GQNUI91u7ywL7uDXb8XMFixt\n",
       "CxeAs1sx0ZKsOErBAAAAvgGe6XRBLwACGkdKYKR8IZO+vjB40N7rbtSNgw+rwX6yHPeutpw31X5O\n",
       "VZwMWr5ZTlnp3lQxSQRAQKnIT3gnFiLInJIPRETlof7UDk/968zdhULWP4vlxkdsLHzYfdPaNXmu\n",
       "wFUkH3x5shNjUZCr8cjffJiKdUA61DOdcA00yptXuyzt4Cgp/uaSLTC91UjHCfLXYUXi7Q6KXz8X\n",
       "RyGzAK61V/tM5MJPXX/PcXtTgFDAkvMp+tISo37wBXT0d0AAAAC1AZ7rakEvAAI6T6UwUkAFRvkQ\n",
       "gZ+q5h4lOviAOtlGNocuJc+xXVgnyoZzz5aAq5dET7hwlUcBd+qR8AivYwAmxeg8G45z5tiFlglK\n",
       "WeIQ+bkiyjxv1yQS6ZJJZixY/90iCRMoM+Uy2jKOeWD4Wa6GiHaZbd6zeqx8vof3ZRHgiH3mbx+T\n",
       "dMFEoHuN0+2rkXmGESAaqCp+L5B4hYiunovhhn9/ncq0zINqvsPpUX26hGO2Xo5DugAAARVBmvBJ\n",
       "qEFsmUwIKf/+1oywA2VmfJAEaxRfg7s8HQ15IbGsQi9ds19ZbYKG6T+Kp8jjQLkM2U67z7eTK7K9\n",
       "TaRn68bSMvxxBEKlcdNHKwZ0BiOw6iyqD57P+JbAu0aeP7TabmNOzC2DBfXSqmrvzdAmaN2519IN\n",
       "gJ5EXxts4egAb7MIgAbZjkgtchg4wKHdOFTQUiQ7Py/JxtWNc1L6meKQzV9F3D2kLmhFiyC0PKAJ\n",
       "Sydq1e4Vy2WxoS3cn+DscU0KoenLnN+YdPFFQCAN0+7FPSoYl1+yw3Okl66k/debxzlndFLPaqCe\n",
       "ipqAfnlOjWgJbc5y8OIfpraeTRkEYvJZjJAHtq/gzYUr7C03KhC2N0Dw4DlBAAABaEGfDkUVLBP/\n",
       "AAGeK9LWNmVPPblmcncyc8uQXcox3+BagDxdUTDzgPcvXWlFRXwJviQUtBVE+x25K4yhY86AGcn/\n",
       "cq81Fd2sZJZ9gAFdUKsO+H4SpXjsZFFEUnZMgge2FuS/wHxaVU4FzLRgBGkmkJQY66cBu+AYcCAp\n",
       "zZKp7xQIVdbPUbOInv/06X58vwJa17ERVNnihIsGE4UjYoJ218MZ8a2E8n/U0DEuphD66Gvn/Kss\n",
       "wZhmvlSO2t4QfcFw28PT1B/HWrW3nSptwrW3Bl442kf+C9uZVKbKsw5cX/z0OqwTBkwQ4YTFEkj/\n",
       "Ejdln0aE3JX6fkAikAo9eMdtFXJQqELpTm+EbDZ2cgGlEctJKMRWgooWvVObudU0pu2FQIM8mlbh\n",
       "t4zlr7X6DXk9kt6XrqEiBbSBY65HUrf+DlJNFFzhZjEQtwzlIVxd9q0TNWU3wCNjdEQqitKm2J/A\n",
       "9+q/B3bMPMg3oQAAAOUBny10QS8ABc760NgYm7vneqrlZK4ydFEbSOIT+lk5NiTDkwkFGhPjXLQ7\n",
       "eM21wFRKKvTP+WmADdO1SfSdiaPy9kfy5nhgqbCM7DWz8pvcaigPAeHao4uDlR6Shz5TY3uels4B\n",
       "1TH/EpevPIE0lu0pS1EwDgWBHC4fVW7h8NzIskQYDVXADIzbL0RBzidaTqKcfpgJk74rS4u2gvkB\n",
       "QNqenlH44rkj/BJiY8Jq+VUd/hzhH9AKDts5wT9UurrzRqI1mLpevY5ZBkvYPVlrTM4ZC7s8vrLI\n",
       "MTTEFpnKfyGwkjf2B3+BAAAAtwGfL2pBLwACak+lDWVpU2ZjAFoOFc352Yxz80gAY0WOhD08fyXv\n",
       "G/Sa4YUK1Uq0kCWaOCy1tGZtHNBrA+kk8MxaO8cAoF3Aa4E5XrMG2zU/Y5y79PO6UHpwVXItynKK\n",
       "D9h+F4SJAJqSHgjDQL1uJmJsZhZMC5GwBHa6oRSrceTosnaxw8DeM9/gYBnGeTyccVKjTFaecB+M\n",
       "sPiW8xtcawRm2MPclNMxTIhohBbPOv8B9R4J9y4j/AAAANdBmzRJqEFsmUwIL//+2qZYAbT+LOUd\n",
       "KXPTRF0EJAeUburrmcRMAtgi0UPiM1QA+c8831uBDHBRFe7UpUHbjMnK+5O/6Cic7kDGOu/MeI5p\n",
       "meXbKfS/+H6GBXn4Xv+lY53m4jRSlMaGLRgG8UxODpwd0hop7eYhRCBvVfjjj4DRbO2BwLQamNAJ\n",
       "pz8xFPYfIbmh2rzJkh8xiKL7WQIT3jI5mpCQm0hb/n25n0ZoEcXL+lpzCuF/rKfW8qoY+QXe5HY3\n",
       "j0CZhwdqXoiMUbjiQ/7PRWRG0RszggAAAHZBn1JFFSwT/wABsg/Q6hE4wNeoQaxfAVdv1Ew89AFn\n",
       "BWDmUFapH1FVqoEDwVT3ZElutffm/M0tMANIJzRUvgSRv9Vo1f2AESTaC8LGn9RsCf5nRJ8JPQQm\n",
       "NnQ7o+qAz93SvGlfBXoJAVn/aMlOrIbNQx4nHA1JAAAAeQGfcXRBLwACjbdKGrF7CRvmIHVb+xs5\n",
       "GFGDk9r/7xa/98M5Ka4G7GLsgCtUH+LGam56O5ZbaFw+HEzlu8AtelbVeNU3a3vRj1P6cL2i5ymK\n",
       "RwnKkl8SkxsvYT7NnwmT8GhogxIR8ssyQMPBYmgkDxMu3Z+hf3RP8ZQAAABgAZ9zakEvAAADAAmQ\n",
       "NOR0YAT7nvaKx4oHQVa+zd7trKLr2Yx+fDQYCMu8leLX7srRRpaSeEB2t9k1xunYNreArm/emNqB\n",
       "TuZsrKHtSG/OUqb+VmBDBXwrojEfQ1dkZRMwAAAAakGbeEmoQWyZTAgv//7aplgBst5EHqfESAFj\n",
       "/EQQAfv7J7uO9zOhiFEz5a8Stk2sWAWb+LZdZI2rIBBtdq6UpdYdSaIu04Yn7UZzovkftL2AMozk\n",
       "tfN2v3JXevrF2iOa9KPfNvx4+mQAMqEAAABJQZ+WRRUsFP8AAAMAAU9QIoACFXARmX0rkcwtNbKW\n",
       "NIxMd0jtKIcteFRmh4OL/gzXehtrrnn6qJuMMtmTs76kdBJxRzuR8zp/8wAAAE8Bn7V0QS8AAAMA\n",
       "A56lMmQVUnASwdSMTTr+aoE61ATUdtTQtNpKhLTbpMh7BlET6UulTY30wlVL/oKuirLdGImvLSG2\n",
       "atZHAfm87t++xp2BAAAAPAGft2pBLwAAAwAAgoXtAAKaF+G0V82XPaET+ixyWdZlYgG4OCMKTgPt\n",
       "RsB4+lGLWmm4yqfOklJIqDgjFwAAAEtBm7xJqEFsmUwILf/+1qVQAAADAO6urT77n/RxCaluW30g\n",
       "Xs5VIAiwjH04lDv59fRMOsB7Q5vO0YIhDxJHmYGU91L81+YmaoTUoTgAAAApQZ/aRRUsFP8AAAMA\n",
       "AAa7IPcCgFIABC6yoff/Z5vx5iQ54I08Mol27DkAAAAmAZ/5dEEvAAADAAAS0Q5uQIDW+IMgASgn\n",
       "S/Jo/PU3I3bQuP7Ft6wAAAAYAZ/7akEvAAADAAADArGIHTrmnOdJ5lf9AAAAPEGb4EmoQWyZTAgt\n",
       "//7WpVAAAAMAIj/Dje9tn7SYASy3pVPqdao+iCCkh9WctpMQTptlzUNrokjZ9O/PWwAAABVBnh5F\n",
       "FSwU/wAAAwAAAwAfrWSzC8AAAAASAZ49dEEvAAADAAADAFqyO0aMAAAAEgGeP2pBLwAAAwAAAwBa\n",
       "t/tmjQAAADFBmiRJqEFsmUwIK//+1qVQAAADAABAfxltPM6AABvULFqrq97AEU39RUfWxY0fTamA\n",
       "AAAAFUGeQkUVLBT/AAADAAADAB+tZLMLwQAAABIBnmF0QS8AAAMAAAMAWrI7RowAAAASAZ5jakEv\n",
       "AAADAAADAFq3+2aNAAAAF0GaZ0moQWyZTAgl//61KoAAAAMAAA2pAAAAFUGehUUVLBP/AAADAAAD\n",
       "ADukQAY0gQAAABIBnqZqQS8AAAMAAAMAWrf7Zo0AAAUHbW9vdgAAAGxtdmhkAAAAAAAAAAAAAAAA\n",
       "AAAD6AAATiAAAQAAAQAAAAAAAAAAAAAAAAEAAAAAAAAAAAAAAAAAAAABAAAAAAAAAAAAAAAAAABA\n",
       "AAAAAAAAAAAAAAAAAAAAAAAAAAAAAAAAAAAAAAAAAgAABDF0cmFrAAAAXHRraGQAAAADAAAAAAAA\n",
       "AAAAAAABAAAAAAAATiAAAAAAAAAAAAAAAAAAAAAAAAEAAAAAAAAAAAAAAAAAAAABAAAAAAAAAAAA\n",
       "AAAAAABAAAAAAlgAAAGQAAAAAAAkZWR0cwAAABxlbHN0AAAAAAAAAAEAAE4gAABAAAABAAAAAAOp\n",
       "bWRpYQAAACBtZGhkAAAAAAAAAAAAAAAAAABAAAAFAABVxAAAAAAALWhkbHIAAAAAAAAAAHZpZGUA\n",
       "AAAAAAAAAAAAAABWaWRlb0hhbmRsZXIAAAADVG1pbmYAAAAUdm1oZAAAAAEAAAAAAAAAAAAAACRk\n",
       "aW5mAAAAHGRyZWYAAAAAAAAAAQAAAAx1cmwgAAAAAQAAAxRzdGJsAAAAtHN0c2QAAAAAAAAAAQAA\n",
       "AKRhdmMxAAAAAAAAAAEAAAAAAAAAAAAAAAAAAAAAAlgBkABIAAAASAAAAAAAAAABAAAAAAAAAAAA\n",
       "AAAAAAAAAAAAAAAAAAAAAAAAAAAAAAAAGP//AAAAMmF2Y0MBZAAW/+EAGWdkABas2UCYM+XhAAAD\n",
       "AAEAAAMABA8WLZYBAAZo6+PLIsAAAAAcdXVpZGtoQPJfJE/FujmlG88DI/MAAAAAAAAAGHN0dHMA\n",
       "AAAAAAAAAQAAACgAACAAAAAAFHN0c3MAAAAAAAAAAQAAAAEAAAFIY3R0cwAAAAAAAAAnAAAAAQAA\n",
       "QAAAAAABAACgAAAAAAEAAEAAAAAAAQAAAAAAAAABAAAgAAAAAAEAAKAAAAAAAQAAQAAAAAABAAAA\n",
       "AAAAAAEAACAAAAAAAQAAoAAAAAABAABAAAAAAAEAAAAAAAAAAQAAIAAAAAABAACgAAAAAAEAAEAA\n",
       "AAAAAQAAAAAAAAABAAAgAAAAAAEAAKAAAAAAAQAAQAAAAAABAAAAAAAAAAEAACAAAAAAAQAAoAAA\n",
       "AAABAABAAAAAAAEAAAAAAAAAAQAAIAAAAAABAACgAAAAAAEAAEAAAAAAAQAAAAAAAAABAAAgAAAA\n",
       "AAEAAKAAAAAAAQAAQAAAAAABAAAAAAAAAAEAACAAAAAAAQAAoAAAAAABAABAAAAAAAEAAAAAAAAA\n",
       "AQAAIAAAAAABAACAAAAAAAIAACAAAAAAHHN0c2MAAAAAAAAAAQAAAAEAAAAoAAAAAQAAALRzdHN6\n",
       "AAAAAAAAAAAAAAAoAAANqwAAA90AAADKAAAAXAAAAJwAAAFfAAABagAAAOQAAACcAAABTwAAAQsA\n",
       "AADCAAAAuQAAARkAAAFsAAAA6QAAALsAAADbAAAAegAAAH0AAABkAAAAbgAAAE0AAABTAAAAQAAA\n",
       "AE8AAAAtAAAAKgAAABwAAABAAAAAGQAAABYAAAAWAAAANQAAABkAAAAWAAAAFgAAABsAAAAZAAAA\n",
       "FgAAABRzdGNvAAAAAAAAAAEAAAAsAAAAYnVkdGEAAABabWV0YQAAAAAAAAAhaGRscgAAAAAAAAAA\n",
       "bWRpcmFwcGwAAAAAAAAAAAAAAAAtaWxzdAAAACWpdG9vAAAAHWRhdGEAAAABAAAAAExhdmY1Ny40\n",
       "MS4xMDA=\n",
       "\">\n",
       "  Your browser does not support the video tag.\n",
       "</video>"
      ],
      "text/plain": [
       "<IPython.core.display.HTML object>"
      ]
     },
     "execution_count": 16,
     "metadata": {},
     "output_type": "execute_result"
    }
   ],
   "source": [
    "size = 20\n",
    "canvas = np.zeros((size+2,size+2))\n",
    "import random\n",
    "import copy\n",
    "canvas[random.randint(3,size-3)][random.randint(3,size-3)]=1\n",
    "\n",
    "def diffuseColor(canvas1):\n",
    "    if sum(sum(canvas1))== size**2:\n",
    "        return canvas1\n",
    "    canvas = copy.copy(canvas1)\n",
    "    for i in range(size+1):\n",
    "        for j in range(size+1):\n",
    "            if canvas[i][j]==1:\n",
    "                if i > 1: \n",
    "                    canvas1[i-1][j] = 1  \n",
    "                if i < size : \n",
    "                    canvas1[i+1][j] = 1\n",
    "                    \n",
    "                if j > 1: \n",
    "                    canvas1[i][j-1] = 1  \n",
    "                if j < size : \n",
    "                    canvas1[i][j+1] = 1\n",
    "    return canvas1\n",
    " \n",
    "\n",
    "fig, ax = plt.subplots()\n",
    "\n",
    "def init():\n",
    "    ax.imshow(canvas,interpolation='none',cmap='RdBu') \n",
    "    return ax\n",
    "def animate(i): \n",
    "    diffuseColor(canvas)\n",
    "    ax.imshow(canvas,interpolation='none',cmap='RdBu') \n",
    "    return ax\n",
    "\n",
    "anim = animation.FuncAnimation(fig, animate, init_func=init,\n",
    "                               frames=2*size, interval=500)\n",
    "plt.close(anim._fig)\n",
    "HTML(anim.to_html5_video())"
   ]
  },
  {
   "cell_type": "markdown",
   "metadata": {},
   "source": [
    "## 8.11 number of ways to represent n cents using quarters, dimes, nickels, pennies"
   ]
  },
  {
   "cell_type": "code",
   "execution_count": 17,
   "metadata": {
    "collapsed": false,
    "scrolled": true
   },
   "outputs": [
    {
     "name": "stdout",
     "output_type": "stream",
     "text": [
      "the number of ways to makeup 15 cent is 6\n"
     ]
    }
   ],
   "source": [
    "def coinWays(n):\n",
    "    ans = 0 \n",
    "    if n >= 25:\n",
    "        for q1 in range(n/25+1):\n",
    "            for d1 in range((n-q1*25)/10+1):\n",
    "                for k1 in range((n-q1*25-d1*10)/5+1):  \n",
    "                    ans += 1 \n",
    "    elif n >= 10:\n",
    "        for d1 in range((n)/10+1):\n",
    "                for k1 in range((n-d1*10)/5+1):  \n",
    "                    ans += 1 \n",
    "    elif n >= 5:\n",
    "        for k1 in range((n)/5+1):  \n",
    "                    ans += 1 \n",
    "    else:\n",
    "        return 1\n",
    "    \n",
    "    return ans\n",
    "\n",
    "n = 15\n",
    "print 'the number of ways to makeup', n,'cent is',coinWays(n) "
   ]
  },
  {
   "cell_type": "markdown",
   "metadata": {},
   "source": [
    "## 8.12 eight queens"
   ]
  },
  {
   "cell_type": "code",
   "execution_count": 18,
   "metadata": {
    "collapsed": false
   },
   "outputs": [],
   "source": [
    "import numpy as np\n",
    "import copy\n",
    "size = 8\n",
    "board = np.zeros((size, size))\n",
    "ans = []\n",
    "\n",
    "def eightQueens(board1, ans, r=0): \n",
    "    for c in range(size):\n",
    "        board = copy.copy(board1)\n",
    "        if board[r][c] == 0: \n",
    "            board[r][c] = 1 \n",
    "            for rr in range(r+1, size):\n",
    "                board[rr][c] = -1\n",
    "                if c - (rr - r) >= 0:\n",
    "                    board[rr][c - (rr - r)] = -1\n",
    "                if c + (rr - r) < size:\n",
    "                    board[rr][c + (rr - r)] = -1\n",
    "                    \n",
    "            if r == size - 1: \n",
    "                for i in range(size):\n",
    "                    for j in range(size):\n",
    "                        if board[i][j] == -1:\n",
    "                            board[i][j] = 0 \n",
    "                ans.append(board) \n",
    "            else:\n",
    "                eightQueens(board, ans, r+1)\n",
    "            "
   ]
  },
  {
   "cell_type": "code",
   "execution_count": 19,
   "metadata": {
    "collapsed": false
   },
   "outputs": [],
   "source": [
    "eightQueens(board, ans)"
   ]
  },
  {
   "cell_type": "code",
   "execution_count": 20,
   "metadata": {
    "collapsed": false
   },
   "outputs": [
    {
     "name": "stdout",
     "output_type": "stream",
     "text": [
      "92\n"
     ]
    }
   ],
   "source": [
    "print len(ans)\n",
    "# according to https://en.wikipedia.org/wiki/Eight_queens_puzzle\n",
    "# there should be 92. Many of them are rotation symmetric to each other"
   ]
  },
  {
   "cell_type": "code",
   "execution_count": 21,
   "metadata": {
    "collapsed": false
   },
   "outputs": [],
   "source": [
    "import matplotlib\n",
    "import matplotlib.pyplot as plt\n",
    "%matplotlib inline"
   ]
  },
  {
   "cell_type": "code",
   "execution_count": 22,
   "metadata": {
    "collapsed": false
   },
   "outputs": [
    {
     "name": "stdout",
     "output_type": "stream",
     "text": [
      "showing all 92 of possible configurations\n"
     ]
    },
    {
     "data": {
      "image/png": "[encoded data removed]",
      "text/plain": [
       "<matplotlib.figure.Figure at 0x102fe3910>"
      ]
     },
     "metadata": {},
     "output_type": "display_data"
    },
    {
     "data": {
      "image/png": "[encoded data removed]",
      "text/plain": [
       "<matplotlib.figure.Figure at 0x10359fe90>"
      ]
     },
     "metadata": {},
     "output_type": "display_data"
    },
    {
     "data": {
      "image/png": "[encoded data removed]",
      "text/plain": [
       "<matplotlib.figure.Figure at 0x1032e05d0>"
      ]
     },
     "metadata": {},
     "output_type": "display_data"
    },
    {
     "data": {
      "image/png": "[encoded data removed]",
      "text/plain": [
       "<matplotlib.figure.Figure at 0x1038e6f10>"
      ]
     },
     "metadata": {},
     "output_type": "display_data"
    },
    {
     "data": {
      "image/png": "[encoded data removed]",
      "text/plain": [
       "<matplotlib.figure.Figure at 0x103c3ef10>"
      ]
     },
     "metadata": {},
     "output_type": "display_data"
    },
    {
     "data": {
      "image/png": "[encoded data removed]",
      "text/plain": [
       "<matplotlib.figure.Figure at 0x103fbbe10>"
      ]
     },
     "metadata": {},
     "output_type": "display_data"
    },
    {
     "data": {
      "image/png": "[encoded data removed]",
      "text/plain": [
       "<matplotlib.figure.Figure at 0x1033dd790>"
      ]
     },
     "metadata": {},
     "output_type": "display_data"
    },
    {
     "data": {
      "image/png": "[encoded data removed]",
      "text/plain": [
       "<matplotlib.figure.Figure at 0x1031ecd50>"
      ]
     },
     "metadata": {},
     "output_type": "display_data"
    },
    {
     "data": {
      "image/png": "[encoded data removed]",
      "text/plain": [
       "<matplotlib.figure.Figure at 0x103699b10>"
      ]
     },
     "metadata": {},
     "output_type": "display_data"
    },
    {
     "data": {
      "image/png": "[encoded data removed]",
      "text/plain": [
       "<matplotlib.figure.Figure at 0x104301050>"
      ]
     },
     "metadata": {},
     "output_type": "display_data"
    },
    {
     "data": {
      "image/png": "[encoded data removed]",
      "text/plain": [
       "<matplotlib.figure.Figure at 0x104228650>"
      ]
     },
     "metadata": {},
     "output_type": "display_data"
    },
    {
     "data": {
      "image/png": "[encoded data removed]",
      "text/plain": [
       "<matplotlib.figure.Figure at 0x103ebb190>"
      ]
     },
     "metadata": {},
     "output_type": "display_data"
    },
    {
     "data": {
      "image/png": "[encoded data removed]",
      "text/plain": [
       "<matplotlib.figure.Figure at 0x103a4af10>"
      ]
     },
     "metadata": {},
     "output_type": "display_data"
    },
    {
     "data": {
      "image/png": "[encoded data removed]",
      "text/plain": [
       "<matplotlib.figure.Figure at 0x103a9c510>"
      ]
     },
     "metadata": {},
     "output_type": "display_data"
    },
    {
     "data": {
      "image/png": "[encoded data removed]",
      "text/plain": [
       "<matplotlib.figure.Figure at 0x103bbbf90>"
      ]
     },
     "metadata": {},
     "output_type": "display_data"
    },
    {
     "data": {
      "image/png": "[encoded data removed]",
      "text/plain": [
       "<matplotlib.figure.Figure at 0x103290210>"
      ]
     },
     "metadata": {},
     "output_type": "display_data"
    },
    {
     "data": {
      "image/png": "[encoded data removed]",
      "text/plain": [
       "<matplotlib.figure.Figure at 0x1035e1a90>"
      ]
     },
     "metadata": {},
     "output_type": "display_data"
    },
    {
     "data": {
      "image/png": "[encoded data removed]",
      "text/plain": [
       "<matplotlib.figure.Figure at 0x103b93e10>"
      ]
     },
     "metadata": {},
     "output_type": "display_data"
    },
    {
     "data": {
      "image/png": "[encoded data removed]",
      "text/plain": [
       "<matplotlib.figure.Figure at 0x10420fd50>"
      ]
     },
     "metadata": {},
     "output_type": "display_data"
    },
    {
     "data": {
      "image/png": "[encoded data removed]",
      "text/plain": [
       "<matplotlib.figure.Figure at 0x1033a1b10>"
      ]
     },
     "metadata": {},
     "output_type": "display_data"
    },
    {
     "data": {
      "image/png": "[encoded data removed]",
      "text/plain": [
       "<matplotlib.figure.Figure at 0x1040c1050>"
      ]
     },
     "metadata": {},
     "output_type": "display_data"
    },
    {
     "data": {
      "image/png": "[encoded data removed]",
      "text/plain": [
       "<matplotlib.figure.Figure at 0x103de34d0>"
      ]
     },
     "metadata": {},
     "output_type": "display_data"
    },
    {
     "data": {
      "image/png": "[encoded data removed]",
      "text/plain": [
       "<matplotlib.figure.Figure at 0x1032f4190>"
      ]
     },
     "metadata": {},
     "output_type": "display_data"
    }
   ],
   "source": [
    "print 'showing all 92 of possible configurations'\n",
    "cmaps =  ['Blues', 'BuGn', 'BuPu', 'gist_yarg',\\\n",
    "         'GnBu', 'Greens', 'Greys', 'Oranges', 'OrRd',\\\n",
    "         'PuBu', 'PuBuGn', 'PuRd', 'Purples', 'RdPu',\\\n",
    "         'Reds', 'YlGn', 'YlGnBu', 'YlOrBr', 'YlOrRd']\n",
    "\n",
    "\n",
    "for i in range(0,len(ans),4):\n",
    "    fig, (ax1, ax2, ax3, ax4) = plt.subplots(1,4)  \n",
    "    ax1.imshow(ans[i],interpolation='none',cmap=cmaps[random.randint(0,len(cmaps)-1)]) \n",
    "    ax2.imshow(ans[i+1],interpolation='none',cmap=cmaps[random.randint(0,len(cmaps)-1)]) \n",
    "    ax3.imshow(ans[i+2],interpolation='none',cmap=cmaps[random.randint(0,len(cmaps)-1)]) \n",
    "    ax4.imshow(ans[i+3],interpolation='none',cmap=cmaps[random.randint(0,len(cmaps)-1)]) \n",
    "    plt.show()"
   ]
  },
  {
   "cell_type": "markdown",
   "metadata": {},
   "source": [
    "## 8.13 stack a stack of boxes from small to large so that the total height is maximized"
   ]
  },
  {
   "cell_type": "code",
   "execution_count": 23,
   "metadata": {
    "collapsed": false
   },
   "outputs": [],
   "source": [
    "import random\n",
    "box = set()\n",
    "for i in range(20):\n",
    "    h = random.randint(1,100)\n",
    "    w = random.randint(1,100)\n",
    "    d = random.randint(1,100)\n",
    "    box.add((w,d, h))"
   ]
  },
  {
   "cell_type": "code",
   "execution_count": 24,
   "metadata": {
    "collapsed": false
   },
   "outputs": [
    {
     "name": "stdout",
     "output_type": "stream",
     "text": [
      "the boxes are (width, depth, height)\n"
     ]
    },
    {
     "data": {
      "text/plain": [
       "{(7, 36, 26),\n",
       " (13, 60, 29),\n",
       " (26, 15, 51),\n",
       " (27, 86, 37),\n",
       " (41, 83, 43),\n",
       " (44, 33, 21),\n",
       " (50, 2, 17),\n",
       " (50, 26, 66),\n",
       " (52, 88, 16),\n",
       " (66, 5, 94),\n",
       " (73, 85, 55),\n",
       " (76, 19, 28),\n",
       " (78, 62, 23),\n",
       " (81, 73, 52),\n",
       " (83, 22, 100),\n",
       " (87, 18, 37),\n",
       " (89, 83, 27),\n",
       " (90, 7, 38),\n",
       " (97, 4, 95),\n",
       " (100, 66, 55)}"
      ]
     },
     "execution_count": 24,
     "metadata": {},
     "output_type": "execute_result"
    }
   ],
   "source": [
    "stack =[]\n",
    "memo = [0]\n",
    "found_stack = []\n",
    "import copy\n",
    "\n",
    "def _tupleCompare(t1,t2):\n",
    "    (a1,a2,a3) = t1\n",
    "    (b1,b2,b3) = t2\n",
    "    if a1 < b1 and a2 < b2 and a3 < b3:\n",
    "        return True\n",
    "    return False\n",
    "\n",
    "def stackBoxes(box, stack_pass, memo, found_stack):\n",
    "    \n",
    "    \n",
    "    stack = copy.copy(stack_pass)\n",
    "    flag = 0\n",
    "    for b in box: \n",
    "        if len(stack)!=0 and _tupleCompare(b, stack[-1]):\n",
    "            flag = 1\n",
    "            stackBoxes(box, stack + [b], memo, found_stack)\n",
    "        if len(stack)==0:\n",
    "            flag = 1\n",
    "            stackBoxes(box, stack + [b], memo, found_stack)\n",
    "                    \n",
    "    if flag == 0:\n",
    "        heigh = 0\n",
    "        for s in stack:\n",
    "            (w,d,h) = s\n",
    "            heigh += h\n",
    "        if heigh > memo[0]:\n",
    "            memo[0] = heigh \n",
    "            for i in range(len(found_stack)):\n",
    "                found_stack[i] = stack_pass[i] \n",
    "            for i in range(len(found_stack), len(stack_pass)):\n",
    "                found_stack.append(stack_pass[i])      \n",
    "\n",
    "print 'the boxes are (width, depth, height)'\n",
    "box"
   ]
  },
  {
   "cell_type": "code",
   "execution_count": 25,
   "metadata": {
    "collapsed": false
   },
   "outputs": [
    {
     "name": "stdout",
     "output_type": "stream",
     "text": [
      "the max height is 211\n",
      "the stack of boxes: [(83, 22, 100), (66, 5, 94), (50, 2, 17)]\n"
     ]
    }
   ],
   "source": [
    "stackBoxes(box, stack, memo, found_stack)\n",
    "print 'the max height is',memo[0]\n",
    "print 'the stack of boxes:',found_stack"
   ]
  },
  {
   "cell_type": "markdown",
   "metadata": {},
   "source": [
    "## 8.14 boolean evaluation"
   ]
  },
  {
   "cell_type": "code",
   "execution_count": 26,
   "metadata": {
    "collapsed": false
   },
   "outputs": [],
   "source": [
    "def countEval(exp, boo) :\n",
    "    if len(exp)==1 or len(exp)==3:\n",
    "        if eval(exp)==boo:\n",
    "            return 1\n",
    "        else:\n",
    "            return 0\n",
    "    count = 0\n",
    "    for i in range(1,len(exp),2):\n",
    "        left = exp[:i]\n",
    "        op = exp[i]\n",
    "        right = exp[i+1:] \n",
    "        \n",
    "        if op == '&':\n",
    "            if boo == True:\n",
    "                count += countEval(left, True) * countEval(right, True)\n",
    "            else:\n",
    "                count += countEval(left, False) * countEval(right, True) + \\\n",
    "                            countEval(left, True) * countEval(right, False) +\\\n",
    "                    countEval(left, False) * countEval(right, False) \n",
    "                    \n",
    "        if op == '|':\n",
    "            if boo == False:\n",
    "                count += countEval(left, False) * countEval(right, False)\n",
    "            else:\n",
    "                count += countEval(left, True) * countEval(right, True) +\\\n",
    "                        countEval(left, True) * countEval(right, False)+\\\n",
    "                        countEval(left, False) * countEval(right, True)\n",
    "        \n",
    "        if op == '^':\n",
    "            if boo == True:\n",
    "                count += countEval(left, False) * countEval(right, True) +\\\n",
    "                       countEval(left, True) * countEval(right, False)\n",
    "            else:\n",
    "                count += countEval(left, True) * countEval(right, True) +\\\n",
    "                        countEval(left, False) * countEval(right, False)\n",
    "    \n",
    "    return count"
   ]
  },
  {
   "cell_type": "code",
   "execution_count": 27,
   "metadata": {
    "collapsed": false
   },
   "outputs": [
    {
     "name": "stdout",
     "output_type": "stream",
     "text": [
      "2\n"
     ]
    }
   ],
   "source": [
    "exp = '1^0|0|1'\n",
    "print countEval(exp, False)\n"
   ]
  },
  {
   "cell_type": "code",
   "execution_count": 28,
   "metadata": {
    "collapsed": false
   },
   "outputs": [
    {
     "name": "stdout",
     "output_type": "stream",
     "text": [
      "10\n"
     ]
    }
   ],
   "source": [
    "exp = '0&0&0&1^1|0'\n",
    "print countEval(exp, True)"
   ]
  }
 ],
 "metadata": {
  "kernelspec": {
   "display_name": "Python 2",
   "language": "python",
   "name": "python2"
  },
  "language_info": {
   "codemirror_mode": {
    "name": "ipython",
    "version": 2
   },
   "file_extension": ".py",
   "mimetype": "text/x-python",
   "name": "python",
   "nbconvert_exporter": "python",
   "pygments_lexer": "ipython2",
   "version": "2.7.11"
  }
 },
 "nbformat": 4,
 "nbformat_minor": 0
}
