{
 "cells": [
  {
   "cell_type": "markdown",
   "metadata": {},
   "source": [
    "# Chapter 12 C and C++\n",
    "\n",
    "from Gayle Laakmann McDowell's \"Cracking the Coding Interview\", 6th ed.\n",
    "\n",
    "Ron Wu "
   ]
  },
  {
   "cell_type": "markdown",
   "metadata": {},
   "source": [
    "## 12.1 print the last k lines of an input file"
   ]
  },
  {
   "cell_type": "code",
   "execution_count": 1,
   "metadata": {
    "collapsed": false
   },
   "outputs": [
    {
     "data": {
      "application/javascript": [
       "require(['codemirror/mode/clike/clike'], function(Clike) { console.log('ROOTaaS - C++ CodeMirror module loaded'); });"
      ]
     },
     "metadata": {},
     "output_type": "display_data"
    },
    {
     "data": {
      "application/javascript": [
       "IPython.CodeCell.config_defaults.highlight_modes['magic_text/x-c++src'] = {'reg':[/^%%cpp/]};"
      ]
     },
     "metadata": {},
     "output_type": "display_data"
    },
    {
     "name": "stdout",
     "output_type": "stream",
     "text": [
      "Welcome to ROOTaaS 6.06/08\n"
     ]
    },
    {
     "data": {
      "application/javascript": [
       "\n",
       "// Set default mode for code cells\n",
       "IPython.CodeCell.options_default.cm_config.mode = 'text/x-c++src';\n",
       "// Set CodeMirror's current mode\n",
       "var cells = IPython.notebook.get_cells();\n",
       "cells[cells.length-1].code_mirror.setOption('mode', 'text/x-c++src');\n",
       "// Set current mode for newly created cell\n",
       "cells[cells.length-1].cm_config.mode = 'text/x-c++src';\n"
      ]
     },
     "metadata": {},
     "output_type": "display_data"
    },
    {
     "name": "stdout",
     "output_type": "stream",
     "text": [
      "Notebook is in Cpp mode\n"
     ]
    }
   ],
   "source": [
    "import ROOT\n",
    "ROOT.toCpp()"
   ]
  },
  {
   "cell_type": "code",
   "execution_count": 2,
   "metadata": {
    "collapsed": false
   },
   "outputs": [],
   "source": [
    ".cpp -d\n",
    "using namespace std;\n",
    "\n",
    "void return_k_lines(int k) {\n",
    "    int totline = 0;\n",
    "    ifstream input( \"data/testLine.txt\" );\n",
    "    for( string line; getline( input, line ); )\n",
    "    {\n",
    "        ++totline;\n",
    "    }\n",
    "    totline -= k; \n",
    "    \n",
    "    ifstream input2( \"data/testLine.txt\" );\n",
    "    for( string line; getline( input2, line ); )\n",
    "    { \n",
    "        --totline;\n",
    "        if (totline < 0) {\n",
    "            cout<<line<<endl;\n",
    "        } \n",
    "    } \n",
    "}"
   ]
  },
  {
   "cell_type": "code",
   "execution_count": 3,
   "metadata": {
    "collapsed": false
   },
   "outputs": [
    {
     "name": "stdout",
     "output_type": "stream",
     "text": [
      "line i\r\n",
      "line j\r\n",
      "the end\r\n"
     ]
    }
   ],
   "source": [
    "int k = 3;\n",
    "return_k_lines(k);"
   ]
  },
  {
   "cell_type": "markdown",
   "metadata": {},
   "source": [
    "## 12.2 reverse a null-ended string"
   ]
  },
  {
   "cell_type": "code",
   "execution_count": 4,
   "metadata": {
    "collapsed": false
   },
   "outputs": [],
   "source": [
    ".cpp -d\n",
    "void reverseString(char str[]) {\n",
    "    cout<<str<<endl;\n",
    "    int count = 0;\n",
    "    char s = str[0];\n",
    "    while (s != '\\0'){\n",
    "        count++;\n",
    "        s = str[count];\n",
    "    }\n",
    "    for (int i = 0; i < count/2; i++){\n",
    "        \n",
    "        char temp = str[i];\n",
    "        str[i] = str[count-i-1];\n",
    "        str[count-i-1] = temp;\n",
    "    }\n",
    "}\n"
   ]
  },
  {
   "cell_type": "code",
   "execution_count": 5,
   "metadata": {
    "collapsed": false
   },
   "outputs": [
    {
     "name": "stdout",
     "output_type": "stream",
     "text": [
      "abcdefg\r\n",
      "gfedcba"
     ]
    }
   ],
   "source": [
    "char str[] = \"abcdefg\";\n",
    "reverseString(str); \n",
    "cout <<str;"
   ]
  },
  {
   "cell_type": "markdown",
   "metadata": {},
   "source": [
    "## 12.3 implement a hash table and a STL map"
   ]
  },
  {
   "cell_type": "code",
   "execution_count": 6,
   "metadata": {
    "collapsed": false
   },
   "outputs": [
    {
     "name": "stdout",
     "output_type": "stream",
     "text": [
      "0: zero\r\n",
      "1: one\r\n",
      "2: two\r\n"
     ]
    }
   ],
   "source": [
    "//unordered_map implements a usual hash table, giving O(1) retrieving and O(1) insertion\n",
    "unordered_map<int, string> unord_m = {{1, \"one\"}, {2, \"two\"}};\n",
    "\n",
    "//STL map is kind like a hash table, and the keys are constructed by binary search tree\n",
    "//giving O(logn) retrieving and insertion\n",
    " \n",
    "map<int, string> ord_m = {{1, \"one\"}, {2, \"two\"}};\n",
    "ord_m.insert({0, \"zero\"});\n",
    "\n",
    "for(auto i=ord_m.begin(); i!=ord_m.end(); ++i) {\n",
    "    cout << (*i).first << \": \" << (*i).second << endl;\n",
    "} "
   ]
  },
  {
   "cell_type": "code",
   "execution_count": 7,
   "metadata": {
    "collapsed": false
   },
   "outputs": [
    {
     "name": "stdout",
     "output_type": "stream",
     "text": [
      "1: one\r\n",
      "2: two\r\n",
      "2: another two\r\n",
      "multimap index is hard\r\n",
      "2: two\r\n",
      "2: another two\r\n"
     ]
    }
   ],
   "source": [
    "//for collisions, use multimap\n",
    "multimap<int, string> ord_multi_m = {{2, \"two\"}, {1, \"one\"}, {2, \"another two\"}};\n",
    "\n",
    "for( auto i=ord_multi_m.begin(); i!=ord_multi_m.end(); ++i)\n",
    "{\n",
    "    cout << (*i).first << \": \" << (*i).second << endl;\n",
    "}\n",
    "cout<<\"multimap index is hard\"<<endl;\n",
    "auto ord_multi_m_2 = ord_multi_m.equal_range(2);\n",
    "for( auto i=ord_multi_m_2.first; i!=ord_multi_m_2.second; ++i)\n",
    "{\n",
    "    cout << (*i).first << \": \" << (*i).second << endl;\n",
    "}"
   ]
  },
  {
   "cell_type": "markdown",
   "metadata": {},
   "source": [
    "## 12.4 what is virtual function?"
   ]
  },
  {
   "cell_type": "code",
   "execution_count": 8,
   "metadata": {
    "collapsed": false
   },
   "outputs": [],
   "source": [
    "//virtual function makes extension or plug-in possible.\n",
    "//more specifically, using dynamic binding, derived classes can modify behavior of\n",
    "//functions that were originally built for the base classes"
   ]
  },
  {
   "cell_type": "code",
   "execution_count": 9,
   "metadata": {
    "collapsed": false
   },
   "outputs": [],
   "source": [
    "class Animal {\n",
    "public: \n",
    "    virtual void speak(){\n",
    "        cout<<\"I am an animal!\"<<endl;\n",
    "    }\n",
    "    virtual ~Animal(){\n",
    "        cout<<\"animal is gone\"<<endl;\n",
    "    }\n",
    "};"
   ]
  },
  {
   "cell_type": "code",
   "execution_count": 10,
   "metadata": {
    "collapsed": true
   },
   "outputs": [],
   "source": [
    "class Dog : public Animal{\n",
    "\n",
    "    string name = \"goofy\";\n",
    "    \n",
    "public:\n",
    "    void speak(){\n",
    "        cout<<\"I am an dog!\"<<endl;\n",
    "        cout<<\"My name is \"<<name<<endl;\n",
    "    }\n",
    "    void barking(){\n",
    "        cout<<\"I am sparky!\"<<endl;\n",
    "    }\n",
    "    \n",
    "    ~Dog(){\n",
    "        cout<<\"dog is gone\"<<endl;\n",
    "    }\n",
    "};"
   ]
  },
  {
   "cell_type": "code",
   "execution_count": 11,
   "metadata": {
    "collapsed": true
   },
   "outputs": [],
   "source": [
    ".cpp -d\n",
    "void animal_speak(Animal *a) {\n",
    "    a->speak();\n",
    "}"
   ]
  },
  {
   "cell_type": "code",
   "execution_count": 12,
   "metadata": {
    "collapsed": false
   },
   "outputs": [
    {
     "name": "stdout",
     "output_type": "stream",
     "text": [
      "I am an animal!\r\n",
      "I am an dog!\r\n",
      "My name is goofy\r\n",
      "animal is gone\r\n",
      "dog is gone\r\n",
      "animal is gone\r\n"
     ]
    }
   ],
   "source": [
    "Animal *a = new Animal();\n",
    "animal_speak(a);\n",
    "\n",
    "Dog *d = new Dog();\n",
    "animal_speak(d);  \n",
    "\n",
    "delete a;\n",
    "delete d;"
   ]
  },
  {
   "cell_type": "markdown",
   "metadata": {},
   "source": [
    "## 12.5 shallow vs deep copy"
   ]
  },
  {
   "cell_type": "code",
   "execution_count": 13,
   "metadata": {
    "collapsed": true
   },
   "outputs": [],
   "source": [
    "//shallow copies member values. if some members are reference objects,\n",
    "//then shallow copy will just copy the pointers\n",
    "//deep copies everything in every level"
   ]
  },
  {
   "cell_type": "markdown",
   "metadata": {},
   "source": [
    "## 12.6 what is volatile keyword?"
   ]
  },
  {
   "cell_type": "code",
   "execution_count": 14,
   "metadata": {
    "collapsed": true
   },
   "outputs": [],
   "source": [
    "//prevents the compiler from applying any optimizations on the code \n",
    "//and ensures values of variables gets reload every time"
   ]
  },
  {
   "cell_type": "markdown",
   "metadata": {},
   "source": [
    "## 12.7 why do we apply virtual to the base destructor?"
   ]
  },
  {
   "cell_type": "code",
   "execution_count": 15,
   "metadata": {
    "collapsed": false
   },
   "outputs": [
    {
     "name": "stdout",
     "output_type": "stream",
     "text": [
      "I am an dog!\r\n",
      "My name is goofy\r\n",
      "dog is gone\r\n",
      "animal is gone\r\n"
     ]
    }
   ],
   "source": [
    "Animal *a1 = new Dog(); //without it, only the Animal destructor will be called.\n",
    "\n",
    "animal_speak(a1);\n",
    "delete a1;\n",
    "\n",
    "//if we did the normal thing\n",
    "//Dog *d1 = new Dog(); \n",
    "//then Animal destructor would be called without making it virtual."
   ]
  },
  {
   "cell_type": "markdown",
   "metadata": {},
   "source": [
    "## 12.8 copy node"
   ]
  },
  {
   "cell_type": "code",
   "execution_count": 16,
   "metadata": {
    "collapsed": false
   },
   "outputs": [],
   "source": [
    "struct Node{\n",
    "    Node *left, *right;\n",
    "    int * data;\n",
    "    Node(int in){\n",
    "        data = new int; \n",
    "        //better to use malloc for primitive have no user defined constructors,destrcutors\n",
    "        //data = (int *)malloc(sizeof(int *));\n",
    "        \n",
    "        (*data) = in;\n",
    "        left = NULL;\n",
    "        right = NULL;\n",
    "    }\n",
    "    ~Node(){\n",
    "        delete data; \n",
    "        //then use free \n",
    "        //free(data);\n",
    "    }\n",
    "};"
   ]
  },
  {
   "cell_type": "code",
   "execution_count": 17,
   "metadata": {
    "collapsed": false
   },
   "outputs": [],
   "source": [
    ".cpp -d\n",
    "Node * copy_nodes(Node * node){\n",
    "    Node * node_copy = new Node(*(node->data));\n",
    "    node_copy->left = node->left;\n",
    "    node_copy->right = node->right;\n",
    "    return node_copy;\n",
    "}"
   ]
  },
  {
   "cell_type": "code",
   "execution_count": 18,
   "metadata": {
    "collapsed": false
   },
   "outputs": [
    {
     "name": "stdout",
     "output_type": "stream",
     "text": [
      "copied value is 2\r\n",
      "copied left value is 1\r\n",
      "copied right value is 3\r\n"
     ]
    }
   ],
   "source": [
    "Node *node_1 = new Node(1);\n",
    "Node *node_2 = new Node(2);\n",
    "Node *node_3 = new Node(3);\n",
    "\n",
    "node_2->left = node_1;\n",
    "node_2->right = node_3;\n",
    "\n",
    "Node *node_2_copy = copy_nodes(node_2);\n",
    "\n",
    "cout<<\"copied value is \"<<*node_2_copy->data<<endl;\n",
    "cout<<\"copied left value is \"<<*node_2_copy->left->data<<endl;\n",
    "cout<<\"copied right value is \"<<*node_2_copy->right->data<<endl;\n",
    "\n",
    "delete node_1;\n",
    "delete node_2;\n",
    "delete node_3;\n",
    "delete node_2_copy;"
   ]
  },
  {
   "cell_type": "markdown",
   "metadata": {},
   "source": [
    "## 12.9 smart pointer with templates"
   ]
  },
  {
   "cell_type": "code",
   "execution_count": 19,
   "metadata": {
    "collapsed": true
   },
   "outputs": [],
   "source": [
    "template <class T>\n",
    "class smartpointer{\n",
    "    \n",
    "    int count;\n",
    "    T * data;\n",
    "    \n",
    "public:\n",
    "    smartpointer(T * src){\n",
    "        data = src;\n",
    "        count = 1;\n",
    "    }\n",
    "    //assignment operator overload\n",
    "    smartpointer<T> & operator = (smartpointer<T> *src){\n",
    "        if (src == NULL){  //set NULL\n",
    "            count = 0;\n",
    "            delete data;\n",
    "            data = NULL;\n",
    "        }\n",
    "        else{\n",
    "            if (this != src){\n",
    "                delete data;\n",
    "                data = src->data;\n",
    "            }\n",
    "        }\n",
    "        return *this;\n",
    "    }\n",
    "    \n",
    "    ~smartpointer(){\n",
    "        count = 0;\n",
    "        delete data;\n",
    "        data = NULL;\n",
    "    }\n",
    "};\n",
    "\n",
    "class Person{\n",
    "    string name; \n",
    "public:\n",
    "    Person(string n){\n",
    "        name = n; \n",
    "    }\n",
    "    ~Person(){\n",
    "        cout<<name<<\" left\"<<endl; \n",
    "    }\n",
    "};\n"
   ]
  },
  {
   "cell_type": "code",
   "execution_count": 20,
   "metadata": {
    "collapsed": false
   },
   "outputs": [
    {
     "name": "stdout",
     "output_type": "stream",
     "text": [
      "harry potter left\r\n",
      "ron weasley left\r\n"
     ]
    }
   ],
   "source": [
    "//normally we do this\n",
    "Person * p = new Person(\"harry potter\");\n",
    "delete p; \n",
    "p = NULL;\n",
    "\n",
    "//now we have smartpointer, only make NULL and delete will be called\n",
    "\n",
    "Person * p_1 = new Person(\"ron weasley\");\n",
    "smartpointer<Person> sp(p_1);\n",
    "sp = NULL;"
   ]
  },
  {
   "cell_type": "markdown",
   "metadata": {},
   "source": [
    "## 12.10 malloc"
   ]
  },
  {
   "cell_type": "code",
   "execution_count": 21,
   "metadata": {
    "collapsed": false
   },
   "outputs": [],
   "source": [
    ".cpp -d\n",
    "void aligned_free(void *  p){\n",
    "    free(p);\n",
    "}\n",
    "\n",
    "void * align_malloc(size_t size_of_class,unsigned num_class_block){\n",
    "    return malloc(size_of_class*num_class_block);\n",
    "}"
   ]
  },
  {
   "cell_type": "code",
   "execution_count": 22,
   "metadata": {
    "collapsed": false
   },
   "outputs": [],
   "source": [
    "void * ptr = align_malloc(1000,128); //void pointer points to any memory size\n",
    "aligned_free(ptr);"
   ]
  },
  {
   "cell_type": "markdown",
   "metadata": {},
   "source": [
    "## 12.11 2D alloc"
   ]
  },
  {
   "cell_type": "code",
   "execution_count": 23,
   "metadata": {
    "collapsed": false
   },
   "outputs": [],
   "source": [
    ".cpp -d\n",
    "int ** my2DAlloc(int row_num, int col_num){\n",
    "    auto row = (int**)malloc(row_num*sizeof(int*));\n",
    "    for (int i = 0; i < row_num; ++i){\n",
    "        row[i]= (int*)malloc(col_num*sizeof(int));\n",
    "    }\n",
    "    return row;\n",
    "}\n",
    "\n",
    "void my2DDealloc(int ** row, int row_num){\n",
    "    for (int i = 0; i < row_num; ++i){\n",
    "        free(row[i]);\n",
    "    }\n",
    "    free(row);\n",
    "}"
   ]
  },
  {
   "cell_type": "code",
   "execution_count": 24,
   "metadata": {
    "collapsed": false
   },
   "outputs": [],
   "source": [
    "int row_num = 4;\n",
    "int col_num = 5;\n",
    "auto mat2D = my2DAlloc(row_num,col_num);\n",
    "my2DDealloc(mat2D, row_num);"
   ]
  }
 ],
 "metadata": {
  "kernelspec": {
   "display_name": "Python 2",
   "language": "python",
   "name": "python2"
  },
  "language_info": {
   "codemirror_mode": {
    "name": "ipython",
    "version": 2
   },
   "file_extension": ".py",
   "mimetype": "text/x-python",
   "name": "python",
   "nbconvert_exporter": "python",
   "pygments_lexer": "ipython2",
   "version": "2.7.12"
  }
 },
 "nbformat": 4,
 "nbformat_minor": 0
}
