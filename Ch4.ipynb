{
 "cells": [
  {
   "cell_type": "markdown",
   "metadata": {},
   "source": [
    "# Chapter 4 Trees and Graphs\n",
    "\n",
    "from Gayle Laakmann McDowell's \"Cracking the Coding Interview\", 6th ed.\n",
    "\n",
    "Ron Wu"
   ]
  },
  {
   "cell_type": "markdown",
   "metadata": {},
   "source": [
    "## 4.1 check connectivity"
   ]
  },
  {
   "cell_type": "code",
   "execution_count": 2,
   "metadata": {
    "collapsed": false
   },
   "outputs": [
    {
     "name": "stdout",
     "output_type": "stream",
     "text": [
      "\n"
     ]
    }
   ],
   "source": [
    "def isRoute(G, n1, n2):\n",
    "    '''check if exists a path from n1 to n2'''\n",
    "    #convert G to adjacency list\n",
    "    G_adj = {} \n",
    "    for edge in G:\n",
    "        if edge[0] not in G_adj:\n",
    "            G_adj[edge[0]] = [edge[1]]\n",
    "        else:\n",
    "            G_adj[edge[0]].append(edge[1])\n",
    "            \n",
    "    visited = set() \n",
    "    pathFound = [False]\n",
    "    isRoute_helper(G_adj,n1,n2, visited, pathFound)\n",
    "    return pathFound[0] == True\n",
    "    \n",
    "def isRoute_helper(G, n1, n2, visited, pathFound):\n",
    "    if n1 not in G:\n",
    "        return\n",
    "    for child in G[n1]:\n",
    "        if child == n2:\n",
    "            pathFound[0] = True\n",
    "            return  \n",
    "        if child not in visited:\n",
    "            visited.add(child)\n",
    "            isRoute_helper(G, child, n2, visited, pathFound)\n",
    "    "
   ]
  },
  {
   "cell_type": "code",
   "execution_count": 3,
   "metadata": {
    "collapsed": false
   },
   "outputs": [
    {
     "data": {
      "image/png": "[encoded data removed]",
      "text/plain": [
       "<matplotlib.figure.Figure at 0x7bb57b8>"
      ]
     },
     "metadata": {},
     "output_type": "display_data"
    }
   ],
   "source": [
    "import networkx as nx\n",
    "import matplotlib.pyplot as plt\n",
    "%matplotlib inline\n",
    "\n",
    "def draw_graph(graph): \n",
    "     \n",
    "    G = nx.DiGraph()  \n",
    "    nodes = set()    \n",
    "    for edge in graph:\n",
    "        G.add_edge(edge[0], edge[1])\n",
    "        if edge[0] not in nodes:\n",
    "            nodes.add(edge[0])\n",
    "            G.add_node(edge[0])\n",
    "        if edge[1] not in nodes:\n",
    "            nodes.add(edge[1])\n",
    "            G.add_node(edge[1])\n",
    "\n",
    "    pos = nx.spring_layout(G) \n",
    "    nx.draw(G, pos, with_labels=True, arrows=True) \n",
    "    plt.show()\n",
    "\n",
    "G = [('A', 'B'), ('B', 'C'), ('C', 'D'), ('B','A'), ('C','A')]\n",
    "draw_graph(G)\n"
   ]
  },
  {
   "cell_type": "code",
   "execution_count": 4,
   "metadata": {
    "collapsed": false
   },
   "outputs": [
    {
     "name": "stdout",
     "output_type": "stream",
     "text": [
      "Is there a path from A to B? True\n",
      "Is there a path from A to D? True\n",
      "Is there a path from D to A? False\n"
     ]
    }
   ],
   "source": [
    "print 'Is there a path from A to B?',isRoute(G,'A','B')\n",
    "print 'Is there a path from A to D?',isRoute(G,'A','D') \n",
    "print 'Is there a path from D to A?',isRoute(G,'D','A') "
   ]
  },
  {
   "cell_type": "markdown",
   "metadata": {},
   "source": [
    "## 4.2 convert sorted array to a full balanced BST"
   ]
  },
  {
   "cell_type": "code",
   "execution_count": 5,
   "metadata": {
    "collapsed": false
   },
   "outputs": [],
   "source": [
    "class TreeNode(object):\n",
    "    def __init__(self, data, left=None, right=None):\n",
    "        self.data = data\n",
    "        self.left = [left]  #box it to an object so pass by ref\n",
    "        self.right = [right]\n",
    "        \n",
    "class BinarySeachTree(object):\n",
    "    def __init__(self, Node = None):\n",
    "        self.root = [Node]\n",
    "        \n",
    "    def insert(self, data):   \n",
    "        self._insert(data, self.root)\n",
    "        \n",
    "    def _insert(self, data, root):\n",
    "        if root[0] == None: \n",
    "            root[0] = TreeNode(data)\n",
    "            return\n",
    "        \n",
    "        if root[0].data > data:\n",
    "            self._insert(data, root[0].left)\n",
    "            \n",
    "        elif root[0].data < data:\n",
    "            self._insert(data, root[0].right)\n",
    "        #ignore duplicate items    \n",
    "        \n",
    "    def height(self):\n",
    "        return self._height(self.root)\n",
    "        \n",
    "    def _height(self, root):\n",
    "        if root[0] == None:\n",
    "            return 0\n",
    "        return max(self._height(root[0].right), self._height(root[0].left))+1\n",
    "        \n",
    "    \n",
    "def buildBst(arr):\n",
    "    #assume arr is sorted \n",
    "    tree = BinarySeachTree() \n",
    "    _buildBst(arr, tree)\n",
    "    return tree\n",
    "\n",
    "def _buildBst(arr, tree):\n",
    "    if len(arr) == 1:\n",
    "        tree.insert(arr[0])\n",
    "        return\n",
    "    n = len(arr)/2\n",
    "    tree.insert(arr[n])\n",
    "    _buildBst(arr[:n], tree)\n",
    "    if len(arr) > 2:\n",
    "        _buildBst(arr[n+1:], tree)\n",
    "    "
   ]
  },
  {
   "cell_type": "code",
   "execution_count": 6,
   "metadata": {
    "collapsed": false
   },
   "outputs": [
    {
     "name": "stdout",
     "output_type": "stream",
     "text": [
      "[1, 2, 3, 4, 5, 6, 7, 8, 9, 10, 11, 12, 13, 14, 15]\n",
      "height:  4  indeed is mininal!\n",
      "head of tree: 8\n",
      "first left child: 4\n",
      "right grandchild of left child: 6\n"
     ]
    }
   ],
   "source": [
    "arr=[x for x in range(1, 2**4)]\n",
    "print arr\n",
    "binaryTree = buildBst(arr)\n",
    "print 'height: ',binaryTree.height() ,' indeed is mininal!'\n",
    "print 'head of tree:', binaryTree.root[0].data \n",
    "print 'first left child:', binaryTree.root[0].left[0].data  \n",
    "print 'right grandchild of left child:',binaryTree.root[0].left[0].right[0].data  "
   ]
  },
  {
   "cell_type": "markdown",
   "metadata": {},
   "source": [
    "## 4.3 convert level tree to multiple linked ist"
   ]
  },
  {
   "cell_type": "code",
   "execution_count": 7,
   "metadata": {
    "collapsed": false
   },
   "outputs": [],
   "source": [
    "#LL copied from my chapter 2 solution\n",
    "\n",
    "class LLNode(object):\n",
    "    def __init__(self, data = None, nd = None):\n",
    "        self.val = data\n",
    "        self.nextNode = nd\n",
    "        \n",
    "    def getVal(self):\n",
    "        return self.val\n",
    "    \n",
    "    def getNext(self):\n",
    "        return self.nextNode\n",
    "    \n",
    "    def linkNext(self, nd):\n",
    "        self.nextNode = nd\n",
    "\n",
    "import sys\n",
    "\n",
    "class linkedList(object):\n",
    "    def __init__(self, nd = None):\n",
    "        self.head = nd\n",
    "        self.size = 0\n",
    "        if self.head != None:\n",
    "            self.size = 1\n",
    "        \n",
    "    def addNode(self, nd):  \n",
    "        nd.linkNext(self.head)\n",
    "        self.head = nd\n",
    "        self.size += 1 \n",
    "        \n",
    "    def displayAllValue(self):\n",
    "        if self.size == 0:\n",
    "            print 'nothing to show'\n",
    "            \n",
    "        cur = self.head    \n",
    "        count = 0\n",
    "        while cur and count < self.size + 1:\n",
    "            sys.stdout.write(str(cur.getVal()) + ' ')\n",
    "            cur = cur.getNext()\n",
    "            count += 1\n",
    "    \n",
    "    def getSize(self):\n",
    "        if self.head == None:\n",
    "            return 0\n",
    "        return self.size\n",
    "      \n",
    "            "
   ]
  },
  {
   "cell_type": "code",
   "execution_count": 8,
   "metadata": {
    "collapsed": false
   },
   "outputs": [],
   "source": [
    "def turnBTtoMLL(bt):\n",
    "    multiLL = []\n",
    "    heights = bt.height()\n",
    "    for i in range(heights):\n",
    "        ll = linkedList()        \n",
    "        multiLL.append(ll)\n",
    "        \n",
    "    _turnBTtoMLL(bt.root[0], multiLL, 0)\n",
    "    return multiLL\n",
    "        \n",
    "def _turnBTtoMLL(root, multiLL, depth):\n",
    "    if root == None:\n",
    "        return\n",
    "    multiLL[depth].addNode(LLNode(root.data))\n",
    "    _turnBTtoMLL(root.left[0], multiLL, depth+1)\n",
    "    _turnBTtoMLL(root.right[0], multiLL, depth+1)\n",
    "        "
   ]
  },
  {
   "cell_type": "code",
   "execution_count": 9,
   "metadata": {
    "collapsed": false
   },
   "outputs": [
    {
     "name": "stdout",
     "output_type": "stream",
     "text": [
      "[1, 2, 3, 4, 5, 6, 7, 8, 9, 10, 11, 12, 13, 14, 15]\n",
      "0 depth: 8 \n",
      "1 depth: 12 4 \n",
      "2 depth: 14 10 6 2 \n",
      "3 depth: 15 13 11 9 7 5 3 1 \n"
     ]
    }
   ],
   "source": [
    "arr=[x for x in range(1, 2**4)]\n",
    "print arr\n",
    "binaryTree = buildBst(arr)\n",
    "\n",
    "mLL = turnBTtoMLL(binaryTree)\n",
    "for i in range(len(mLL)):\n",
    "    print i, 'depth: ', \n",
    "    mLL[i].displayAllValue()\n",
    "    print"
   ]
  },
  {
   "cell_type": "markdown",
   "metadata": {},
   "source": [
    "## 4.4 check a binary tree is balanced"
   ]
  },
  {
   "cell_type": "code",
   "execution_count": 10,
   "metadata": {
    "collapsed": true
   },
   "outputs": [],
   "source": [
    "def isBalanced(bt):\n",
    "    return _isBalanced(bt.root[0])\n",
    "\n",
    "def _isBalanced(root):\n",
    "    if root == None:\n",
    "        return 0\n",
    "    dif = _isBalanced(root.right[0])-_isBalanced(root.left[0])\n",
    "    return dif in [-1, 0, 1]"
   ]
  },
  {
   "cell_type": "code",
   "execution_count": 11,
   "metadata": {
    "collapsed": false
   },
   "outputs": [
    {
     "name": "stdout",
     "output_type": "stream",
     "text": [
      "input: [1, 2, 3, 4, 5, 6, 7, 8, 9, 10, 11, 12, 13, 14, 15]\n",
      "Is it balanced?  True\n"
     ]
    }
   ],
   "source": [
    "arr=[x for x in range(1, 2**4)]\n",
    "print 'input:', arr\n",
    "binaryTree = buildBst(arr)\n",
    "\n",
    "print 'Is it balanced? ',isBalanced(binaryTree)"
   ]
  },
  {
   "cell_type": "markdown",
   "metadata": {},
   "source": [
    "## 4.5 check if a binary tree is bst"
   ]
  },
  {
   "cell_type": "code",
   "execution_count": 12,
   "metadata": {
    "collapsed": false
   },
   "outputs": [],
   "source": [
    "def isBST(bt): \n",
    "    found = [False]\n",
    "    _isBST(bt.root[0], found)\n",
    "    return found == [False]\n",
    "    \n",
    "\n",
    "def _isBST(root, found):\n",
    "    if root == None or found[0] == True:\n",
    "        return\n",
    "    if root.left != None:\n",
    "        if root.left[0].data >= root.data:\n",
    "            found[0] = True\n",
    "            return\n",
    "        _isBST(root.left[0], found)\n",
    "    \n",
    "    if found[0] ==True: #short circuit it if found\n",
    "        return\n",
    "    \n",
    "    if root.right != None:\n",
    "        if root.right[0].data <= root.data:\n",
    "            found[0] = True\n",
    "            return\n",
    "        _isBST(root.right[0], found)"
   ]
  },
  {
   "cell_type": "code",
   "execution_count": 13,
   "metadata": {
    "collapsed": false
   },
   "outputs": [
    {
     "name": "stdout",
     "output_type": "stream",
     "text": [
      "input: [1, 2, 3, 4, 5, 6, 7, 8, 9, 10, 11, 12, 13, 14, 15]\n",
      "Is it BST?  True\n"
     ]
    }
   ],
   "source": [
    "arr=[x for x in range(1, 2**4)]\n",
    "print 'input:', arr\n",
    "binaryTree = buildBst(arr)\n",
    "\n",
    "print 'Is it BST? ',isBalanced(binaryTree)"
   ]
  },
  {
   "cell_type": "markdown",
   "metadata": {},
   "source": [
    "## 4.6 given a node, return its right child"
   ]
  },
  {
   "cell_type": "code",
   "execution_count": 14,
   "metadata": {
    "collapsed": false
   },
   "outputs": [
    {
     "name": "stdout",
     "output_type": "stream",
     "text": [
      "input: [1, 2, 3, 4, 5, 6, 7, 8, 9, 10, 11, 12, 13, 14, 15]\n",
      "the right child of 4 is 6\n"
     ]
    }
   ],
   "source": [
    "def itsRightChild(root):\n",
    "    if root==None:\n",
    "        return None\n",
    "    return root.right[0]\n",
    "\n",
    "arr=[x for x in range(1, 2**4)]\n",
    "print 'input:', arr\n",
    "bt = buildBst(arr)\n",
    "\n",
    "child = itsRightChild(bt.root[0].left[0])\n",
    "print 'the right child of', bt.root[0].left[0].data,'is',child.data"
   ]
  },
  {
   "cell_type": "markdown",
   "metadata": {},
   "source": [
    "## 4.7 kind like converting a directed graph to a tree"
   ]
  },
  {
   "cell_type": "code",
   "execution_count": 15,
   "metadata": {
    "collapsed": false
   },
   "outputs": [],
   "source": [
    "def findDependency(G):\n",
    "    #convert directed G to adjacency list \n",
    "    G_adj = {} \n",
    "    source = set()\n",
    "    sinks = set()\n",
    "    for edge in G:\n",
    "        if edge[0] != edge[1]:\n",
    "            if edge[0] not in G_adj:\n",
    "                G_adj[edge[0]] = [edge[1]]\n",
    "            else:\n",
    "                G_adj[edge[0]].append(edge[1])\n",
    "            \n",
    "            if edge[0] not in source:\n",
    "                source.add(edge[0]) \n",
    "            if edge[1] not in sinks:    \n",
    "                sinks.add(edge[1])\n",
    "        else:\n",
    "            source.add(edge[1])\n",
    "            \n",
    "    result = []\n",
    "    visited = set()\n",
    "    startNodes = source - sinks #not depend on anything \n",
    "    for s in startNodes: \n",
    "        result.append(s)\n",
    "        visited.add(s)\n",
    "        _findDependency_help(G_adj,visited, result, s)  \n",
    "    \n",
    "    return result\n",
    "\n",
    "def _findDependency_help(G_adj, visited, result, s):\n",
    "    if s in G_adj:\n",
    "        for n in G_adj[s]:\n",
    "            if n not in result:\n",
    "                result.append(n)  \n",
    "        for n in G_adj[s]: \n",
    "            if n not in visited:\n",
    "                visited.add(n)\n",
    "                _findDependency_help(G_adj, visited, result, n)\n"
   ]
  },
  {
   "cell_type": "code",
   "execution_count": 16,
   "metadata": {
    "collapsed": false
   },
   "outputs": [
    {
     "data": {
      "image/png": "[encoded data removed]",
      "text/plain": [
       "<matplotlib.figure.Figure at 0x7f9ba20>"
      ]
     },
     "metadata": {},
     "output_type": "display_data"
    }
   ],
   "source": [
    "G = [('e','e'),('a', 'd'), ('f', 'b'), ('b', 'd'), ('f','a'), ('d','c')]\n",
    "draw_graph(G)"
   ]
  },
  {
   "cell_type": "code",
   "execution_count": 17,
   "metadata": {
    "collapsed": false
   },
   "outputs": [
    {
     "name": "stdout",
     "output_type": "stream",
     "text": [
      "dependency: ['e', 'f', 'b', 'a', 'd', 'c']\n"
     ]
    }
   ],
   "source": [
    "print 'dependency:',findDependency(G)"
   ]
  },
  {
   "cell_type": "markdown",
   "metadata": {},
   "source": [
    "## 4.8 find the lowest common ancestor of two nodes in bt"
   ]
  },
  {
   "cell_type": "code",
   "execution_count": 18,
   "metadata": {
    "collapsed": false
   },
   "outputs": [],
   "source": [
    "#no storing, so no tracing back parents\n",
    "def _isInSubtree(bt, root, n1, n2, found): \n",
    "    if found[0] == True and found[1] == True: \n",
    "        return True \n",
    "    if root == None:\n",
    "        return False\n",
    "    \n",
    "    if root == n1: \n",
    "        found[0] = True\n",
    "    if root == n2:\n",
    "        found[1] = True\n",
    "        \n",
    "    if found[0] == True and found[1] == True: \n",
    "        return True\n",
    "    \n",
    "    a = _isInSubtree(bt, root.left[0], n1, n2, found)    \n",
    "    b = _isInSubtree(bt, root.right[0], n1, n2, found)    \n",
    "    return a or b\n",
    "\n",
    "    \n",
    "def findComAncestor(bt, n1, n2, root = 'head'):\n",
    "    if root == None: \n",
    "        return None\n",
    "    if root == 'head':\n",
    "        root = bt.root[0]\n",
    "    \n",
    "    found = [False, False]\n",
    "    foundLeft  = [False, False]\n",
    "    foundRight = [False, False] \n",
    "    if _isInSubtree(bt, root, n1, n2, found)== True:\n",
    "        if _isInSubtree(bt, root.left[0], n1, n2, foundLeft)== False and\\\n",
    "        _isInSubtree(bt, root.right[0], n1, n2, foundRight)== False: \n",
    "             return root\n",
    "     \n",
    "        a = findComAncestor(bt, n1, n2, root.left[0])\n",
    "        if a != None:\n",
    "            return a\n",
    "        a = findComAncestor(bt, n1, n2, root.right[0])\n",
    "        if a != None:\n",
    "            return a \n",
    "    return None\n"
   ]
  },
  {
   "cell_type": "code",
   "execution_count": 19,
   "metadata": {
    "collapsed": false
   },
   "outputs": [
    {
     "name": "stdout",
     "output_type": "stream",
     "text": [
      "the commom ancestor of 384 and 192 is 256 which should equal to 256\n"
     ]
    }
   ],
   "source": [
    "arr = [x for x in range(1, 2**10)] \n",
    "bt = buildBst(arr)\n",
    "\n",
    "n1 = bt.root[0].left[0].right[0]\n",
    "n2 = bt.root[0].left[0].left[0].right[0]\n",
    "\n",
    "print 'the commom ancestor of',n1.data,'and',n2.data, \\\n",
    " 'is',findComAncestor(bt,n1,n2).data,'which should equal to',\\\n",
    "    bt.root[0].left[0].data"
   ]
  },
  {
   "cell_type": "markdown",
   "metadata": {},
   "source": [
    "## 4.9 display all arrays will give to build the same bst"
   ]
  },
  {
   "cell_type": "code",
   "execution_count": 22,
   "metadata": {
    "collapsed": false
   },
   "outputs": [],
   "source": [
    "def squenceBST(bt):\n",
    "    #build a dependency \n",
    "    dep = {bt.root[0].data:set([])} \n",
    "    _buildDep(bt, dep, bt.root[0])\n",
    "    seqArr = [bt.root[0].data]\n",
    "    _squenceBST(dep, seqArr)\n",
    "\n",
    "\n",
    "import pickle\n",
    "import copy\n",
    "def _squenceBST(dep, seqArr): \n",
    "    if len(dep) == len(seqArr):\n",
    "        print seqArr\n",
    "        return\n",
    "    arr = copy.copy(seqArr) \n",
    "    for e in dep:\n",
    "        if e not in arr:\n",
    "            if dep[e] <= set(arr):  \n",
    "                _squenceBST(dep, arr+[e])\n",
    "\n",
    "\n",
    "def _buildDep(bt, dep, root):\n",
    "    if root == None:\n",
    "        return\n",
    "    if root.left[0] != None:\n",
    "        dep[root.left[0].data] = set([root.data]) | dep[root.data]\n",
    "        _buildDep(bt, dep, root.left[0])\n",
    "    \n",
    "    if root.right[0] != None:\n",
    "        dep[root.right[0].data] = set([root.data]) | dep[root.data]\n",
    "        _buildDep(bt, dep, root.right[0])"
   ]
  },
  {
   "cell_type": "code",
   "execution_count": 23,
   "metadata": {
    "collapsed": false,
    "scrolled": true
   },
   "outputs": [
    {
     "name": "stdout",
     "output_type": "stream",
     "text": [
      "[5, 2, 1, 6, 8]\n",
      "[5, 2, 6, 8, 1]\n",
      "[5, 2, 6, 1, 8]\n",
      "[5, 6, 8, 2, 1]\n",
      "[5, 6, 2, 8, 1]\n",
      "[5, 6, 2, 1, 8]\n"
     ]
    }
   ],
   "source": [
    "arr = [5,2,1,6,8] \n",
    "bt = BinarySeachTree()\n",
    "for a in arr:\n",
    "    bt.insert(a)\n",
    "\n",
    "squenceBST(bt)  "
   ]
  },
  {
   "cell_type": "markdown",
   "metadata": {
    "collapsed": true
   },
   "source": [
    "## 4.10 check if one binary tree is a subtree of the other"
   ]
  },
  {
   "cell_type": "code",
   "execution_count": 24,
   "metadata": {
    "collapsed": false
   },
   "outputs": [],
   "source": [
    "def isASubtree(tb, ts_root):\n",
    "    comfirm = [False]\n",
    "    _isASubtree(tb,tb.root[0],ts_root, comfirm)\n",
    "    return comfirm[0]\n",
    "\n",
    "def _isASubtree(tb, broot, sroot, comfirm):\n",
    "    if comfirm[0] == True or broot == None:\n",
    "        return\n",
    "    if broot == sroot:\n",
    "        comfirm[0] = True\n",
    "        return\n",
    "    _isASubtree(tb, broot.left[0], sroot, comfirm)\n",
    "    _isASubtree(tb, broot.right[0], sroot, comfirm)\n"
   ]
  },
  {
   "cell_type": "code",
   "execution_count": 25,
   "metadata": {
    "collapsed": false
   },
   "outputs": [
    {
     "data": {
      "text/plain": [
       "True"
      ]
     },
     "execution_count": 25,
     "metadata": {},
     "output_type": "execute_result"
    }
   ],
   "source": [
    "arr = [5,2,1,6,8] \n",
    "bt = BinarySeachTree()\n",
    "for a in arr:\n",
    "    bt.insert(a)\n",
    "\n",
    "isASubtree(bt, bt.root[0].left[0])"
   ]
  },
  {
   "cell_type": "markdown",
   "metadata": {
    "collapsed": true
   },
   "source": [
    "## 4.11 return a random note from the tree w/ equal prob"
   ]
  },
  {
   "cell_type": "code",
   "execution_count": 26,
   "metadata": {
    "collapsed": true
   },
   "outputs": [],
   "source": [
    "import random\n",
    "#random.seed(615)\n",
    "def randomNodes(bt):\n",
    "    totalNodes = countNodes(bt, bt.root[0]) \n",
    "    ran = [random.randint(1, totalNodes)]\n",
    "    print 'The random number is',ran[0], 'which is between 1 and' , totalNodes\n",
    "    return _randomNodes(bt, bt.root[0], ran)\n",
    "    \n",
    "def _randomNodes(bt, root, ran):\n",
    "    if ran[0] == 1:\n",
    "        return root \n",
    "    \n",
    "    if root.left[0] != None:\n",
    "        ran[0] -= 1\n",
    "        a = _randomNodes(bt, root.left[0], ran)\n",
    "        if a != None:\n",
    "            return a\n",
    "    if root.right[0] != None:\n",
    "        ran[0] -= 1\n",
    "        a = _randomNodes(bt, root.right[0], ran)\n",
    "        if a != None:\n",
    "            return a\n",
    "    \n",
    "def countNodes(bt, root):\n",
    "    if root == None:\n",
    "        return 0\n",
    "    return countNodes(bt, root.left[0]) + countNodes(bt, root.right[0]) + 1"
   ]
  },
  {
   "cell_type": "code",
   "execution_count": 27,
   "metadata": {
    "collapsed": false
   },
   "outputs": [
    {
     "name": "stdout",
     "output_type": "stream",
     "text": [
      "The random number is 4 which is between 1 and 5\n",
      "the random output: 6\n"
     ]
    }
   ],
   "source": [
    "arr = [5,2,1,6,8] \n",
    "bt = BinarySeachTree()\n",
    "for a in arr:\n",
    "    bt.insert(a)\n",
    "    \n",
    "o = randomNodes(bt).data\n",
    "print 'the random output:', o"
   ]
  },
  {
   "cell_type": "markdown",
   "metadata": {},
   "source": [
    "## 4.12 find the number of paths raise to the given sum"
   ]
  },
  {
   "cell_type": "code",
   "execution_count": 28,
   "metadata": {
    "collapsed": true
   },
   "outputs": [],
   "source": [
    "def numPathSum(bt, sumNum):  \n",
    "    return _numPathSum(bt, bt.root[0], sumNum) \n",
    "\n",
    "def _numPathSum(bt, root, sumNum):\n",
    "    if root == None:\n",
    "        return 0\n",
    "    found = 0\n",
    "    if sumNum == root.data:\n",
    "        found += 1\n",
    "    found += _numPathStartHere(bt, root.left[0], sumNum-root.data) +\\\n",
    "     _numPathStartHere(bt, root.right[0], sumNum-root.data)\n",
    "     \n",
    "    return found + _numPathSum(bt, root.left[0], sumNum) + \\\n",
    "    _numPathSum(bt, root.right[0], sumNum)\n",
    "\n",
    "def _numPathStartHere(bt, root, sumNum):\n",
    "    if root == None:\n",
    "        return 0\n",
    "    found = 0\n",
    "    if sumNum == root.data:\n",
    "        found += 1\n",
    "    return found + _numPathStartHere(bt,root.left[0],sumNum-root.data) +\\\n",
    "        _numPathStartHere(bt, root.right[0], sumNum-root.data) "
   ]
  },
  {
   "cell_type": "code",
   "execution_count": 29,
   "metadata": {
    "collapsed": false
   },
   "outputs": [
    {
     "name": "stdout",
     "output_type": "stream",
     "text": [
      "number of paths summing to 5 is 3\n"
     ]
    }
   ],
   "source": [
    "arr = [5,2,-2,3,6,8] \n",
    "bt = BinarySeachTree()\n",
    "for a in arr:\n",
    "    bt.insert(a)\n",
    "    \n",
    "print 'number of paths summing to 5 is', numPathSum(bt, 5)    "
   ]
  }
 ],
 "metadata": {
  "kernelspec": {
   "display_name": "Python 2",
   "language": "python",
   "name": "python2"
  },
  "language_info": {
   "codemirror_mode": {
    "name": "ipython",
    "version": 2
   },
   "file_extension": ".py",
   "mimetype": "text/x-python",
   "name": "python",
   "nbconvert_exporter": "python",
   "pygments_lexer": "ipython2",
   "version": "2.7.11"
  }
 },
 "nbformat": 4,
 "nbformat_minor": 0
}
