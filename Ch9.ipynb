{
 "cells": [
  {
   "cell_type": "markdown",
   "metadata": {},
   "source": [
    "# Chapter 9 System Design and Scalability\n",
    "\n",
    "from Gayle Laakmann McDowell's \"Cracking the Coding Interview\", 6th ed.\n",
    "\n",
    "Ron Wu"
   ]
  },
  {
   "cell_type": "markdown",
   "metadata": {},
   "source": [
    "## 9.1 stock data "
   ]
  },
  {
   "cell_type": "code",
   "execution_count": 1,
   "metadata": {
    "collapsed": false
   },
   "outputs": [
    {
     "name": "stdout",
     "output_type": "stream",
     "text": [
      "[{u'Adj_Close': u'157.080002',\n",
      "  u'Close': u'157.080002',\n",
      "  u'Date': u'2016-10-05',\n",
      "  u'High': u'157.830002',\n",
      "  u'Low': u'156.720001',\n",
      "  u'Open': u'157.070007',\n",
      "  u'Symbol': u'IBM',\n",
      "  u'Volume': u'1684500'},\n",
      " {u'Adj_Close': u'156.460007',\n",
      "  u'Close': u'156.460007',\n",
      "  u'Date': u'2016-10-04',\n",
      "  u'High': u'158.529999',\n",
      "  u'Low': u'155.820007',\n",
      "  u'Open': u'157.669998',\n",
      "  u'Symbol': u'IBM',\n",
      "  u'Volume': u'2884100'},\n",
      " {u'Adj_Close': u'157.610001',\n",
      "  u'Close': u'157.610001',\n",
      "  u'Date': u'2016-10-03',\n",
      "  u'High': u'158.369995',\n",
      "  u'Low': u'157.020004',\n",
      "  u'Open': u'158.059998',\n",
      "  u'Symbol': u'IBM',\n",
      "  u'Volume': u'2227800'}]\n"
     ]
    }
   ],
   "source": [
    "#json or xml are good for storing (easy adding new data, new columns)\n",
    "#sql databases are efficient for selecting data\n",
    "\n",
    "'''\n",
    "going to \n",
    "https://developer.yahoo.com/yql/console/?q=show%20tables&env=store://datatables.org/alltableswithkeys\n",
    "\n",
    "useful tables:\n",
    "\n",
    "yahoo.finance.quotes\n",
    "yahoo.finance.historicaldata \n",
    "yahoo.finance.balancesheet\n",
    "yahoo.finance.incomestatement\n",
    "yahoo.finance.dividendhistory\n",
    "yahoo.finance.analystestimate\n",
    "yahoo.finance.keystats \n",
    "\n",
    "then write SQL then get the url\n",
    "\n",
    "View them on the web https://finance.yahoo.com/quote/FB/key-statistics?p=FB\n",
    "'''\n",
    "import requests\n",
    "from pprint import pprint\n",
    "\n",
    "url = \"https://query.yahooapis.com/v1/public/yql?q=select%20*%20from%20\\\n",
    "        yahoo.finance.historicaldata%20where%20symbol%20%3D%20%22SYMBOL%22%20\\\n",
    "        and%20startDate%20%3D%20%22STARTINGDATE%22%20and%20endDate%20%3D%20%22ENDINGDATE\\\n",
    "        %22&format=json&diagnostics=true&env=store%3A%2F%2Fdatatables.org%2Falltableswithkeys&\\\n",
    "        callback=\"\n",
    "\n",
    "url=url.replace(\"SYMBOL\",\"IBM\").replace(\"STARTINGDATE\",\"2016-10-1\").replace(\"ENDINGDATE\",\"2016-10-5\") \n",
    "\n",
    "response = requests.get(url)\n",
    "response_json = response.json()\n",
    "\n",
    "pprint(response_json[\"query\"][\"results\"][\"quote\"])"
   ]
  },
  {
   "cell_type": "markdown",
   "metadata": {},
   "source": [
    "## 9.2 social network"
   ]
  },
  {
   "cell_type": "code",
   "execution_count": 2,
   "metadata": {
    "collapsed": true
   },
   "outputs": [],
   "source": [
    "#store as graph, and the nodes are userID, userID hashed pointing to \n",
    "#user information (including connections) stored on different machines \n",
    "\n",
    "#to find a shortest paths between two nodes (A, B), do BFS on both nodes. \n",
    "#If the hash tables says some of A's friends live on machine 'C',\n",
    "#then wait to see some many B's connections live on 'C' too, then\n",
    "#and go to 'C' in a batch because jumping between machines have high latency\n",
    "\n",
    "#The hash table itself may be too big for one machine. Splitting hash table to different\n",
    "#machines, keep hash collisions on the same machine, so for a given user, first\n",
    "#get the hash value, so we know which machine contains the segment of hash table that \n",
    "#the user belongs to, then from the hash table get the machine that user information lives \n"
   ]
  },
  {
   "cell_type": "markdown",
   "metadata": {},
   "source": [
    "## 9.3 web crawler"
   ]
  },
  {
   "cell_type": "code",
   "execution_count": 3,
   "metadata": {
    "collapsed": false
   },
   "outputs": [
    {
     "data": {
      "text/html": [
       "<iframe src=http://quotes.wsj.com/FB/historical-prices width=700 height=500></iframe>"
      ],
      "text/plain": [
       "<IPython.core.display.HTML object>"
      ]
     },
     "execution_count": 3,
     "metadata": {},
     "output_type": "execute_result"
    }
   ],
   "source": [
    "from IPython.display import HTML\n",
    "HTML('<iframe src=http://quotes.wsj.com/FB/historical-prices width=700 height=500></iframe>')"
   ]
  },
  {
   "cell_type": "code",
   "execution_count": 4,
   "metadata": {
    "collapsed": false
   },
   "outputs": [],
   "source": [
    "#In 9.1 I showed how to use yahoo's api\n",
    "#but for most websites to get data, we need to crawl\n",
    "\n",
    "import requests\n",
    "from bs4 import BeautifulSoup\n",
    "\n",
    "# say we want to crawler http://quotes.wsj.com/FB/historical-prices\n",
    "\n",
    "url = 'http://quotes.wsj.com/FB/historical-prices'\n",
    "response = requests.get(url)\n",
    "bs_text = BeautifulSoup(response.text, \"html.parser\")"
   ]
  },
  {
   "cell_type": "code",
   "execution_count": 5,
   "metadata": {
    "collapsed": false
   },
   "outputs": [
    {
     "name": "stdout",
     "output_type": "stream",
     "text": [
      "e_nav\">\n",
      "         <span>\n",
      "          <input class=\"datePicker\" id=\"selectDateFrom\" type=\"text\" value=\"07/09/2016\"/>\n",
      "         </span>\n",
      "         <span>\n",
      "          to\n",
      "         </span>\n",
      "         <span>\n",
      "          <input class=\"datePicker\" id=\"selectDateTo\" type=\"text\" value=\"10/07/2016\"/>\n",
      "         </span>\n",
      "         <span>\n",
      "          <input id=\"datPickerButton\" type=\"button\" value=\"go\"/>\n",
      "         </span>\n",
      "      \n"
     ]
    }
   ],
   "source": [
    "import pyperclip \n",
    "pyperclip.copy(bs_text)\n",
    "print(bs_text.prettify()[90250:90250+400])"
   ]
  },
  {
   "cell_type": "code",
   "execution_count": 6,
   "metadata": {
    "collapsed": false
   },
   "outputs": [
    {
     "data": {
      "text/html": [
       "<div>\n",
       "<table border=\"1\" class=\"dataframe\">\n",
       "  <thead>\n",
       "    <tr style=\"text-align: right;\">\n",
       "      <th></th>\n",
       "      <th>Open</th>\n",
       "      <th>High</th>\n",
       "      <th>Low</th>\n",
       "      <th>Close</th>\n",
       "      <th>Vol (M)</th>\n",
       "    </tr>\n",
       "    <tr>\n",
       "      <th>Date</th>\n",
       "      <th></th>\n",
       "      <th></th>\n",
       "      <th></th>\n",
       "      <th></th>\n",
       "      <th></th>\n",
       "    </tr>\n",
       "  </thead>\n",
       "  <tbody>\n",
       "    <tr>\n",
       "      <th>10/06/16</th>\n",
       "      <td>128.43</td>\n",
       "      <td>129.06</td>\n",
       "      <td>128.08</td>\n",
       "      <td>128.74</td>\n",
       "      <td>11.68</td>\n",
       "    </tr>\n",
       "    <tr>\n",
       "      <th>10/05/16</th>\n",
       "      <td>128.25</td>\n",
       "      <td>128.80</td>\n",
       "      <td>127.83</td>\n",
       "      <td>128.47</td>\n",
       "      <td>12.39</td>\n",
       "    </tr>\n",
       "    <tr>\n",
       "      <th>10/04/16</th>\n",
       "      <td>129.17</td>\n",
       "      <td>129.2765</td>\n",
       "      <td>127.5499</td>\n",
       "      <td>128.19</td>\n",
       "      <td>14.31</td>\n",
       "    </tr>\n",
       "    <tr>\n",
       "      <th>10/03/16</th>\n",
       "      <td>128.38</td>\n",
       "      <td>129.09</td>\n",
       "      <td>127.80</td>\n",
       "      <td>128.77</td>\n",
       "      <td>13.16</td>\n",
       "    </tr>\n",
       "    <tr>\n",
       "      <th>09/30/16</th>\n",
       "      <td>128.03</td>\n",
       "      <td>128.59</td>\n",
       "      <td>127.45</td>\n",
       "      <td>128.27</td>\n",
       "      <td>18.40</td>\n",
       "    </tr>\n",
       "    <tr>\n",
       "      <th>09/29/16</th>\n",
       "      <td>129.18</td>\n",
       "      <td>129.29</td>\n",
       "      <td>127.55</td>\n",
       "      <td>128.09</td>\n",
       "      <td>14.53</td>\n",
       "    </tr>\n",
       "    <tr>\n",
       "      <th>09/28/16</th>\n",
       "      <td>129.21</td>\n",
       "      <td>129.47</td>\n",
       "      <td>128.40</td>\n",
       "      <td>129.23</td>\n",
       "      <td>12.05</td>\n",
       "    </tr>\n",
       "    <tr>\n",
       "      <th>09/27/16</th>\n",
       "      <td>127.61</td>\n",
       "      <td>129.01</td>\n",
       "      <td>127.43</td>\n",
       "      <td>128.69</td>\n",
       "      <td>15.64</td>\n",
       "    </tr>\n",
       "    <tr>\n",
       "      <th>09/26/16</th>\n",
       "      <td>127.37</td>\n",
       "      <td>128.16</td>\n",
       "      <td>126.80</td>\n",
       "      <td>127.31</td>\n",
       "      <td>15.06</td>\n",
       "    </tr>\n",
       "    <tr>\n",
       "      <th>09/23/16</th>\n",
       "      <td>127.56</td>\n",
       "      <td>128.60</td>\n",
       "      <td>127.30</td>\n",
       "      <td>127.96</td>\n",
       "      <td>28.33</td>\n",
       "    </tr>\n",
       "  </tbody>\n",
       "</table>\n",
       "</div>"
      ],
      "text/plain": [
       "            Open      High       Low   Close Vol (M)\n",
       "Date                                                \n",
       "10/06/16  128.43    129.06    128.08  128.74   11.68\n",
       "10/05/16  128.25    128.80    127.83  128.47   12.39\n",
       "10/04/16  129.17  129.2765  127.5499  128.19   14.31\n",
       "10/03/16  128.38    129.09    127.80  128.77   13.16\n",
       "09/30/16  128.03    128.59    127.45  128.27   18.40\n",
       "09/29/16  129.18    129.29    127.55  128.09   14.53\n",
       "09/28/16  129.21    129.47    128.40  129.23   12.05\n",
       "09/27/16  127.61    129.01    127.43  128.69   15.64\n",
       "09/26/16  127.37    128.16    126.80  127.31   15.06\n",
       "09/23/16  127.56    128.60    127.30  127.96   28.33"
      ]
     },
     "execution_count": 6,
     "metadata": {},
     "output_type": "execute_result"
    }
   ],
   "source": [
    "import pandas as pd\n",
    "\n",
    "hist_table = []\n",
    "hisData = bs_text.find(\"div\",{ \"id\": \"historical_data_table\"})\n",
    "for r in hisData.find_all('tr'):\n",
    "    row = r.find_all('td')\n",
    "    date =  row[0].text\n",
    "    open_price =  row[1].text\n",
    "    high =  row[2].text\n",
    "    low =  row[3].text\n",
    "    close_price =  row[4].text\n",
    "    vol =  row[5].text.replace(' M','')\n",
    "    hist_table.append([date, open_price, high, low, close_price, vol])\n",
    "\n",
    "df = pd.DataFrame(hist_table)\n",
    "df.columns = ['Date','Open','High','Low','Close','Vol (M)']\n",
    "df.set_index('Date',inplace=True)\n",
    "df.head(10)"
   ]
  },
  {
   "cell_type": "markdown",
   "metadata": {},
   "source": [
    "## 9.4 duplicate url"
   ]
  },
  {
   "cell_type": "code",
   "execution_count": 7,
   "metadata": {
    "collapsed": false
   },
   "outputs": [],
   "source": [
    "#hash 10 billion url, split hash (base on parent url)\n",
    "#on different machine and keep collision together and check duplication\n"
   ]
  },
  {
   "cell_type": "markdown",
   "metadata": {},
   "source": [
    "## 9.5 cache for web search engine"
   ]
  },
  {
   "cell_type": "code",
   "execution_count": 8,
   "metadata": {
    "collapsed": true
   },
   "outputs": [],
   "source": [
    "#search engine doesn't use a brutal search for every request. In fact it builds a power cache\n",
    "#cache is a hash table split across many machines. When the request comes in, it may hit\n",
    "#randomly any hash server (work balancer), from the hashed key, they know which machine\n",
    "#has the hashed information, then go to that machine to look for the hash table.\n",
    "#the hash value will return a point to a chain of linked list, each node of which stores the\n",
    "#related page. The LL is very effective for updating page ranks and adding or removing pages."
   ]
  },
  {
   "cell_type": "markdown",
   "metadata": {},
   "source": [
    "## 9.6 sales rank"
   ]
  },
  {
   "cell_type": "code",
   "execution_count": 9,
   "metadata": {
    "collapsed": true
   },
   "outputs": [],
   "source": [
    "#If we normalize table fully, we would have to have 2 table. \n",
    "#One to store sales quantities indexed by product id, and the other is category tables \n",
    "#store produces under each category. Then there will be a lots of joins.\n",
    "\n",
    "#If joins are expensive (because it may cross many machines) but storages are cheap\n",
    "#we will designate a few machines for each category. When a product is purchased, \n",
    "#we log it to all categories this product belongs to. So at the end of day,\n",
    "#we will do a simple sort for each category"
   ]
  },
  {
   "cell_type": "markdown",
   "metadata": {},
   "source": [
    "## 9.7 personal financial manager"
   ]
  },
  {
   "cell_type": "code",
   "execution_count": 10,
   "metadata": {
    "collapsed": true
   },
   "outputs": [],
   "source": [
    "#what does it do?\n",
    "#1. pull the banking information: spending, income,\n",
    "#2. analyze it, catogorize spending, email alert spending over certain percetage of income\n",
    "#3. user input spending/saving goals.\n",
    "#4. compare user spending habits across similar users "
   ]
  },
  {
   "cell_type": "markdown",
   "metadata": {},
   "source": [
    "## 9.8 pastebin"
   ]
  },
  {
   "cell_type": "code",
   "execution_count": 11,
   "metadata": {
    "collapsed": true
   },
   "outputs": [],
   "source": [
    "#hash url to a new message \n",
    "#storage url to registered users\n",
    "#purging message when it expires "
   ]
  }
 ],
 "metadata": {
  "kernelspec": {
   "display_name": "Python 2",
   "language": "python",
   "name": "python2"
  },
  "language_info": {
   "codemirror_mode": {
    "name": "ipython",
    "version": 2
   },
   "file_extension": ".py",
   "mimetype": "text/x-python",
   "name": "python",
   "nbconvert_exporter": "python",
   "pygments_lexer": "ipython2",
   "version": "2.7.11"
  }
 },
 "nbformat": 4,
 "nbformat_minor": 0
}
