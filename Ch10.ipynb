{
 "cells": [
  {
   "cell_type": "markdown",
   "metadata": {},
   "source": [
    "# Chapter 10 Sorting and Searching\n",
    "\n",
    "from Gayle Laakmann McDowell's \"Cracking the Coding Interview\", 6th ed.\n",
    "\n",
    "Ron Wu"
   ]
  },
  {
   "cell_type": "markdown",
   "metadata": {},
   "source": [
    "## 10.1 merge sorted arrays A, B, and A has a large buffer"
   ]
  },
  {
   "cell_type": "code",
   "execution_count": 1,
   "metadata": {
    "collapsed": false
   },
   "outputs": [
    {
     "data": {
      "text/plain": [
       "[1, 3, 5, 7, 8, 10, 10, None, None]"
      ]
     },
     "execution_count": 1,
     "metadata": {},
     "output_type": "execute_result"
    }
   ],
   "source": [
    "A = [1,5,8,10, None, None, None, None, None]\n",
    "B = [3,7,10]\n",
    "\n",
    "def mergeSorted(A, B):\n",
    "    for i in reversed(range(len(A))):\n",
    "        if A[i] != None:\n",
    "            break\n",
    "    \n",
    "    EndPoint = i + len(B)\n",
    "    j = len(B) - 1\n",
    "    \n",
    "    while j >= 0 and i >= 0:\n",
    "        if A[i] > B[j]:\n",
    "            A[EndPoint] = A[i]\n",
    "            EndPoint -= 1\n",
    "            i -= 1\n",
    "        else: \n",
    "            A[EndPoint] = B[j]\n",
    "            EndPoint -= 1\n",
    "            j -= 1\n",
    "    return A\n",
    "\n",
    "mergeSorted(A, B)"
   ]
  },
  {
   "cell_type": "markdown",
   "metadata": {},
   "source": [
    "## 10.2 sort strings by anagrams"
   ]
  },
  {
   "cell_type": "code",
   "execution_count": 2,
   "metadata": {
    "collapsed": false
   },
   "outputs": [],
   "source": [
    "def _CashString(s): \n",
    "    #assume contains only english letters\n",
    "    result = [0]*26\n",
    "    for l in s:\n",
    "        result[ord(l.lower())-ord('a')] += 1 \n",
    "    return result\n",
    "        \n",
    "def ModifiedQuickSort(A, B, left, right):\n",
    "    index = _partition(A, B, left, right)\n",
    "    if left < index - 1:\n",
    "        ModifiedQuickSort(A,B, left, index - 1)\n",
    "    if index < right: \n",
    "        ModifiedQuickSort(A,B, index, right)\n",
    "\n",
    "def _partition(A,B, left, right):\n",
    "    pivot = A[(left+right)/2]\n",
    "    while left <= right:\n",
    "        while A[left] < pivot:\n",
    "            left += 1\n",
    "        while A[right] > pivot:\n",
    "            right -= 1\n",
    "            \n",
    "        if left <= right:\n",
    "            A[left], A[right] = A[right], A[left]\n",
    "            B[left], B[right] = B[right], B[left]\n",
    "            left += 1\n",
    "            right -= 1\n",
    "            \n",
    "    return left \n",
    "\n",
    "def sortStringAnagram(B):\n",
    "    dicBysize = {}\n",
    "    for b in B:\n",
    "        if len(b) in dicBysize:\n",
    "            dicBysize[len(b)].append(b)\n",
    "        else:\n",
    "            dicBysize[len(b)] = [b]\n",
    "    \n",
    "    result = []\n",
    "    for (size, s) in dicBysize.iteritems():\n",
    "        if len(s) == 1:\n",
    "            result.extend(s)\n",
    "        else:\n",
    "            A = []\n",
    "            for ss in s:\n",
    "                A.append(_CashString(ss))\n",
    "            ModifiedQuickSort(A, s,  0, len(A)-1)\n",
    "            result.extend(s)\n",
    "    return result"
   ]
  },
  {
   "cell_type": "code",
   "execution_count": 3,
   "metadata": {
    "collapsed": false
   },
   "outputs": [
    {
     "data": {
      "text/plain": [
       "['US', 'Cod', 'doc', 'ant', 'tan', 'baker', 'break', 'builder', 'Rebuild']"
      ]
     },
     "execution_count": 3,
     "metadata": {},
     "output_type": "execute_result"
    }
   ],
   "source": [
    "A = ['Rebuild', 'break', 'doc', 'baker', 'builder','Cod','US', 'tan','ant']\n",
    "sortStringAnagram(A)"
   ]
  },
  {
   "cell_type": "markdown",
   "metadata": {},
   "source": [
    "## 10.3 search element in a sorted but rotated array"
   ]
  },
  {
   "cell_type": "code",
   "execution_count": 4,
   "metadata": {
    "collapsed": true
   },
   "outputs": [],
   "source": [
    "def binarySearch(A, n, left, right):\n",
    "    if A[left] > n or A[right] < n or left > right:\n",
    "        return None\n",
    "    mid = (left + right) / 2\n",
    "    if A[mid] == n:\n",
    "        return mid\n",
    "    if A[mid] > n:\n",
    "        return binarySearch(A, n, left, mid - 1)\n",
    "    else: \n",
    "        return binarySearch(A, n, mid + 1, right)\n",
    "\n",
    "def _findRotation(A, left, right): \n",
    "    '''return the starting index of the original sorted array'''\n",
    "    if left == right:\n",
    "        return None\n",
    "    if A[left] > A[left + 1]:\n",
    "        return left\n",
    "    if A[right] < A[right -1]:\n",
    "        return right\n",
    "    mid = (left + right) / 2 \n",
    "    if A[mid] > A[mid+1] and A[mid] < A[mid-1]:\n",
    "        return mid\n",
    "    \n",
    "    if A[left] > A[mid]:\n",
    "        return _findRotation(A, left, mid)\n",
    "    else:\n",
    "        return _findRotation(A, mid, right)\n",
    "\n",
    "def searchSortedRotated(A, n):\n",
    "    indexUnrotated = _findRotation(A, 0, len(A) - 1)\n",
    "    if indexUnrotated == 0 or None:\n",
    "        return binarySearch(A, n, 0, len(A) - 1)\n",
    "    \n",
    "    a = binarySearch(A, n, 0, indexUnrotated - 1)\n",
    "    b = binarySearch(A, n, indexUnrotated, len(A) - 1)\n",
    "    \n",
    "    if a != None:\n",
    "        return a\n",
    "    if b !=None:\n",
    "        return b"
   ]
  },
  {
   "cell_type": "code",
   "execution_count": 5,
   "metadata": {
    "collapsed": false
   },
   "outputs": [
    {
     "data": {
      "text/plain": [
       "8"
      ]
     },
     "execution_count": 5,
     "metadata": {},
     "output_type": "execute_result"
    }
   ],
   "source": [
    "n = 5\n",
    "A = [15,16,19,20,25,1,3,4,5,7,10,14] \n",
    "\n",
    "searchSortedRotated(A,n)"
   ]
  },
  {
   "cell_type": "markdown",
   "metadata": {},
   "source": [
    "## 10.4 like binary search with unknown right bound "
   ]
  },
  {
   "cell_type": "code",
   "execution_count": 6,
   "metadata": {
    "collapsed": false
   },
   "outputs": [],
   "source": [
    "class Listy(object):\n",
    "    def __init__(self, A):\n",
    "        self.arr = A\n",
    "        \n",
    "    def elementAt(self, i):\n",
    "        if i < len(self.arr) - 1 and i >=0 :\n",
    "            return self.arr[i]\n",
    "        else:\n",
    "            return -1\n",
    "        \n",
    "def searchSortedList(lst, n, left, right):\n",
    "    '''reverse binary search 1,2,4,8,16,...'''\n",
    "    if right != None:\n",
    "        return binarySearch(A, n, left, right)\n",
    "    if lst.elementAt(left) > n:\n",
    "        return None\n",
    "    if lst.elementAt(left) == n:\n",
    "        return left\n",
    "    mid = left * 2 + 1\n",
    "    if lst.elementAt(mid) == -1:\n",
    "        return searchSortedList(lst, n, left + 1, None)\n",
    "    if lst.elementAt(mid) == n:\n",
    "        return mid\n",
    "    if lst.elementAt(mid) < n:\n",
    "        return searchSortedList(lst, n, mid, None)\n",
    "    if lst.elementAt(mid) > n:\n",
    "        return binarySearch(A, n, left, right)"
   ]
  },
  {
   "cell_type": "code",
   "execution_count": 7,
   "metadata": {
    "collapsed": false
   },
   "outputs": [
    {
     "name": "stdout",
     "output_type": "stream",
     "text": [
      "[(1, 0), (3, 1), (5, 2), (7, 3), (13, 4), (26, 5), (45, 6), (67, 7)]\n",
      "the index of 13 is 4\n"
     ]
    }
   ],
   "source": [
    "A = [1,3,5,7,13,26,45,67]\n",
    "iList = Listy(A)\n",
    "print zip(A,[x for x in range(len(A))])\n",
    "n = 13\n",
    "print 'the index of', n , 'is',searchSortedList(iList, n, 0 , None)"
   ]
  },
  {
   "cell_type": "markdown",
   "metadata": {},
   "source": [
    "## 10.5 sort a sparse array of strings"
   ]
  },
  {
   "cell_type": "code",
   "execution_count": 8,
   "metadata": {
    "collapsed": true
   },
   "outputs": [],
   "source": [
    "def findIndexSparseArray(A, find):\n",
    "    index = 0\n",
    "    for a in A:\n",
    "        if len(a)!=0:\n",
    "            if a == find:\n",
    "                return index\n",
    "        index += 1\n",
    "    return None"
   ]
  },
  {
   "cell_type": "code",
   "execution_count": 9,
   "metadata": {
    "collapsed": false
   },
   "outputs": [
    {
     "data": {
      "text/plain": [
       "4"
      ]
     },
     "execution_count": 9,
     "metadata": {},
     "output_type": "execute_result"
    }
   ],
   "source": [
    "A = ['at','','','','ball','','','car','','','dad','','']\n",
    "find = 'ball'\n",
    "findIndexSparseArray(A, find)"
   ]
  },
  {
   "cell_type": "markdown",
   "metadata": {},
   "source": [
    "## 10.6 sort each line of strings of a 20GB file"
   ]
  },
  {
   "cell_type": "code",
   "execution_count": 10,
   "metadata": {
    "collapsed": true
   },
   "outputs": [],
   "source": [
    "#typical memory is ~1GB\n",
    "#so divide 20GB into 20 files and sort each file\n",
    "#then merge sorted files\n",
    "#take two sorted files, take .5GB of each, begin merge, when the result gets full,\n",
    "#write it to the disk, and continue till merge finishes"
   ]
  },
  {
   "cell_type": "markdown",
   "metadata": {},
   "source": [
    "## 10.7 find missing integer in the range of 4 billion integers"
   ]
  },
  {
   "cell_type": "code",
   "execution_count": 11,
   "metadata": {
    "collapsed": true
   },
   "outputs": [],
   "source": [
    "#the memory is only 10MB ~ 2^22, recall 2^20 bits ~ 1MB\n",
    "# so if we created a boolean vectors 0 or 1 to represent all\n",
    "#4 billion ( ~ 2^30) distinct integers we will need (2^32) ~ 1 Gigabyte of memory\n",
    "\n",
    "#we cannot dump everything in the memory, so we will create 2^10 ~ 1000 different files \n",
    "#to store the boolean vectors. As we go through the integers, we write to the appropriate file \n"
   ]
  },
  {
   "cell_type": "markdown",
   "metadata": {},
   "source": [
    "## 10.8 find duplicates"
   ]
  },
  {
   "cell_type": "code",
   "execution_count": 12,
   "metadata": {
    "collapsed": false
   },
   "outputs": [
    {
     "name": "stdout",
     "output_type": "stream",
     "text": [
      "duplicate found 3\n",
      "duplicate found 8\n"
     ]
    }
   ],
   "source": [
    "# 4 kilobytes of memory ~ 8 * 4 * 2^10 ~ 32000, so just enough to store the boolean vectors \n",
    "# in the memory\n",
    "number = [1,2,3,3,5,6,7,8,8,9,10,11]\n",
    "\n",
    "found = [False]*32000\n",
    "for n in number:\n",
    "    if found[n] == 1:\n",
    "        print 'duplicate found', n \n",
    "    else:\n",
    "        found[n] = 1\n",
    "    "
   ]
  },
  {
   "cell_type": "markdown",
   "metadata": {},
   "source": [
    "## 10.9 search a sorted matrix"
   ]
  },
  {
   "cell_type": "code",
   "execution_count": 13,
   "metadata": {
    "collapsed": false
   },
   "outputs": [],
   "source": [
    "def binarySearch(A, n, left, right):\n",
    "    if A[left] > n or A[right] < n or left > right:\n",
    "        return None\n",
    "    mid = (left + right) / 2\n",
    "    if A[mid] == n:\n",
    "        return mid\n",
    "    if A[mid] > n:\n",
    "        return binarySearch(A, n, left, mid - 1)\n",
    "    else: \n",
    "        return binarySearch(A, n, mid + 1, right)\n",
    "    \n",
    "def modifiedBinarySearch(A, n, left, right):\n",
    "    '''if the item is not found, return its left, right indices boundary'''\n",
    "    \n",
    "    if A[left] > n:\n",
    "        return [None, left]\n",
    "    if A[right] < n:\n",
    "        return [right, None]\n",
    "    \n",
    "    if A[left] == n:\n",
    "        return [left, left]\n",
    "    if A[right] == n:\n",
    "        return [right, right]\n",
    "    \n",
    "    if left == right - 1:\n",
    "        return [left, right]\n",
    "    \n",
    "    mid = (left + right) / 2\n",
    "    if A[mid] == n:\n",
    "        return [mid, mid]\n",
    "                \n",
    "    if A[mid] > n:  \n",
    "        return modifiedBinarySearch(A, n, left, mid)\n",
    "    else:  \n",
    "        return modifiedBinarySearch(A, n, mid, right)\n",
    "\n",
    "def searchSorted(Mat, n , r, c):\n",
    "    M = len(Mat)\n",
    "    N = len(Mat[0]) \n",
    "    \n",
    "    if r == M - 1:\n",
    "        f = binarySearch(Mat[r], n, 0, c)\n",
    "        if f == None:\n",
    "            return [f,f]\n",
    "        else:\n",
    "            return [r,f]\n",
    "        \n",
    "    [a, b] = modifiedBinarySearch(Mat[r], n, 0, c) \n",
    "    if a == None: \n",
    "        return [None, None]\n",
    "    if b == None:  \n",
    "        return searchSorted(Mat, n , r + 1, c)\n",
    "    \n",
    "    if a == b:\n",
    "        return [r,a]\n",
    "    \n",
    "    return searchSorted(Mat, n , r + 1, a)\n",
    "    \n",
    "    "
   ]
  },
  {
   "cell_type": "code",
   "execution_count": 14,
   "metadata": {
    "collapsed": false
   },
   "outputs": [
    {
     "name": "stdout",
     "output_type": "stream",
     "text": [
      "[[1 3 6]\n",
      " [2 5 7]\n",
      " [4 6 9]]\n",
      "search for 5 found? at [1, 1]\n"
     ]
    }
   ],
   "source": [
    "Mat = [[1,3,6],[2,5,7], [4,6,9]]\n",
    "n = 5 \n",
    "import numpy as np\n",
    "print np.matrix(Mat)\n",
    "print 'search for',n,'found? at',searchSorted(Mat, n, 0, len(Mat[0])-1)"
   ]
  },
  {
   "cell_type": "markdown",
   "metadata": {},
   "source": [
    "## 10.10 rank of stream"
   ]
  },
  {
   "cell_type": "code",
   "execution_count": 15,
   "metadata": {
    "collapsed": false
   },
   "outputs": [],
   "source": [
    "class myStream(object):\n",
    "    def __init__(self):\n",
    "        self.arr = []\n",
    "        self.ranking = {}\n",
    "    def track(self, n): \n",
    "        if n in self.ranking:\n",
    "            for k in self.ranking:\n",
    "                if k >= n:\n",
    "                    self.ranking[k] += 1\n",
    "        else: \n",
    "            self.ranking[n] = 0\n",
    "            for k in self.ranking:\n",
    "                if k > n:\n",
    "                    self.ranking[k] += 1\n",
    "                elif k < n:\n",
    "                    self.ranking[n] = max(self.ranking[k]+1, self.ranking[n]) \n",
    "        self.arr.append(n)\n",
    "    \n",
    "    def getRank(self, n):\n",
    "        if n in self.ranking:\n",
    "            return self.ranking[n]\n",
    "        return None"
   ]
  },
  {
   "cell_type": "code",
   "execution_count": 16,
   "metadata": {
    "collapsed": false
   },
   "outputs": [
    {
     "name": "stdout",
     "output_type": "stream",
     "text": [
      "the rank of 3 is 1\n",
      "the entire rankings are {1: 0, 3: 1, 4: 3, 5: 5, 7: 6, 9: 7, 13: 8}\n"
     ]
    }
   ],
   "source": [
    "A = [5,1,4,4,5,9,7,13,3]\n",
    "n = 3\n",
    "iStream = myStream()\n",
    "for a in A:\n",
    "    iStream.track(a)\n",
    "\n",
    "print 'the rank of',n,'is',iStream.getRank(n)\n",
    "print 'the entire rankings are', iStream.ranking"
   ]
  },
  {
   "cell_type": "markdown",
   "metadata": {},
   "source": [
    "## 10.11 peaks and valleys"
   ]
  },
  {
   "cell_type": "code",
   "execution_count": 17,
   "metadata": {
    "collapsed": false
   },
   "outputs": [],
   "source": [
    "def quickSort(A, left, right):\n",
    "    index = partition(A, left, right)  \n",
    "    if left < index - 1:\n",
    "        quickSort(A,left, index - 1)\n",
    "    if index < right: \n",
    "        quickSort(A, index, right)\n",
    "\n",
    "def partition(A,left, right):\n",
    "    pivot = A[(left + right) / 2]\n",
    "    while left <= right:\n",
    "        while A[left] < pivot:\n",
    "            left += 1\n",
    "        while A[right] > pivot:\n",
    "            right -= 1\n",
    "            \n",
    "        if left <= right:\n",
    "            A[left], A[right] = A[right], A[left] \n",
    "            left += 1\n",
    "            right -= 1\n",
    "            \n",
    "    return left \n",
    "\n",
    "def peakValleyAlternate(A):\n",
    "    quickSort(A, 0, len(A) - 1)  \n",
    "    result = []\n",
    "    left = 0\n",
    "    right = len(A) - 1 \n",
    "    while left < right:\n",
    "        result.append(A[right])\n",
    "        result.append(A[left])\n",
    "        left += 1\n",
    "        right -= 1 \n",
    "    if len(A) % 2 ==1:\n",
    "        result.append(A[right])\n",
    "    return result"
   ]
  },
  {
   "cell_type": "code",
   "execution_count": 18,
   "metadata": {
    "collapsed": false
   },
   "outputs": [
    {
     "data": {
      "text/plain": [
       "[5, 1, 3, 2, 3]"
      ]
     },
     "execution_count": 18,
     "metadata": {},
     "output_type": "execute_result"
    }
   ],
   "source": [
    "A = [5,3,1,2,3]\n",
    "peakValleyAlternate(A)"
   ]
  }
 ],
 "metadata": {
  "kernelspec": {
   "display_name": "Python 2",
   "language": "python",
   "name": "python2"
  },
  "language_info": {
   "codemirror_mode": {
    "name": "ipython",
    "version": 2
   },
   "file_extension": ".py",
   "mimetype": "text/x-python",
   "name": "python",
   "nbconvert_exporter": "python",
   "pygments_lexer": "ipython2",
   "version": "2.7.11"
  }
 },
 "nbformat": 4,
 "nbformat_minor": 0
}
