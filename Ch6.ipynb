{
 "cells": [
  {
   "cell_type": "markdown",
   "metadata": {},
   "source": [
    "# Chapter 6 Math and Logic Puzzles\n",
    "\n",
    "from Gayle Laakmann McDowell's \"Cracking the Coding Interview\", 6th ed.\n",
    "\n",
    "Ron Wu"
   ]
  },
  {
   "cell_type": "markdown",
   "metadata": {},
   "source": [
    "## 6.1 heavy pill or dishonest gold collector"
   ]
  },
  {
   "cell_type": "code",
   "execution_count": 1,
   "metadata": {
    "collapsed": false
   },
   "outputs": [
    {
     "name": "stdout",
     "output_type": "stream",
     "text": [
      "which pill is? 3\n",
      "Did it find it? True\n"
     ]
    }
   ],
   "source": [
    "def findHeavyPill(arr):\n",
    "    weightMeas = 0\n",
    "    weightIdeal = 0\n",
    "    for i in range(len(arr)):\n",
    "        weightMeas += arr[i]*(i+1)\n",
    "        weightIdeal += (i+1)\n",
    "    return round((weightMeas-weightIdeal)/0.1 - 1)\n",
    "    \n",
    "\n",
    "Pill=[1]*20\n",
    "import random\n",
    "ran = random.randint(0,20-1)\n",
    "Pill[ran] = 1.1  \n",
    "print 'which pill is?',ran\n",
    "print 'Did it find it?',ran == findHeavyPill(Pill)"
   ]
  },
  {
   "cell_type": "markdown",
   "metadata": {},
   "source": [
    "## 6.2 one shot or three shots"
   ]
  },
  {
   "cell_type": "code",
   "execution_count": 2,
   "metadata": {
    "collapsed": false
   },
   "outputs": [
    {
     "name": "stdout",
     "output_type": "stream",
     "text": [
      "chance to win game 1: 0.8\n",
      "chance to win game 2: 0.896\n",
      "with shoting accuracy: 0.8\n",
      "\n",
      "experiment play 100 times for both games:\n",
      "winning 80 games in game 1\n",
      "winning 87 games in game 2\n"
     ]
    }
   ],
   "source": [
    "# let p be prob of making the hoop, assume all shots are indep\n",
    "# game 1 winning prob = p\n",
    "# game 2 winning prob = 3 choose 2 * p^2 * (1-p) + p**3\n",
    "# thus game 1 is preferred for p < 1/2\n",
    "\n",
    "import numpy as np\n",
    "p0 = 0.8\n",
    " \n",
    "print 'chance to win game 1:',p0\n",
    "print 'chance to win game 2:',3*p0**2*(1-p0)+p0**3\n",
    "print 'with shoting accuracy:', p0\n",
    "\n",
    "shot1 = np.array([0] * 20 + [1] * 80)\n",
    "np.random.shuffle(shot1)\n",
    "shot2 = np.array([0] * 20*3 + [1] * 80*3)\n",
    "np.random.shuffle(shot2)\n",
    "\n",
    "win_game2=0\n",
    "for i in range(100): \n",
    "    if sum(shot2[i*3:i*3+3])>=2:\n",
    "        win_game2 += 1\n",
    "    \n",
    "print '\\nexperiment play 100 times for both games:'\n",
    "print 'winning', shot1.sum(), 'games in game 1'\n",
    "print 'winning', win_game2, 'games in game 2'"
   ]
  },
  {
   "cell_type": "markdown",
   "metadata": {},
   "source": [
    "## 6.3 dominos cover chessboard"
   ]
  },
  {
   "cell_type": "code",
   "execution_count": 3,
   "metadata": {
    "collapsed": false
   },
   "outputs": [],
   "source": [
    "# 8*8 chessboard has 32 white and 32 black blocks. \n",
    "# After removing 2 same color blocks, only 32/30 colors, \n",
    "# so cannot fit 31 2-color dominos"
   ]
  },
  {
   "cell_type": "markdown",
   "metadata": {},
   "source": [
    "## 6.4 n ants on n vertex polygon, chance of collision"
   ]
  },
  {
   "cell_type": "code",
   "execution_count": 4,
   "metadata": {
    "collapsed": true
   },
   "outputs": [],
   "source": [
    "# n vertex polygon has n edges\n",
    "# only 2 out of 2^n initial picks will avoid collison, so \n",
    "# 2/2^n"
   ]
  },
  {
   "cell_type": "markdown",
   "metadata": {},
   "source": [
    "## 6.5 make 4 gallon water using 3, 5 gallon jugs"
   ]
  },
  {
   "cell_type": "code",
   "execution_count": 5,
   "metadata": {
    "collapsed": true
   },
   "outputs": [],
   "source": [
    "# 1. fill 3-gallon jug, pour to 5-gallon empty jug\n",
    "# 2. fill 3-gallon jug, slowly pour to 5-gallon jug til full \n",
    "#so there is 1 gallon left in 3-gallon jug. \n",
    "# 3. Empty 5-gallon jug, transfer the 1 gallon to it\n",
    "# 4. fill 3-gallon jug, and add it to the 5-gallon jug"
   ]
  },
  {
   "cell_type": "markdown",
   "metadata": {},
   "source": [
    "## 6.6 blue eye island, color hats"
   ]
  },
  {
   "cell_type": "code",
   "execution_count": 6,
   "metadata": {
    "collapsed": true
   },
   "outputs": [],
   "source": [
    "#  knowing there is at least one blue eye person. If there is 1 blue eye, \n",
    "#he will know immediately and take the 8pm flight \n",
    "#to leave so there will be no blue eye on the second day.\n",
    "\n",
    "#  If there are 2 blue eye, and the blue eye person can only see one other\n",
    "#blue person on the island, so he may think that by the second day there will\n",
    "#be no blue eye, but to his surprise, he still sees the only blue eye\n",
    "#for the second day. So he deduces that he must be blue eye too. So both\n",
    "#will leave on the second night.\n",
    "\n",
    "# hence all n blue eye people will leave on the nth night"
   ]
  },
  {
   "cell_type": "markdown",
   "metadata": {},
   "source": [
    "## 6.7 each family will give birth to child and stop if they get a girl"
   ]
  },
  {
   "cell_type": "code",
   "execution_count": 7,
   "metadata": {
    "collapsed": false
   },
   "outputs": [
    {
     "name": "stdout",
     "output_type": "stream",
     "text": [
      "girl/(boy+girl): 0.496524329692\n"
     ]
    }
   ],
   "source": [
    "# N families in the country\n",
    "# during first birth period, N/2 get girls so they stop\n",
    "# continue,  N/4 out of the N/2 families get girls, \n",
    "# so the girl gender ratio is (N/2+N/4)/(N+N/2) which is still N/2 \n",
    "# same pattern continue, N/2 constant ratio\n",
    "\n",
    "import random\n",
    "N = 1000\n",
    "boy = 0\n",
    "girl = 0 \n",
    "for faimly in range(N): \n",
    "    birth = 0\n",
    "    while birth == 0:\n",
    "        birth = random.randint(0, 1) \n",
    "        if birth == 0:\n",
    "            boy += 1\n",
    "        else:\n",
    "            girl += 1\n",
    "\n",
    "print 'girl/(boy+girl):', (girl+0.0)/(boy+girl)"
   ]
  },
  {
   "cell_type": "markdown",
   "metadata": {},
   "source": [
    "## 6.8 egg dropping contest"
   ]
  },
  {
   "cell_type": "code",
   "execution_count": 8,
   "metadata": {
    "collapsed": false
   },
   "outputs": [],
   "source": [
    "# inverse binary seach\n",
    "# start level 1\n",
    "# level 2\n",
    "# level 4\n",
    "# level 8\n",
    "# level 16\n",
    "# say 16 breaks\n",
    "\n",
    "# so [9, 15], then repeat the same inverse binary seach again"
   ]
  },
  {
   "cell_type": "markdown",
   "metadata": {},
   "source": [
    "## 6.9 100 locks or 100 coins or 100 light bulb"
   ]
  },
  {
   "cell_type": "code",
   "execution_count": 9,
   "metadata": {
    "collapsed": true
   },
   "outputs": [],
   "source": [
    "# since every divisor comes in paris, i.e. 2*5=10, \n",
    "# so there are even number of pairs of divisors for every number\n",
    "# except for a perfect square, \n",
    "# there are 10 perfect squares within 100"
   ]
  },
  {
   "cell_type": "markdown",
   "metadata": {
    "collapsed": true
   },
   "source": [
    "## 6.10 1 out of 1000 poison soda and 10 testing mice"
   ]
  },
  {
   "cell_type": "code",
   "execution_count": 10,
   "metadata": {
    "collapsed": false
   },
   "outputs": [],
   "source": [
    "# there is 1 poison sode in 1000 cans of soda. Uses 10 testing mice to find it\n",
    "# 2^10 = 1024, hence 10 mice can represent any unique integer in [1, 1023]\n",
    "# label soda cans, label mice. Let mice drink soda for the number it represents\n",
    "# then from the dead mice, get the poison soda."
   ]
  }
 ],
 "metadata": {
  "kernelspec": {
   "display_name": "Python 2",
   "language": "python",
   "name": "python2"
  },
  "language_info": {
   "codemirror_mode": {
    "name": "ipython",
    "version": 2
   },
   "file_extension": ".py",
   "mimetype": "text/x-python",
   "name": "python",
   "nbconvert_exporter": "python",
   "pygments_lexer": "ipython2",
   "version": "2.7.11"
  }
 },
 "nbformat": 4,
 "nbformat_minor": 0
}
