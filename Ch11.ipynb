{
 "cells": [
  {
   "cell_type": "markdown",
   "metadata": {},
   "source": [
    "# Chapter 11 Testing\n",
    "from Gayle Laakmann McDowell's \"Cracking the Coding Interview\", 6th ed.\n",
    "\n",
    "Ron Wu"
   ]
  },
  {
   "cell_type": "markdown",
   "metadata": {},
   "source": [
    "## 11.1 "
   ]
  },
  {
   "cell_type": "code",
   "execution_count": 1,
   "metadata": {
    "collapsed": false
   },
   "outputs": [
    {
     "data": {
      "application/javascript": [
       "require(['codemirror/mode/clike/clike'], function(Clike) { console.log('ROOTaaS - C++ CodeMirror module loaded'); });"
      ]
     },
     "metadata": {},
     "output_type": "display_data"
    },
    {
     "data": {
      "application/javascript": [
       "IPython.CodeCell.config_defaults.highlight_modes['magic_text/x-c++src'] = {'reg':[/^%%cpp/]};"
      ]
     },
     "metadata": {},
     "output_type": "display_data"
    },
    {
     "name": "stdout",
     "output_type": "stream",
     "text": [
      "Welcome to ROOTaaS 6.06/08\n"
     ]
    }
   ],
   "source": [
    "import ROOT\n",
    "#use root kernel cling to run C++ with python environment\n",
    "#reference https://root.cern.ch/notebooks/HowTos/HowTo_ROOT-Notebooks.html"
   ]
  },
  {
   "cell_type": "code",
   "execution_count": 2,
   "metadata": {
    "collapsed": false
   },
   "outputs": [],
   "source": [
    "%%cpp\n",
    "unsigned int i;"
   ]
  },
  {
   "cell_type": "code",
   "execution_count": 3,
   "metadata": {
    "collapsed": false
   },
   "outputs": [
    {
     "name": "stdout",
     "output_type": "stream",
     "text": [
      "This is a C++ cell\r\n",
      "after --, what will it be? unsigned: 2\r\n",
      "after --, what will it be? convert to double 2\r\n"
     ]
    }
   ],
   "source": [
    "%%cpp\n",
    "cout << \"This is a C++ cell\" << endl;\n",
    "i = 2;\n",
    "printf (\"after --, what will it be? unsigned: %u\\n\",i);\n",
    "printf (\"after --, what will it be? convert to double %d\\n\",i);"
   ]
  },
  {
   "cell_type": "code",
   "execution_count": 4,
   "metadata": {
    "collapsed": false
   },
   "outputs": [
    {
     "name": "stdout",
     "output_type": "stream",
     "text": [
      "after --, what will it be? unsigned: 1\r\n",
      "after --, what will it be? convert to double 1\r\n",
      "after --, what will it be? unsigned: 0\r\n",
      "after --, what will it be? convert to double 0\r\n",
      "after --, what will it be? unsigned: 4294967295\r\n",
      "after --, what will it be? convert to double -1\r\n",
      "after --, what will it be? unsigned: 4294967294\r\n",
      "after --, what will it be? convert to double -2\r\n"
     ]
    }
   ],
   "source": [
    "%%cpp\n",
    "--i;\n",
    "printf (\"after --, what will it be? unsigned: %u\\n\",i);\n",
    "printf (\"after --, what will it be? convert to double %d\\n\",i);\n",
    "--i;\n",
    "printf (\"after --, what will it be? unsigned: %u\\n\",i);\n",
    "printf (\"after --, what will it be? convert to double %d\\n\",i);\n",
    "--i;\n",
    "printf (\"after --, what will it be? unsigned: %u\\n\",i);\n",
    "printf (\"after --, what will it be? convert to double %d\\n\",i);\n",
    "--i;\n",
    "printf (\"after --, what will it be? unsigned: %u\\n\",i);\n",
    "printf (\"after --, what will it be? convert to double %d\\n\",i); "
   ]
  },
  {
   "cell_type": "code",
   "execution_count": 5,
   "metadata": {
    "collapsed": false
   },
   "outputs": [
    {
     "name": "stdout",
     "output_type": "stream",
     "text": [
      "(bool) true\r\n"
     ]
    }
   ],
   "source": [
    "%%cpp\n",
    "(i > 0)"
   ]
  },
  {
   "cell_type": "code",
   "execution_count": 6,
   "metadata": {
    "collapsed": false
   },
   "outputs": [
    {
     "name": "stdout",
     "output_type": "stream",
     "text": [
      "(bool) false\r\n"
     ]
    },
    {
     "name": "stderr",
     "output_type": "stream",
     "text": [
      "\u001b[1minput_line_44:2:5: \u001b[0m\u001b[0;1;35mwarning: \u001b[0m\u001b[1mcomparison of unsigned expression < 0 is always\r\n",
      "      false [-Wtautological-compare]\u001b[0m\r\n",
      " (i < 0)\r\n",
      "\u001b[0;1;32m  ~ ^ ~\r\n",
      "\u001b[0m"
     ]
    }
   ],
   "source": [
    "%%cpp\n",
    "(i < 0)"
   ]
  },
  {
   "cell_type": "markdown",
   "metadata": {},
   "source": [
    "## 11.2 crash investigation"
   ]
  },
  {
   "cell_type": "code",
   "execution_count": 7,
   "metadata": {
    "collapsed": true
   },
   "outputs": [],
   "source": [
    "#if the program crashes at random places\n",
    "#check if it uses random algorithm \n",
    "#check user imports\n",
    "#check external sources\n",
    "#check memory leak"
   ]
  },
  {
   "cell_type": "markdown",
   "metadata": {},
   "source": [
    "## 11.3 test method bool canMoveTo(int x, int y)"
   ]
  },
  {
   "cell_type": "code",
   "execution_count": 8,
   "metadata": {
    "collapsed": true
   },
   "outputs": [],
   "source": [
    "#canMoveTo is a method belong one kind of pieces, x, y are location on the board\n",
    "#check if the current location is NULL\n",
    "#check if the move to location is available by the rules\n",
    "#check if it is his turn to move"
   ]
  },
  {
   "cell_type": "markdown",
   "metadata": {},
   "source": [
    "## 11.4 test webpage load without test tools"
   ]
  },
  {
   "cell_type": "code",
   "execution_count": 9,
   "metadata": {
    "collapsed": true
   },
   "outputs": [],
   "source": [
    "#write concurrent users to hit the website at the same time.\n",
    "#may need to use proxy if the website block testing as malicious attack\n",
    "#check responding time, maximum load, ..."
   ]
  },
  {
   "cell_type": "markdown",
   "metadata": {},
   "source": [
    "## 11.5 test a pen"
   ]
  },
  {
   "cell_type": "code",
   "execution_count": 10,
   "metadata": {
    "collapsed": true
   },
   "outputs": [],
   "source": [
    "#check both intended and uninteded scenarios.\n",
    "#What is pen made for and what else it may be used for?\n",
    "#safty, practicality, attractiveness, and economical. \n",
    "#may use machine to test pen under extreme conditions"
   ]
  },
  {
   "cell_type": "markdown",
   "metadata": {},
   "source": [
    "## 11.6 test an ATM"
   ]
  },
  {
   "cell_type": "code",
   "execution_count": 11,
   "metadata": {
    "collapsed": true
   },
   "outputs": [],
   "source": [
    "#check normal uses\n",
    "#check malicious uses\n",
    "#check under special conditions: fire, flood, power shortage"
   ]
  }
 ],
 "metadata": {
  "kernelspec": {
   "display_name": "Python 2",
   "language": "python",
   "name": "python2"
  },
  "language_info": {
   "codemirror_mode": {
    "name": "ipython",
    "version": 2
   },
   "file_extension": ".py",
   "mimetype": "text/x-python",
   "name": "python",
   "nbconvert_exporter": "python",
   "pygments_lexer": "ipython2",
   "version": "2.7.11"
  }
 },
 "nbformat": 4,
 "nbformat_minor": 0
}
