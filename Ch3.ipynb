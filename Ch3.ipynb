{
 "cells": [
  {
   "cell_type": "markdown",
   "metadata": {},
   "source": [
    "# Chapter 3 Stacks and Queues\n",
    "\n",
    "from Gayle Laakmann McDowell's \"Cracking the Coding Interview\", 6th ed.\n",
    "\n",
    "Ron Wu"
   ]
  },
  {
   "cell_type": "markdown",
   "metadata": {},
   "source": [
    "## 3.1 implement 3 stacks using 1 array"
   ]
  },
  {
   "cell_type": "code",
   "execution_count": 1,
   "metadata": {
    "collapsed": false
   },
   "outputs": [],
   "source": [
    "class ThreeStacks(object):\n",
    "    def __init__(self):\n",
    "        self.arr = []\n",
    "        self.stack_count = [0, 0, 0]\n",
    "        \n",
    "    def _isEmpty(self, stack_label):\n",
    "        if self.stack_count[stack_label] == 0:\n",
    "            print 'empty stack'\n",
    "            return True\n",
    "        return False\n",
    "        \n",
    "    def _pop(self, stack_label):\n",
    "        if self._isEmpty(stack_label) == False:\n",
    "            self.stack_count[stack_label] -= 1\n",
    "            e = self.arr[self.stack_count[stack_label]*3 + stack_label] \n",
    "            self.arr[self.stack_count[stack_label]*3 + stack_label] = None \n",
    "            return e\n",
    "    \n",
    "    def _peek(self, stack_label):\n",
    "        if self._isEmpty(stack_label) == False:\n",
    "            return self.arr[self.stack_count[stack_label]*3 + stack_label-3] \n",
    "        \n",
    "    def _push(self, data, stack_label):\n",
    "        \n",
    "        addSpace = self.stack_count[stack_label]*3 + stack_label - len(self.arr)\n",
    "        if addSpace > 0:\n",
    "            for i in range(addSpace):\n",
    "                self.arr.append(None)\n",
    "            self.arr.append(data)\n",
    "        elif addSpace == 0:\n",
    "            self.arr.append(data)\n",
    "        else:\n",
    "            self.arr[self.stack_count[stack_label]*3 + stack_label] = data \n",
    "        self.stack_count[stack_label] += 1\n",
    "        return True\n",
    "        \n",
    "    def stack1_pop(self):\n",
    "        return self._pop(0)\n",
    "    \n",
    "    def stack2_pop(self):\n",
    "        return self._pop(1)\n",
    "    \n",
    "    def stack3_pop(self):\n",
    "        return self._pop(2)    \n",
    "    \n",
    "    def stack1_isEmpty(self):\n",
    "        return self._isEmpty(0)\n",
    "    \n",
    "    def stack2_isEmpty(self):\n",
    "        return self._isEmpty(1)\n",
    "    \n",
    "    def stack3_isEmpty(self):\n",
    "        return self._isEmpty(2)\n",
    "    \n",
    "    def stack1_peek(self):\n",
    "        return self._peek(0)\n",
    "    \n",
    "    def stack2_peek(self):\n",
    "        return self._peek(1)\n",
    "    \n",
    "    def stack3_peek(self):\n",
    "        return self._peek(2)\n",
    "    \n",
    "    def stack1_push(self, data):\n",
    "        return self._push(data, 0)\n",
    "    \n",
    "    def stack2_push(self, data):\n",
    "        return self._push(data, 1)\n",
    "    \n",
    "    def stack3_push(self, data):\n",
    "        return self._push(data, 2)"
   ]
  },
  {
   "cell_type": "code",
   "execution_count": 2,
   "metadata": {
    "collapsed": false,
    "scrolled": true
   },
   "outputs": [
    {
     "name": "stdout",
     "output_type": "stream",
     "text": [
      "stack 1 empty?  empty stack\n",
      "True\n",
      "After loaded, check stack1 empty?  False\n",
      "pop stack 3:  c\n",
      "pop stack 3 again:  c\n",
      "full array\n",
      "['a', 'b', 'c', 'a', 'b', 'c', 'a', None, 'c', 'a', None, 'c', None, None, None, None, None, None]\n",
      "total sizes:  [4, 2, 4]\n"
     ]
    }
   ],
   "source": [
    "tStacks = ThreeStacks()\n",
    "print 'stack 1 empty? ', tStacks.stack1_isEmpty()\n",
    "\n",
    "for i in range(4):\n",
    "    tStacks.stack1_push('a')\n",
    "\n",
    "for i in range(2):\n",
    "    tStacks.stack2_push('b')\n",
    "\n",
    "for i in range(6):\n",
    "    tStacks.stack3_push('c')\n",
    "\n",
    "print 'After loaded, check stack1 empty? ', tStacks.stack1_isEmpty()\n",
    "print 'pop stack 3: ',tStacks.stack3_pop()\n",
    "print 'pop stack 3 again: ',tStacks.stack3_pop()\n",
    "    \n",
    "print 'full array'\n",
    "print tStacks.arr\n",
    "print 'total sizes: ', tStacks.stack_count"
   ]
  },
  {
   "cell_type": "markdown",
   "metadata": {},
   "source": [
    "## 3.2 add O(1) min tracking "
   ]
  },
  {
   "cell_type": "code",
   "execution_count": 3,
   "metadata": {
    "collapsed": true
   },
   "outputs": [],
   "source": [
    "class StacksTrackMin(object):\n",
    "    def __init__(self):\n",
    "        self.arr = []\n",
    "        self.count = 0\n",
    "        self.minSoFar = None\n",
    "    #tracking min, also store min on every stack\n",
    "    def findMin(self):\n",
    "        return self.minSoFar\n",
    "    \n",
    "    def isEmpty(self):\n",
    "        if self.count == 0:\n",
    "            print 'empty stack'\n",
    "            return True\n",
    "        return False\n",
    "        \n",
    "    def pop(self):\n",
    "        if self.isEmpty() == False:\n",
    "            self.count  -= 1\n",
    "            e = self.arr[self.count][0] \n",
    "            self.arr[self.count] = [None,None] \n",
    "            if self.count == 0:\n",
    "                self.minSoFar = None\n",
    "            else:    \n",
    "                self.minSoFar = self.arr[self.count-1][1]                 \n",
    "            return e\n",
    "    \n",
    "    def peek(self): \n",
    "        if self.isEmpty() == False: \n",
    "            return self.arr[self.count - 1][0] \n",
    "        \n",
    "    def push(self, data):\n",
    "        if self.minSoFar == None or self.minSoFar > data:\n",
    "            self.minSoFar = data\n",
    "            \n",
    "        if self.count == len(self.arr): \n",
    "            self.arr.append([data, self.minSoFar]) \n",
    "        else:\n",
    "            self.arr[self.count] = [data , self.minSoFar]\n",
    "        self.count += 1\n",
    "        #more careful one can check memory if full\n",
    "        return True\n",
    "        "
   ]
  },
  {
   "cell_type": "code",
   "execution_count": 4,
   "metadata": {
    "collapsed": false
   },
   "outputs": [
    {
     "name": "stdout",
     "output_type": "stream",
     "text": [
      "stack empty?  empty stack\n",
      "True\n",
      "return min:  1\n",
      "pop  1\n",
      "full array\n",
      "[[4, 4], [3, 3], [2, 2], [None, None]]\n",
      "return min:  2\n"
     ]
    }
   ],
   "source": [
    "iStacks = StacksTrackMin()\n",
    "print 'stack empty? ', iStacks.isEmpty()\n",
    "\n",
    "for i in reversed(range(4)):\n",
    "    iStacks.push(i+1)\n",
    "\n",
    "print 'return min: ', iStacks.findMin()\n",
    "print 'pop ', iStacks.pop()\n",
    "\n",
    "print 'full array'\n",
    "print iStacks.arr     \n",
    "print 'return min: ', iStacks.findMin()"
   ]
  },
  {
   "cell_type": "markdown",
   "metadata": {},
   "source": [
    "## 3.3 stackoverflow when full, use another stack "
   ]
  },
  {
   "cell_type": "code",
   "execution_count": 5,
   "metadata": {
    "collapsed": true
   },
   "outputs": [],
   "source": [
    "class Stacks(object):\n",
    "    def __init__(self):\n",
    "        self.arr = []\n",
    "        self.count = 0 \n",
    "    \n",
    "    def isEmpty(self):\n",
    "        if self.count == 0: \n",
    "            return True\n",
    "        return False\n",
    "        \n",
    "    def pop(self):\n",
    "        if self.isEmpty() == False:\n",
    "            self.count  -= 1\n",
    "            e = self.arr[self.count]\n",
    "            self.arr[self.count] = None      \n",
    "            #one can also delete the pop instead of void\n",
    "            return e\n",
    "    \n",
    "    def peek(self): \n",
    "        if self.isEmpty() == False: \n",
    "            return self.arr[self.count - 1]\n",
    "        \n",
    "    def push(self, data):             \n",
    "        if self.count == len(self.arr): \n",
    "            self.arr.append(data) \n",
    "        else:\n",
    "            self.arr[self.count] = data\n",
    "        self.count += 1 \n",
    "        return True\n",
    "        \n",
    "\n",
    "class SetofStacks(object):\n",
    "    def __init__(self):\n",
    "        self.THRESHOLD = 6\n",
    "        self.setOfStacks =[]\n",
    "        self.setOfStacks.append(Stacks())\n",
    "        self.count = 0\n",
    "        \n",
    "    def isEmpty(self):\n",
    "        return self.count == 0 \n",
    "        \n",
    "    def peek(self):\n",
    "        if self.isEmpty() == False:\n",
    "            return self.setOfStacks[self.count/self.THRESHOLD].peek()\n",
    "        \n",
    "    def pop(self):\n",
    "        if self.isEmpty() == False:\n",
    "            self.count -= 1\n",
    "            return self.setOfStacks[self.count/self.THRESHOLD].pop()\n",
    "    \n",
    "    def push(self, data):\n",
    "        if self.count%self.THRESHOLD == 0:\n",
    "            if self.count/self.THRESHOLD == len(self.setOfStacks):\n",
    "                self.setOfStacks.append(Stacks())\n",
    "        self.setOfStacks[self.count/self.THRESHOLD].push(data)   \n",
    "        self.count += 1\n",
    "        \n",
    "    def popAt(self, index):\n",
    "        if index >= len(self.setOfStacks) or index < 0:\n",
    "            print 'index out of bound'\n",
    "            return None\n",
    "        return self.setOfStacks[index].pop()\n",
    "        "
   ]
  },
  {
   "cell_type": "code",
   "execution_count": 6,
   "metadata": {
    "collapsed": false
   },
   "outputs": [
    {
     "name": "stdout",
     "output_type": "stream",
     "text": [
      "[0, 1, 2, 3, 4, 5]\n",
      "[6, 7, 8, 9]\n",
      "pop once:  9\n",
      "[0, 1, 2, 3, 4, 5]\n",
      "[6, 7, 8, None]\n",
      "pop again:  8\n",
      "[0, 1, 2, 3, 4, 5]\n",
      "[6, 7, None, None]\n"
     ]
    }
   ],
   "source": [
    "s = SetofStacks() \n",
    "\n",
    "for i in range(10):\n",
    "    s.push(i) \n",
    "    \n",
    "print s.setOfStacks[0].arr\n",
    "print s.setOfStacks[1].arr\n",
    "\n",
    "print 'pop once: ', s.pop()\n",
    "\n",
    "print s.setOfStacks[0].arr\n",
    "print s.setOfStacks[1].arr\n",
    "\n",
    "print 'pop again: ', s.pop()\n",
    "\n",
    "print s.setOfStacks[0].arr\n",
    "print s.setOfStacks[1].arr"
   ]
  },
  {
   "cell_type": "markdown",
   "metadata": {},
   "source": [
    "## 3.4 Implement a queue using two stacks"
   ]
  },
  {
   "cell_type": "code",
   "execution_count": 7,
   "metadata": {
    "collapsed": false
   },
   "outputs": [],
   "source": [
    "class Queue(object):\n",
    "    def __init__(self):\n",
    "        self.eStacks = Stacks() # for enqueue\n",
    "        self.dStacks = Stacks() # for dequeue\n",
    "        self.count = 0\n",
    "       \n",
    "    def isEmpty(self):\n",
    "        return self.count == 0\n",
    "        \n",
    "    def peek(self):\n",
    "        self._rebalace(self.eStacks, self.dStacks)\n",
    "        return self.dStacks.peek()\n",
    "        \n",
    "    def enqueue(self,data):\n",
    "        self._rebalace(self.dStacks, self.eStacks)\n",
    "        self.eStacks.push(data)\n",
    "        self.count += 1\n",
    "        \n",
    "    def dequeue(self): \n",
    "        self._rebalace(self.eStacks, self.dStacks)\n",
    "        self.count -= 1\n",
    "        return self.dStacks.pop()\n",
    "        \n",
    "    def _rebalace(self, s1, s2): \n",
    "        #pop everything from s1 to s2, which should be initially empty\n",
    "        while s1.isEmpty() == False:\n",
    "            s2.push(s1.pop())"
   ]
  },
  {
   "cell_type": "code",
   "execution_count": 8,
   "metadata": {
    "collapsed": false
   },
   "outputs": [
    {
     "name": "stdout",
     "output_type": "stream",
     "text": [
      "After load, empty? False\n",
      "peek  1\n",
      "now dequeue 1 2 3\n",
      "empty? True\n"
     ]
    }
   ],
   "source": [
    "MyQ = Queue()\n",
    "\n",
    "MyQ.enqueue(1)\n",
    "MyQ.enqueue(2)\n",
    "MyQ.enqueue(3)\n",
    "\n",
    "print 'After load, empty?', MyQ.isEmpty()\n",
    "print 'peek ',MyQ.peek()\n",
    "\n",
    "print 'now dequeue', MyQ.dequeue(), MyQ.dequeue(), MyQ.dequeue()\n",
    "\n",
    "print 'empty?', MyQ.isEmpty()"
   ]
  },
  {
   "cell_type": "markdown",
   "metadata": {},
   "source": [
    "## 3.5 Sort stack uses one another stack -- Tower of Hanoi "
   ]
  },
  {
   "cell_type": "code",
   "execution_count": 9,
   "metadata": {
    "collapsed": false
   },
   "outputs": [],
   "source": [
    "def sortStack(s): \n",
    "    hepler = Stacks()  \n",
    "    while s.isEmpty() == False:\n",
    "        p = s.pop()\n",
    "        move = 0\n",
    "        if hepler.isEmpty():\n",
    "            hepler.push(p)\n",
    "            \n",
    "        while hepler.isEmpty() == False:\n",
    "            if hepler.peek() < p:\n",
    "                s.push(hepler.pop())\n",
    "                move += 1\n",
    "            else:\n",
    "                hepler.push(p)\n",
    "                break\n",
    "        for i in range(move):\n",
    "            hepler.push(s.pop()) \n",
    "     \n",
    "    return hepler  \n",
    "    \n"
   ]
  },
  {
   "cell_type": "code",
   "execution_count": 10,
   "metadata": {
    "collapsed": false
   },
   "outputs": [
    {
     "name": "stdout",
     "output_type": "stream",
     "text": [
      "pop sorted stack 2\n",
      "pop sorted stack again 5\n",
      "pop sorted stack again 10\n",
      "pop sorted stack again 20\n"
     ]
    }
   ],
   "source": [
    "iStack = Stacks()\n",
    "\n",
    "iStack.push(5)\n",
    "iStack.push(10)\n",
    "iStack.push(2)\n",
    "iStack.push(20)\n",
    "\n",
    "iSorted = sortStack(iStack) \n",
    "\n",
    "print 'pop sorted stack', iSorted.pop()\n",
    "print 'pop sorted stack again', iSorted.pop()\n",
    "print 'pop sorted stack again', iSorted.pop()\n",
    "print 'pop sorted stack again', iSorted.pop()"
   ]
  },
  {
   "cell_type": "markdown",
   "metadata": {},
   "source": [
    "## 3.6 cats dogs adoption center"
   ]
  },
  {
   "cell_type": "code",
   "execution_count": 11,
   "metadata": {
    "collapsed": false
   },
   "outputs": [],
   "source": [
    "class Animal(object):\n",
    "    def __init__(self, name, age, time, type_dog_cat):\n",
    "        self.name = name\n",
    "        self.age = age\n",
    "        self.arrival_time = time\n",
    "        self.animal_type = type_dog_cat \n",
    "\n",
    "class CDcenter(object):\n",
    "    def __init__(self):\n",
    "        self.DB = Queue()  \n",
    "    \n",
    "    def enterCD(self, animal): \n",
    "        self.DB.enqueue(animal)\n",
    "    \n",
    "    def adoptByType(self, cat_dog_prefer):  \n",
    "        Q = Queue() \n",
    "        oldestType = Animal('',0,0,'') \n",
    "        while self.DB.isEmpty() == False:\n",
    "            p = self.DB.dequeue()\n",
    "            if p.animal_type == cat_dog_prefer and p.age > oldestType.age:\n",
    "                oldestType = p \n",
    "            Q.enqueue(p)  \n",
    "        \n",
    "        while Q.isEmpty()==False:\n",
    "            p = Q.dequeue()\n",
    "            if p != oldestType:\n",
    "                 self.DB.enqueue(p)   \n",
    "         \n",
    "        if oldestType.age == 0:\n",
    "            print 'there is no more', cat_dog_prefer,\n",
    "            return Animal('',0,0,'')\n",
    "        \n",
    "        return oldestType\n",
    "    \n",
    "    def adoptByArrivalTime(self):\n",
    "        if self.DB.isEmpty():\n",
    "            print 'there is no more animal',\n",
    "            return Animal('',0,0,'')\n",
    "        return self.DB.dequeue()\n",
    "     "
   ]
  },
  {
   "cell_type": "code",
   "execution_count": 12,
   "metadata": {
    "collapsed": false
   },
   "outputs": [
    {
     "name": "stdout",
     "output_type": "stream",
     "text": [
      "first adopt either type: wolf\n",
      "next adopt cat:  rabbit\n",
      "next adopt either type: sheep\n",
      "next adopt cat:  there is no more cat \n",
      "next adopt dog:  fox\n",
      "next adopt either type: there is no more animal \n"
     ]
    }
   ],
   "source": [
    "\n",
    "D1 = Animal('wolf', 10, 1, 'dog') #second argument is age in month\n",
    "C1 = Animal('sheep', 14, 2, 'cat')\n",
    "D2 = Animal('fox', 2, 6, 'dog')\n",
    "C2 = Animal('rabbit', 20, 4, 'cat') \n",
    "NYC_adoption_center = CDcenter()\n",
    "NYC_adoption_center.enterCD(D1)\n",
    "NYC_adoption_center.enterCD(C1)\n",
    "NYC_adoption_center.enterCD(D2)\n",
    "NYC_adoption_center.enterCD(C2) \n",
    "\n",
    "print 'first adopt either type:', NYC_adoption_center.adoptByArrivalTime().name\n",
    "print 'next adopt cat: ', NYC_adoption_center.adoptByType('cat').name\n",
    "print 'next adopt either type:', NYC_adoption_center.adoptByArrivalTime().name\n",
    "print 'next adopt cat: ', NYC_adoption_center.adoptByType('cat').name\n",
    "print 'next adopt dog: ', NYC_adoption_center.adoptByType('dog').name\n",
    "print 'next adopt either type:', NYC_adoption_center.adoptByArrivalTime().name"
   ]
  }
 ],
 "metadata": {
  "kernelspec": {
   "display_name": "Python 2",
   "language": "python",
   "name": "python2"
  },
  "language_info": {
   "codemirror_mode": {
    "name": "ipython",
    "version": 2
   },
   "file_extension": ".py",
   "mimetype": "text/x-python",
   "name": "python",
   "nbconvert_exporter": "python",
   "pygments_lexer": "ipython2",
   "version": "2.7.11"
  }
 },
 "nbformat": 4,
 "nbformat_minor": 0
}
