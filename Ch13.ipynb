{
 "cells": [
  {
   "cell_type": "markdown",
   "metadata": {},
   "source": [
    "# Chapter 13 Java\n",
    "\n",
    "from Gayle Laakmann McDowell's \"Cracking the Coding Interview\", 6th ed.\n",
    "\n",
    "Ron Wu "
   ]
  },
  {
   "cell_type": "markdown",
   "metadata": {},
   "source": [
    "## 13.1 private constructor"
   ]
  },
  {
   "cell_type": "code",
   "execution_count": 1,
   "metadata": {
    "collapsed": false
   },
   "outputs": [
    {
     "name": "stdout",
     "output_type": "stream",
     "text": [
      "Overwriting main.java\n"
     ]
    }
   ],
   "source": [
    "%%file main.java\n",
    "\n",
    "//public --access everywhere. If in different packages, import package\n",
    "//private --only inside of its class\n",
    "//protected -- child class, or same package \n",
    "//no access modifier (C# call it internal) -- same package, \n",
    "//   not even in child class if not in same package\n",
    "\n",
    "class Animal{\n",
    "\n",
    "    public Animal(){}\n",
    "\n",
    "    private  String name;\n",
    "\n",
    "    //private constructor only available inside its class\n",
    "    private Animal(String name){\n",
    "        this.name = new String(name);\n",
    "        System.out.println(\"I am being created\");\n",
    "    }\n",
    " \n",
    "    public class Dog{\n",
    "        public Animal dog;\n",
    "        public Dog(String name){\n",
    "            dog = new Animal(\"My name is \" + name);\n",
    "        }\n",
    "    }\n",
    "\n",
    "    public void getName () {\n",
    "        System.out.println(this.name);\n",
    "    }\n",
    "}\n",
    "\n",
    "public class main {\n",
    "\n",
    "    public static void main(String[] args) {\n",
    "\n",
    "        Animal animal = new Animal();  \n",
    "        //clearly Animal animal = new Animal(\"goofy\") is illegal\n",
    "\n",
    "        //but we can access private constructor using inner class\n",
    "        Animal.Dog goofy = animal.new Dog(\"goofy\");  \n",
    "        goofy.dog.getName();  \n",
    "\n",
    "    }\n",
    "}"
   ]
  },
  {
   "cell_type": "code",
   "execution_count": 2,
   "metadata": {
    "collapsed": false
   },
   "outputs": [
    {
     "name": "stdout",
     "output_type": "stream",
     "text": [
      "I am being created\r\n",
      "My name is goofy\r\n"
     ]
    }
   ],
   "source": [
    "! javac main.java\n",
    "! java main"
   ]
  },
  {
   "cell_type": "markdown",
   "metadata": {},
   "source": [
    "## 13.2 exception handling"
   ]
  },
  {
   "cell_type": "code",
   "execution_count": 3,
   "metadata": {
    "collapsed": false
   },
   "outputs": [
    {
     "name": "stdout",
     "output_type": "stream",
     "text": [
      "Overwriting main.java\n"
     ]
    }
   ],
   "source": [
    "%%file main.java\n",
    "\n",
    "import java.io.IOException;\n",
    "\n",
    "public class main {\n",
    "\n",
    "    public static void main(String[] args) {\n",
    "\n",
    "        try { \n",
    "\n",
    "            throw new IOException();\n",
    "\n",
    "        } catch (IOException e) {\n",
    "\n",
    "            System.out.println(\"IO exception handled\");\n",
    "            System.exit(0);  //or return\n",
    "            //the program may terminate thus finallly block is not reached\n",
    "        }\n",
    "        finally{\n",
    "            System.out.println(\"Final block is here\");\n",
    "        }\n",
    "    }\n",
    "\n",
    "}\n"
   ]
  },
  {
   "cell_type": "code",
   "execution_count": 4,
   "metadata": {
    "collapsed": false
   },
   "outputs": [
    {
     "name": "stdout",
     "output_type": "stream",
     "text": [
      "IO exception handled\r\n"
     ]
    }
   ],
   "source": [
    "! javac main.java\n",
    "! java main"
   ]
  },
  {
   "cell_type": "markdown",
   "metadata": {},
   "source": [
    "## 13.3 final, finally, finalize?"
   ]
  },
  {
   "cell_type": "code",
   "execution_count": 5,
   "metadata": {
    "collapsed": false
   },
   "outputs": [
    {
     "name": "stdout",
     "output_type": "stream",
     "text": [
      "Overwriting main.java\n"
     ]
    }
   ],
   "source": [
    "%%file main.java\n",
    "\n",
    "\n",
    "class A\n",
    "{ \n",
    "    int i;\n",
    "    A(int n){\n",
    "        i = n;\n",
    "    }\n",
    "    \n",
    "    @Override\n",
    "    protected void finalize() throws Throwable\n",
    "    {\n",
    "        System.out.println(i + \" is gone\");\n",
    "        super.finalize(); //because finalize is a parent of every ref object\n",
    "    }\n",
    "}\n",
    "\n",
    "public class main {\n",
    "\n",
    "    final static int i = 0; //final means const in C++ \n",
    "\n",
    "    public static void main(String[] args) {\n",
    "\n",
    "         //illegal ++i; \n",
    "\n",
    "         A a1 = new A(1);\n",
    "         A a2 = new A(2);\n",
    "         a1 = a2; \n",
    "        //after a2 assigned to a1, original a1 out there in the heap was ready for gc\n",
    "         \n",
    "         System.gc();  \n",
    "         System.out.println();\n",
    "    }\n",
    "\n",
    "}\n"
   ]
  },
  {
   "cell_type": "code",
   "execution_count": 6,
   "metadata": {
    "collapsed": false
   },
   "outputs": [
    {
     "name": "stdout",
     "output_type": "stream",
     "text": [
      "\r\n",
      "1 is gone\r\n"
     ]
    }
   ],
   "source": [
    "! javac main.java\n",
    "! java main"
   ]
  },
  {
   "cell_type": "markdown",
   "metadata": {},
   "source": [
    "## 13.4  templates class in C++ vs generics in Java"
   ]
  },
  {
   "cell_type": "code",
   "execution_count": 7,
   "metadata": {
    "collapsed": true
   },
   "outputs": [],
   "source": [
    "# in C++, templates<class T> are different class if type T are different\n",
    "# in Java, they are the same. That is because in Java every object is a pointer object\n",
    "# but in C++, every object by default lives on stack unless it was newed by pointers."
   ]
  },
  {
   "cell_type": "markdown",
   "metadata": {},
   "source": [
    "## 13.5  treeMap, HashMap, LinkedHashMap"
   ]
  },
  {
   "cell_type": "code",
   "execution_count": 8,
   "metadata": {
    "collapsed": true
   },
   "outputs": [],
   "source": [
    "# TreeMap key's are ordered so O(log n) insertion and searching\n",
    "# HashMap keys are hashed stored on an array\n",
    "# LinkedHash keys are stored on linked list, the order is based on the order of insertion"
   ]
  },
  {
   "cell_type": "markdown",
   "metadata": {},
   "source": [
    "## 13.6 reflection"
   ]
  },
  {
   "cell_type": "code",
   "execution_count": 9,
   "metadata": {
    "collapsed": false
   },
   "outputs": [
    {
     "name": "stdout",
     "output_type": "stream",
     "text": [
      "Overwriting main.java\n"
     ]
    }
   ],
   "source": [
    "%%file main.java\n",
    "\n",
    "\n",
    "import java.lang.reflect.Method;\n",
    "\n",
    "class Dog {\n",
    "    public void bark() {\n",
    "        System.out.println(\"\\\"woof\\\"\");\n",
    "    }\n",
    "}\n",
    "\n",
    "public class main {\n",
    "\n",
    "    public static void main(String[] args) {\n",
    "\n",
    "        Dog d = new Dog();\n",
    "\n",
    "        Method method;\n",
    "        try {  //must use exception handle, otherwise it will not compile\n",
    "            method = d.getClass().getMethod(\"bark\"); \n",
    "            method.invoke(d);\n",
    "        } catch (Exception e) { \n",
    "            System.out.println(\"no such method or cannot invoke\");\n",
    "        }\n",
    "    }\n",
    "\n",
    "}\n"
   ]
  },
  {
   "cell_type": "code",
   "execution_count": 10,
   "metadata": {
    "collapsed": false
   },
   "outputs": [
    {
     "name": "stdout",
     "output_type": "stream",
     "text": [
      "\"woof\"\r\n"
     ]
    }
   ],
   "source": [
    "! javac main.java\n",
    "! java main"
   ]
  },
  {
   "cell_type": "markdown",
   "metadata": {},
   "source": [
    "## 13.7 lambda"
   ]
  },
  {
   "cell_type": "code",
   "execution_count": 11,
   "metadata": {
    "collapsed": false
   },
   "outputs": [
    {
     "name": "stdout",
     "output_type": "stream",
     "text": [
      "Overwriting main.java\n"
     ]
    }
   ],
   "source": [
    "%%file main.java\n",
    "\n",
    "import java.util.ArrayList;\n",
    "import java.util.List;\n",
    "\n",
    "class Country {\n",
    "    private String name;\n",
    "    private int population;\n",
    "    private String continent;\n",
    "\n",
    "    public Country(String na, int pop, String con) {\n",
    "        name = na;\n",
    "        population = pop;\n",
    "        continent = con;\n",
    "    }\n",
    "    public String getCountryName(){\n",
    "        return name;\n",
    "    }\n",
    "\n",
    "    public int get_Population(){\n",
    "        return population;\n",
    "    }\n",
    "\n",
    "    public String getContinent(){\n",
    "        return continent;\n",
    "    }\n",
    "}\n",
    "\n",
    "public class main {\n",
    "\n",
    "    public static void main(String[] args) {\n",
    "        String Continent = \"north america\";\n",
    "        List<Country> Countries = new ArrayList<Country>();\n",
    "\n",
    "        Countries.add(new Country(\"United States\",321234000,Continent));\n",
    "        Countries.add(new Country(\"Mexico\",121006000,Continent));\n",
    "        Countries.add(new Country(\"Canada\",35819000,Continent));\n",
    "\n",
    "\n",
    "        Countries.add(new Country(\"Brazil\",204519000,\"south america\"));\n",
    "        Countries.add(new Country(\"Colombia\",48549000,\"south america\"));\n",
    "        Countries.add(new Country(\"Argentina\",43132000,\"south america\"));\n",
    "\n",
    "        int i = getPopulation( Countries,  Continent);\n",
    "        System.out.println(\"total population in \"+ Continent +\" is \"+i);\n",
    "\n",
    "    }\n",
    "\n",
    "    static int getPopulation(List<Country> Countries, String Continent){\n",
    "        return Countries.stream().filter(x->x.getContinent().equals(Continent))\n",
    "                    .map(x->x.get_Population()).reduce(0, (a,b)->a+b);\n",
    "    }\n",
    "\n",
    "}\n"
   ]
  },
  {
   "cell_type": "code",
   "execution_count": 12,
   "metadata": {
    "collapsed": false
   },
   "outputs": [
    {
     "name": "stdout",
     "output_type": "stream",
     "text": [
      "total population in north america is 478059000\r\n"
     ]
    }
   ],
   "source": [
    "! javac main.java\n",
    "! java main"
   ]
  },
  {
   "cell_type": "markdown",
   "metadata": {},
   "source": [
    "## 13.8 lambda"
   ]
  },
  {
   "cell_type": "code",
   "execution_count": 13,
   "metadata": {
    "collapsed": false
   },
   "outputs": [
    {
     "name": "stdout",
     "output_type": "stream",
     "text": [
      "Overwriting main.java\n"
     ]
    }
   ],
   "source": [
    "%%file main.java\n",
    "\n",
    "import java.util.stream.IntStream;\n",
    "\n",
    "public class main {\n",
    "\n",
    "    public static void main(String[] args) {\n",
    "\n",
    "        int N = 10;\n",
    "        int[] list_int = new int[N];\n",
    "\n",
    "        IntStream.range(0, N).forEach(i -> list_int[i] = i);\n",
    "\n",
    "        IntStream.range(0, N).forEach(i -> System.out.printf(\n",
    "                (getRandomBoolean() == true) ? Integer.toString(list_int[i]) : \"\" ) );\n",
    "\n",
    "    }\n",
    "    public static boolean getRandomBoolean() {\n",
    "           return Math.random() < 0.5;\n",
    "    }\n",
    "}\n"
   ]
  },
  {
   "cell_type": "code",
   "execution_count": 14,
   "metadata": {
    "collapsed": false
   },
   "outputs": [
    {
     "name": "stdout",
     "output_type": "stream",
     "text": [
      "134579"
     ]
    }
   ],
   "source": [
    "! javac main.java\n",
    "! java main"
   ]
  }
 ],
 "metadata": {
  "kernelspec": {
   "display_name": "Python 2",
   "language": "python",
   "name": "python2"
  },
  "language_info": {
   "codemirror_mode": {
    "name": "ipython",
    "version": 2
   },
   "file_extension": ".py",
   "mimetype": "text/x-python",
   "name": "python",
   "nbconvert_exporter": "python",
   "pygments_lexer": "ipython2",
   "version": "2.7.12"
  }
 },
 "nbformat": 4,
 "nbformat_minor": 0
}
