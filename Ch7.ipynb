{
 "cells": [
  {
   "cell_type": "markdown",
   "metadata": {},
   "source": [
    "# Chapter 7 Object-Oriented Design\n",
    "\n",
    "from Gayle Laakmann McDowell's \"Cracking the Coding Interview\", 6th ed. Any mistake or improvements are welcome and feel free to contact [roncwu@gmail.com](mailto:roncwu@gmail.com).\n",
    "\n",
    "### Ron Wu\n",
    "\n"
   ]
  },
  {
   "cell_type": "markdown",
   "metadata": {},
   "source": [
    "## 7.1 play Blackjack\n",
    " \n",
    "This is a complete playable Blackjack game (except I didn't implement the split option). Just run the cell and good luck. One can also use this to testify strategies."
   ]
  },
  {
   "cell_type": "code",
   "execution_count": 1,
   "metadata": {
    "collapsed": false
   },
   "outputs": [],
   "source": [
    "import random \n",
    "import time\n",
    "\n",
    "class deckCards(object):\n",
    "    def __init__(self):\n",
    "        self.curIter = 0\n",
    "        self.deck = [a for a in range(52)]\n",
    "        self.shuffle()\n",
    "        \n",
    "    def shuffle(self):\n",
    "        random.shuffle(self.deck)\n",
    "        \n",
    "    def dealCard(self):\n",
    "        if self.curIter == 52:\n",
    "            print \"deck is empty\"\n",
    "            return\n",
    "        card = self.deck[self.curIter]\n",
    "        self.curIter += 1\n",
    "        return card \n",
    "        \n",
    "    def cardValSuit(self, card):\n",
    "        if card/13 == 0:\n",
    "            return (self.cardFace(card%13+1), \"Clubs\")\n",
    "        if card/13 == 1:\n",
    "            return (self.cardFace(card%13+1), \"Diamonds\")\n",
    "        if card/13 == 2:\n",
    "            return (self.cardFace(card%13+1), \"Hearts\")\n",
    "        if card/13 == 3:\n",
    "            return (self.cardFace(card%13+1), \"Spades\")\n",
    "        \n",
    "    def cardFace(self, card):\n",
    "        if card == 1:\n",
    "            return \"Ace\"\n",
    "        if card == 11:\n",
    "            return \"Jack\"\n",
    "        if card == 12:\n",
    "            return \"Queen\"\n",
    "        if card == 13:\n",
    "            return \"King\"\n",
    "        return card\n",
    "             \n",
    "        \n",
    "class BlackJack(object):\n",
    "    def __init__(self, startingBet):\n",
    "        self.deck = deckCards()\n",
    "        print \"------------ Let's play blackjack ------------\"\n",
    "        self.NewRoundGame(startingBet) \n",
    "    \n",
    "    def NewRoundGame(self, bet):\n",
    "        if self.deck.curIter > 46:\n",
    "            print \"There are less then 6 cards in the deck. Need to restart the whole game. Type\"\n",
    "            print \"A = BlackJack(your_bet)\"\n",
    "            return\n",
    "    \n",
    "        player_dealt =  [self.deck.dealCard() , self.deck.dealCard()]\n",
    "        dealer_dealt = [self.deck.dealCard() , self.deck.dealCard()]\n",
    "        \n",
    "        #dealer_dealt[0] = 0\n",
    "        #dealer_dealt[1] = 5  # change values here for testing purposes\n",
    "        \n",
    "        print \"\\nYour Bet:\"\n",
    "        print  bet , \"dollars\" \n",
    "        time.sleep(2) \n",
    "        print \"\\nYour 2 draws: \" \n",
    "        print self.deck.cardValSuit(player_dealt[0]), self.deck.cardValSuit(player_dealt[1])\n",
    "        time.sleep(2)\n",
    "        print \"\\nDealer one face-up card: \" \n",
    "        print self.deck.cardValSuit(dealer_dealt[0])   \n",
    "        time.sleep(1)\n",
    "        \n",
    "        insurance = -1 \n",
    "        if (dealer_dealt[0]%13 == 0):  \n",
    "            print \"\\nWhen dealer gets Ace, you can buy insurance.\"\n",
    "            print \"You can buy upto\" , bet/2, \"dollars\"\n",
    "            print \"\\nEnter 0 if you don't want insurance\"\n",
    "            \n",
    "            while insurance < 0 or insurance > bet/2:\n",
    "                insurance = int(raw_input('Enter insurance amount:'))\n",
    "                \n",
    "            time.sleep(2)\n",
    "            if (insurance > 0 and insurance <= bet/2):\n",
    "                if (dealer_dealt[1]%13+1 >= 10):\n",
    "                    print \"\\nDealer is blackjack. You get your insurance momey:\" ,insurance*2\n",
    "                    if self.dealVal(player_dealt)==21:\n",
    "                        print \"You are blackjock too. So it is a draw (push). You get your bet back.\"\n",
    "                    else:\n",
    "                        print \"But you lost your bet\", bet, \"dollors\"\n",
    "                    return\n",
    "                print \"\\nDealer is not a blackjack. You lost your insurance money, but the game is still on.\"\n",
    "                \n",
    "            \n",
    "        time.sleep(1)\n",
    "        choice = 2\n",
    "        numHit = 0\n",
    "        \n",
    "        while choice == 2:\n",
    "            print \"\\nEnter the number:\"\n",
    "            print \"1: Stand\"\n",
    "            print \"2: Hit\"\n",
    "            print \"3: Double\"\n",
    "\n",
    "            #Split is not implemented  \n",
    "            #if player_dealt[0]%13 == player_dealt[1]%13: \n",
    "                # print \"4: Split\"\n",
    "                \n",
    "            if choice == 2: \n",
    "                choice = 0\n",
    "        \n",
    "            while choice != 1 and choice != 2 and choice !=3:\n",
    "                choice = int(raw_input('Enter your choice:')) \n",
    "\n",
    "            time.sleep(1)\n",
    "            \n",
    "            if choice == 2: \n",
    "                numHit += 1\n",
    "        \n",
    "        \n",
    "            if (choice == 2 or choice == 3): \n",
    "                player_dealt.append(self.deck.dealCard())\n",
    "                if choice == 3:\n",
    "                    print \"\\nYour one and only one double draw: \"   \n",
    "                elif numHit == 1:\n",
    "                    print \"\\nYour third draw: \" \n",
    "                elif numHit == 2:\n",
    "                    print \"\\nYour fourth draw: \"\n",
    "                elif numHit == 3:\n",
    "                    print \"\\nYour fifth draw: \"  \n",
    "                elif numHit == 4:\n",
    "                    print \"\\nYour sixth draw: \"   \n",
    "                else:\n",
    "                    print \"\\nYour next draw: \"   \n",
    "                print self.deck.cardValSuit(player_dealt[-1]) \n",
    "\n",
    "            if choice == 3:\n",
    "                bet = bet * 2\n",
    "                print \"\\nYou doubled your initial bet. The new bet is \" , bet\n",
    "\n",
    "            time.sleep(1)   \n",
    "                \n",
    "            if self.isBusted(player_dealt)[0]==True:\n",
    "                print \"\\nYour total:\", self.isBusted(player_dealt)[1]\n",
    "                print \"You are busted. You lost\" , bet, \"dollars\"\n",
    "                print \"\\nWant another round? Type \\nA.NewRoundGame(your_bet)\"\n",
    "                return\n",
    "\n",
    "        print \"\\nDealer hole card was:\"\n",
    "        print self.deck.cardValSuit(dealer_dealt[1])\n",
    "        \n",
    "        time.sleep(1)\n",
    "        firstTime = True\n",
    "        while self.dealValSoft(dealer_dealt) <= 16: # this means hit on soft17\n",
    "            dealer_dealt.append(self.deck.dealCard())\n",
    "            if firstTime == True:\n",
    "                print \"\\nIf dealer total is less or equal to 16, dealer must hit and stand on hard 17 or more.\"\n",
    "                firstTime = False\n",
    "            time.sleep(2)  \n",
    "            print \"\\nDealer next draw: \" \n",
    "            print self.deck.cardValSuit(dealer_dealt[-1])\n",
    "            \n",
    "        deal_val = self.dealVal(dealer_dealt)    \n",
    "        player_val = self.dealVal(player_dealt)\n",
    "        \n",
    "        if self.isBusted(dealer_dealt)[0]==True:\n",
    "            print \"\\nDealer total:\", self.isBusted(dealer_dealt)[1]\n",
    "            print \"\\nDealer is busted. You win\" ,bet*2 , \"dollars\\n\"\n",
    "            time.sleep(1)  \n",
    "            print \"\\nWant another round? Type \\nA.NewRoundGame(your_bet)\"\n",
    "            return\n",
    "        \n",
    "        time.sleep(1)\n",
    "        print \"\\nYour total:\", player_val\n",
    "        print \"Dealer total:\", deal_val\n",
    "        \n",
    "        time.sleep(1)\n",
    "        if deal_val > player_val:\n",
    "            print \"You lost your bet\", bet, \"dollars.\"\n",
    "        elif deal_val < player_val:\n",
    "            print \"You win the bet:\" , bet*2,  \"dollars rewards.\"\n",
    "        else:\n",
    "            print \"It was a push. You get your bet\", bet,\"dollars back.\"\n",
    "        \n",
    "        time.sleep(1)    \n",
    "        print \"\\nWant another round? Type \\nA.NewRoundGame(your_bet)\"\n",
    "        \n",
    "    def isBusted(self, deal):\n",
    "        total = 0\n",
    "        for d in deal: \n",
    "            total += min(10, d%13+1) \n",
    "        return [total > 21, total]\n",
    "     \n",
    "    \n",
    "    def dealVal(self, dealt):\n",
    "        val = 0\n",
    "        Ace = False\n",
    "        for d in dealt:\n",
    "            val += min(10, d%13+1) \n",
    "            if d%13 == 0:\n",
    "                Ace = True\n",
    "        if Ace == True and val + 10 <= 21:\n",
    "            val += 10 \n",
    "        return val\n",
    "    \n",
    "    def dealValSoft(self, dealt):\n",
    "        val = 0  \n",
    "        for d in dealt:\n",
    "            val += min(10, d%13+1)   \n",
    "        if dealt[0]%13 == 0 and val >= 8:  #hit soft 17, stand soft 18 \n",
    "            return val + 10 \n",
    "        return val"
   ]
  },
  {
   "cell_type": "code",
   "execution_count": 2,
   "metadata": {
    "collapsed": false,
    "scrolled": true
   },
   "outputs": [
    {
     "name": "stdout",
     "output_type": "stream",
     "text": [
      "------------ Let's play blackjack ------------\n",
      "\n",
      "Your Bet:\n",
      "10 dollars\n",
      "\n",
      "Your 2 draws: \n",
      "(8, 'Hearts') ('Jack', 'Diamonds')\n",
      "\n",
      "Dealer one face-up card: \n",
      "(6, 'Spades')\n",
      "\n",
      "Enter the number:\n",
      "1: Stand\n",
      "2: Hit\n",
      "3: Double\n",
      "Enter your choice:1\n",
      "\n",
      "Dealer hole card was:\n",
      "('Queen', 'Clubs')\n",
      "\n",
      "If dealer total is less or equal to 16, dealer must hit and stand on hard 17 or more.\n",
      "\n",
      "Dealer next draw: \n",
      "(7, 'Hearts')\n",
      "\n",
      "Dealer total: 23\n",
      "\n",
      "Dealer is busted. You win 20 dollars\n",
      "\n",
      "\n",
      "Want another round? Type \n",
      "A.NewRoundGame(your_bet)\n"
     ]
    }
   ],
   "source": [
    "A = BlackJack(10)"
   ]
  },
  {
   "cell_type": "code",
   "execution_count": 3,
   "metadata": {
    "collapsed": false
   },
   "outputs": [
    {
     "name": "stdout",
     "output_type": "stream",
     "text": [
      "\n",
      "Your Bet:\n",
      "100 dollars\n",
      "\n",
      "Your 2 draws: \n",
      "(2, 'Diamonds') (7, 'Diamonds')\n",
      "\n",
      "Dealer one face-up card: \n",
      "('Jack', 'Clubs')\n",
      "\n",
      "Enter the number:\n",
      "1: Stand\n",
      "2: Hit\n",
      "3: Double\n",
      "Enter your choice:2\n",
      "\n",
      "Your third draw: \n",
      "(3, 'Diamonds')\n",
      "\n",
      "Enter the number:\n",
      "1: Stand\n",
      "2: Hit\n",
      "3: Double\n",
      "Enter your choice:2\n",
      "\n",
      "Your fourth draw: \n",
      "(8, 'Clubs')\n",
      "\n",
      "Enter the number:\n",
      "1: Stand\n",
      "2: Hit\n",
      "3: Double\n",
      "Enter your choice:1\n",
      "\n",
      "Dealer hole card was:\n",
      "('Jack', 'Hearts')\n",
      "\n",
      "Your total: 20\n",
      "Dealer total: 20\n",
      "It was a push. You get your bet 100 dollars back.\n",
      "\n",
      "Want another round? Type \n",
      "A.NewRoundGame(your_bet)\n"
     ]
    }
   ],
   "source": [
    "A.NewRoundGame(100)"
   ]
  },
  {
   "cell_type": "markdown",
   "metadata": {},
   "source": [
    "## 7.2 customer call center\n",
    "\n",
    "This is a simple workable program for call centers. One can use this to find an optimal scheduling for hiring manager to determine the number of representatives they need during peak hours. "
   ]
  },
  {
   "cell_type": "code",
   "execution_count": 4,
   "metadata": {
    "collapsed": false
   },
   "outputs": [],
   "source": [
    "import random\n",
    "import time \n",
    "\n",
    "class Customer(object):\n",
    "    def __init__(self, ID, callInTime, duration):\n",
    "        self.ID = ID\n",
    "        self.callInTime = callInTime\n",
    "        self.duration = duration\n",
    "        \n",
    "class CustomerRep(object): \n",
    "    isBusy = False  \n",
    "    rank = 0\n",
    "    startTime = -1\n",
    "    hangUpTime = -1\n",
    "    customer = None\n",
    "\n",
    "    def __init__(self, EmployeeID):\n",
    "        self.ID = EmployeeID\n",
    "\n",
    "    def takeCall(self, customer, startTime):\n",
    "        self.isBusy = True\n",
    "        self.startTime = startTime\n",
    "        self.hangUpTime = startTime + customer.duration\n",
    "        self.customer = customer\n",
    "\n",
    "    def hangUp(self):\n",
    "        startTime = -1\n",
    "        hangUpTime = -1\n",
    "        self.isBusy = False  \n",
    "        self.customer = None \n",
    "\n",
    "class callCenter(object):\n",
    "    \n",
    "    def __init__(self): \n",
    "        self.director = [CustomerRep(\"Dir1\")]\n",
    "        self.manager = [CustomerRep(\"Mag1\"),CustomerRep(\"Mag2\")]\n",
    "        self.rep = [CustomerRep(\"Rep1\"), CustomerRep(\"Rep2\"), CustomerRep(\"Rep3\")] \n",
    "    \n",
    "    def availability(self):\n",
    "        #return the first available agent\n",
    "        for e in [self.rep, self.manager, self.director]:  \n",
    "            random.shuffle(e)\n",
    "            for a in e:\n",
    "                if a.isBusy == False:\n",
    "                    return a\n",
    "        return False\n",
    "        \n",
    "\n",
    "class simulation(): \n",
    "    \n",
    "    def __init__(self):\n",
    "        \n",
    "        self.ccallin = [] \n",
    "        for i in range(1, 21):\n",
    "            self.ccallin.append(Customer(i, random.randint(1,10), random.randint(1,5))) \n",
    "        self.ccallin.sort(key=lambda x: x.callInTime, reverse = True)  # this creats a queue\n",
    "        \n",
    "        self.ccenter = callCenter()\n",
    "        self.time = 0 \n",
    "        \n",
    "    def run(self):      # home-made observable pattern \n",
    "        \n",
    "        print \"------------ call center is open ------------ \"\n",
    "        for t in range(16):  #simulation run for 15 minutes\n",
    "            print \"\\nCurrent time is\", t, \"min past noon\" \n",
    "            for e in [self.ccenter.rep, self.ccenter.manager, self.ccenter.director]:   \n",
    "                for a in e:\n",
    "                    if a.hangUpTime == t:\n",
    "                        print \" *\", a.ID, \"is done with client\", a.customer.ID\n",
    "                        a.hangUp() \n",
    "                        \n",
    "            for e in [self.ccenter.rep, self.ccenter.manager, self.ccenter.director]:   \n",
    "                for a in e:\n",
    "                    if a.hangUpTime > t:\n",
    "                        print \" -\", a.ID, \"is still with client\", a.customer.ID\n",
    "           \n",
    "            \n",
    "            while self.ccallin != [] and self.ccallin[-1].callInTime <= t:\n",
    "                if self.ccenter.availability() == False:\n",
    "                    print \"\\n ! All rep are busy. Client\", self.ccallin[-1].ID, \"etc are on hold.\"\n",
    "                    break\n",
    "                else:\n",
    "                    ag = self.ccenter.availability() \n",
    "                    print \" @\", ag.ID, \"starts talking to client\", self.ccallin[-1].ID\n",
    "                    ag.takeCall(self.ccallin.pop(), t)\n",
    "                    \n",
    "            time.sleep(2)\n"
   ]
  },
  {
   "cell_type": "code",
   "execution_count": 5,
   "metadata": {
    "collapsed": false
   },
   "outputs": [
    {
     "name": "stdout",
     "output_type": "stream",
     "text": [
      "------------ call center is open ------------ \n",
      "\n",
      "Current time is 0 min past noon\n",
      "\n",
      "Current time is 1 min past noon\n",
      "\n",
      "Current time is 2 min past noon\n",
      " @ Rep1 starts talking to client 20\n",
      " @ Rep2 starts talking to client 12\n",
      "\n",
      "Current time is 3 min past noon\n",
      " - Rep2 is still with client 12\n",
      " - Rep1 is still with client 20\n",
      " @ Rep3 starts talking to client 1\n",
      "\n",
      "Current time is 4 min past noon\n",
      " * Rep1 is done with client 20\n",
      " * Rep3 is done with client 1\n",
      " - Rep2 is still with client 12\n",
      "\n",
      "Current time is 5 min past noon\n",
      " - Rep2 is still with client 12\n",
      "\n",
      "Current time is 6 min past noon\n",
      " - Rep2 is still with client 12\n",
      " @ Rep1 starts talking to client 18\n",
      " @ Rep3 starts talking to client 13\n",
      " @ Mag1 starts talking to client 2\n",
      "\n",
      "Current time is 7 min past noon\n",
      " * Rep1 is done with client 18\n",
      " * Rep2 is done with client 12\n",
      " - Rep3 is still with client 13\n",
      " - Mag1 is still with client 2\n",
      " @ Rep2 starts talking to client 15\n",
      " @ Rep1 starts talking to client 10\n",
      " @ Mag2 starts talking to client 7\n",
      " @ Dir1 starts talking to client 3\n",
      "\n",
      "Current time is 8 min past noon\n",
      " * Rep3 is done with client 13\n",
      " * Dir1 is done with client 3\n",
      " - Rep1 is still with client 10\n",
      " - Rep2 is still with client 15\n",
      " - Mag2 is still with client 7\n",
      " - Mag1 is still with client 2\n",
      " @ Rep3 starts talking to client 17\n",
      " @ Dir1 starts talking to client 11\n",
      "\n",
      " ! All rep are busy. Client 8 etc are on hold.\n",
      "\n",
      "Current time is 9 min past noon\n",
      " * Mag1 is done with client 2\n",
      " * Mag2 is done with client 7\n",
      " * Dir1 is done with client 11\n",
      " - Rep1 is still with client 10\n",
      " - Rep3 is still with client 17\n",
      " - Rep2 is still with client 15\n",
      " @ Mag1 starts talking to client 8\n",
      " @ Mag2 starts talking to client 5\n",
      " @ Dir1 starts talking to client 19\n",
      "\n",
      " ! All rep are busy. Client 6 etc are on hold.\n",
      "\n",
      "Current time is 10 min past noon\n",
      " * Rep1 is done with client 10\n",
      " * Rep2 is done with client 15\n",
      " - Rep3 is still with client 17\n",
      " - Mag2 is still with client 5\n",
      " - Mag1 is still with client 8\n",
      " - Dir1 is still with client 19\n",
      " @ Rep2 starts talking to client 6\n",
      " @ Rep1 starts talking to client 16\n",
      "\n",
      " ! All rep are busy. Client 14 etc are on hold.\n",
      "\n",
      "Current time is 11 min past noon\n",
      " * Mag2 is done with client 5\n",
      " - Rep1 is still with client 16\n",
      " - Rep2 is still with client 6\n",
      " - Rep3 is still with client 17\n",
      " - Mag1 is still with client 8\n",
      " - Dir1 is still with client 19\n",
      " @ Mag2 starts talking to client 14\n",
      "\n",
      " ! All rep are busy. Client 9 etc are on hold.\n",
      "\n",
      "Current time is 12 min past noon\n",
      " * Rep2 is done with client 6\n",
      " * Mag2 is done with client 14\n",
      " - Rep3 is still with client 17\n",
      " - Rep1 is still with client 16\n",
      " - Mag1 is still with client 8\n",
      " - Dir1 is still with client 19\n",
      " @ Rep2 starts talking to client 9\n",
      " @ Mag2 starts talking to client 4\n",
      "\n",
      "Current time is 13 min past noon\n",
      " * Rep3 is done with client 17\n",
      " * Mag2 is done with client 4\n",
      " - Rep1 is still with client 16\n",
      " - Rep2 is still with client 9\n",
      " - Mag1 is still with client 8\n",
      " - Dir1 is still with client 19\n",
      "\n",
      "Current time is 14 min past noon\n",
      " * Mag1 is done with client 8\n",
      " * Dir1 is done with client 19\n",
      " - Rep1 is still with client 16\n",
      " - Rep2 is still with client 9\n",
      "\n",
      "Current time is 15 min past noon\n",
      " * Rep1 is done with client 16\n",
      " * Rep2 is done with client 9\n"
     ]
    }
   ],
   "source": [
    "A = simulation()\n",
    "A.run()"
   ]
  },
  {
   "cell_type": "markdown",
   "metadata": {},
   "source": [
    "## 7.3 iTunes playlist\n",
    "\n",
    "This is a typical menu program with read/write to text file. It is so typical that all first year cs students have to master."
   ]
  },
  {
   "cell_type": "code",
   "execution_count": 6,
   "metadata": {
    "collapsed": false
   },
   "outputs": [],
   "source": [
    "# load pre-designed playlist of my favorite show \"Left of the Dial\" from Wbar, Barnard College Radio \n",
    "# the list is courtesy of DJ: IK, HHS, \"Left of the Dial Episode #1\", on air 2-4am Feb 7, 2014\n",
    "# http://www.wbar.org/shows/S14/Left%20of%20the%20Dial/memory-7/\n",
    "import time\n",
    "\n",
    "class playlist(object):\n",
    "    \n",
    "    preList = 'data/preList.txt'\n",
    "    userList = 'data/userList.txt'\n",
    "    songList = None\n",
    "    \n",
    "    def __init__(self):\n",
    "        print \"------------ welcome to iPlaylist ------------\\n\"\n",
    "        self.intial = True\n",
    "        self.menu()\n",
    "    \n",
    "    def menu(self): \n",
    "        if self.intial == False:\n",
    "            print \"\\n\\n------------ Main Menu ------------\"\n",
    "        self.intial = False\n",
    "        print \" 1: play myList\" \n",
    "        print \" 2: edit myList\"\n",
    "        print \" 3: play pre-stored list: Left of the Dial\"\n",
    "        print \" 4: exit\"\n",
    "        choice = -1\n",
    "        while choice != '4' and choice != '1' and choice != '2' and choice != '3':\n",
    "            choice = raw_input(\"Enter a number: \")\n",
    "        if choice == '4':\n",
    "            print \"\\n------------ Bye Come Back Often ------------\"\n",
    "            return\n",
    "        elif choice == '3':\n",
    "            self.songList = self.loadSongList(self.preList)\n",
    "            print \"\\nNow playing: \"\n",
    "            self.playList(self.songList, 1) \n",
    "        elif choice == '1':  \n",
    "            self.songList = self.loadSongList(self.userList)\n",
    "            print \"\\nNow playing: \"\n",
    "            self.playList(self.songList, 1)\n",
    "        elif choice == '2':\n",
    "            self.songList = self.loadSongList(self.userList)\n",
    "            self.menuEdit()\n",
    "        self.menu()\n",
    "            \n",
    "    def menuEdit(self):\n",
    "        print \"\\n------------ Edit Menu ------------\"\n",
    "        print \" 1: add a song\"  \n",
    "        if len(self.songList) > 0: \n",
    "            print \" 2: remove a song\"\n",
    "            print \" 3: edit a song\"\n",
    "        print \" 0: return to main menu\"\n",
    "        choice = -1\n",
    "        while choice != '0' and choice != '1' and choice != '2' and choice != '3':\n",
    "            choice = raw_input(\"Enter a number: \")\n",
    "        if choice == '0':\n",
    "            return\n",
    "        if choice == '3':  \n",
    "            self.playList(self.songList, 0) \n",
    "            numSong = -1\n",
    "            while numSong <1 or numSong> len(self.songList):\n",
    "                try:\n",
    "                    numSong = int(raw_input(\"Enter the number of song to be edited: \")) \n",
    "                except ValueError:\n",
    "                    pass\n",
    "            print \"\\nDon't want to change? Just hit enter without typing anything.\"     \n",
    "            name = raw_input(\"\\nChange the song name: \\'%s\\' \" %self.songList[numSong-1].song) or self.songList[numSong-1].song\n",
    "            artist = raw_input(\"Change the artist: \\'%s\\' \" %self.songList[numSong-1].artist) or self.songList[numSong-1].artist\n",
    "            album = raw_input(\"Change the album: \\'%s\\' \" %self.songList[numSong-1].album) or self.songList[numSong-1].album\n",
    "            label = raw_input(\"Change the label: \\'%s\\' \" %self.songList[numSong-1].label) or self.songList[numSong-1].label \n",
    "            self.songList[numSong-1] = song([name, album, label])\n",
    "    \n",
    "        elif choice == '1':    \n",
    "            name = raw_input(\"\\nAdd song name: \")\n",
    "            artist = raw_input(\"Add artist: \") \n",
    "            album = raw_input(\"Add album: \")\n",
    "            label = raw_input(\"Add label: \")\n",
    "            self.songList.append(song([name, artist, album, label]))\n",
    "    \n",
    "        elif choice == '2': \n",
    "            self.playList(self.songList, 0) \n",
    "            numSong = -1\n",
    "            while numSong <1 or numSong> len(self.songList):\n",
    "                try:\n",
    "                    numSong = int(raw_input(\"Enter the ID of song to be removed: \")) \n",
    "                except ValueError:\n",
    "                    pass\n",
    "            del self.songList[numSong-1]\n",
    "        \n",
    "        self.writeUserList(self.userList, self.songList)\n",
    "        self.menuEdit() \n",
    "\n",
    "    def playList(self, songList, delay):\n",
    "        if len(songList) == 0:\n",
    "            print \"The list is empty!\"\n",
    "            return\n",
    "        print \"\\nID | song | artist | album\"\n",
    "        for idx, s in enumerate(songList):\n",
    "            print idx+1,\"|\",s.song, \"|\", s.artist, \"|\", s.album\n",
    "            time.sleep(delay)\n",
    "        \n",
    "    def loadSongList(self, fileName):  \n",
    "        songList = []\n",
    "        with open(fileName, 'r') as f:\n",
    "            prelist = f.read() \n",
    "        for i in prelist.split(\"\\n\"): \n",
    "            if i != '': \n",
    "                songList.append(song(i.split(\"\\t\")))   \n",
    "        return songList\n",
    "\n",
    "    def writeUserList(self, fileName, songList):\n",
    "        with open(fileName, 'w') as f:\n",
    "            for l in songList:\n",
    "                s = \"\\t\".join([l.song, l.artist, l.album, l.label]) + \"\\n\"\n",
    "                f.write(s) \n",
    "\n",
    "class song(object):\n",
    "    def __init__(self, info): \n",
    "        self.song = info[0]\n",
    "        self.artist = info[1]\n",
    "        self.album = info[2]\n",
    "        self.label = info[3]\n",
    "         "
   ]
  },
  {
   "cell_type": "code",
   "execution_count": 7,
   "metadata": {
    "collapsed": false
   },
   "outputs": [
    {
     "name": "stdout",
     "output_type": "stream",
     "text": [
      "------------ welcome to iPlaylist ------------\n",
      "\n",
      " 1: play myList\n",
      " 2: edit myList\n",
      " 3: play pre-stored list: Left of the Dial\n",
      " 4: exit\n",
      "Enter a number: 3\n",
      "\n",
      "Now playing: \n",
      "\n",
      "ID | song | artist | album\n",
      "1 | Looks | Student Teachers | 2X5\n",
      "2 | Little Fury Things | Dinosaur Jr. | You're Living All Over Me\n",
      "3 | Rotterdam | The Wedding Present | Seamonsters\n",
      "4 | Vanessa From Queens | Stephen Malkmus & The Jicks | Pig Lib\n",
      "5 | Machine Gun | Slowdive | Souvlaki\n",
      "6 | Unsatisfied | The Replacements | Let It Be\n",
      "7 | Always Pretty | Princess Reason | Always Pretty EP\n",
      "8 | Lovesick | Orange Juice | The Glasgow School\n",
      "9 | Operator | Honest John Plain | Honest John Plain & Friends\n",
      "10 | Life's A Gas | T. Rex | Electric Warrior\n",
      "11 | Soft Serve | Soul Coughing | Irresistible Bliss\n",
      "12 | Nobody There | Veronica Falls | Nobody There\n",
      "13 | Brother Bryan | Waxahatchee | Cerulean Salt\n",
      "14 | Let's Go Away | Rocketship | A Certain Smile, A Certain Sadness\n",
      "15 | Steaming Train | Talulah Gosh | Backwash\n",
      "16 | Pristine Christine | The Sea Urchins | There And Back Again Lane\n",
      "17 | Secret Surprise | Joanna Gruesome | Weird Sister\n",
      "18 | When You Lie | Flowers | When You Lie EP\n",
      "19 | The Source | Built To Spill | There's Nothing Wrong With Love\n",
      "20 | Blue Moon Revisited (Song For Elvis) | Cowboy Junkies | Trinity Session\n",
      "21 | She | Gram Parsons | The Complete Reprise Sessions\n",
      "22 | Kangaroo | Big Star | Third / Sister Lovers\n",
      "23 | Fade Into You | Mazzy Star | So Tonight That I Might See\n",
      "24 | South Philly | Cayetana | Demo\n",
      "25 | Sickos | Harlem Shakes | Burning Birthdays\n",
      "26 | Superpowerless | Dump | Superpowerless\n",
      "27 | Don't Let's Start | They Might Be Giants | They Might Be Giants\n",
      "28 | Ceremony | Galaxy 500 | On Fire\n",
      "29 | Talking Backwards | Real Estate | Talking Backwards\n",
      "30 | Dignified and Old | The Modern Lovers | The Modern Lovers\n",
      "31 | Strangle The Shadows | Mode Moderne | Occult Delight\n",
      "32 | Lions and Tigers | Asobi Seksu | Citrus\n",
      "\n",
      "\n",
      "------------ Main Menu ------------\n",
      " 1: play myList\n",
      " 2: edit myList\n",
      " 3: play pre-stored list: Left of the Dial\n",
      " 4: exit\n",
      "Enter a number: 2\n",
      "\n",
      "------------ Edit Menu ------------\n",
      " 1: add a song\n",
      " 2: remove a song\n",
      " 3: edit a song\n",
      " 0: return to main menu\n",
      "Enter a number: 2\n",
      "\n",
      "ID | song | artist | album\n",
      "1 | Passing Out Pieces | Mac DeMarco | Salad Days\n",
      "2 | Lola | The Raincoats | The Raincoats\n",
      "3 | New York City | Cubs | ?\n",
      "4 | Hi-Five | Angel Olsen | Hi-Five\n",
      "5 | Crash | The Primatives | Lovely\n",
      "Enter the ID of song to be removed: 4\n",
      "\n",
      "------------ Edit Menu ------------\n",
      " 1: add a song\n",
      " 2: remove a song\n",
      " 3: edit a song\n",
      " 0: return to main menu\n",
      "Enter a number: 1\n",
      "\n",
      "Add song name: Christmas Wrapping\n",
      "Add artist: The Waitresses\n",
      "Add album: A Christmas Record\n",
      "Add label: Holiday Pop\n",
      "\n",
      "------------ Edit Menu ------------\n",
      " 1: add a song\n",
      " 2: remove a song\n",
      " 3: edit a song\n",
      " 0: return to main menu\n",
      "Enter a number: 0\n",
      "\n",
      "\n",
      "------------ Main Menu ------------\n",
      " 1: play myList\n",
      " 2: edit myList\n",
      " 3: play pre-stored list: Left of the Dial\n",
      " 4: exit\n",
      "Enter a number: 1\n",
      "\n",
      "Now playing: \n",
      "\n",
      "ID | song | artist | album\n",
      "1 | Passing Out Pieces | Mac DeMarco | Salad Days\n",
      "2 | Lola | The Raincoats | The Raincoats\n",
      "3 | New York City | Cubs | ?\n",
      "4 | Crash | The Primatives | Lovely\n",
      "5 | Christmas Wrapping | The Waitresses | A Christmas Record\n",
      "\n",
      "\n",
      "------------ Main Menu ------------\n",
      " 1: play myList\n",
      " 2: edit myList\n",
      " 3: play pre-stored list: Left of the Dial\n",
      " 4: exit\n",
      "Enter a number: 4\n",
      "\n",
      "------------ Bye Come Back Often ------------\n"
     ]
    }
   ],
   "source": [
    "C = playlist()"
   ]
  },
  {
   "cell_type": "markdown",
   "metadata": {},
   "source": [
    "## 7.4 parking lot\n",
    "\n",
    "This is similar to 7.2 call center program."
   ]
  },
  {
   "cell_type": "code",
   "execution_count": 8,
   "metadata": {
    "collapsed": false
   },
   "outputs": [],
   "source": [
    "import random\n",
    "\n",
    "vehicleTypes = [\"Sedan\", \"Van\", \"Electric\", \"Self-Drive\"]\n",
    "\n",
    "class vehicle(object):\n",
    "    def __init__(self, license):\n",
    "        self.ID = license \n",
    "        \n",
    "class lot(object):\n",
    "    def __init__(self, lotID):\n",
    "        self.lotID = lotID \n",
    "        \n",
    "class parkingLot(object):\n",
    "    def __init__(self):\n",
    "        self.carInPark = {}\n",
    "        self.lotSpace = {}\n",
    "        for i in range(1,10):\n",
    "            self.lotSpace[i] = \"avail\" \n",
    "    \n",
    "    def Parking(self, car, curTime):\n",
    "        availLot = self._Availability(car, curTime) \n",
    "        if  availLot == False:\n",
    "            print \" ! Sorry the parking lot is full!\"\n",
    "            return False\n",
    "        print \" * car \"+str(car.ID) + \" is entering the garage, should go to lot_\" +str(availLot)\n",
    "        self.carInPark[car.ID] = (availLot, curTime)\n",
    "        self.lotSpace[availLot] = \"not avail\" \n",
    "        return True\n",
    "        \n",
    "    \n",
    "    def Departing(self, car, curTime):\n",
    "        if car.ID not in self.carInPark:\n",
    "            print \"\\n ! No such car in the parking lot\"\n",
    "            return \n",
    "        self._PriceLookUP(car, curTime)\n",
    "        self.lotSpace[self.carInPark[car.ID][0]] = \"avail\"\n",
    "        del self.carInPark[car.ID]\n",
    "         \n",
    "    \n",
    "    def _PriceLookUP(self, car, curTime):\n",
    "        print \" - car\", car.ID,\"is leaving. \\n $$$ It was here from\", \n",
    "        print self.carInPark[car.ID][1], \"o'clock to\", curTime,\"o'clock.\",\n",
    "        print \"Parking fee:\", (curTime - self.carInPark[car.ID][1]) * 6.99, \"dollars.\\n\"\n",
    "    \n",
    "    def _Availability(self, car, curTime):\n",
    "        for lotID, aval in self.lotSpace.iteritems():  \n",
    "            if aval == \"avail\": \n",
    "                return lotID\n",
    "        return False\n"
   ]
  },
  {
   "cell_type": "code",
   "execution_count": 9,
   "metadata": {
    "collapsed": false
   },
   "outputs": [
    {
     "name": "stdout",
     "output_type": "stream",
     "text": [
      "current time is 1 o'clock\n",
      "\n",
      " * car H35 is entering the garage, should go to lot_1\n",
      "\n",
      "current time is 2 o'clock\n",
      "\n",
      "\n",
      "current time is 3 o'clock\n",
      "\n",
      " * car A34 is entering the garage, should go to lot_2\n",
      "\n",
      "current time is 4 o'clock\n",
      "\n",
      " * car W24 is entering the garage, should go to lot_3\n",
      " * car N75 is entering the garage, should go to lot_4\n",
      "\n",
      "current time is 5 o'clock\n",
      "\n",
      "\n",
      "current time is 6 o'clock\n",
      "\n",
      " - car W24 is leaving. \n",
      " $$$ It was here from 4 o'clock to 6 o'clock. Parking fee: 13.98 dollars.\n",
      "\n",
      " * car V26 is entering the garage, should go to lot_3\n",
      " * car D25 is entering the garage, should go to lot_5\n",
      "\n",
      "current time is 7 o'clock\n",
      "\n",
      " - car A34 is leaving. \n",
      " $$$ It was here from 3 o'clock to 7 o'clock. Parking fee: 27.96 dollars.\n",
      "\n",
      " - car H35 is leaving. \n",
      " $$$ It was here from 1 o'clock to 7 o'clock. Parking fee: 41.94 dollars.\n",
      "\n",
      " * car H35 is entering the garage, should go to lot_1\n",
      "\n",
      "current time is 8 o'clock\n",
      "\n",
      " - car H35 is leaving. \n",
      " $$$ It was here from 7 o'clock to 8 o'clock. Parking fee: 6.99 dollars.\n",
      "\n",
      " - car N75 is leaving. \n",
      " $$$ It was here from 4 o'clock to 8 o'clock. Parking fee: 27.96 dollars.\n",
      "\n",
      " * car B245 is entering the garage, should go to lot_1\n",
      " * car N75 is entering the garage, should go to lot_2\n",
      "\n",
      "current time is 9 o'clock\n",
      "\n",
      " - car V26 is leaving. \n",
      " $$$ It was here from 6 o'clock to 9 o'clock. Parking fee: 20.97 dollars.\n",
      "\n",
      " * car A34 is entering the garage, should go to lot_3\n",
      "\n",
      "current time is 10 o'clock\n",
      "\n",
      " - car D25 is leaving. \n",
      " $$$ It was here from 6 o'clock to 10 o'clock. Parking fee: 27.96 dollars.\n",
      "\n",
      "\n"
     ]
    }
   ],
   "source": [
    "\n",
    "A = parkingLot()\n",
    "license = [\"A34\",\"B245\",\"D25\",\"T23\", \"J367\",\"W24\",\"H35\",\"V26\",\"N75\"]\n",
    "parked = []\n",
    "\n",
    "for t0 in range(1,11): #simulation of time\n",
    "    print \"current time is\", t0,\"o'clock\\n\"\n",
    "   \n",
    "    if t0 > 2 and len(parked)>=1:\n",
    "        random.shuffle(parked)\n",
    "        r = random.randint(0, len(parked)-1)\n",
    "        for i in range(r):\n",
    "            C = vehicle(parked.pop()) \n",
    "            A.Departing(C, t0) \n",
    "            \n",
    "    random.shuffle(license)\n",
    "    r = random.randint(0, 5)\n",
    "    for i in range(r):\n",
    "        if license[i] not in parked:\n",
    "            C = vehicle(license[i])  \n",
    "            if A.Parking(C, t0) == True:\n",
    "                parked += [license[i]] \n",
    "    print \n"
   ]
  },
  {
   "cell_type": "markdown",
   "metadata": {},
   "source": [
    "## 7.5 online book reader\n",
    "\n",
    "We will use google book API. https://developers.google.com/books/"
   ]
  },
  {
   "cell_type": "code",
   "execution_count": 10,
   "metadata": {
    "collapsed": false
   },
   "outputs": [
    {
     "name": "stdout",
     "output_type": "stream",
     "text": [
      "The Histories\n",
      "Polybius\n",
      "http://books.google.com/books/reader?id=NWdiAAAAMAAJ&hl=&printsec=frontcover&output=reader&source=gbs_api\n",
      "\n",
      "The Histories\n",
      "Herodotus\n",
      "http://books.google.com/books/reader?id=vk4lEVdmswMC&hl=&printsec=frontcover&output=reader&source=gbs_api\n",
      "\n",
      "Tacitus, The Histories\n",
      "Cornelius Tacitus\n",
      "http://books.google.com/books/reader?id=dYJfAAAAMAAJ&hl=&printsec=frontcover&output=reader&source=gbs_api\n",
      "\n",
      "The Histories\n",
      "Agathias\n",
      "http://books.google.com/books/reader?id=PqsJZcQR7oIC&hl=&printsec=frontcover&output=reader&source=gbs_api\n",
      "\n",
      "Polybius\n",
      "http://books.google.com/books/reader?id=UaENN3WvxI0C&hl=&printsec=frontcover&output=reader&source=gbs_api\n",
      "\n",
      "The Histories of Herodotus\n",
      "Herodotus\n",
      "http://books.google.com/books/reader?id=QsIcxGrq6QAC&hl=&printsec=frontcover&output=reader&source=gbs_api\n",
      "\n",
      "A Cursing Brain? The Histories of Tourette Syndrome\n",
      "Howard I. Kushner\n",
      "http://books.google.com/books/reader?id=9dQEB_MbhKEC&hl=&printsec=frontcover&output=reader&source=gbs_api\n",
      "\n",
      "The Landmark Herodotus\n",
      "Robert B. Strassler\n",
      "http://books.google.com/books/reader?id=8OdLLZ8S0uAC&hl=&printsec=frontcover&output=reader&source=gbs_api\n",
      "\n",
      "Moral Vision in the Histories of Polybius\n",
      "Arthur M. Eckstein\n",
      "http://books.google.com/books/reader?id=ky57ps7jjMEC&hl=&printsec=frontcover&output=reader&source=gbs_api\n",
      "\n",
      "The Histories\n",
      "Sallust, Patrick McGushin\n",
      "http://books.google.com/books/reader?id=eH4UaU2JWiwC&hl=&printsec=frontcover&output=reader&source=gbs_api\n",
      "\n"
     ]
    }
   ],
   "source": [
    "import requests \n",
    "\n",
    "def searchBook(book):\n",
    "        url = \"https://www.googleapis.com/books/v1/volumes?q=\" + str(book)\n",
    "        response = requests.get(url).json() \n",
    "        for i in range(min(response[\"totalItems\"],10)):  \n",
    "            print response[\"items\"][i][\"volumeInfo\"][\"title\"]\n",
    "            if \"authors\" in response[\"items\"][i][\"volumeInfo\"]: \n",
    "                print \", \".join(response[\"items\"][i][\"volumeInfo\"][\"authors\"])  \n",
    "            if \"webReaderLink\" in response[\"items\"][i][\"accessInfo\"]:\n",
    "                print response[\"items\"][i][\"accessInfo\"][\"webReaderLink\"]\n",
    "            print\n",
    "            \n",
    "searchBook(\"The Histories\") #type any book title here, return top 10 results"
   ]
  },
  {
   "cell_type": "markdown",
   "metadata": {},
   "source": [
    "## 7.6 jigsaw"
   ]
  },
  {
   "cell_type": "code",
   "execution_count": null,
   "metadata": {
    "collapsed": false
   },
   "outputs": [],
   "source": []
  },
  {
   "cell_type": "code",
   "execution_count": null,
   "metadata": {
    "collapsed": true
   },
   "outputs": [],
   "source": []
  },
  {
   "cell_type": "markdown",
   "metadata": {},
   "source": [
    "## 7.7 chat service\n",
    "\n",
    "This is a complete runnable Python low-level socket interface program. Client 1 sends message to client 2 via a server. For more, read Computer Network: IP, Packet Switching, Routing"
   ]
  },
  {
   "cell_type": "code",
   "execution_count": 11,
   "metadata": {
    "collapsed": false
   },
   "outputs": [],
   "source": [
    "import socket\n",
    "import sys\n",
    "import threading \n",
    "\n",
    "class serverThread(threading.Thread):\n",
    "    def run(self):  \n",
    "         \n",
    "        sock = socket.socket(socket.AF_INET, socket.SOCK_STREAM) \n",
    "        \n",
    "        # this tells the kernel to reuse a local socket in TIME_WAIT state, \n",
    "        # without waiting for its natural timeout to expire.\n",
    "        sock.setsockopt(socket.SOL_SOCKET, socket.SO_REUSEADDR, 1)\n",
    "        \n",
    "        server_address = ('localhost', 20016)  \n",
    "        sock.bind(server_address)\n",
    "        print \"starting server...\"\n",
    " \n",
    "        sock.listen(1) \n",
    "        data = None\n",
    "        address =[]\n",
    "        \n",
    "        while True:  \n",
    "            connection, client_address = sock.accept() #the thread will freeze until a new connection is in\n",
    "            print 'new connection'\n",
    "            print 'conn name:', connection\n",
    "            print 'client address:', client_address\n",
    "            print\n",
    "            address.append(client_address)\n",
    "\n",
    "            try: \n",
    "                if len(address) == 1:\n",
    "                    data = connection.recv(2048) # each batch fetches 2048 byte  \n",
    "                elif len(address) == 2:\n",
    "                    connection.send(data)\n",
    "                    connection.close()\n",
    "                    break\n",
    "            finally: \n",
    "                connection.close() \n",
    "        sock.close()\n",
    "        "
   ]
  },
  {
   "cell_type": "code",
   "execution_count": 12,
   "metadata": {
    "collapsed": false
   },
   "outputs": [
    {
     "name": "stdout",
     "output_type": "stream",
     "text": [
      "starting server...\n"
     ]
    }
   ],
   "source": [
    "serverThread().start()"
   ]
  },
  {
   "cell_type": "code",
   "execution_count": 13,
   "metadata": {
    "collapsed": false
   },
   "outputs": [],
   "source": [
    "import time\n",
    "\n",
    "class client1Thread(threading.Thread): #sending message to client 1\n",
    "    def run(self): \n",
    "         \n",
    "        sock = socket.socket(socket.AF_INET, socket.SOCK_STREAM)\n",
    "        server_address = ('localhost', 20016) \n",
    "        print 'connecting to server:', server_address\n",
    "        print \n",
    "        sock.connect(server_address)\n",
    "\n",
    "        try:\n",
    "            time.sleep(1)  \n",
    "            message = 'This is client1. How are you doing?' \n",
    "            print 'message sent: \"%s\"' % message\n",
    "            print \n",
    "            sock.send(message)  \n",
    "        finally: \n",
    "            sock.close()"
   ]
  },
  {
   "cell_type": "code",
   "execution_count": 14,
   "metadata": {
    "collapsed": false
   },
   "outputs": [
    {
     "name": "stdout",
     "output_type": "stream",
     "text": [
      "connecting to server: ('localhost', 20016)\n",
      "\n",
      "new connection\n",
      "conn name: <socket._socketobject object at 0x107691360>\n",
      "client address: ('127.0.0.1', 65030)\n",
      "\n",
      "message sent: \"This is client1. How are you doing?\"\n",
      "\n"
     ]
    }
   ],
   "source": [
    "client1Thread().start()"
   ]
  },
  {
   "cell_type": "code",
   "execution_count": 15,
   "metadata": {
    "collapsed": true
   },
   "outputs": [],
   "source": [
    "class client2Thread(threading.Thread): #receiving message from client 1\n",
    "    def run(self): \n",
    "         \n",
    "        sock = socket.socket(socket.AF_INET, socket.SOCK_STREAM) \n",
    "        server_address = ('localhost', 20016) \n",
    "        print 'connecting to server:', server_address\n",
    "        print \n",
    "        sock.connect(server_address)\n",
    "\n",
    "        try: \n",
    "            time.sleep(1)\n",
    "            data = sock.recv(2048)  \n",
    "            print 'message received: \"%s\"' % data   \n",
    "        finally: \n",
    "            sock.close()"
   ]
  },
  {
   "cell_type": "code",
   "execution_count": 16,
   "metadata": {
    "collapsed": false
   },
   "outputs": [
    {
     "name": "stdout",
     "output_type": "stream",
     "text": [
      "connecting to server: ('localhost', 20016)\n",
      "\n",
      "new connection\n",
      "conn name: <socket._socketobject object at 0x107691590>\n",
      "client address: ('127.0.0.1', 65031)\n",
      "\n",
      "message received: \"This is client1. How are you doing?\"\n"
     ]
    }
   ],
   "source": [
    "client2Thread().start()"
   ]
  },
  {
   "cell_type": "markdown",
   "metadata": {},
   "source": [
    "## 7.8 othello\n",
    "\n",
    "This is a complete playable game of othello. The algorithm is similar to 8-queen. Just run the cell and enjoy it."
   ]
  },
  {
   "cell_type": "code",
   "execution_count": 17,
   "metadata": {
    "collapsed": false
   },
   "outputs": [],
   "source": [
    "import time\n",
    "import numpy as np \n",
    "import matplotlib\n",
    "import matplotlib.pyplot as plt\n",
    "import seaborn as sns \n",
    "%matplotlib inline\n",
    " \n",
    "class othello(object): \n",
    "    \n",
    "    def __init__(self, size):\n",
    "        if size < 3:\n",
    "            print \"must be greater or equal to 3\"\n",
    "            return\n",
    "        self.size = size  \n",
    "        self.board = np.zeros((self.size, self.size))\n",
    "\n",
    "        self.board[self.size/2-1][self.size/2-1] = -1 #white\n",
    "        self.board[self.size/2][self.size/2] = -1\n",
    "        self.board[self.size/2][self.size/2-1] = 1    #black\n",
    "        self.board[self.size/2-1][self.size/2] = 1 \n",
    "        self.StartMenu()  \n",
    "        \n",
    "    def StartMenu(self):\n",
    "        print \"---------------- Let us play othello ----------------\"  \n",
    "        print \"| To place a stone, enter two numbers separated by a comma \"\n",
    "        print \"| e.g. 1,2 means to place the stone at row = 1, column = 2 spot\\n\"\n",
    "        gameOver = False\n",
    "        self._drawBoard() \n",
    "        while gameOver == False:\n",
    "            for play in [-1, 1]:\n",
    "                if self._isThereLegalMove(play): \n",
    "                    (h,v) = self._CinCheck(play) \n",
    "                    self._flipBoard(h,v, play) \n",
    "                    self._drawBoard() \n",
    "                else:\n",
    "                    if play == -1: \n",
    "                        if self._isThereLegalMove(1):\n",
    "                            print \"\\n-- player 1 (WHITE) has no place to go!\\n\"\n",
    "                        else:\n",
    "                            gameOver = True\n",
    "                            break\n",
    "                    else: \n",
    "                        if self._isThereLegalMove(-1):\n",
    "                            print \"\\n-- player 2 (BLACK) has no place to go!\\n\"\n",
    "                        else:\n",
    "                            gameOver = True\n",
    "                            break\n",
    "\n",
    "        print \"\\n| The game is over.\"    \n",
    "        blackKey, whiteKey = 0, 0\n",
    "        for i in range(self.size):\n",
    "            for j in range(self.size):\n",
    "                if self.board[i,j] == -1:\n",
    "                    whiteKey += 1\n",
    "                elif self.board[i,j] == 1:\n",
    "                    blackKey += 1\n",
    "        print \"|\",whiteKey,\"white stones for player 1.\"\n",
    "        print \"|\",blackKey,\"black stones for player 2.\"\n",
    "        if whiteKey > blackKey:\n",
    "            print \"| player 1 has won the game!\"\n",
    "        elif whiteKey < blackKey:\n",
    "            print \"| player 2 has won the game!\"\n",
    "        else:\n",
    "            print \"| play 1 and player 2 are tie the game!\"\n",
    "\n",
    "    def _CinCheck(self,play):  \n",
    "        time.sleep(1)\n",
    "        (h,v)=(-1,-1)\n",
    "        warning = False\n",
    "        while h < 0 or h >= self.size or v < 0 or v >= self.size or not self._isLegalMove(h,v, play): \n",
    "            if warning:\n",
    "                print \"-- It wss not a legal move!\"\n",
    "            warning = True\n",
    "            try:\n",
    "                if play == -1:\n",
    "                    [sh, sv] = raw_input(\"player 1 (WHITE): enter a move: \").split(\",\")\n",
    "                else: \n",
    "                    [sh, sv] = raw_input(\"player 2 (BLACK): enter a move: \").split(\",\") \n",
    "                h = int(sh)\n",
    "                v = int(sv)\n",
    "            except:\n",
    "                pass\n",
    "        self.board[h,v] = play\n",
    "        return (h,v)\n",
    "        \n",
    "\n",
    "    def _flipBoard(self,h,v, play):  \n",
    "        self._flipCheck(h,v+1, play, lambda x: x, lambda y: y+1, \"flip\")\n",
    "        self._flipCheck(h,v-1, play, lambda x: x, lambda y: y-1, \"flip\")\n",
    "        self._flipCheck(h+1,v, play, lambda x: x+1, lambda y: y, \"flip\")\n",
    "        self._flipCheck(h-1,v, play,lambda x: x-1, lambda y: y, \"flip\")\n",
    "        self._flipCheck(h-1,v+1, play, lambda x: x-1, lambda y: y+1, \"flip\")\n",
    "        self._flipCheck(h-1,v-1, play, lambda x: x-1, lambda y: y-1, \"flip\")\n",
    "        self._flipCheck(h+1,v+1, play, lambda x: x+1, lambda y: y+1, \"flip\")\n",
    "        self._flipCheck(h+1,v-1, play, lambda x: x+1, lambda y: y-1, \"flip\")\n",
    "\n",
    "        \n",
    "    # this function looks simple, but it is the main engine of the game.\n",
    "    # It checks if a move is legal and then flip stones\n",
    "    def _flipCheck(self, h1,v1, play, fh, fv, flag=\"check\"): \n",
    "        if h1 < 0 or h1 >= self.size or v1 < 0 or v1 >= self.size or self.board[h1,v1] == 0: \n",
    "            return False\n",
    "        if self.board[h1,v1]*play == 1:\n",
    "            return True\n",
    "        if flag == \"flip\":\n",
    "            if self._flipCheck(fh(h1),fv(v1), play, fh, fv, flag):\n",
    "                self.board[h1,v1] = play \n",
    "                return True\n",
    "            return False\n",
    "        if flag == \"check\":\n",
    "            return self._flipCheck(fh(h1),fv(v1), play, fh, fv) \n",
    "\n",
    "    def _isThereLegalMove(self,play):\n",
    "        for i in range(self.size):\n",
    "            for j in range(self.size):\n",
    "                if self._isLegalMove(i,j, play):\n",
    "                    return True\n",
    "        return False\n",
    "     \n",
    "        \n",
    "    def _isLegalMove(self,h,v, play):  \n",
    "        def helpLegal(h1 , v1):\n",
    "            if h1 < 0 or h1 >= self.size or v1 < 0 or v1 >= self.size: \n",
    "                return False\n",
    "            return self.board[h1,v1]*play == -1  \n",
    "    \n",
    "        if self.board[h,v] != 0:\n",
    "            return False \n",
    "        \n",
    "        if helpLegal(h,v+1) and self._flipCheck(h,v+2, play, lambda x: x, lambda y: y+1) or \\\n",
    "        helpLegal(h,v-1) and self._flipCheck(h,v-2, play, lambda x: x, lambda y: y-1) or \\\n",
    "        helpLegal(h+1,v) and self._flipCheck(h+2,v, play, lambda x: x+1, lambda y: y) or \\\n",
    "        helpLegal(h-1,v) and self._flipCheck(h-2,v, play, lambda x: x-1, lambda y: y) or \\\n",
    "        helpLegal(h-1,v+1) and self._flipCheck(h-2,v+2, play, lambda x: x-1, lambda y: y+1) or \\\n",
    "        helpLegal(h-1,v-1) and self._flipCheck(h-2,v-2, play, lambda x: x-1, lambda y: y-1) or \\\n",
    "        helpLegal(h+1,v+1) and self._flipCheck(h+2,v+2, play, lambda x: x+1, lambda y: y+1) or \\\n",
    "        helpLegal(h+1,v-1) and self._flipCheck(h+2,v-2, play, lambda x: x+1, lambda y: y-1): \n",
    "            return True\n",
    "        return False\n",
    "    \n",
    "    def _drawBoard(self):\n",
    "        _, ax = plt.subplots(figsize=(3, 3))  \n",
    "        sns.heatmap(self.board, cmap='PuBu',  square=True, linewidths=.3, cbar=False, ax=ax)  \n",
    "        sns.plt.show() \n",
    "    "
   ]
  },
  {
   "cell_type": "code",
   "execution_count": 18,
   "metadata": {
    "collapsed": false
   },
   "outputs": [
    {
     "name": "stdout",
     "output_type": "stream",
     "text": [
      "---------------- Let us play othello ----------------\n",
      "| To place a stone, enter two numbers separated by a comma \n",
      "| e.g. 1,2 means to place the stone at row = 1, column = 2 spot\n",
      "\n"
     ]
    },
    {
     "data": {
      "image/png": "[encoded data removed]",
      "text/plain": [
       "<matplotlib.figure.Figure at 0x107819ad0>"
      ]
     },
     "metadata": {},
     "output_type": "display_data"
    },
    {
     "name": "stdout",
     "output_type": "stream",
     "text": [
      "player 1 (WHITE): enter a move: 3,1\n"
     ]
    },
    {
     "data": {
      "image/png": "[encoded data removed]",
      "text/plain": [
       "<matplotlib.figure.Figure at 0x10c65cdd0>"
      ]
     },
     "metadata": {},
     "output_type": "display_data"
    },
    {
     "name": "stdout",
     "output_type": "stream",
     "text": [
      "player 2 (BLACK): enter a move: 3,0\n"
     ]
    },
    {
     "data": {
      "image/png": "[encoded data removed]",
      "text/plain": [
       "<matplotlib.figure.Figure at 0x10c1cf490>"
      ]
     },
     "metadata": {},
     "output_type": "display_data"
    },
    {
     "name": "stdout",
     "output_type": "stream",
     "text": [
      "player 1 (WHITE): enter a move: 2,0\n"
     ]
    },
    {
     "data": {
      "image/png": "[encoded data removed]",
      "text/plain": [
       "<matplotlib.figure.Figure at 0x10c856310>"
      ]
     },
     "metadata": {},
     "output_type": "display_data"
    },
    {
     "name": "stdout",
     "output_type": "stream",
     "text": [
      "player 2 (BLACK): enter a move: 1,0\n"
     ]
    },
    {
     "data": {
      "image/png": "[encoded data removed]",
      "text/plain": [
       "<matplotlib.figure.Figure at 0x10c665e10>"
      ]
     },
     "metadata": {},
     "output_type": "display_data"
    },
    {
     "name": "stdout",
     "output_type": "stream",
     "text": [
      "player 1 (WHITE): enter a move: 0,0\n"
     ]
    },
    {
     "data": {
      "image/png": "[encoded data removed]",
      "text/plain": [
       "<matplotlib.figure.Figure at 0x10c9be0d0>"
      ]
     },
     "metadata": {},
     "output_type": "display_data"
    },
    {
     "name": "stdout",
     "output_type": "stream",
     "text": [
      "player 2 (BLACK): enter a move: 0,2\n"
     ]
    },
    {
     "data": {
      "image/png": "[encoded data removed]",
      "text/plain": [
       "<matplotlib.figure.Figure at 0x10caed490>"
      ]
     },
     "metadata": {},
     "output_type": "display_data"
    },
    {
     "name": "stdout",
     "output_type": "stream",
     "text": [
      "player 1 (WHITE): enter a move: 0,1\n"
     ]
    },
    {
     "data": {
      "image/png": "[encoded data removed]",
      "text/plain": [
       "<matplotlib.figure.Figure at 0x10cc05990>"
      ]
     },
     "metadata": {},
     "output_type": "display_data"
    },
    {
     "name": "stdout",
     "output_type": "stream",
     "text": [
      "player 2 (BLACK): enter a move: 3,2\n"
     ]
    },
    {
     "data": {
      "image/png": "[encoded data removed]",
      "text/plain": [
       "<matplotlib.figure.Figure at 0x10cc55350>"
      ]
     },
     "metadata": {},
     "output_type": "display_data"
    },
    {
     "name": "stdout",
     "output_type": "stream",
     "text": [
      "player 1 (WHITE): enter a move: 3,3\n"
     ]
    },
    {
     "data": {
      "image/png": "[encoded data removed]",
      "text/plain": [
       "<matplotlib.figure.Figure at 0x10cc5e8d0>"
      ]
     },
     "metadata": {},
     "output_type": "display_data"
    },
    {
     "name": "stdout",
     "output_type": "stream",
     "text": [
      "player 2 (BLACK): enter a move: 1,3\n"
     ]
    },
    {
     "data": {
      "image/png": "[encoded data removed]",
      "text/plain": [
       "<matplotlib.figure.Figure at 0x10ca69a10>"
      ]
     },
     "metadata": {},
     "output_type": "display_data"
    },
    {
     "name": "stdout",
     "output_type": "stream",
     "text": [
      "player 1 (WHITE): enter a move: 0,3\n"
     ]
    },
    {
     "data": {
      "image/png": "[encoded data removed]",
      "text/plain": [
       "<matplotlib.figure.Figure at 0x10c8b6250>"
      ]
     },
     "metadata": {},
     "output_type": "display_data"
    },
    {
     "name": "stdout",
     "output_type": "stream",
     "text": [
      "\n",
      "-- player 2 (BLACK) has no place to go!\n",
      "\n",
      "player 1 (WHITE): enter a move: 2,3\n"
     ]
    },
    {
     "data": {
      "image/png": "[encoded data removed]",
      "text/plain": [
       "<matplotlib.figure.Figure at 0x10cb17d50>"
      ]
     },
     "metadata": {},
     "output_type": "display_data"
    },
    {
     "name": "stdout",
     "output_type": "stream",
     "text": [
      "\n",
      "| The game is over.\n",
      "| 9 white stones for player 1.\n",
      "| 7 black stones for player 2.\n",
      "| player 1 has won the game!\n"
     ]
    }
   ],
   "source": [
    "A = othello(4)  #change 4 to any number greater or equal to 3, gives the size of the board"
   ]
  },
  {
   "cell_type": "markdown",
   "metadata": {},
   "source": [
    "## 7.9 cicular array"
   ]
  },
  {
   "cell_type": "code",
   "execution_count": null,
   "metadata": {
    "collapsed": false
   },
   "outputs": [],
   "source": []
  },
  {
   "cell_type": "markdown",
   "metadata": {},
   "source": [
    "## 7.10 minesweeper"
   ]
  },
  {
   "cell_type": "code",
   "execution_count": null,
   "metadata": {
    "collapsed": true
   },
   "outputs": [],
   "source": []
  },
  {
   "cell_type": "markdown",
   "metadata": {},
   "source": [
    "## 7.11 file system"
   ]
  },
  {
   "cell_type": "code",
   "execution_count": null,
   "metadata": {
    "collapsed": false
   },
   "outputs": [],
   "source": []
  },
  {
   "cell_type": "markdown",
   "metadata": {},
   "source": [
    "## 7.12 hash table"
   ]
  },
  {
   "cell_type": "code",
   "execution_count": null,
   "metadata": {
    "collapsed": false
   },
   "outputs": [],
   "source": []
  },
  {
   "cell_type": "code",
   "execution_count": null,
   "metadata": {
    "collapsed": true
   },
   "outputs": [],
   "source": []
  }
 ],
 "metadata": {
  "kernelspec": {
   "display_name": "Python 2",
   "language": "python",
   "name": "python2"
  },
  "language_info": {
   "codemirror_mode": {
    "name": "ipython",
    "version": 2
   },
   "file_extension": ".py",
   "mimetype": "text/x-python",
   "name": "python",
   "nbconvert_exporter": "python",
   "pygments_lexer": "ipython2",
   "version": "2.7.12"
  }
 },
 "nbformat": 4,
 "nbformat_minor": 0
}
