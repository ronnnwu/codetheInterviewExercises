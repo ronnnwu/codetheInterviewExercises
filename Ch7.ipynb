{
 "cells": [
  {
   "cell_type": "markdown",
   "metadata": {},
   "source": [
    "# Chapter 7 Object-Oriented Design\n",
    "\n",
    "from Gayle Laakmann McDowell's \"Cracking the Coding Interview\", 6th ed.\n",
    "\n",
    "Ron Wu"
   ]
  },
  {
   "cell_type": "markdown",
   "metadata": {},
   "source": [
    "## 7.1 play Blackjack\n",
    " \n",
    "This is a complete playable Blackjack game (except I didn't implement the split option). Just run the cell and good luck."
   ]
  },
  {
   "cell_type": "code",
   "execution_count": 12,
   "metadata": {
    "collapsed": false
   },
   "outputs": [],
   "source": [
    "import random \n",
    "import time\n",
    "\n",
    "class deckCards(object):\n",
    "    def __init__(self):\n",
    "        self.curIter = 0\n",
    "        self.deck = [a for a in range(52)]\n",
    "        self.shuffle()\n",
    "        \n",
    "    def shuffle(self):\n",
    "        random.shuffle(self.deck)\n",
    "        \n",
    "    def dealCard(self):\n",
    "        if self.curIter == 52:\n",
    "            print \"deck is empty\"\n",
    "            return\n",
    "        card = self.deck[self.curIter]\n",
    "        self.curIter += 1\n",
    "        return card \n",
    "        \n",
    "    def cardValSuit(self, card):\n",
    "        if card/13 == 0:\n",
    "            return (self.cardFace(card%13+1), \"Hearts\")\n",
    "        if card/13 == 1:\n",
    "            return (self.cardFace(card%13+1), \"Spades\")\n",
    "        if card/13 == 2:\n",
    "            return (self.cardFace(card%13+1), \"Clubs\")\n",
    "        if card/13 == 3:\n",
    "            return (self.cardFace(card%13+1), \"Diamonds\")\n",
    "        \n",
    "    def cardFace(self, card):\n",
    "        if card == 1:\n",
    "            return \"Ace\"\n",
    "        if card == 11:\n",
    "            return \"Jack\"\n",
    "        if card == 12:\n",
    "            return \"Queen\"\n",
    "        if card == 13:\n",
    "            return \"King\"\n",
    "        return card\n",
    "             \n",
    "        \n",
    "class BlackJack(object):\n",
    "    def __init__(self, startingBet):\n",
    "        self.deck = deckCards()\n",
    "        print \"------------ Let's play blackjack ------------\"\n",
    "        self.NewRoundGame(startingBet) \n",
    "    \n",
    "    def NewRoundGame(self, bet):\n",
    "        if self.deck.curIter > 46:\n",
    "            print \"There are less then 6 cards in the deck. Need to restart the whole game. Type\"\n",
    "            print \"A = BlackJack(your_bet)\"\n",
    "            return\n",
    "    \n",
    "        player_dealt =  [self.deck.dealCard() , self.deck.dealCard()]\n",
    "        dealer_dealt = [self.deck.dealCard() , self.deck.dealCard()]\n",
    "        \n",
    "        #dealer_dealt[0] = 0\n",
    "        #dealer_dealt[1] = 10  change values here for testing purposes\n",
    "        \n",
    "        print \"\\nYour Bet:\"\n",
    "        print  bet , \"dollars\" \n",
    "        time.sleep(2) \n",
    "        print \"\\nYour 2 cards: \" \n",
    "        print self.deck.cardValSuit(player_dealt[0]), self.deck.cardValSuit(player_dealt[1])\n",
    "        time.sleep(2)\n",
    "        print \"\\nDealer one face-up card: \" \n",
    "        print self.deck.cardValSuit(dealer_dealt[0])   \n",
    "        time.sleep(1)\n",
    "        \n",
    "        insurance = -1 \n",
    "        if (dealer_dealt[0]%13 == 0):  \n",
    "            print \"\\nWhen dealer gets Ace, you can buy insurance.\"\n",
    "            print \"You can buy upto\" , bet/2, \"dollars\"\n",
    "            print \"\\nEnter 0 if you don't want insurance\"\n",
    "            \n",
    "            while insurance < 0 or insurance > bet/2:\n",
    "                insurance = int(raw_input('Enter insurance amount:'))\n",
    "                \n",
    "            time.sleep(2)\n",
    "            if (insurance > 0 and insurance <= bet/2):\n",
    "                if (dealer_dealt[1]%13+1 >= 10):\n",
    "                    print \"\\nDealer is blackjack. You get your insurance momey:\" ,insurance*2\n",
    "                    if self.dealVal(player_dealt)==21:\n",
    "                        print \"You are blackjock too. So it is a draw (push). You get your bet back.\"\n",
    "                    else:\n",
    "                        print \"But you lost your bet\", bet, \"dollors\"\n",
    "                    return\n",
    "                print \"\\nDealer is not a blackjack. You lost your insurance money, but the game is still on.\"\n",
    "                \n",
    "            \n",
    "        time.sleep(1)\n",
    "        print \"\\nEnter the number:\"\n",
    "        print \"1: Stand\"\n",
    "        print \"2: Hit\"\n",
    "        print \"3: Double\"\n",
    "        \n",
    "        #Split is not implemented  \n",
    "        #if player_dealt[0]%13 == player_dealt[1]%13: \n",
    "            # print \"4: Split\"\n",
    "            \n",
    "        choice = 0\n",
    "        while choice != 1 and choice != 2 and choice !=3:\n",
    "            choice = int(raw_input('Enter your choice:')) \n",
    "        \n",
    "        time.sleep(1)\n",
    "        \n",
    "        if (choice == 2 or choice == 3): \n",
    "            player_dealt.append(self.deck.dealCard())\n",
    "            print \"\\nYour third dealt: \" \n",
    "            print self.deck.cardValSuit(player_dealt[2]) \n",
    "        \n",
    "        if choice == 3:\n",
    "            bet = bet * 2\n",
    "            print \"\\nYou doubled your initial bet. The new bet is \" , bet\n",
    "        \n",
    "        time.sleep(1)    \n",
    "        if self.isBusted(player_dealt)==True:\n",
    "            print \"\\nYou are busted. You lost\" , bet, \"dollars\"\n",
    "            print \"\\nWant another round? Type \\nA.NewRoundGame(your_bet)\"\n",
    "            return\n",
    "        \n",
    "        print \"\\nDealer hole card was:\"\n",
    "        print self.deck.cardValSuit(dealer_dealt[1])\n",
    "        \n",
    "        time.sleep(1)\n",
    "        if dealer_dealt[0]%13+1+dealer_dealt[1]%13+1 <= 16:\n",
    "            dealer_dealt.append(self.deck.dealCard())\n",
    "            print \"\\nWhen dealer total is less than or equal to 16, he will make another deal.\"\n",
    "            time.sleep(2)  \n",
    "            print \"\\nDealer third dealt: \" \n",
    "            print self.deck.cardValSuit(dealer_dealt[2])\n",
    "            \n",
    "        deal_val = self.dealVal(dealer_dealt)    \n",
    "        player_val = self.dealVal(player_dealt)\n",
    "        \n",
    "        if self.isBusted(dealer_dealt)==True:\n",
    "            print \"\\nDealer is busted. You win\" ,bet*2 , \"dollars\\n\"\n",
    "            time.sleep(1)  \n",
    "            print \"\\nWant another round? Type \\nA.NewRoundGame(your_bet)\"\n",
    "            return\n",
    "        \n",
    "        time.sleep(1)\n",
    "        print \"\\nYour total:\", player_val\n",
    "        print \"Dealer total:\", deal_val\n",
    "        \n",
    "        time.sleep(1)\n",
    "        if deal_val > player_val:\n",
    "            print \"You lost your bet\", bet, \"dollars.\"\n",
    "        elif deal_val < player_val:\n",
    "            print \"You win the bet:\" , bet*2,  \"dollars rewards.\"\n",
    "        else:\n",
    "            print \"It was a draw. You get your bet\", bet,\"dollars back.\"\n",
    "        \n",
    "        time.sleep(1)    \n",
    "        print \"\\nWant another round? Type \\nA.NewRoundGame(your_bet)\"\n",
    "        \n",
    "    def isBusted(self, deal):\n",
    "        total = 0\n",
    "        for d in deal: \n",
    "            total += min(10, d%13+1) \n",
    "        return total > 21\n",
    "     \n",
    "    \n",
    "    def dealVal(self, dealt):\n",
    "        val = 0\n",
    "        numAce = 0\n",
    "        for d in dealt:\n",
    "            val += min(10, d%13+1) \n",
    "            if d%13+1 == 1:\n",
    "                numAce += 1\n",
    "        while numAce > 0:\n",
    "            if val + 10 <= 21:\n",
    "                val += 10\n",
    "            numAce -= 1 \n",
    "        return val\n",
    "         "
   ]
  },
  {
   "cell_type": "code",
   "execution_count": 13,
   "metadata": {
    "collapsed": false,
    "scrolled": true
   },
   "outputs": [
    {
     "name": "stdout",
     "output_type": "stream",
     "text": [
      "------------ Let's play blackjack ------------\n",
      "\n",
      "Your Bet:\n",
      "10 dollars\n",
      "\n",
      "Your 2 cards: \n",
      "(7, 'Clubs') ('Ace', 'Clubs')\n",
      "\n",
      "Dealer one face-up card: \n",
      "(8, 'Diamonds')\n",
      "\n",
      "Enter the number:\n",
      "1: Stand\n",
      "2: Hit\n",
      "3: Double\n",
      "Enter your choice:1\n",
      "\n",
      "Dealer hole card was:\n",
      "(9, 'Spades')\n",
      "\n",
      "Your total: 18\n",
      "Dealer total: 17\n",
      "You win the bet: 20 dollars rewards.\n",
      "\n",
      "Want another round? Type \n",
      "A.NewRoundGame(your_bet)\n"
     ]
    }
   ],
   "source": [
    "A = BlackJack(10) "
   ]
  },
  {
   "cell_type": "code",
   "execution_count": 16,
   "metadata": {
    "collapsed": false
   },
   "outputs": [
    {
     "name": "stdout",
     "output_type": "stream",
     "text": [
      "\n",
      "Your Bet:\n",
      "100 dollars\n",
      "\n",
      "Your 2 cards: \n",
      "(5, 'Spades') ('Queen', 'Clubs')\n",
      "\n",
      "Dealer one face-up card: \n",
      "('King', 'Clubs')\n",
      "\n",
      "Enter the number:\n",
      "1: Stand\n",
      "2: Hit\n",
      "3: Double\n",
      "Enter your choice:2\n",
      "\n",
      "Your third dealt: \n",
      "(6, 'Spades')\n",
      "\n",
      "Dealer hole card was:\n",
      "(10, 'Spades')\n",
      "\n",
      "Your total: 21\n",
      "Dealer total: 20\n",
      "You win the bet: 200 dollars rewards.\n",
      "\n",
      "Want another round? Type \n",
      "A.NewRoundGame(your_bet)\n"
     ]
    }
   ],
   "source": [
    "A.NewRoundGame(100)"
   ]
  },
  {
   "cell_type": "markdown",
   "metadata": {},
   "source": [
    "## 7.2 911 dispatch center "
   ]
  },
  {
   "cell_type": "code",
   "execution_count": null,
   "metadata": {
    "collapsed": false
   },
   "outputs": [],
   "source": [
    " "
   ]
  },
  {
   "cell_type": "code",
   "execution_count": null,
   "metadata": {
    "collapsed": false
   },
   "outputs": [],
   "source": []
  },
  {
   "cell_type": "markdown",
   "metadata": {},
   "source": [
    "## 7.3 musical jukebo"
   ]
  },
  {
   "cell_type": "code",
   "execution_count": null,
   "metadata": {
    "collapsed": true
   },
   "outputs": [],
   "source": []
  },
  {
   "cell_type": "markdown",
   "metadata": {},
   "source": [
    "## 7.4 parking lot"
   ]
  },
  {
   "cell_type": "code",
   "execution_count": null,
   "metadata": {
    "collapsed": true
   },
   "outputs": [],
   "source": []
  },
  {
   "cell_type": "markdown",
   "metadata": {},
   "source": [
    "## 7.5 online book reader"
   ]
  },
  {
   "cell_type": "code",
   "execution_count": null,
   "metadata": {
    "collapsed": true
   },
   "outputs": [],
   "source": []
  },
  {
   "cell_type": "markdown",
   "metadata": {},
   "source": [
    "## 7.6 jigsaw"
   ]
  },
  {
   "cell_type": "code",
   "execution_count": null,
   "metadata": {
    "collapsed": true
   },
   "outputs": [],
   "source": []
  },
  {
   "cell_type": "code",
   "execution_count": null,
   "metadata": {
    "collapsed": true
   },
   "outputs": [],
   "source": []
  },
  {
   "cell_type": "markdown",
   "metadata": {},
   "source": [
    "## 7.7 chat server"
   ]
  },
  {
   "cell_type": "code",
   "execution_count": null,
   "metadata": {
    "collapsed": true
   },
   "outputs": [],
   "source": []
  },
  {
   "cell_type": "markdown",
   "metadata": {},
   "source": [
    "## 7.8 othello"
   ]
  },
  {
   "cell_type": "code",
   "execution_count": null,
   "metadata": {
    "collapsed": true
   },
   "outputs": [],
   "source": []
  },
  {
   "cell_type": "markdown",
   "metadata": {},
   "source": [
    "## 7.9 cicular array"
   ]
  },
  {
   "cell_type": "code",
   "execution_count": null,
   "metadata": {
    "collapsed": true
   },
   "outputs": [],
   "source": []
  },
  {
   "cell_type": "code",
   "execution_count": null,
   "metadata": {
    "collapsed": true
   },
   "outputs": [],
   "source": []
  },
  {
   "cell_type": "markdown",
   "metadata": {},
   "source": [
    "## 7.10 minesweeper"
   ]
  },
  {
   "cell_type": "code",
   "execution_count": null,
   "metadata": {
    "collapsed": true
   },
   "outputs": [],
   "source": []
  },
  {
   "cell_type": "code",
   "execution_count": null,
   "metadata": {
    "collapsed": true
   },
   "outputs": [],
   "source": []
  },
  {
   "cell_type": "markdown",
   "metadata": {},
   "source": [
    "## 7.11 file system"
   ]
  },
  {
   "cell_type": "code",
   "execution_count": null,
   "metadata": {
    "collapsed": true
   },
   "outputs": [],
   "source": []
  },
  {
   "cell_type": "markdown",
   "metadata": {},
   "source": [
    "## 7.12 hash table"
   ]
  },
  {
   "cell_type": "code",
   "execution_count": null,
   "metadata": {
    "collapsed": true
   },
   "outputs": [],
   "source": []
  }
 ],
 "metadata": {
  "kernelspec": {
   "display_name": "Python 2",
   "language": "python",
   "name": "python2"
  },
  "language_info": {
   "codemirror_mode": {
    "name": "ipython",
    "version": 2
   },
   "file_extension": ".py",
   "mimetype": "text/x-python",
   "name": "python",
   "nbconvert_exporter": "python",
   "pygments_lexer": "ipython2",
   "version": "2.7.12"
  }
 },
 "nbformat": 4,
 "nbformat_minor": 0
}
