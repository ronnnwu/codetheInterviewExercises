{
 "cells": [
  {
   "cell_type": "markdown",
   "metadata": {},
   "source": [
    "# Chapter 2 Linked Lists\n",
    "\n",
    "from Gayle Laakmann McDowell's \"Cracking the Coding Interview\", 6th ed.\n",
    "\n",
    "Ron Wu"
   ]
  },
  {
   "cell_type": "markdown",
   "metadata": {},
   "source": [
    "## 2.1 Remove duplicates from a linked list"
   ]
  },
  {
   "cell_type": "code",
   "execution_count": 1,
   "metadata": {
    "collapsed": true
   },
   "outputs": [],
   "source": [
    "class Node(object):\n",
    "    def __init__(self, data = None, nd = None):\n",
    "        self.val = data\n",
    "        self.nextNode = nd\n",
    "        \n",
    "    def getVal(self):\n",
    "        return self.val\n",
    "    \n",
    "    def getNext(self):\n",
    "        return self.nextNode\n",
    "    \n",
    "    def linkNext(self, nd):\n",
    "        self.nextNode = nd\n",
    "    "
   ]
  },
  {
   "cell_type": "code",
   "execution_count": 2,
   "metadata": {
    "collapsed": false
   },
   "outputs": [],
   "source": [
    "import sys\n",
    "\n",
    "class linkedList(object):\n",
    "    def __init__(self, nd = None):\n",
    "        self.head = nd\n",
    "        self.size = 0\n",
    "        if self.head != None:\n",
    "            self.size = 1\n",
    "        \n",
    "    def addNode(self, nd): \n",
    "        #add to the head O(1)\n",
    "        nd.linkNext(self.head)\n",
    "        self.head = nd\n",
    "        self.size += 1\n",
    "        \n",
    "    def insertNode(self, nd, cur):\n",
    "        #nd will be added after cur    \n",
    "        nd.linkNext(cur.getNext())\n",
    "        cur.linkNext(nd)        \n",
    "        self.size += 1\n",
    "        \n",
    "    def deletNode(self, cur):\n",
    "        if cur == None:\n",
    "            return\n",
    "        \n",
    "        if cur == self.head:\n",
    "            self.head = self.head.getNext()\n",
    "            self.size -= 1 \n",
    "        else:\n",
    "            pt = self.head\n",
    "    #to avoid circular ll, if we are careful, we should check size\n",
    "            while pt:\n",
    "                if pt.getNext() == cur:\n",
    "                    pt.linkNext(cur.getNext())\n",
    "                    self.size -= 1 \n",
    "                    return\n",
    "                pt = pt.getNext()       \n",
    "        \n",
    "    def displayAllValue(self):\n",
    "        if self.size == 0:\n",
    "            print 'nothing to show'\n",
    "            \n",
    "        cur = self.head    \n",
    "        count = 0\n",
    "        while cur and count < self.size + 1:\n",
    "            sys.stdout.write(str(cur.getVal()) + ' ')\n",
    "            cur = cur.getNext()\n",
    "            count += 1\n",
    "    \n",
    "    def getSize(self):\n",
    "        if self.head == None:\n",
    "            return 0\n",
    "        return self.size\n",
    "     \n",
    "    def findVal(self, val):\n",
    "        if self.head == None:\n",
    "            print 'empty list'\n",
    "            return None\n",
    "        \n",
    "        cur = self.head\n",
    "        while (cur != None):\n",
    "            if cur.getVal() == val: \n",
    "                print 'value found'\n",
    "                return cur\n",
    "            cur = cur.getNext() \n",
    "            \n",
    "        print 'value not found'\n",
    "        return None  \n",
    "    "
   ]
  },
  {
   "cell_type": "code",
   "execution_count": 3,
   "metadata": {
    "collapsed": false
   },
   "outputs": [],
   "source": [
    "def removeDuplicates(ll, nobuffer=False):\n",
    "    if ll.getSize() < 2:\n",
    "        return\n",
    "    if nobuffer:\n",
    "        #no buffer O(n^2)\n",
    "        cur = ll.head\n",
    "        while cur: \n",
    "            runner = cur.getNext()\n",
    "            while runner:\n",
    "                if runner.getVal() == cur.getVal():\n",
    "                    ll.deletNode(runner)\n",
    "                runner = runner.getNext() \n",
    "            cur = cur.getNext() \n",
    "    else:\n",
    "        #O(n)\n",
    "        duplicates = {}\n",
    "        cur = ll.head\n",
    "        while cur:\n",
    "            val = cur.getVal()\n",
    "            if val not in duplicates:\n",
    "                duplicates[val] = 1\n",
    "            else:\n",
    "                ll.deletNode(cur)\n",
    "            cur = cur.getNext()    \n"
   ]
  },
  {
   "cell_type": "code",
   "execution_count": 4,
   "metadata": {
    "collapsed": false
   },
   "outputs": [
    {
     "name": "stdout",
     "output_type": "stream",
     "text": [
      "original linked list size:  6\n",
      "cleaned linked list size:  3\n"
     ]
    }
   ],
   "source": [
    "ll = linkedList()\n",
    "data = [1,2,1,3,1,3]\n",
    "for d in data:\n",
    "    ll.addNode(Node(d))\n",
    "print 'original linked list size: ', ll.getSize()\n",
    "\n",
    "#with buffer\n",
    "removeDuplicates(ll, False)\n",
    "print 'cleaned linked list size: ' , ll.getSize()"
   ]
  },
  {
   "cell_type": "code",
   "execution_count": 5,
   "metadata": {
    "collapsed": false
   },
   "outputs": [
    {
     "name": "stdout",
     "output_type": "stream",
     "text": [
      "original linked list size:  6\n",
      "cleaned linked list size:  3\n"
     ]
    }
   ],
   "source": [
    "ll = linkedList()\n",
    "data = [1,2,1,3,1,3]\n",
    "for d in data:\n",
    "    ll.addNode(Node(d)) \n",
    "print 'original linked list size: ', ll.getSize()\n",
    "\n",
    "#no buffer\n",
    "removeDuplicates(ll, True)\n",
    "print 'cleaned linked list size: ' , ll.getSize()"
   ]
  },
  {
   "cell_type": "markdown",
   "metadata": {},
   "source": [
    "## 2.2 return kth to the last element "
   ]
  },
  {
   "cell_type": "code",
   "execution_count": 6,
   "metadata": {
    "collapsed": false
   },
   "outputs": [
    {
     "data": {
      "text/plain": [
       "5"
      ]
     },
     "execution_count": 6,
     "metadata": {},
     "output_type": "execute_result"
    }
   ],
   "source": [
    "def returnKLast(ll,k):\n",
    "    if ll.size < k:\n",
    "        print 'invalid kth'\n",
    "        return None\n",
    "    \n",
    "    cur = ll.head\n",
    "    for i in range(ll.size - k):\n",
    "        cur = cur.getNext()\n",
    "        \n",
    "    return cur.getVal()\n",
    "\n",
    "ll = linkedList()\n",
    "data = [1,2,3,4,5,6]\n",
    "for i in range(len(data)):\n",
    "    ll.addNode(Node(data[len(data)-i-1]))\n",
    "\n",
    "returnKLast(ll, 2) "
   ]
  },
  {
   "cell_type": "markdown",
   "metadata": {},
   "source": [
    "## 2.3 delete middle point in LL"
   ]
  },
  {
   "cell_type": "code",
   "execution_count": 7,
   "metadata": {
    "collapsed": false
   },
   "outputs": [
    {
     "name": "stdout",
     "output_type": "stream",
     "text": [
      "value not found\n"
     ]
    }
   ],
   "source": [
    "def deleteMidPoint(ll):\n",
    "    if ll.size < 3:\n",
    "        print 'nothing is deleted'\n",
    "        return\n",
    "    \n",
    "    slow = ll.head\n",
    "    fast = slow\n",
    "    \n",
    "    while fast:\n",
    "        if fast.getNext() == None or fast.getNext().getNext() == None:\n",
    "            break\n",
    "        fast = fast.getNext().getNext()\n",
    "        slow = slow.getNext()\n",
    "        \n",
    "    ll.deletNode(slow)\n",
    "\n",
    "    \n",
    "ll = linkedList()\n",
    "data = ['a','b','c','d','e','f']\n",
    "for i in range(len(data)):\n",
    "    ll.addNode(Node(data[len(data)-i-1]))\n",
    "\n",
    "    \n",
    "deleteMidPoint(ll)      \n",
    "\n",
    "if ll.findVal('c'): \n",
    "    pass"
   ]
  },
  {
   "cell_type": "markdown",
   "metadata": {},
   "source": [
    "## 2.4 partitation around x and the separation need not to be x"
   ]
  },
  {
   "cell_type": "code",
   "execution_count": 8,
   "metadata": {
    "collapsed": false
   },
   "outputs": [
    {
     "name": "stdout",
     "output_type": "stream",
     "text": [
      "3 5 8 5 10 2 1 \n",
      "after partition:\n",
      "3 2 1 10 "
     ]
    }
   ],
   "source": [
    "def partitationAround(ll, x):\n",
    "    if ll.size < 2:\n",
    "        print 'nothing has changed'\n",
    "        return\n",
    "    ll2 = linkedList()\n",
    "    \n",
    "    cur = ll.head\n",
    "    tem = None\n",
    "    while cur:\n",
    "        if cur.getVal() >= x:\n",
    "            tem = cur.getNext()\n",
    "            ll.deletNode(cur)\n",
    "            ll2.addNode(cur)\n",
    "            cur = tem\n",
    "        else:\n",
    "            tem = cur\n",
    "            cur = cur.getNext()\n",
    "            \n",
    "    tem.linkNext(ll2.head) \n",
    "    \n",
    "ll = linkedList()\n",
    "data = [3, 5, 8 , 5, 10, 2, 1]\n",
    "for i in range(len(data)):\n",
    "    ll.addNode(Node(data[len(data)-i-1]))\n",
    "ll.displayAllValue()\n",
    "partitationAround(ll, 5)\n",
    "print '\\nafter partition:'\n",
    "ll.displayAllValue()"
   ]
  },
  {
   "cell_type": "markdown",
   "metadata": {},
   "source": [
    "## 2.5 sum two linked lists as if they are digital representation of integers"
   ]
  },
  {
   "cell_type": "code",
   "execution_count": 9,
   "metadata": {
    "collapsed": false
   },
   "outputs": [],
   "source": [
    "def readNumHelper(ll):\n",
    "    '''read the number, assume values in the ll are int'''\n",
    "    result = 0\n",
    "    cur = ll.head\n",
    "    decimal = 0\n",
    "    while cur:\n",
    "        result += cur.getVal() * (10**decimal)\n",
    "        decimal += 1\n",
    "        cur = cur.getNext()\n",
    "    return result    \n",
    "\n",
    "def sumLists(ll1, ll2):\n",
    "    if ll1.size < 1 or ll2.size < 1:\n",
    "        return None\n",
    "    result = linkedList()\n",
    "    sumLL  = readNumHelper(ll1) + readNumHelper(ll2) \n",
    "    decimal = 0\n",
    "    while sumLL > 0:\n",
    "        remainder = sumLL % (10**(decimal+1)) \n",
    "        sumLL -= remainder\n",
    "        digit = remainder/(10**decimal)\n",
    "        decimal += 1\n",
    "        result.addNode(Node(digit)) \n",
    "    return result"
   ]
  },
  {
   "cell_type": "code",
   "execution_count": 10,
   "metadata": {
    "collapsed": false
   },
   "outputs": [
    {
     "name": "stdout",
     "output_type": "stream",
     "text": [
      "7 1 6 \n",
      "+\n",
      "5 9 2 \n",
      "= \n",
      "9 1 2 "
     ]
    }
   ],
   "source": [
    "ll1 = linkedList()\n",
    "data = [7,1,6]\n",
    "for i in range(len(data)):\n",
    "    ll1.addNode(Node(data[len(data)-i-1]))\n",
    "\n",
    "ll1.displayAllValue()\n",
    "\n",
    "\n",
    "ll2 = linkedList()\n",
    "data = [5,9,2]\n",
    "for i in range(len(data)):\n",
    "    ll2.addNode(Node(data[len(data)-i-1]))\n",
    "print '\\n+'\n",
    "ll2.displayAllValue()\n",
    "\n",
    "\n",
    "ll = sumLists(ll1, ll2) \n",
    "print '\\n= '\n",
    "ll.displayAllValue()"
   ]
  },
  {
   "cell_type": "markdown",
   "metadata": {},
   "source": [
    "## 2.6 check if the ll is a palindrome"
   ]
  },
  {
   "cell_type": "code",
   "execution_count": 11,
   "metadata": {
    "collapsed": false
   },
   "outputs": [
    {
     "name": "stdout",
     "output_type": "stream",
     "text": [
      "it is not a palindrome\n"
     ]
    }
   ],
   "source": [
    "def checkPalindrome(ll):\n",
    "    if ll.size == 1:\n",
    "        return True\n",
    "    \n",
    "    cur = ll.head\n",
    "    stack = []\n",
    "    for i in range(ll.size):\n",
    "        val = cur.getVal()\n",
    "        if i <= ll.size/2:\n",
    "            stack.append(val)\n",
    "        else:\n",
    "            if val != stack[ll.size-i-1]:\n",
    "                print 'it is not a palindrome'\n",
    "                return \n",
    "        cur = cur.getNext()\n",
    "    print 'it is palindrome'\n",
    "    return \n",
    "\n",
    "ll = linkedList()\n",
    "data = [7,1,7,1]\n",
    "for i in range(len(data)):\n",
    "    ll.addNode(Node(data[len(data)-i-1]))\n",
    "\n",
    "checkPalindrome(ll)              "
   ]
  },
  {
   "cell_type": "markdown",
   "metadata": {},
   "source": [
    "## 2.7 check if two ll intersects"
   ]
  },
  {
   "cell_type": "code",
   "execution_count": 12,
   "metadata": {
    "collapsed": true
   },
   "outputs": [],
   "source": [
    "#O(n+m)\n",
    "def returnLastNodehelper(ll): \n",
    "    cur = ll.head\n",
    "    lastNode = cur\n",
    "    while cur:\n",
    "        lastNode = cur\n",
    "        cur = cur.getNext()\n",
    "    return lastNode\n",
    "\n",
    "def checkIntersect(ll1, ll2):\n",
    "    last1 = returnLastNodehelper(ll1)\n",
    "    last2 = returnLastNodehelper(ll2)\n",
    "    if last1 == last2: #reference comparsion i.e. compare address\n",
    "        return True\n",
    "    else:\n",
    "        return False\n",
    "    \n"
   ]
  },
  {
   "cell_type": "code",
   "execution_count": 13,
   "metadata": {
    "collapsed": false
   },
   "outputs": [
    {
     "name": "stdout",
     "output_type": "stream",
     "text": [
      "list 1: \n",
      "1 3 4 \n",
      "list 2: \n",
      "2 3 4 \n",
      "Intersect?  True\n"
     ]
    }
   ],
   "source": [
    "node1 = Node(1)    \n",
    "node2 = Node(2) \n",
    "node3 = Node(3) \n",
    "node4 = Node(4)  \n",
    "\n",
    "node3.linkNext(node4)\n",
    "node1.linkNext(node3)\n",
    "node2.linkNext(node3)\n",
    "\n",
    "ll1 = linkedList(node1)\n",
    "ll1.size = 3\n",
    "ll2 = linkedList(node2)\n",
    "ll2.size = 3\n",
    "print 'list 1: '\n",
    "ll1.displayAllValue()\n",
    "print '\\nlist 2: '\n",
    "ll2.displayAllValue()\n",
    "\n",
    "print '\\nIntersect? ', checkIntersect(ll1, ll2)"
   ]
  },
  {
   "cell_type": "markdown",
   "metadata": {},
   "source": [
    "## 2.8 check if the ll is (corrupt) circular"
   ]
  },
  {
   "cell_type": "code",
   "execution_count": 14,
   "metadata": {
    "collapsed": false
   },
   "outputs": [],
   "source": [
    "#O(n)\n",
    "def checkCircular(ll):\n",
    "    fast = ll.head\n",
    "    slow = ll.head\n",
    "    \n",
    "    while fast:\n",
    "        fast = fast.getNext()\n",
    "        if fast == slow:\n",
    "            print 'corrupt'\n",
    "            return True\n",
    "        if fast.getNext()== None:\n",
    "            print 'high moral'\n",
    "            return False\n",
    "        fast = fast.getNext()\n",
    "        if fast == slow:\n",
    "            print 'corrupt'\n",
    "            return True\n",
    "        slow = slow.getNext()\n",
    "    \n",
    "    print 'high moral'\n",
    "    return False    \n",
    "\n",
    "#O(n^2) not using extra memory\n",
    "def returnHeadCircle(ll):\n",
    "    if checkCircular == False:\n",
    "        print 'not circular'\n",
    "        return\n",
    "    \n",
    "    circleHead = ll.head\n",
    "    fast = ll.head\n",
    "    slow = ll.head\n",
    "    \n",
    "    while True:\n",
    "        fast = fast.getNext()\n",
    "        while fast != slow and fast.getNext() != slow:\n",
    "            if fast == circleHead:\n",
    "                print 'circular head found'\n",
    "                return fast\n",
    "            fast = fast.getNext().getNext()\n",
    "            slow = slow.getNext()\n",
    "        circleHead = circleHead.getNext()   \n",
    "    print 'circular head is the head of ll'    \n",
    "    return fast        "
   ]
  },
  {
   "cell_type": "code",
   "execution_count": 15,
   "metadata": {
    "collapsed": false
   },
   "outputs": [
    {
     "name": "stdout",
     "output_type": "stream",
     "text": [
      "list: \n",
      "A B C D E C \n",
      "Circular? \n",
      "corrupt\n",
      "True\n",
      "circular head found\n",
      "C\n"
     ]
    }
   ],
   "source": [
    "nodeA = Node('A')    \n",
    "nodeB = Node('B') \n",
    "nodeC = Node('C') \n",
    "nodeD = Node('D')  \n",
    "nodeE = Node('E') \n",
    " \n",
    "nodeA.linkNext(nodeB)\n",
    "nodeB.linkNext(nodeC)\n",
    "nodeC.linkNext(nodeD)\n",
    "nodeD.linkNext(nodeE)\n",
    "nodeE.linkNext(nodeC)\n",
    "\n",
    "ll = linkedList(nodeA)\n",
    "ll.size = 5\n",
    "print 'list: '\n",
    "ll.displayAllValue() \n",
    "\n",
    "print '\\nCircular? \\n', checkCircular(ll)\n",
    "\n",
    "print returnHeadCircle(ll).getVal()"
   ]
  }
 ],
 "metadata": {
  "kernelspec": {
   "display_name": "Python 2",
   "language": "python",
   "name": "python2"
  },
  "language_info": {
   "codemirror_mode": {
    "name": "ipython",
    "version": 2
   },
   "file_extension": ".py",
   "mimetype": "text/x-python",
   "name": "python",
   "nbconvert_exporter": "python",
   "pygments_lexer": "ipython2",
   "version": "2.7.11"
  }
 },
 "nbformat": 4,
 "nbformat_minor": 0
}
