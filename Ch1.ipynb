{
 "cells": [
  {
   "cell_type": "markdown",
   "metadata": {},
   "source": [
    "# Chapter 1\n",
    "\n",
    "Pages 90-91"
   ]
  },
  {
   "cell_type": "markdown",
   "metadata": {},
   "source": [
    "## 1.1 check if a string has all unique char"
   ]
  },
  {
   "cell_type": "code",
   "execution_count": 1,
   "metadata": {
    "collapsed": false
   },
   "outputs": [
    {
     "name": "stdout",
     "output_type": "stream",
     "text": [
      "'apple' is not unique\n"
     ]
    },
    {
     "data": {
      "text/plain": [
       "False"
      ]
     },
     "execution_count": 1,
     "metadata": {},
     "output_type": "execute_result"
    }
   ],
   "source": [
    "def isUnique(words):\n",
    "    if len(words) < 1:\n",
    "        print 'The string is not valid!'\n",
    "        return False\n",
    "    \n",
    "    charDic = {}\n",
    "    words = words.lower()\n",
    "    for w in words:\n",
    "        if w != ' ':\n",
    "            if w in charDic:\n",
    "                print '\\'' + words + '\\' is not unique' \n",
    "                return False\n",
    "            charDic[w] = 1\n",
    "            \n",
    "    print '\\'' + words + '\\' is unique'         \n",
    "    return True\n",
    "\n",
    "\n",
    "isUnique('apple')    "
   ]
  },
  {
   "cell_type": "markdown",
   "metadata": {},
   "source": [
    "## 1.2 check if one string is a permuation of the other"
   ]
  },
  {
   "cell_type": "code",
   "execution_count": 2,
   "metadata": {
    "collapsed": false
   },
   "outputs": [
    {
     "name": "stdout",
     "output_type": "stream",
     "text": [
      "'tea' is a permuation of 'eat'\n"
     ]
    },
    {
     "data": {
      "text/plain": [
       "True"
      ]
     },
     "execution_count": 2,
     "metadata": {},
     "output_type": "execute_result"
    }
   ],
   "source": [
    "def isPermuted(words, words2):\n",
    "    if len(words) < 1 or len(words2) < 1:\n",
    "        print 'One of the strings is not valid!'\n",
    "        return False\n",
    "    \n",
    "    charDic = {}\n",
    "    words = words.lower()\n",
    "    for w in words:\n",
    "        if w != ' ':\n",
    "            if w in charDic:\n",
    "                charDic[w] += 1\n",
    "            else:\n",
    "                charDic[w] = 1\n",
    "        words = words.lower()\n",
    "    \n",
    "    words2 = words2.lower()    \n",
    "    for w in words2:\n",
    "        if w != ' ':\n",
    "            if w in charDic:\n",
    "                charDic[w] -= 1\n",
    "            else:\n",
    "                print '\\'' + words2 + '\\' is not a permuation of \\'' + words + '\\''    \n",
    "                return False\n",
    "        \n",
    "    print '\\'' + words2 + '\\' is a permuation of \\'' + words + '\\''          \n",
    "    return True\n",
    "\n",
    "isPermuted('eat', 'tea')    "
   ]
  },
  {
   "cell_type": "markdown",
   "metadata": {},
   "source": [
    "## 1.3 convert spaces in a string to url %20"
   ]
  },
  {
   "cell_type": "code",
   "execution_count": 3,
   "metadata": {
    "collapsed": false
   },
   "outputs": [
    {
     "data": {
      "text/plain": [
       "'Mr%20&%20Mrs%20Smith'"
      ]
     },
     "execution_count": 3,
     "metadata": {},
     "output_type": "execute_result"
    }
   ],
   "source": [
    "def stringReplace(words, takeOut, rep):\n",
    "    if len(words) < 1 or len(takeOut) != 1:\n",
    "        print 'Input is not valid!'\n",
    "        return \n",
    "    \n",
    "    result = []\n",
    "    for w in words:\n",
    "        if w != takeOut:\n",
    "            result.append(w)\n",
    "        else:\n",
    "            if result[-1] != rep:\n",
    "                result.append(rep)\n",
    "            \n",
    "    return ''.join(result)\n",
    "\n",
    "stringReplace('Mr & Mrs  Smith', ' ', '%20')            "
   ]
  },
  {
   "cell_type": "markdown",
   "metadata": {},
   "source": [
    "## 1.4 check if one is a permutation of a palindrome word"
   ]
  },
  {
   "cell_type": "code",
   "execution_count": 4,
   "metadata": {
    "collapsed": false
   },
   "outputs": [
    {
     "name": "stdout",
     "output_type": "stream",
     "text": [
      "'tact coa' is a palindrome permuation\n"
     ]
    },
    {
     "data": {
      "text/plain": [
       "True"
      ]
     },
     "execution_count": 4,
     "metadata": {},
     "output_type": "execute_result"
    }
   ],
   "source": [
    "def isPalindrome(words):\n",
    "    if len(words) < 1:\n",
    "        print 'Input is not valid!'\n",
    "        return \n",
    "    \n",
    "    charDic = {}\n",
    "    words = words.lower()\n",
    "     \n",
    "    for w in words:\n",
    "        if w != ' ':\n",
    "            if w in charDic:\n",
    "                charDic[w] += 1\n",
    "            else:\n",
    "                charDic[w] = 1\n",
    "    \n",
    "    tolerance = 1 \n",
    "    for (k,n) in charDic.items(): \n",
    "        if n % 2 == 1:\n",
    "            if tolerance == 0:\n",
    "                print '\\'' + words + '\\' is not a palindrome permuation'    \n",
    "                return False \n",
    "            tolerance -= 1\n",
    "            \n",
    "    print '\\'' + words + '\\' is a palindrome permuation'        \n",
    "    return True\n",
    "    \n",
    "isPalindrome('Tact Coa')    "
   ]
  },
  {
   "cell_type": "markdown",
   "metadata": {},
   "source": [
    "## 1.5 check if a sting is one edit away from the other"
   ]
  },
  {
   "cell_type": "code",
   "execution_count": 5,
   "metadata": {
    "collapsed": false
   },
   "outputs": [
    {
     "name": "stdout",
     "output_type": "stream",
     "text": [
      "they are not one away\n"
     ]
    },
    {
     "data": {
      "text/plain": [
       "False"
      ]
     },
     "execution_count": 5,
     "metadata": {},
     "output_type": "execute_result"
    }
   ],
   "source": [
    "def isOneAway(words, words2):\n",
    "    if len(words) < 1 or len(words2) < 1:\n",
    "        print 'One of the strings is not valid!'\n",
    "        return False\n",
    "    \n",
    "    if (len(words) - len(words2)) not in [0,-1,1]:\n",
    "        print 'they are not one away'\n",
    "        return False\n",
    "    \n",
    "    tolerance = 1 \n",
    "    if len(words) == len(words2):\n",
    "        for w, v in zip(words, words2):\n",
    "            if w != v:\n",
    "                if tolerance == 0: \n",
    "                    print 'they are not one away'\n",
    "                    return False\n",
    "                tolerance -= 1 \n",
    "                \n",
    "    elif len(words) < len(words2): \n",
    "         # one could use split here, but it is not optimal\n",
    "        i = 0\n",
    "        for j in range(len(words2)):\n",
    "            \n",
    "            if words[i] != words2[j]:\n",
    "                if tolerance == 0: \n",
    "                    print 'they are not one away'\n",
    "                    return False\n",
    "                tolerance -= 1 \n",
    "                i -= 1                \n",
    "            i += 1    \n",
    "            \n",
    "    else:\n",
    "        j = 0\n",
    "        for i in range(len(words)):\n",
    "            \n",
    "            if words[i] != words2[j]:\n",
    "                if tolerance == 0: \n",
    "                    print 'they are not one away'\n",
    "                    return False\n",
    "                tolerance -= 1 \n",
    "                j -= 1                \n",
    "            j += 1  \n",
    "    \n",
    "    print 'they are one edit away'        \n",
    "    return True             \n",
    "    \n",
    "isOneAway('ple', 'bale')    "
   ]
  },
  {
   "cell_type": "markdown",
   "metadata": {},
   "source": [
    "## 1.6 string compression"
   ]
  },
  {
   "cell_type": "code",
   "execution_count": 6,
   "metadata": {
    "collapsed": false
   },
   "outputs": [
    {
     "data": {
      "text/plain": [
       "'m1i1s2i1s2i1p2i1'"
      ]
     },
     "execution_count": 6,
     "metadata": {},
     "output_type": "execute_result"
    }
   ],
   "source": [
    "def stringCompress(words):\n",
    "    if len(words) < 1:\n",
    "        print 'Invalid input'\n",
    "        return False\n",
    "    \n",
    "    if len(words) == 1:\n",
    "        return words + '1'\n",
    "    \n",
    "    words = words.lower()\n",
    "    preChar = words[0]    \n",
    "    resultChar = [preChar]\n",
    "    resultCount = [1]\n",
    "    \n",
    "    for w in words[1:]:\n",
    "        if w == ' ':\n",
    "            continue\n",
    "        \n",
    "        if w == preChar:\n",
    "            resultCount[-1] += 1\n",
    "        else:\n",
    "            preChar = w\n",
    "            resultChar.append(w)\n",
    "            resultCount.append(1)\n",
    "    \n",
    "    return ''.join([v + str(w) for v,w in zip(resultChar, resultCount)])            \n",
    "\n",
    "stringCompress('mississippi')"
   ]
  },
  {
   "cell_type": "markdown",
   "metadata": {},
   "source": [
    "## 1.7 rotate image $90^o$"
   ]
  },
  {
   "cell_type": "code",
   "execution_count": 7,
   "metadata": {
    "collapsed": false
   },
   "outputs": [
    {
     "data": {
      "image/png": "[encoded data removed]",
      "text/plain": [
       "<matplotlib.figure.Figure at 0x74011d0>"
      ]
     },
     "metadata": {},
     "output_type": "display_data"
    }
   ],
   "source": [
    "import numpy as np\n",
    "import matplotlib.pyplot as plt\n",
    "%matplotlib inline\n",
    "from PIL import Image\n",
    "\n",
    "fname = 'data/3_handwritten.png'\n",
    "image = Image.open(fname).convert(\"L\")\n",
    "imageMatrix = np.asarray(image)\n",
    "plt.imshow(imageMatrix, cmap='Greys_r')\n",
    "plt.show()"
   ]
  },
  {
   "cell_type": "code",
   "execution_count": 8,
   "metadata": {
    "collapsed": false
   },
   "outputs": [],
   "source": [
    "def rotateImage(pic):\n",
    "    (u, v) = pic.shape\n",
    "    \n",
    "    if u != v:\n",
    "        print 'invalid input'\n",
    "        return \n",
    "    \n",
    "    for i in range(u/2):\n",
    "        for j in range(u/2):\n",
    "            e = pic[i,j]\n",
    "            pic[i,j] = pic[u-j-1,i]\n",
    "            pic[u-j-1,i] = pic[u-i-1,u-j-1]\n",
    "            pic[u-i-1,u-j-1] = pic[j,u-i-1] \n",
    "            pic[j,u-i-1]  = e\n",
    "        "
   ]
  },
  {
   "cell_type": "code",
   "execution_count": 9,
   "metadata": {
    "collapsed": false
   },
   "outputs": [
    {
     "data": {
      "image/png": "[encoded data removed]",
      "text/plain": [
       "<matplotlib.figure.Figure at 0x6b9d470>"
      ]
     },
     "metadata": {},
     "output_type": "display_data"
    }
   ],
   "source": [
    "import numpy as np\n",
    "mat = np.copy(imageMatrix)\n",
    "rotateImage(mat)\n",
    "plt.imshow(mat, cmap='Greys_r')\n",
    "plt.show()"
   ]
  },
  {
   "cell_type": "markdown",
   "metadata": {
    "collapsed": true
   },
   "source": [
    "## 1.8 set its row and col to 0 if an entry is 0"
   ]
  },
  {
   "cell_type": "code",
   "execution_count": 10,
   "metadata": {
    "collapsed": false
   },
   "outputs": [
    {
     "name": "stdout",
     "output_type": "stream",
     "text": [
      "Input:\n",
      "[[0 1 2]]\n",
      "[[3 4 5]]\n",
      "[[0 6 7]]\n",
      "\n",
      "Output:\n",
      "[[0 0 0]\n",
      " [0 4 5]\n",
      " [0 0 0]]\n"
     ]
    }
   ],
   "source": [
    "def setRowColZero(mat):\n",
    "    (u,v) = mat.shape \n",
    "    if u < 1 or v < 1:\n",
    "        print 'invalid input'\n",
    "        return \n",
    "    \n",
    "    deleteCol = set()\n",
    "    deleteRow = set()\n",
    "    for i in range(u):\n",
    "        for j in range(v):\n",
    "            if mat[i,j] == 0:\n",
    "                deleteCol.add(j)\n",
    "                deleteRow.add(i)\n",
    "                \n",
    "    for c in deleteCol:\n",
    "        for i in range(u):\n",
    "            mat[i,c] = 0\n",
    "            \n",
    "    for r in deleteRow:\n",
    "        for j in range(v):\n",
    "            mat[r,j] = 0\n",
    "\n",
    "import numpy as np            \n",
    "mat = np.matrix([[0,1,2],[3,4,5],[0,6,7]]) \n",
    "print 'Input:'\n",
    "print('\\n'.join([''.join(['{:4}'.format(item) for item in row]) \n",
    "      for row in mat]))\n",
    "setRowColZero(mat)     \n",
    "print '\\nOutput:'\n",
    "print mat"
   ]
  },
  {
   "cell_type": "markdown",
   "metadata": {
    "collapsed": true
   },
   "source": [
    "## 1.9 check if string2 is a rotation of string1 by using isSubstring "
   ]
  },
  {
   "cell_type": "code",
   "execution_count": 12,
   "metadata": {
    "collapsed": false
   },
   "outputs": [
    {
     "name": "stdout",
     "output_type": "stream",
     "text": [
      "they are roations\n"
     ]
    },
    {
     "data": {
      "text/plain": [
       "True"
      ]
     },
     "execution_count": 12,
     "metadata": {},
     "output_type": "execute_result"
    }
   ],
   "source": [
    "def isSubstring (s1, s2):\n",
    "    return s2 in s1\n",
    "\n",
    "def isRotation(s1, s2):\n",
    "    if len(s1) != len(s2):\n",
    "        print 'they are not roation'\n",
    "        return False\n",
    "    \n",
    "    for i in range(len(s2)): \n",
    "        if isSubstring(s1, s2[i:]+s2[:i]):\n",
    "            print 'they are roations'\n",
    "            return True\n",
    "        \n",
    "    '''\n",
    "    The solution is more elegent with one call        \n",
    "    '''    \n",
    "    if isSubstring(s1+s1, s2):\n",
    "        print 'they are roations'\n",
    "        return True\n",
    "    else:\n",
    "        print 'they are not roation'\n",
    "        return False\n",
    "\n",
    "isRotation('waterbottle','bottlewater')"
   ]
  }
 ],
 "metadata": {
  "kernelspec": {
   "display_name": "Python 2",
   "language": "python",
   "name": "python2"
  },
  "language_info": {
   "codemirror_mode": {
    "name": "ipython",
    "version": 2
   },
   "file_extension": ".py",
   "mimetype": "text/x-python",
   "name": "python",
   "nbconvert_exporter": "python",
   "pygments_lexer": "ipython2",
   "version": "2.7.11"
  }
 },
 "nbformat": 4,
 "nbformat_minor": 0
}
